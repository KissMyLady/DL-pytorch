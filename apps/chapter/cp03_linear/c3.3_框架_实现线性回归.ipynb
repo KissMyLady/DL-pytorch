{
 "cells": [
  {
   "cell_type": "code",
   "execution_count": 49,
   "id": "ffa75625-d5c2-4e99-86f6-ae4550476a1a",
   "metadata": {
    "tags": []
   },
   "outputs": [],
   "source": [
    "%matplotlib inline\n",
    "import torch\n",
    "from IPython import display\n",
    "from matplotlib import pyplot as plt\n",
    "import numpy as np\n",
    "import random\n",
    "\n",
    "import torch.utils.data as Data"
   ]
  },
  {
   "cell_type": "markdown",
   "id": "f8e39586-f897-4725-8995-ce49a8edb445",
   "metadata": {},
   "source": [
    "## 3.3.1 生成数据集"
   ]
  },
  {
   "cell_type": "code",
   "execution_count": 50,
   "id": "e76c2ec1-e65e-4044-8ce0-8d938e6ae1bc",
   "metadata": {
    "tags": []
   },
   "outputs": [],
   "source": [
    "num_inputs = 2\n",
    "num_examples = 1000\n",
    "\n",
    "true_w = [2, -3.4]\n",
    "true_b = 4.2\n",
    "\n",
    "\n",
    "# 数据生成\n",
    "features = torch.tensor(np.random.normal(0, 1, (num_examples, num_inputs)),\n",
    "                        dtype=torch.float\n",
    "                       )\n",
    "\n",
    "\n",
    "labels = true_w[0] * features[:, 0] + true_w[1] * features[:, 1] + true_b\n",
    "labels += torch.tensor(np.random.normal(0, 0.01, size=labels.size()), \n",
    "                       dtype=torch.float\n",
    "                      )"
   ]
  },
  {
   "cell_type": "markdown",
   "id": "9ec101d7-2042-461f-8a1a-ff0c05cbc63e",
   "metadata": {},
   "source": [
    "## 3.3.2 读取数据"
   ]
  },
  {
   "cell_type": "code",
   "execution_count": 48,
   "id": "46c4365b-af41-49d1-b708-04e3ee61de54",
   "metadata": {
    "tags": []
   },
   "outputs": [],
   "source": [
    "batch_size = 10\n",
    "\n",
    "# 读取数据\n",
    "dataSet = Data.TensorDataset(features, labels)\n",
    "\n",
    "# 随机读取小批量\n",
    "data_iter = Data.DataLoader(dataSet, batch_size, shuffle=True)"
   ]
  },
  {
   "cell_type": "code",
   "execution_count": 54,
   "id": "a7fb499c-095a-44d8-a8f8-2b404b7f0d6c",
   "metadata": {
    "tags": []
   },
   "outputs": [
    {
     "name": "stdout",
     "output_type": "stream",
     "text": [
      "X:  tensor([[ 0.3421, -0.2737],\n",
      "        [-0.4767,  0.3001],\n",
      "        [-0.6906, -1.1004],\n",
      "        [ 2.0606,  0.8971],\n",
      "        [ 0.1806,  1.1221],\n",
      "        [ 0.3102, -0.2225],\n",
      "        [-0.1582, -0.9630],\n",
      "        [ 0.9650,  0.2398],\n",
      "        [ 0.8849,  0.3453],\n",
      "        [-1.7051,  1.7886]]) \n",
      " y:  tensor([ 5.8125,  2.2182,  6.5398,  5.2610,  0.7453,  5.5861,  7.1576,  5.2930,\n",
      "         4.7983, -5.2805])\n"
     ]
    }
   ],
   "source": [
    "for X, y in data_iter:\n",
    "    print(\"X: \", X, '\\n y: ', y)\n",
    "    break"
   ]
  },
  {
   "cell_type": "markdown",
   "id": "811b1454-316d-402d-99f3-27f9d267722f",
   "metadata": {},
   "source": [
    "## 3.3.3 定义模型"
   ]
  },
  {
   "cell_type": "code",
   "execution_count": 55,
   "id": "0f39353a-2b63-467b-812c-0fc944e5fcd0",
   "metadata": {
    "tags": []
   },
   "outputs": [
    {
     "name": "stdout",
     "output_type": "stream",
     "text": [
      "LinearNet(\n",
      "  (linear): Linear(in_features=2, out_features=1, bias=True)\n",
      ")\n"
     ]
    }
   ],
   "source": [
    "from torch import nn\n",
    "\n",
    "class LinearNet(nn.Module):\n",
    "    \n",
    "    def __init__(self, n_feature):\n",
    "        super(LinearNet, self).__init__()\n",
    "        self.linear = nn.Linear(n_feature, 1)\n",
    "        \n",
    "    # forward 定义前向传播\n",
    "    def forward(self, x):\n",
    "        y = self.linear(x)\n",
    "        return y\n",
    "\n",
    "    \n",
    "net = LinearNet(num_inputs)\n",
    "print(net) # 使用print可以打印出网络的结构"
   ]
  },
  {
   "cell_type": "code",
   "execution_count": 56,
   "id": "3585a33f-c6be-42ec-915a-012dea422e61",
   "metadata": {
    "tags": []
   },
   "outputs": [],
   "source": [
    "# 写法一\n",
    "net = nn.Sequential(\n",
    "    nn.Linear(num_inputs, 1)\n",
    "    # 此处还可以传入其他层\n",
    "    )"
   ]
  },
  {
   "cell_type": "code",
   "execution_count": 57,
   "id": "57a3978f-fc62-4564-8d06-f47ce4a60e7c",
   "metadata": {
    "tags": []
   },
   "outputs": [
    {
     "data": {
      "text/plain": [
       "Sequential(\n",
       "  (0): Linear(in_features=2, out_features=1, bias=True)\n",
       ")"
      ]
     },
     "execution_count": 57,
     "metadata": {},
     "output_type": "execute_result"
    }
   ],
   "source": [
    "net"
   ]
  },
  {
   "cell_type": "code",
   "execution_count": 58,
   "id": "50210e74-11e7-4d86-8947-30ff85296d91",
   "metadata": {
    "tags": []
   },
   "outputs": [
    {
     "data": {
      "text/plain": [
       "Linear(in_features=2, out_features=1, bias=True)"
      ]
     },
     "execution_count": 58,
     "metadata": {},
     "output_type": "execute_result"
    }
   ],
   "source": [
    "net[0]"
   ]
  },
  {
   "cell_type": "code",
   "execution_count": 59,
   "id": "7a55e250-e68e-4ade-ad30-fbe53263eaf9",
   "metadata": {
    "tags": []
   },
   "outputs": [
    {
     "name": "stdout",
     "output_type": "stream",
     "text": [
      "Parameter containing:\n",
      "tensor([[-0.0403, -0.3327]], requires_grad=True)\n",
      "Parameter containing:\n",
      "tensor([-0.5807], requires_grad=True)\n"
     ]
    }
   ],
   "source": [
    "for param in net.parameters():\n",
    "    print(param)"
   ]
  },
  {
   "cell_type": "markdown",
   "id": "8a197d1c-b258-45d5-9c26-1094ee91d6b3",
   "metadata": {},
   "source": [
    "## 3.3.4 初始化模型参数"
   ]
  },
  {
   "cell_type": "code",
   "execution_count": 64,
   "id": "d8fa45a9-ad97-4800-833c-382049064904",
   "metadata": {
    "tags": []
   },
   "outputs": [
    {
     "data": {
      "text/plain": [
       "Parameter containing:\n",
       "tensor([0.], requires_grad=True)"
      ]
     },
     "execution_count": 64,
     "metadata": {},
     "output_type": "execute_result"
    }
   ],
   "source": [
    "from torch.nn import init\n",
    "\n",
    "\n",
    "init.normal_(net[0].weight, mean=0, std=0.01)\n",
    "\n",
    "# 也可以直接修改bias的data: net[0].bias.data.fill_(0)\n",
    "init.constant_(net[0].bias, val=0)  "
   ]
  },
  {
   "cell_type": "code",
   "execution_count": 65,
   "id": "1597361b-e3ad-4a23-bf66-f65ba7f64091",
   "metadata": {
    "tags": []
   },
   "outputs": [
    {
     "name": "stdout",
     "output_type": "stream",
     "text": [
      "Parameter containing:\n",
      "tensor([[0.0258, 0.0094]], requires_grad=True)\n",
      "Parameter containing:\n",
      "tensor([0.], requires_grad=True)\n"
     ]
    }
   ],
   "source": [
    "for param in net.parameters():\n",
    "    print(param)"
   ]
  },
  {
   "cell_type": "markdown",
   "id": "45110584-eca9-4ffd-925b-27f649e5a3fe",
   "metadata": {},
   "source": [
    "## 3.3.5 定义损失函数"
   ]
  },
  {
   "cell_type": "code",
   "execution_count": 66,
   "id": "87c984f8-d4f4-4e33-89f7-a74b4ce7939c",
   "metadata": {
    "tags": []
   },
   "outputs": [],
   "source": [
    "loss = nn.MSELoss()"
   ]
  },
  {
   "cell_type": "markdown",
   "id": "033d1418-b026-4cc8-9b2b-87d1e6db64fe",
   "metadata": {
    "tags": []
   },
   "source": [
    "## 3.3.6 定义优化算法"
   ]
  },
  {
   "cell_type": "code",
   "execution_count": 70,
   "id": "f92f0960-63b0-480b-bf17-748cb52e193c",
   "metadata": {
    "tags": []
   },
   "outputs": [
    {
     "data": {
      "text/plain": [
       "SGD (\n",
       "Parameter Group 0\n",
       "    dampening: 0\n",
       "    differentiable: False\n",
       "    foreach: None\n",
       "    lr: 0.03\n",
       "    maximize: False\n",
       "    momentum: 0\n",
       "    nesterov: False\n",
       "    weight_decay: 0\n",
       ")"
      ]
     },
     "execution_count": 70,
     "metadata": {},
     "output_type": "execute_result"
    }
   ],
   "source": [
    "import torch.optim as optim\n",
    "\n",
    "\n",
    "optimizer = optim.SGD(net.parameters(), lr=0.03)\n",
    "optimizer"
   ]
  },
  {
   "cell_type": "markdown",
   "id": "6c7f3e1d-9e06-4876-96d0-be5f942af145",
   "metadata": {},
   "source": [
    "## 3.3.7 训练模型"
   ]
  },
  {
   "cell_type": "code",
   "execution_count": 44,
   "id": "ae0e3d2f-4fb0-46e8-a555-3c0b24b7b708",
   "metadata": {
    "tags": []
   },
   "outputs": [
    {
     "name": "stdout",
     "output_type": "stream",
     "text": [
      "epoch 1, loss 7.136028580134735e-05\n",
      "epoch 2, loss 0.00010197574738413095\n",
      "epoch 3, loss 3.388420009287074e-05\n"
     ]
    }
   ],
   "source": [
    "num_epochs = 3\n",
    "\n",
    "\n",
    "for epoch in range(1,num_epochs + 1):\n",
    "    for X,y in data_iter:\n",
    "        output = net(X)\n",
    "        l = loss(output,y.view(-1,1))\n",
    "        optimizer.zero_grad()\n",
    "        l.backward()\n",
    "        optimizer.step()\n",
    "        pass\n",
    "    \n",
    "    print(f'epoch {epoch}, loss {l.item()}')"
   ]
  },
  {
   "cell_type": "code",
   "execution_count": 45,
   "id": "5e821539-87b1-4031-b214-c6fa9a33b302",
   "metadata": {
    "tags": []
   },
   "outputs": [
    {
     "name": "stdout",
     "output_type": "stream",
     "text": [
      "true_w:  [2, -3.4] Parameter containing:\n",
      "tensor([[ 2.0000, -3.4003]], requires_grad=True)\n",
      "\n",
      "true_b:  4.2 Parameter containing:\n",
      "tensor([4.2001], requires_grad=True)\n"
     ]
    }
   ],
   "source": [
    "dense = net[0]\n",
    "\n",
    "print('true_w: ', true_w, dense.weight)\n",
    "print(\"\")\n",
    "print('true_b: ', true_b, dense.bias)"
   ]
  },
  {
   "cell_type": "code",
   "execution_count": null,
   "id": "a2251d9e-e653-4f61-9383-631af8d2611e",
   "metadata": {},
   "outputs": [],
   "source": []
  }
 ],
 "metadata": {
  "kernelspec": {
   "display_name": "Python 3 (ipykernel)",
   "language": "python",
   "name": "python3"
  },
  "language_info": {
   "codemirror_mode": {
    "name": "ipython",
    "version": 3
   },
   "file_extension": ".py",
   "mimetype": "text/x-python",
   "name": "python",
   "nbconvert_exporter": "python",
   "pygments_lexer": "ipython3",
   "version": "3.8.10"
  }
 },
 "nbformat": 4,
 "nbformat_minor": 5
}
