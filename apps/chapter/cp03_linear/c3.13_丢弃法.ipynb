{
 "cells": [
  {
   "cell_type": "markdown",
   "id": "7130e578-58e5-4160-a95c-ce54adfef5dc",
   "metadata": {},
   "source": [
    "# 3.13 丢弃法\n",
    "\n",
    "除了前一节介绍的权重衰减以外，深度学习模型常常使用丢弃法（dropout）[1] 来应对过拟合问题。丢弃法有一些不同的变体。本节中提到的丢弃法特指倒置丢弃法（inverted dropout）。\n",
    "\n",
    "## 3.13.1 方法\n",
    "\n",
    "回忆一下，3.8节（多层感知机）的图3.3描述了一个单隐藏层的多层感知机。其中输入个数为4，隐藏单元个数为5，且隐藏单元$h_i$（$i=1, \\ldots, 5$）的计算表达式为\n",
    "\n",
    "$$\n",
    "h_i = \\phi\\left(x_1 w_{1i} + x_2 w_{2i} + x_3 w_{3i} + x_4 w_{4i} + b_i\\right)\n",
    "$$\n",
    "\n",
    "这里$\\phi$是激活函数，$x_1, \\ldots, x_4$是输入，隐藏单元$i$的权重参数为$w_{1i}, \\ldots, w_{4i}$，偏差参数为$b_i$。当对该隐藏层使用丢弃法时，该层的隐藏单元将有一定概率被丢弃掉。设丢弃概率为$p$，那么有$p$的概率$h_i$会被清零，有$1-p$的概率$h_i$会除以$1-p$做拉伸。丢弃概率是丢弃法的超参数。具体来说，设随机变量$\\xi_i$为0和1的概率分别为$p$和$1-p$。使用丢弃法时我们计算新的隐藏单元$h_i'$\n",
    "\n",
    "$$\n",
    "h_i' = \\frac{\\xi_i}{1-p} h_i\n",
    "$$\n",
    "\n",
    "由于$E(\\xi_i) = 1-p$，因此\n",
    "\n",
    "$$\n",
    "E(h_i') = \\frac{E(\\xi_i)}{1-p}h_i = h_i\n",
    "$$\n",
    "\n",
    "即**丢弃法不改变其输入的期望值**。让我们对图3.3中的隐藏层使用丢弃法，一种可能的结果如图3.5所示，其中$h_2$和$h_5$被清零。这时输出值的计算不再依赖$h_2$和$h_5$，在反向传播时，与这两个隐藏单元相关的权重的梯度均为0。由于在训练中隐藏层神经元的丢弃是随机的，即$h_1, \\ldots, h_5$都有可能被清零，输出层的计算无法过度依赖$h_1, \\ldots, h_5$中的任一个，从而在训练模型时起到正则化的作用，并可以用来应对过拟合。在测试模型时，我们为了拿到更加确定性的结果，一般不使用丢弃法。"
   ]
  },
  {
   "cell_type": "markdown",
   "id": "19ec8dc6-77d0-4109-b40a-b43f40d57c77",
   "metadata": {},
   "source": [
    "## 3.13.2 从零开始实现\n",
    "\n",
    "根据丢弃法的定义，我们可以很容易地实现它。下面的`dropout`函数将以`drop_prob`的概率丢弃`X`中的元素。"
   ]
  },
  {
   "cell_type": "code",
   "execution_count": 1,
   "id": "aba3750e-e554-4d49-9b34-9a7f930cd2fd",
   "metadata": {
    "tags": []
   },
   "outputs": [],
   "source": [
    "%matplotlib inline\n",
    "import torch\n",
    "import torch.nn as nn\n",
    "import numpy as np\n",
    "import sys\n",
    "\n",
    "sys.path.append(\"..\") \n",
    "import d2lzh_pytorch as d2l\n",
    "\n",
    "\n",
    "def dropout(X, drop_prob):\n",
    "    X = X.float()\n",
    "    assert 0 <= drop_prob <= 1\n",
    "    keep_prob = 1 - drop_prob\n",
    "    \n",
    "    # 这种情况下把全部元素都丢弃\n",
    "    if keep_prob == 0:\n",
    "        return torch.zeros_like(X)\n",
    "\n",
    "    mask = (torch.rand(X.shape) < keep_prob).float()\n",
    "    \n",
    "    return mask * X / keep_prob"
   ]
  },
  {
   "cell_type": "markdown",
   "id": "660918fc-298a-46c7-a280-2586322a802f",
   "metadata": {},
   "source": [
    "我们运行几个例子来测试一下`dropout`函数。其中丢弃概率分别为0、0.5和1。"
   ]
  },
  {
   "cell_type": "code",
   "execution_count": 2,
   "id": "ccda15bf-ee7d-40b8-952a-e3f61f3280cf",
   "metadata": {
    "tags": []
   },
   "outputs": [
    {
     "data": {
      "text/plain": [
       "tensor([[ 0.,  1.,  2.,  3.,  4.,  5.,  6.,  7.],\n",
       "        [ 8.,  9., 10., 11., 12., 13., 14., 15.]])"
      ]
     },
     "execution_count": 2,
     "metadata": {},
     "output_type": "execute_result"
    }
   ],
   "source": [
    "X = torch.arange(16).view(2, 8)\n",
    "dropout(X, 0)"
   ]
  },
  {
   "cell_type": "code",
   "execution_count": 3,
   "id": "7a398543-6410-4151-8413-a515dd19685a",
   "metadata": {
    "tags": []
   },
   "outputs": [
    {
     "data": {
      "text/plain": [
       "tensor([[ 0.,  2.,  4.,  0.,  0.,  0.,  0., 14.],\n",
       "        [16.,  0.,  0., 22., 24.,  0., 28., 30.]])"
      ]
     },
     "execution_count": 3,
     "metadata": {},
     "output_type": "execute_result"
    }
   ],
   "source": [
    "dropout(X, 0.5)"
   ]
  },
  {
   "cell_type": "code",
   "execution_count": 4,
   "id": "74338e46-b583-4977-9120-43c8ca34cbde",
   "metadata": {
    "tags": []
   },
   "outputs": [
    {
     "data": {
      "text/plain": [
       "tensor([[0., 0., 0., 0., 0., 0., 0., 0.],\n",
       "        [0., 0., 0., 0., 0., 0., 0., 0.]])"
      ]
     },
     "execution_count": 4,
     "metadata": {},
     "output_type": "execute_result"
    }
   ],
   "source": [
    "dropout(X, 1.0)"
   ]
  },
  {
   "cell_type": "markdown",
   "id": "d4a44d7a-b849-49fb-bcf6-2096ea8627d9",
   "metadata": {},
   "source": [
    "### 3.13.2.1 定义模型参数\n",
    "\n",
    "实验中，我们依然使用3.6节（softmax回归的从零开始实现）中介绍的Fashion-MNIST数据集。我们将定义一个包含两个隐藏层的多层感知机，其中两个隐藏层的输出个数都是256。"
   ]
  },
  {
   "cell_type": "code",
   "execution_count": 5,
   "id": "863afe79-dfd4-4bf4-a34b-3409dc7d167e",
   "metadata": {
    "tags": []
   },
   "outputs": [],
   "source": [
    "drop_prob1 = 0.2\n",
    "drop_prob2 = 0.5\n",
    "\n",
    "\n",
    "num_inputs= 784\n",
    "num_hiddens1 = 256\n",
    "num_hiddens2 = 256\n",
    "num_outputs = 10\n",
    "\n",
    "\n",
    "W1 = torch.tensor(np.random.normal(0, 0.01, size=(num_inputs, num_hiddens1)), \n",
    "                  dtype=torch.float, \n",
    "                  requires_grad=True\n",
    "                 )\n",
    "b1 = torch.zeros(num_hiddens1, \n",
    "                 requires_grad=True\n",
    "                )\n",
    "\n",
    "\n",
    "W2 = torch.tensor(np.random.normal(0, 0.01, size=(num_hiddens1, num_hiddens2)), \n",
    "                  dtype=torch.float, \n",
    "                  requires_grad=True\n",
    "                 )\n",
    "b2 = torch.zeros(num_hiddens2, requires_grad=True)\n",
    "\n",
    "\n",
    "W3 = torch.tensor(np.random.normal(0, 0.01, size=(num_hiddens2, num_outputs)), \n",
    "                  dtype=torch.float, \n",
    "                  requires_grad=True\n",
    "                 )\n",
    "\n",
    "b3 = torch.zeros(num_outputs, \n",
    "                 requires_grad=True\n",
    "                )\n",
    "\n",
    "\n",
    "params = [W1, b1, W2, b2, W3, b3]"
   ]
  },
  {
   "cell_type": "markdown",
   "id": "2e188f0c-a83f-488c-8d7d-87b93b4ad227",
   "metadata": {},
   "source": [
    "### 3.13.2.2 定义模型\n",
    "\n",
    "下面定义的模型将全连接层和激活函数ReLU串起来，并对每个激活函数的输出使用丢弃法。我们可以分别设置各个层的丢弃概率。通常的建议是把靠近输入层的丢弃概率设得小一点。在这个实验中，我们把第一个隐藏层的丢弃概率设为0.2，把第二个隐藏层的丢弃概率设为0.5。我们可以通过参数`is_training`来判断运行模式为训练还是测试，并只需在训练模式下使用丢弃法。"
   ]
  },
  {
   "cell_type": "code",
   "execution_count": 6,
   "id": "03560d8b-4aa2-45bc-9df0-a7ac397f92ea",
   "metadata": {
    "tags": []
   },
   "outputs": [],
   "source": [
    "drop_prob1, drop_prob2 = 0.2, 0.5\n",
    "\n",
    "\n",
    "def net(X, is_training=True):\n",
    "    X = X.view(-1, num_inputs)\n",
    "    H1 = (torch.matmul(X, W1) + b1).relu()\n",
    "    if is_training:  # 只在训练模型时使用丢弃法\n",
    "        H1 = dropout(H1, drop_prob1)  # 在第一层全连接后添加丢弃层\n",
    "        \n",
    "    H2 = (torch.matmul(H1, W2) + b2).relu()\n",
    "    if is_training:\n",
    "        H2 = dropout(H2, drop_prob2)  # 在第二层全连接后添加丢弃层\n",
    "        \n",
    "    return torch.matmul(H2, W3) + b3"
   ]
  },
  {
   "cell_type": "markdown",
   "id": "c48604b1-839d-485d-a5a2-fdddbc8a29d4",
   "metadata": {},
   "source": [
    "我们在对模型评估的时候不应该进行丢弃，所以我们修改一下`d2lzh_pytorch`中的`evaluate_accuracy`函数:"
   ]
  },
  {
   "cell_type": "code",
   "execution_count": 7,
   "id": "f25fff71-c007-4d7b-840e-2fdaebe9c3af",
   "metadata": {
    "tags": []
   },
   "outputs": [],
   "source": [
    "# 本函数已保存在d2lzh_pytorch\n",
    "def evaluate_accuracy(data_iter, net):\n",
    "    acc_sum, n = 0.0, 0\n",
    "    for X, y in data_iter:\n",
    "        if isinstance(net, torch.nn.Module):\n",
    "            # 评估模式, 这会关闭dropout\n",
    "            net.eval() \n",
    "            acc_sum += (net(X).argmax(dim=1) == y).float().sum().item()\n",
    "            \n",
    "            # 改回训练模式\n",
    "            net.train() \n",
    "        else: # 自定义的模型\n",
    "            # 如果有is_training这个参数\n",
    "            if('is_training' in net.__code__.co_varnames): \n",
    "                # 将is_training设置成False\n",
    "                acc_sum += (net(X, is_training=False).argmax(dim=1) == y).float().sum().item() \n",
    "            else:\n",
    "                acc_sum += (net(X).argmax(dim=1) == y).float().sum().item() \n",
    "        pass\n",
    "        n += y.shape[0]\n",
    "\n",
    "    return acc_sum / n"
   ]
  },
  {
   "cell_type": "markdown",
   "id": "29fb496e-1675-4beb-8f15-51c5db4ac34e",
   "metadata": {},
   "source": [
    "> 注：将上诉`evaluate_accuracy`写回`d2lzh_pytorch`后要重启一下jupyter kernel才会生效。"
   ]
  },
  {
   "cell_type": "markdown",
   "id": "8d5a4d53-2601-4c6d-9fe0-0c3be9ced260",
   "metadata": {},
   "source": [
    "### 3.13.2.3 训练和测试模型\n",
    "\n",
    "这部分与之前多层感知机的训练和测试类似。"
   ]
  },
  {
   "cell_type": "code",
   "execution_count": 14,
   "id": "8139f13d-447a-4a76-9573-cf1819725ba1",
   "metadata": {
    "tags": []
   },
   "outputs": [],
   "source": [
    "num_epochs = 10\n",
    "lr = 100.0\n",
    "batch_size = 256\n",
    "\n",
    "\n",
    "loss = torch.nn.CrossEntropyLoss()\n",
    "\n",
    "train_iter, test_iter = d2l.load_data_fashion_mnist(batch_size)"
   ]
  },
  {
   "cell_type": "code",
   "execution_count": 15,
   "id": "3b31e827-1f52-46ab-b778-1bb5dfb362bd",
   "metadata": {
    "tags": []
   },
   "outputs": [
    {
     "name": "stdout",
     "output_type": "stream",
     "text": [
      "epoch 1, loss 0.0018, train acc 0.838, test acc 0.830\n",
      "epoch 2, loss 0.0018, train acc 0.837, test acc 0.830\n",
      "epoch 3, loss 0.0018, train acc 0.837, test acc 0.830\n",
      "epoch 4, loss 0.0018, train acc 0.838, test acc 0.830\n",
      "epoch 5, loss 0.0018, train acc 0.838, test acc 0.830\n",
      "epoch 6, loss 0.0018, train acc 0.838, test acc 0.830\n",
      "epoch 7, loss 0.0018, train acc 0.837, test acc 0.830\n",
      "epoch 8, loss 0.0018, train acc 0.837, test acc 0.830\n",
      "epoch 9, loss 0.0018, train acc 0.838, test acc 0.830\n",
      "epoch 10, loss 0.0018, train acc 0.838, test acc 0.830\n"
     ]
    }
   ],
   "source": [
    "# 训练\n",
    "d2l.train_ch3(net, train_iter, test_iter, \n",
    "              loss, num_epochs, \n",
    "              batch_size, params, lr\n",
    "             )"
   ]
  },
  {
   "cell_type": "markdown",
   "id": "3966764f-17d8-4eaf-a8e9-8bbdf321d775",
   "metadata": {},
   "source": [
    "## 小结\n",
    "\n",
    "* 我们可以通过使用丢弃法应对过拟合。\n",
    "* 丢弃法只在训练模型时使用。"
   ]
  },
  {
   "cell_type": "code",
   "execution_count": null,
   "id": "cc68bdf4-78ea-411f-8dd9-3059f9e9d367",
   "metadata": {},
   "outputs": [],
   "source": []
  }
 ],
 "metadata": {
  "kernelspec": {
   "display_name": "Python 3 (ipykernel)",
   "language": "python",
   "name": "python3"
  },
  "language_info": {
   "codemirror_mode": {
    "name": "ipython",
    "version": 3
   },
   "file_extension": ".py",
   "mimetype": "text/x-python",
   "name": "python",
   "nbconvert_exporter": "python",
   "pygments_lexer": "ipython3",
   "version": "3.8.10"
  }
 },
 "nbformat": 4,
 "nbformat_minor": 5
}
