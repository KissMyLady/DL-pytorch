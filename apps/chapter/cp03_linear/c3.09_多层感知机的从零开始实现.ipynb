{
 "cells": [
  {
   "cell_type": "code",
   "execution_count": 7,
   "id": "5272c618-d74a-4a15-a62e-63cc5334c544",
   "metadata": {
    "tags": []
   },
   "outputs": [],
   "source": [
    "import torch\n",
    "import numpy as np\n",
    "import sys\n",
    "\n",
    "sys.path.append(\"..\")\n",
    "import d2lzh_pytorch as d2l"
   ]
  },
  {
   "cell_type": "markdown",
   "id": "a687a5d5-3d71-4cb8-ba6f-81175157871d",
   "metadata": {},
   "source": [
    "## 3.9.1 获取和读取数据\n",
    "\n",
    "这里继续使用Fashion-MNIST数据集。我们将使用多层感知机对图像进行分类。"
   ]
  },
  {
   "cell_type": "code",
   "execution_count": 8,
   "id": "e357c576-ebeb-4498-b8e7-48b4b0b08445",
   "metadata": {
    "tags": []
   },
   "outputs": [],
   "source": [
    "batch_size = 256\n",
    "train_iter, test_iter = d2l.load_data_fashion_mnist(batch_size)"
   ]
  },
  {
   "cell_type": "markdown",
   "id": "4c57fbd4-a492-4193-9f61-35d0308e1d3b",
   "metadata": {},
   "source": [
    "## 3.9.2 定义模型参数\n",
    "\n",
    "我们在3.6节（softmax回归的从零开始实现）里已经介绍了，Fashion-MNIST数据集中图像形状为 $28 \\times 28$，类别数为10。本节中我们依然使用长度为 $28 \\times 28 = 784$ 的向量表示每一张图像。因此，输入个数为784，输出个数为10。实验中，我们设超参数隐藏单元个数为256。"
   ]
  },
  {
   "cell_type": "code",
   "execution_count": 9,
   "id": "b4fd2609-26ca-48ff-9512-2d13348dbbed",
   "metadata": {
    "tags": []
   },
   "outputs": [],
   "source": [
    "num_inputs  = 784\n",
    "num_outputs = 10\n",
    "num_hiddens = 256\n",
    "\n",
    "\n",
    "W1 = torch.tensor(np.random.normal(0, 0.01, (num_inputs, num_hiddens)), \n",
    "                  dtype=torch.float\n",
    "                 )\n",
    "\n",
    "b1 = torch.zeros(num_hiddens, dtype=torch.float)\n",
    "W2 = torch.tensor(np.random.normal(0, 0.01, (num_hiddens, num_outputs)), \n",
    "                  dtype=torch.float\n",
    "                 )\n",
    "\n",
    "b2 = torch.zeros(num_outputs, dtype=torch.float)\n",
    "\n",
    "\n",
    "params = [W1, b1, W2, b2]\n",
    "for param in params:\n",
    "    param.requires_grad_(requires_grad=True)"
   ]
  },
  {
   "cell_type": "markdown",
   "id": "d34beda5-baff-441e-aff5-12096b7411cc",
   "metadata": {},
   "source": [
    "## 3.9.3 定义激活函数\n",
    "\n",
    "这里我们使用基础的`max`函数来实现ReLU，而非直接调用`relu`函数。"
   ]
  },
  {
   "cell_type": "code",
   "execution_count": 10,
   "id": "8b83f93c-afb5-46a9-9ed6-0b7f3294f99a",
   "metadata": {
    "tags": []
   },
   "outputs": [],
   "source": [
    "def relu(X):\n",
    "    return torch.max(input=X, other=torch.tensor(0.0))"
   ]
  },
  {
   "cell_type": "markdown",
   "id": "28dcf555-0ae3-4cfb-b54d-a7b374e73069",
   "metadata": {},
   "source": [
    "## 3.9.4 定义模型\n",
    "\n",
    "同softmax回归一样，我们通过`view`函数将每张原始图像改成长度为`num_inputs`的向量。然后我们实现上一节中多层感知机的计算表达式。"
   ]
  },
  {
   "cell_type": "code",
   "execution_count": 4,
   "id": "47c98d36-83d5-416d-acdb-62fcbc41e58d",
   "metadata": {
    "tags": []
   },
   "outputs": [],
   "source": [
    "def net(X):\n",
    "    X = X.view((-1, num_inputs))\n",
    "    H = relu(torch.matmul(X, W1) + b1)\n",
    "    return torch.matmul(H, W2) + b2"
   ]
  },
  {
   "cell_type": "markdown",
   "id": "e0a4148d-444c-4564-86e5-a33aa807ff04",
   "metadata": {},
   "source": [
    "## 3.9.5 定义损失函数\n",
    "\n",
    "为了得到更好的数值稳定性，我们直接使用PyTorch提供的包括softmax运算和交叉熵损失计算的函数。"
   ]
  },
  {
   "cell_type": "code",
   "execution_count": 5,
   "id": "c6ec62a8-f17a-49f4-a1bb-8c7fd6272068",
   "metadata": {
    "tags": []
   },
   "outputs": [],
   "source": [
    "loss = torch.nn.CrossEntropyLoss()"
   ]
  },
  {
   "cell_type": "markdown",
   "id": "e5baefba-5e0d-4904-ba6d-fa5532acacdd",
   "metadata": {},
   "source": [
    "## 3.9.6 训练模型\n",
    "\n",
    "训练多层感知机的步骤和3.6节中训练softmax回归的步骤没什么区别。我们直接调用`d2lzh_pytorch`包中的`train_ch3`函数，它的实现已经在3.6节里介绍过。我们在这里设超参数迭代周期数为5，学习率为100.0。\n",
    "> 注：由于原书的mxnet中的`SoftmaxCrossEntropyLoss`在反向传播的时候相对于沿batch维求和了，而PyTorch默认的是求平均，所以用PyTorch计算得到的loss比mxnet小很多（大概是maxnet计算得到的1/batch_size这个量级），所以反向传播得到的梯度也小很多，所以为了得到差不多的学习效果，我们把学习率调得成原书的约batch_size倍，原书的学习率为0.5，这里设置成100.0。(之所以这么大，应该是因为d2lzh_pytorch里面的sgd函数在更新的时候除以了batch_size，其实PyTorch在计算loss的时候已经除过一次了，sgd这里应该不用除了)"
   ]
  },
  {
   "cell_type": "code",
   "execution_count": 11,
   "id": "d7f55769-c641-41ac-b0e3-6dd394190c34",
   "metadata": {
    "tags": []
   },
   "outputs": [
    {
     "name": "stdout",
     "output_type": "stream",
     "text": [
      "epoch 1, loss 0.0031, train acc 0.712, test acc 0.779\n",
      "epoch 2, loss 0.0019, train acc 0.823, test acc 0.833\n",
      "epoch 3, loss 0.0017, train acc 0.846, test acc 0.825\n",
      "epoch 4, loss 0.0015, train acc 0.854, test acc 0.826\n",
      "epoch 5, loss 0.0015, train acc 0.864, test acc 0.814\n"
     ]
    }
   ],
   "source": [
    "num_epochs = 5\n",
    "lr = 100.0\n",
    "\n",
    "\n",
    "d2l.train_ch3(net, train_iter, test_iter, loss, \n",
    "              num_epochs, batch_size, \n",
    "              params, lr\n",
    "             )"
   ]
  },
  {
   "cell_type": "code",
   "execution_count": null,
   "id": "767b77c5-ff50-4fc5-b288-ea2b5b55a214",
   "metadata": {},
   "outputs": [],
   "source": []
  }
 ],
 "metadata": {
  "kernelspec": {
   "display_name": "Python 3 (ipykernel)",
   "language": "python",
   "name": "python3"
  },
  "language_info": {
   "codemirror_mode": {
    "name": "ipython",
    "version": 3
   },
   "file_extension": ".py",
   "mimetype": "text/x-python",
   "name": "python",
   "nbconvert_exporter": "python",
   "pygments_lexer": "ipython3",
   "version": "3.8.10"
  }
 },
 "nbformat": 4,
 "nbformat_minor": 5
}
