{
 "cells": [
  {
   "cell_type": "code",
   "execution_count": 2,
   "id": "7ae6b4ca-de27-4e1d-b7d3-dc6dabf64b91",
   "metadata": {
    "tags": []
   },
   "outputs": [],
   "source": [
    "import torch\n",
    "from time import time"
   ]
  },
  {
   "cell_type": "code",
   "execution_count": 3,
   "id": "1f66b3c2-04ee-4da8-b4d3-fa226af8010d",
   "metadata": {
    "tags": []
   },
   "outputs": [],
   "source": [
    "a = torch.ones(1000)\n",
    "b = torch.ones(1000)"
   ]
  },
  {
   "cell_type": "code",
   "execution_count": 4,
   "id": "3cdb0e58-948a-47dd-a51c-b272d19fed1d",
   "metadata": {
    "tags": []
   },
   "outputs": [
    {
     "name": "stdout",
     "output_type": "stream",
     "text": [
      "0.0040929317474365234\n"
     ]
    }
   ],
   "source": [
    "start = time()\n",
    "\n",
    "c = torch.zeros(1000)\n",
    "\n",
    "for i in range(1000):\n",
    "    c[i] = a[i] + b[i]\n",
    "    \n",
    "print(time() - start)"
   ]
  },
  {
   "cell_type": "code",
   "execution_count": 5,
   "id": "1c4210d4-7d5a-4eea-a442-a1d0eb0479b7",
   "metadata": {
    "tags": []
   },
   "outputs": [
    {
     "name": "stdout",
     "output_type": "stream",
     "text": [
      "0.00019359588623046875\n"
     ]
    }
   ],
   "source": [
    "start = time()\n",
    "\n",
    "# 矢量计算\n",
    "d = a + b\n",
    "\n",
    "print(time() - start)"
   ]
  },
  {
   "cell_type": "code",
   "execution_count": null,
   "id": "9d28acb9-0765-4eef-8418-df1c9f8bb153",
   "metadata": {},
   "outputs": [],
   "source": []
  }
 ],
 "metadata": {
  "kernelspec": {
   "display_name": "Python 3 (ipykernel)",
   "language": "python",
   "name": "python3"
  },
  "language_info": {
   "codemirror_mode": {
    "name": "ipython",
    "version": 3
   },
   "file_extension": ".py",
   "mimetype": "text/x-python",
   "name": "python",
   "nbconvert_exporter": "python",
   "pygments_lexer": "ipython3",
   "version": "3.8.10"
  }
 },
 "nbformat": 4,
 "nbformat_minor": 5
}
