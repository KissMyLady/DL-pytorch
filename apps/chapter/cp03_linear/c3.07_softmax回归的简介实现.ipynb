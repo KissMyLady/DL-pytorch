{
 "cells": [
  {
   "cell_type": "markdown",
   "id": "6fe6acd5-7e83-4bc7-bb7e-aceb2ac4370e",
   "metadata": {},
   "source": [
    "# 3.7 softmax回归的简洁实现\n",
    "\n",
    "我们在3.3节（线性回归的简洁实现）中已经了解了使用Pytorch实现模型的便利。下面，让我们再次使用Pytorch来实现一个softmax回归模型。首先导入所需的包或模块。"
   ]
  },
  {
   "cell_type": "code",
   "execution_count": 1,
   "id": "13cbff1b-b855-4e13-9e36-df715172cd32",
   "metadata": {
    "tags": []
   },
   "outputs": [],
   "source": [
    "import torch\n",
    "from torch import nn\n",
    "from torch.nn import init\n",
    "import numpy as np\n",
    "import sys\n",
    "\n",
    "\n",
    "sys.path.append(\"..\") \n",
    "import d2lzh_pytorch as d2l"
   ]
  },
  {
   "cell_type": "code",
   "execution_count": 2,
   "id": "0b52283b-6c36-42a0-a52c-109b0e5f8359",
   "metadata": {
    "tags": []
   },
   "outputs": [],
   "source": [
    "# 加载数据\n",
    "batch_size = 256\n",
    "\n",
    "train_iter, test_iter = d2l.load_data_fashion_mnist(batch_size)"
   ]
  },
  {
   "cell_type": "markdown",
   "id": "a19e9d94-477e-4a5c-b635-feba30368a6c",
   "metadata": {},
   "source": [
    "## 3.7.2 定义和初始化模型\n",
    "\n",
    "在3.4节（softmax回归）中提到，softmax回归的输出层是一个全连接层，所以我们用一个线性模块就可以了。因为前面我们数据返回的每个batch样本`x`的形状为(batch_size, 1, 28, 28), 所以我们要先用`view()`将`x`的形状转换成(batch_size, 784)才送入全连接层。"
   ]
  },
  {
   "cell_type": "code",
   "execution_count": 3,
   "id": "3b49a07c-b95d-4618-81fe-5a5490efab34",
   "metadata": {
    "tags": []
   },
   "outputs": [],
   "source": [
    "num_inputs = 784\n",
    "num_outputs = 10\n",
    "\n",
    "\n",
    "class LinearNet(nn.Module):\n",
    "    \n",
    "    def __init__(self, num_inputs, num_outputs):\n",
    "        super(LinearNet, self).__init__()\n",
    "        self.linear = nn.Linear(num_inputs, num_outputs)\n",
    "        \n",
    "    def forward(self, x): # x shape: (batch, 1, 28, 28)\n",
    "        y = self.linear(x.view(x.shape[0], -1))\n",
    "        return y\n",
    "\n",
    "\n",
    "net = LinearNet(num_inputs, num_outputs)"
   ]
  },
  {
   "cell_type": "markdown",
   "id": "dc1d3da3-a247-46da-8e48-683a63e58219",
   "metadata": {},
   "source": [
    "我们将对`x`的形状转换的这个功能自定义一个`FlattenLayer`并记录在`d2lzh_pytorch`中方便后面使用。"
   ]
  },
  {
   "cell_type": "code",
   "execution_count": 4,
   "id": "cb396a6f-2146-48fb-a43e-216fa3795678",
   "metadata": {
    "tags": []
   },
   "outputs": [],
   "source": [
    "\n",
    "class FlattenLayer(nn.Module):\n",
    "    \n",
    "    def __init__(self):\n",
    "        super(FlattenLayer, self).__init__()\n",
    "        \n",
    "    def forward(self, x): # x shape: (batch, *, *, ...)\n",
    "        return x.view(x.shape[0], -1)\n",
    "    "
   ]
  },
  {
   "cell_type": "markdown",
   "id": "ce7dabf2-961e-4483-aa0d-b822ba380ea5",
   "metadata": {},
   "source": [
    "这样我们就可以更方便地定义我们的模型："
   ]
  },
  {
   "cell_type": "code",
   "execution_count": 5,
   "id": "a9657275-3601-43b7-baaf-fda44b9a6202",
   "metadata": {
    "tags": []
   },
   "outputs": [],
   "source": [
    "from collections import OrderedDict\n",
    "\n",
    "net = nn.Sequential(\n",
    "    # FlattenLayer(),\n",
    "    # nn.Linear(num_inputs, num_outputs)\n",
    "    OrderedDict([\n",
    "        ('flatten', FlattenLayer()),\n",
    "        ('linear', nn.Linear(num_inputs, num_outputs))\n",
    "    ])\n",
    ")"
   ]
  },
  {
   "cell_type": "markdown",
   "id": "03fe2b46-82ac-4399-bf91-ed860a98353d",
   "metadata": {},
   "source": [
    "然后，我们使用均值为0、标准差为0.01的正态分布随机初始化模型的权重参数。"
   ]
  },
  {
   "cell_type": "code",
   "execution_count": 6,
   "id": "2defa43d-eea0-4096-9934-b2baedd7ec8e",
   "metadata": {
    "tags": []
   },
   "outputs": [
    {
     "data": {
      "text/plain": [
       "Parameter containing:\n",
       "tensor([0., 0., 0., 0., 0., 0., 0., 0., 0., 0.], requires_grad=True)"
      ]
     },
     "execution_count": 6,
     "metadata": {},
     "output_type": "execute_result"
    }
   ],
   "source": [
    "init.normal_(net.linear.weight, mean=0, std=0.01)\n",
    "init.constant_(net.linear.bias, val=0) "
   ]
  },
  {
   "cell_type": "markdown",
   "id": "b0aa41e4-e0e1-4a53-85e2-da9eb7b0c1ff",
   "metadata": {},
   "source": [
    "## 3.7.3 softmax和交叉熵损失函数\n",
    "\n",
    "如果做了上一节的练习，那么你可能意识到了分开定义softmax运算和交叉熵损失函数可能会造成数值不稳定。因此，PyTorch提供了一个包括softmax运算和交叉熵损失计算的函数。它的数值稳定性更好。"
   ]
  },
  {
   "cell_type": "code",
   "execution_count": 7,
   "id": "0656548d-db1e-465d-9b30-c25b6bf7fb08",
   "metadata": {
    "tags": []
   },
   "outputs": [],
   "source": [
    "loss = nn.CrossEntropyLoss()"
   ]
  },
  {
   "cell_type": "markdown",
   "id": "f7cae2ab-63b2-4ff6-ac55-a727194c0bc2",
   "metadata": {},
   "source": [
    "## 3.7.4 定义优化算法\n",
    "\n",
    "我们使用学习率为0.1的小批量随机梯度下降作为优化算法。"
   ]
  },
  {
   "cell_type": "code",
   "execution_count": 8,
   "id": "aaf17a3b-c8bf-4138-9e98-c837b4cb450b",
   "metadata": {
    "tags": []
   },
   "outputs": [],
   "source": [
    "optimizer = torch.optim.SGD(net.parameters(), lr=0.1)"
   ]
  },
  {
   "cell_type": "code",
   "execution_count": 9,
   "id": "e350c317-c95e-4078-a8a9-ea44a588ad1b",
   "metadata": {
    "tags": []
   },
   "outputs": [
    {
     "name": "stdout",
     "output_type": "stream",
     "text": [
      "epoch 1, loss 0.0031, train acc 0.749, test acc 0.753\n",
      "epoch 2, loss 0.0022, train acc 0.813, test acc 0.807\n",
      "epoch 3, loss 0.0021, train acc 0.826, test acc 0.809\n",
      "epoch 4, loss 0.0020, train acc 0.833, test acc 0.821\n",
      "epoch 5, loss 0.0019, train acc 0.837, test acc 0.823\n",
      "训练耗时:  4.874338150024414\n"
     ]
    }
   ],
   "source": [
    "import time\n",
    "\n",
    "\n",
    "num_epochs = 5\n",
    "\n",
    "start = time.time()\n",
    "\n",
    "\n",
    "# 训练\n",
    "d2l.train_ch3(net, train_iter, test_iter, loss, \n",
    "              num_epochs, batch_size, \n",
    "              None, None, \n",
    "              optimizer)\n",
    "\n",
    "print(\"训练耗时: \", time.time() - start)"
   ]
  },
  {
   "cell_type": "markdown",
   "id": "2021805a-d460-483e-9560-a9f0572f9b28",
   "metadata": {},
   "source": [
    "## 小结\n",
    "\n",
    "* PyTorch提供的函数往往具有更好的数值稳定性。\n",
    "* 可以使用PyTorch更简洁地实现softmax回归。"
   ]
  },
  {
   "cell_type": "code",
   "execution_count": null,
   "id": "63e0d135-a8b1-4093-96c0-7615299d194a",
   "metadata": {},
   "outputs": [],
   "source": []
  }
 ],
 "metadata": {
  "kernelspec": {
   "display_name": "Python 3 (ipykernel)",
   "language": "python",
   "name": "python3"
  },
  "language_info": {
   "codemirror_mode": {
    "name": "ipython",
    "version": 3
   },
   "file_extension": ".py",
   "mimetype": "text/x-python",
   "name": "python",
   "nbconvert_exporter": "python",
   "pygments_lexer": "ipython3",
   "version": "3.8.10"
  }
 },
 "nbformat": 4,
 "nbformat_minor": 5
}
