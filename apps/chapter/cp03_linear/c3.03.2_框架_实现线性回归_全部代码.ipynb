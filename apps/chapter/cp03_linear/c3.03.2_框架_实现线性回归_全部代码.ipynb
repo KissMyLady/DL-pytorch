{
 "cells": [
  {
   "cell_type": "code",
   "execution_count": 18,
   "id": "ffa75625-d5c2-4e99-86f6-ae4550476a1a",
   "metadata": {
    "tags": []
   },
   "outputs": [],
   "source": [
    "%matplotlib inline\n",
    "import torch\n",
    "import numpy as np\n",
    "import random\n",
    "\n",
    "import torch.utils.data as Data\n",
    "from torch import nn\n",
    "from torch.nn import init\n",
    "import torch.optim as optim"
   ]
  },
  {
   "cell_type": "code",
   "execution_count": 19,
   "id": "e76c2ec1-e65e-4044-8ce0-8d938e6ae1bc",
   "metadata": {
    "tags": []
   },
   "outputs": [],
   "source": [
    "num_inputs = 2\n",
    "num_examples = 1000\n",
    "\n",
    "true_w = [2, -3.4]\n",
    "true_b = 4.2\n",
    "\n",
    "\n",
    "# 数据生成\n",
    "features = torch.tensor(np.random.normal(0, 1, (num_examples, num_inputs)),\n",
    "                        dtype=torch.float\n",
    "                       )\n",
    "\n",
    "\n",
    "labels = true_w[0] * features[:, 0] + true_w[1] * features[:, 1] + true_b\n",
    "labels += torch.tensor(np.random.normal(0, 0.01, size=labels.size()), \n",
    "                       dtype=torch.float\n",
    "                      )\n",
    "\n",
    "batch_size = 10"
   ]
  },
  {
   "cell_type": "code",
   "execution_count": 20,
   "id": "0f39353a-2b63-467b-812c-0fc944e5fcd0",
   "metadata": {
    "tags": []
   },
   "outputs": [
    {
     "name": "stdout",
     "output_type": "stream",
     "text": [
      "SGD (\n",
      "Parameter Group 0\n",
      "    dampening: 0\n",
      "    differentiable: False\n",
      "    foreach: None\n",
      "    lr: 0.03\n",
      "    maximize: False\n",
      "    momentum: 0\n",
      "    nesterov: False\n",
      "    weight_decay: 0\n",
      ")\n"
     ]
    }
   ],
   "source": [
    "# 读取数据\n",
    "dataSet = Data.TensorDataset(features, labels)\n",
    "\n",
    "# 随机读取小批量\n",
    "data_iter = Data.DataLoader(dataSet, batch_size, shuffle=True)\n",
    "\n",
    "\n",
    "class LinearNet(nn.Module):\n",
    "    \n",
    "    def __init__(self, n_feature):\n",
    "        super(LinearNet, self).__init__()\n",
    "        self.linear = nn.Linear(n_feature, 1)\n",
    "\n",
    "    # forward 定义前向传播\n",
    "    def forward(self, x):\n",
    "        y = self.linear(x)\n",
    "        return y\n",
    "\n",
    "\n",
    "net = LinearNet(num_inputs)\n",
    "\n",
    "net = nn.Sequential(\n",
    "    nn.Linear(num_inputs, 1)\n",
    ")\n",
    "\n",
    "\n",
    "# 初始化模型参数\n",
    "init.normal_(net[0].weight, mean=0, std=0.01)\n",
    "\n",
    "# 也可以直接修改bias的data: net[0].bias.data.fill_(0)\n",
    "init.constant_(net[0].bias, val=0)  \n",
    "\n",
    "loss = nn.MSELoss()\n",
    "\n",
    "optimizer = optim.SGD(net.parameters(), lr=0.03)\n",
    "print(optimizer)"
   ]
  },
  {
   "cell_type": "code",
   "execution_count": 21,
   "id": "ae0e3d2f-4fb0-46e8-a555-3c0b24b7b708",
   "metadata": {
    "tags": []
   },
   "outputs": [
    {
     "name": "stdout",
     "output_type": "stream",
     "text": [
      "epoch 1, loss 0.000314960052492097\n",
      "epoch 2, loss 0.00012443836021702737\n",
      "epoch 3, loss 7.05700003891252e-05\n",
      "true_w:  [2, -3.4] Parameter containing:\n",
      "tensor([[ 1.9998, -3.4000]], requires_grad=True)\n",
      "\n",
      "true_b:  4.2 Parameter containing:\n",
      "tensor([4.2006], requires_grad=True)\n"
     ]
    }
   ],
   "source": [
    "# 训练\n",
    "num_epochs = 3\n",
    "\n",
    "for epoch in range(1,num_epochs + 1):\n",
    "    for X,y in data_iter:\n",
    "        output = net(X)\n",
    "        l = loss(output,y.view(-1,1))\n",
    "        optimizer.zero_grad()\n",
    "        l.backward()\n",
    "        optimizer.step()\n",
    "        pass\n",
    "    \n",
    "    print(f'epoch {epoch}, loss {l.item()}')\n",
    "    \n",
    "\n",
    "dense = net[0]\n",
    "\n",
    "print('true_w: ', true_w, dense.weight)\n",
    "print(\"\")\n",
    "print('true_b: ', true_b, dense.bias)"
   ]
  },
  {
   "cell_type": "code",
   "execution_count": 27,
   "id": "a2251d9e-e653-4f61-9383-631af8d2611e",
   "metadata": {},
   "outputs": [
    {
     "name": "stdout",
     "output_type": "stream",
     "text": [
      "epoch 1, loss 0.00031990851857699454\n",
      "epoch 2, loss 7.793378608766943e-05\n",
      "epoch 3, loss 8.541814895579591e-05\n",
      "true_w:  [2, -3.4] Parameter containing:\n",
      "tensor([[ 2.0002, -3.3998]], requires_grad=True)\n",
      "\n",
      "true_b:  4.2 Parameter containing:\n",
      "tensor([4.2004], requires_grad=True)\n"
     ]
    }
   ],
   "source": [
    "%matplotlib inline\n",
    "import torch\n",
    "import numpy as np\n",
    "import random\n",
    "import torch.utils.data as Data\n",
    "from torch import nn\n",
    "from torch.nn import init\n",
    "import torch.optim as optim\n",
    "\n",
    "\n",
    "num_inputs = 2\n",
    "num_examples = 1000\n",
    "\n",
    "true_w = [2, -3.4]\n",
    "true_b = 4.2\n",
    "\n",
    "# 数据生成\n",
    "features = torch.tensor(np.random.normal(0, 1, (num_examples, num_inputs)),\n",
    "                        dtype=torch.float\n",
    "                       )\n",
    "\n",
    "labels = true_w[0] * features[:, 0] + true_w[1] * features[:, 1] + true_b\n",
    "labels += torch.tensor(np.random.normal(0, 0.01, size=labels.size()), \n",
    "                       dtype=torch.float\n",
    "                      )\n",
    "\n",
    "batch_size = 10\n",
    "\n",
    "# 将训练数据的特征和标签组合\n",
    "dataSet = Data.TensorDataset(features, labels)\n",
    "\n",
    "# 随机读取小批量\n",
    "data_iter = Data.DataLoader(dataSet, batch_size, shuffle=True)\n",
    "\n",
    "\n",
    "class LinearNet(nn.Module):\n",
    "    \n",
    "    def __init__(self, n_feature):\n",
    "        super(LinearNet, self).__init__()\n",
    "        self.linear = nn.Linear(n_feature, 1)\n",
    "\n",
    "    # forward 定义前向传播\n",
    "    def forward(self, x):\n",
    "        y = self.linear(x)\n",
    "        return y\n",
    "\n",
    "\n",
    "net = LinearNet(num_inputs)\n",
    "\n",
    "net = nn.Sequential(\n",
    "    nn.Linear(num_inputs, 1)\n",
    ")\n",
    "\n",
    "\n",
    "# 初始化模型参数\n",
    "init.normal_(net[0].weight, mean=0, std=0.01)\n",
    "init.constant_(net[0].bias, val=0)  \n",
    "\n",
    "\n",
    "# 定义损失函数\n",
    "loss = nn.MSELoss()\n",
    "\n",
    "# 定义优化算法\n",
    "optimizer = optim.SGD(net.parameters(), lr=0.03)\n",
    "\n",
    "\n",
    "# 训练\n",
    "num_epochs = 3\n",
    "\n",
    "for epoch in range(1,num_epochs + 1):\n",
    "    for X,y in data_iter:\n",
    "        output = net(X)\n",
    "        l = loss(output,y.view(-1,1))\n",
    "        optimizer.zero_grad()  # 梯度清零,等价于net.zero_grad()\n",
    "        l.backward()\n",
    "        optimizer.step()\n",
    "        pass\n",
    "    \n",
    "    print(f'epoch {epoch}, loss {l.item()}')\n",
    "    \n",
    "\n",
    "dense = net[0]\n",
    "\n",
    "print('true_w: ', true_w, dense.weight)\n",
    "print(\"\")\n",
    "print('true_b: ', true_b, dense.bias)"
   ]
  },
  {
   "cell_type": "code",
   "execution_count": null,
   "id": "a559813e-a739-45ee-aa22-ac07e32f41a4",
   "metadata": {},
   "outputs": [],
   "source": []
  }
 ],
 "metadata": {
  "kernelspec": {
   "display_name": "Python 3 (ipykernel)",
   "language": "python",
   "name": "python3"
  },
  "language_info": {
   "codemirror_mode": {
    "name": "ipython",
    "version": 3
   },
   "file_extension": ".py",
   "mimetype": "text/x-python",
   "name": "python",
   "nbconvert_exporter": "python",
   "pygments_lexer": "ipython3",
   "version": "3.8.10"
  }
 },
 "nbformat": 4,
 "nbformat_minor": 5
}
