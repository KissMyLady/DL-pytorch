{
 "cells": [
  {
   "cell_type": "markdown",
   "id": "a49502e2-71b5-4c65-a34e-33b1f213fabd",
   "metadata": {},
   "source": [
    "# 4.5 读取和存储 read-write\n",
    "\n",
    "到目前为止，我们介绍了如何处理数据以及如何构建、训练和测试深度学习模型。然而在实际中，我们有时需要把训练好的模型部署到很多不同的设备。在这种情况下，我们可以把内存中训练好的模型参数存储在硬盘上供后续读取使用。"
   ]
  },
  {
   "cell_type": "markdown",
   "id": "269a6176-30f9-44df-919c-43bbcd897ff2",
   "metadata": {},
   "source": [
    "## 4.5.1 读写`Tensor`\n",
    "\n",
    "我们可以直接使用`save`函数和`load`函数分别存储和读取`Tensor`。`save`使用Python的pickle实用程序将对象进行序列化，然后将序列化的对象保存到disk，使用`save`可以保存各种对象,包括模型、张量和字典等。而`load`使用pickle unpickle工具将pickle的对象文件反序列化为内存。\n",
    "\n",
    "下面的例子创建了`Tensor`变量`x`，并将其存在文件名同为`x.pt`的文件里。"
   ]
  },
  {
   "cell_type": "code",
   "execution_count": 1,
   "id": "08611c51-89cd-4c62-a374-2f07b3c0a734",
   "metadata": {
    "tags": []
   },
   "outputs": [],
   "source": [
    "import torch\n",
    "from torch import nn\n",
    "\n",
    "\n",
    "x = torch.ones(3)\n",
    "torch.save(x, 'x.pt')"
   ]
  },
  {
   "cell_type": "markdown",
   "id": "fb44378f-5efc-49a8-bf9a-7e2f0d6e05b8",
   "metadata": {},
   "source": [
    "然后我们将数据从存储的文件读回内存。"
   ]
  },
  {
   "cell_type": "code",
   "execution_count": 2,
   "id": "a2d40652-594d-4a61-bd8c-3106320873b4",
   "metadata": {
    "tags": []
   },
   "outputs": [
    {
     "data": {
      "text/plain": [
       "tensor([1., 1., 1.])"
      ]
     },
     "execution_count": 2,
     "metadata": {},
     "output_type": "execute_result"
    }
   ],
   "source": [
    "x2 = torch.load('x.pt')\n",
    "x2"
   ]
  },
  {
   "cell_type": "markdown",
   "id": "db74d618-0212-430a-a518-eaaf34957ad2",
   "metadata": {},
   "source": [
    "我们还可以存储一个`Tensor`列表并读回内存。"
   ]
  },
  {
   "cell_type": "code",
   "execution_count": 3,
   "id": "954a55b3-3d00-4865-b586-f4b54df81c55",
   "metadata": {
    "tags": []
   },
   "outputs": [
    {
     "data": {
      "text/plain": [
       "[tensor([1., 1., 1.]), tensor([0., 0., 0., 0.])]"
      ]
     },
     "execution_count": 3,
     "metadata": {},
     "output_type": "execute_result"
    }
   ],
   "source": [
    "y = torch.zeros(4)\n",
    "\n",
    "# 写入\n",
    "torch.save([x, y], 'xy.pt')\n",
    "\n",
    "\n",
    "# 读回\n",
    "xy_list = torch.load('xy.pt')\n",
    "\n",
    "xy_list"
   ]
  },
  {
   "cell_type": "markdown",
   "id": "b36cb017-a005-4fa6-9952-94c9349f5f9c",
   "metadata": {},
   "source": [
    "存储并读取一个从字符串映射到`Tensor`的字典。"
   ]
  },
  {
   "cell_type": "code",
   "execution_count": 4,
   "id": "97efe7e8-035c-46ef-b794-f91bbfb27898",
   "metadata": {
    "tags": []
   },
   "outputs": [
    {
     "data": {
      "text/plain": [
       "{'x': tensor([1., 1., 1.]), 'y': tensor([0., 0., 0., 0.])}"
      ]
     },
     "execution_count": 4,
     "metadata": {},
     "output_type": "execute_result"
    }
   ],
   "source": [
    "torch.save({'x': x, 'y': y}, 'xy_dict.pt')\n",
    "\n",
    "\n",
    "xy = torch.load('xy_dict.pt')\n",
    "xy"
   ]
  },
  {
   "cell_type": "markdown",
   "id": "efe8fbea-9559-4033-b56d-e535d1bd6509",
   "metadata": {},
   "source": [
    "## 4.5.2 读写模型\n",
    "\n",
    "### 4.5.2.1 `state_dict`\n",
    "\n",
    "在PyTorch中，`Module`的可学习参数(即权重和偏差)，模块模型包含在参数中(通过`model.parameters()`访问)。`state_dict`是一个从参数名称隐射到参数`Tesnor`的字典对象。"
   ]
  },
  {
   "cell_type": "code",
   "execution_count": 5,
   "id": "108cc51a-c2b4-4157-8744-9aab941251d8",
   "metadata": {
    "tags": []
   },
   "outputs": [
    {
     "data": {
      "text/plain": [
       "OrderedDict([('hidden.weight',\n",
       "              tensor([[-0.4740,  0.1529, -0.1742],\n",
       "                      [ 0.3763, -0.3407,  0.5070]])),\n",
       "             ('hidden.bias', tensor([ 0.3645, -0.1221])),\n",
       "             ('output.weight', tensor([[ 0.4719, -0.0673]])),\n",
       "             ('output.bias', tensor([-0.5456]))])"
      ]
     },
     "execution_count": 5,
     "metadata": {},
     "output_type": "execute_result"
    }
   ],
   "source": [
    "class MLP(nn.Module):\n",
    "    \n",
    "    def __init__(self):\n",
    "        super(MLP, self).__init__()\n",
    "        self.hidden = nn.Linear(3, 2)\n",
    "        self.act = nn.ReLU()\n",
    "        self.output = nn.Linear(2, 1)\n",
    "\n",
    "    def forward(self, x):\n",
    "        a = self.act(self.hidden(x))\n",
    "        return self.output(a)\n",
    "\n",
    "\n",
    "net = MLP()\n",
    "net.state_dict()"
   ]
  },
  {
   "cell_type": "code",
   "execution_count": 7,
   "id": "ba4970fc-6f1a-4cf9-8035-8df571a28f63",
   "metadata": {
    "tags": []
   },
   "outputs": [
    {
     "data": {
      "text/plain": [
       "{'state': {},\n",
       " 'param_groups': [{'lr': 0.001,\n",
       "   'momentum': 0.9,\n",
       "   'dampening': 0,\n",
       "   'weight_decay': 0,\n",
       "   'nesterov': False,\n",
       "   'maximize': False,\n",
       "   'foreach': None,\n",
       "   'differentiable': False,\n",
       "   'params': [0, 1, 2, 3]}]}"
      ]
     },
     "execution_count": 7,
     "metadata": {},
     "output_type": "execute_result"
    }
   ],
   "source": [
    "optimizer = torch.optim.SGD(net.parameters(), \n",
    "                            lr=0.001,\n",
    "                            momentum=0.9\n",
    "                           )\n",
    "\n",
    "optimizer.state_dict()"
   ]
  },
  {
   "cell_type": "markdown",
   "id": "e60edb1a-6191-46bd-8e59-730ae9e55f6c",
   "metadata": {},
   "source": [
    "注意，只有具有可学习参数的层(卷积层、线性层等)才有`state_dict`中的条目。优化器(`optim`)也有一个`state_dict`，其中包含关于优化器状态以及所使用的超参数的信息。"
   ]
  },
  {
   "cell_type": "markdown",
   "id": "4f6664ae-4896-48c1-92d9-57c989d60190",
   "metadata": {},
   "source": [
    "### 4.5.2.2 保存和加载模型\n",
    "\n",
    "PyTorch中保存和加载训练模型有两种常见的方法:\n",
    "\n",
    "1. 仅保存和加载模型参数(`state_dict`)；\n",
    "2. 保存和加载整个模型。"
   ]
  },
  {
   "cell_type": "markdown",
   "id": "1d4cd58d-cee7-48c5-922e-fd0dc9094e80",
   "metadata": {
    "tags": []
   },
   "source": [
    "\n",
    "#### 1. 保存和加载`state_dict`(推荐方式)\n",
    "\n",
    "保存："
   ]
  },
  {
   "cell_type": "code",
   "execution_count": null,
   "id": "fae7ca61-c444-4de5-87d7-3f4dc0b0c9ff",
   "metadata": {},
   "outputs": [],
   "source": [
    "torch.save(model.state_dict(), PATH) # 推荐的文件后缀名是pt或pth"
   ]
  },
  {
   "cell_type": "markdown",
   "id": "d1357218-efc2-45f0-a578-abd4e49652f7",
   "metadata": {},
   "source": [
    "加载："
   ]
  },
  {
   "cell_type": "code",
   "execution_count": null,
   "id": "2c1c8e9b-e169-460b-96ee-8d0a672144c4",
   "metadata": {},
   "outputs": [],
   "source": [
    "model = TheModelClass(*args, **kwargs)\n",
    "\n",
    "model.load_state_dict(torch.load(PATH))"
   ]
  },
  {
   "cell_type": "markdown",
   "id": "35cb1891-ecae-4f98-9176-365ea8db38fc",
   "metadata": {},
   "source": [
    "#### 2. 保存和加载整个模型\n",
    "\n",
    "保存："
   ]
  },
  {
   "cell_type": "code",
   "execution_count": null,
   "id": "d525341e-a575-4e2c-8977-a6a825eed25a",
   "metadata": {},
   "outputs": [],
   "source": [
    "torch.save(model, PATH)"
   ]
  },
  {
   "cell_type": "markdown",
   "id": "0d5ecf42-8925-42d9-b305-40158c5ef5d5",
   "metadata": {},
   "source": [
    "加载："
   ]
  },
  {
   "cell_type": "code",
   "execution_count": null,
   "id": "c790a7d6-4ede-4f52-bbff-d20b1647faed",
   "metadata": {},
   "outputs": [],
   "source": [
    "model = torch.load(PATH)"
   ]
  },
  {
   "cell_type": "markdown",
   "id": "37bec940-8fa4-4ae2-9da6-d6169b36a3ed",
   "metadata": {},
   "source": [
    "我们采用推荐的方法一来实验一下:"
   ]
  },
  {
   "cell_type": "code",
   "execution_count": 8,
   "id": "85e037ac-0204-4b40-b945-e77e8eb3b199",
   "metadata": {
    "tags": []
   },
   "outputs": [
    {
     "data": {
      "text/plain": [
       "tensor([[True],\n",
       "        [True]])"
      ]
     },
     "execution_count": 8,
     "metadata": {},
     "output_type": "execute_result"
    }
   ],
   "source": [
    "X = torch.randn(2, 3)\n",
    "Y = net(X)\n",
    "\n",
    "\n",
    "PATH = \"./net.pt\"\n",
    "torch.save(net.state_dict(), PATH)\n",
    "\n",
    "\n",
    "net2 = MLP()\n",
    "net2.load_state_dict(torch.load(PATH))\n",
    "\n",
    "\n",
    "Y2 = net2(X)\n",
    "Y2 == Y"
   ]
  },
  {
   "cell_type": "markdown",
   "id": "56f52808-3fa7-488f-bafb-71e9cc53690d",
   "metadata": {},
   "source": [
    "因为这`net`和`net2`都有同样的模型参数，那么对同一个输入`X`的计算结果将会是一样的。上面的输出也验证了这一点。\n",
    "\n",
    "此外，还有一些其他使用场景，例如GPU与CPU之间的模型保存与读取、使用多块GPU的模型的存储等等，使用的时候可以参考[官方文档](https://pytorch.org/tutorials/beginner/saving_loading_models.html)。\n",
    "\n",
    "## 小结\n",
    "\n",
    "* 通过`save`函数和`load`函数可以很方便地读写`Tensor`。\n",
    "* 通过`save`函数和`load_state_dict`函数可以很方便地读写模型的参数。"
   ]
  },
  {
   "cell_type": "code",
   "execution_count": null,
   "id": "16e26378-570a-48ae-b470-5d622f628f9c",
   "metadata": {},
   "outputs": [],
   "source": []
  }
 ],
 "metadata": {
  "kernelspec": {
   "display_name": "Python 3 (ipykernel)",
   "language": "python",
   "name": "python3"
  },
  "language_info": {
   "codemirror_mode": {
    "name": "ipython",
    "version": 3
   },
   "file_extension": ".py",
   "mimetype": "text/x-python",
   "name": "python",
   "nbconvert_exporter": "python",
   "pygments_lexer": "ipython3",
   "version": "3.8.10"
  }
 },
 "nbformat": 4,
 "nbformat_minor": 5
}
