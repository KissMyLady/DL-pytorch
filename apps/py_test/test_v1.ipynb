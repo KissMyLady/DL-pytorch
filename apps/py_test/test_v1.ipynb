{
 "cells": [
  {
   "cell_type": "code",
   "execution_count": 1,
   "id": "cb5dbf3b-530b-4581-818f-57692c5e948e",
   "metadata": {},
   "outputs": [
    {
     "name": "stdout",
     "output_type": "stream",
     "text": [
      "2.1.2+cu121\n",
      "warn: 当前服务器GPU不可用\n"
     ]
    }
   ],
   "source": [
    "import torch\n",
    "\n",
    "print(torch.__version__)\n",
    "\n",
    "def get_device():\n",
    "    device = torch.device('cuda' if torch.cuda.is_available() else 'cpu')\n",
    "    return device\n",
    "\n",
    "if torch.cuda.is_available():\n",
    "    \n",
    "    print(\"GPU是否可用: \\t\", torch.cuda.is_available())\n",
    "    \n",
    "    print(\"GPU数量: \\t\",    torch.cuda.device_count())\n",
    "    \n",
    "    print(\"GPU索引号: \\t\",   torch.cuda.current_device())\n",
    "    \n",
    "    print(\"GPU名称: \\t\",     torch.cuda.get_device_name())\n",
    "\n",
    "    print(\"cuDNN是否可用: \\t\", torch.backends.cudnn.version())  # 8500\n",
    "else:\n",
    "    print(\"warn: 当前服务器GPU不可用\")\n"
   ]
  },
  {
   "cell_type": "code",
   "execution_count": null,
   "id": "771919c9-a26e-46a5-935f-cd1f1fdfbd9c",
   "metadata": {},
   "outputs": [],
   "source": [
    "\n",
    "\n"
   ]
  }
 ],
 "metadata": {
  "kernelspec": {
   "display_name": "Python 3 (ipykernel)",
   "language": "python",
   "name": "python3"
  },
  "language_info": {
   "codemirror_mode": {
    "name": "ipython",
    "version": 3
   },
   "file_extension": ".py",
   "mimetype": "text/x-python",
   "name": "python",
   "nbconvert_exporter": "python",
   "pygments_lexer": "ipython3",
   "version": "3.10.13"
  }
 },
 "nbformat": 4,
 "nbformat_minor": 5
}
