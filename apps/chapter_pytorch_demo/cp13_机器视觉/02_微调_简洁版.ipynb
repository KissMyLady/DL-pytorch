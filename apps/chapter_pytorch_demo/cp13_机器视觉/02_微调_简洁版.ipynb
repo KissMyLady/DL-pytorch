{
 "cells": [
  {
   "cell_type": "code",
   "execution_count": 1,
   "id": "9b0347ff-754b-4577-bda9-a13384abb647",
   "metadata": {
    "tags": []
   },
   "outputs": [
    {
     "name": "stdout",
     "output_type": "stream",
     "text": [
      "1.13.1+cu117\n"
     ]
    }
   ],
   "source": [
    "# from d2l import torch as d2l\n",
    "import torch\n",
    "from torch import nn\n",
    "from torch.nn import functional as F\n",
    "from torch import nn, optim\n",
    "\n",
    "import sys\n",
    "sys.path.append(\"..\")\n",
    "# import d2lzh_pytorch.torch as d2l\n",
    "\n",
    "from d2lzh_pytorch.cnn.load_data.load_hotdog import get_hotdog\n",
    "\n",
    "from d2lzh_pytorch.cnn.model.pretrain_resnet18 import get_pretrain_resnet18\n",
    "\n",
    "from d2lzh_pytorch.cnn.train.train_fine_tuning import train_fine_tuning\n",
    "\n",
    "from d2lzh_pytorch.myUtils import try_gpu\n",
    "\n",
    "\n",
    "\n",
    "print(torch.__version__)"
   ]
  },
  {
   "cell_type": "code",
   "execution_count": 2,
   "id": "e32f4488-7254-42b4-86b6-da8d3b964cd9",
   "metadata": {
    "tags": []
   },
   "outputs": [],
   "source": [
    "train_iter, test_iter = get_hotdog()"
   ]
  },
  {
   "cell_type": "code",
   "execution_count": 3,
   "id": "b13d77f4-afdf-4766-9132-d903929106d0",
   "metadata": {
    "tags": []
   },
   "outputs": [
    {
     "name": "stderr",
     "output_type": "stream",
     "text": [
      "/home/mylady/.virtualenvs/dl-pytorch/lib/python3.8/site-packages/torchvision/models/_utils.py:208: UserWarning: The parameter 'pretrained' is deprecated since 0.13 and may be removed in the future, please use 'weights' instead.\n",
      "  warnings.warn(\n",
      "/home/mylady/.virtualenvs/dl-pytorch/lib/python3.8/site-packages/torchvision/models/_utils.py:223: UserWarning: Arguments other than a weight enum or `None` for 'weights' are deprecated since 0.13 and may be removed in the future. The current behavior is equivalent to passing `weights=ResNet18_Weights.IMAGENET1K_V1`. You can also use `weights=ResNet18_Weights.DEFAULT` to get the most up-to-date weights.\n",
      "  warnings.warn(msg)\n"
     ]
    }
   ],
   "source": [
    "\n",
    "pretrained_net = get_pretrain_resnet18()"
   ]
  },
  {
   "cell_type": "code",
   "execution_count": 4,
   "id": "8b1dcf69-7ff1-40a6-9515-dcd6ee94a37f",
   "metadata": {},
   "outputs": [],
   "source": [
    "output_params = list(map(id, pretrained_net.fc.parameters()))\n",
    "\n",
    "feature_params = filter(lambda p: id(p) not in output_params, pretrained_net.parameters())\n",
    "\n",
    "\n",
    "lr = 0.01\n",
    "\n",
    "optimizer = optim.SGD([{'params': feature_params},\n",
    "                       {'params': pretrained_net.fc.parameters(), 'lr': lr * 10}],\n",
    "                       lr=lr, weight_decay=0.001)"
   ]
  },
  {
   "cell_type": "code",
   "execution_count": 6,
   "id": "fbbca62d-935a-4fb6-8ed3-18504c792ca2",
   "metadata": {
    "tags": []
   },
   "outputs": [
    {
     "name": "stdout",
     "output_type": "stream",
     "text": [
      "training on  cuda\n",
      "epoch 1, loss 5.8965, train acc 0.526, test acc 0.864, time 10.4 sec\n",
      "epoch 2, loss 0.2199, train acc 0.894, test acc 0.846, time 9.4 sec\n",
      "epoch 3, loss 0.0849, train acc 0.918, test acc 0.926, time 9.4 sec\n",
      "epoch 4, loss 0.1177, train acc 0.880, test acc 0.911, time 9.4 sec\n",
      "epoch 5, loss 0.0505, train acc 0.925, test acc 0.916, time 9.4 sec\n"
     ]
    }
   ],
   "source": [
    "\n",
    "# 开始微调\n",
    "train_fine_tuning(pretrained_net, \n",
    "                  train_iter, test_iter,\n",
    "                  optimizer, \n",
    "                  batch_size=128, num_epochs=5)"
   ]
  },
  {
   "cell_type": "code",
   "execution_count": 8,
   "id": "19581868-12e1-4510-b52c-d2d7481565f6",
   "metadata": {},
   "outputs": [
    {
     "name": "stdout",
     "output_type": "stream",
     "text": [
      "训练完毕, 模型 pretrain_RestNet18_hotdog_2023-07-02_01-24-45.pt 已保存至当前路径\n",
      "模型大小是: 42.73 M\n"
     ]
    }
   ],
   "source": [
    "# 保存模型\n",
    "net = pretrained_net.to(\"cpu\")\n",
    "\n",
    "import datetime\n",
    "import os\n",
    "str_time = str(datetime.datetime.now().strftime(\"%Y-%m-%d_%H-%M-%S\"))\n",
    "save_path = 'pretrain_RestNet18_hotdog_%s.pt' % str_time\n",
    "torch.save(net, save_path)  # 全保存\n",
    "print(\"训练完毕, 模型 %s 已保存至当前路径\" % save_path)\n",
    "print(\"模型大小是: %0.2f M\" % (os.path.getsize(save_path) / 1024 /1024))"
   ]
  },
  {
   "cell_type": "code",
   "execution_count": 9,
   "id": "22482ba9-d605-4ae7-a512-5c6e96f5bf7e",
   "metadata": {
    "tags": []
   },
   "outputs": [
    {
     "name": "stdout",
     "output_type": "stream",
     "text": [
      "=================================================================\n",
      "Layer (type:depth-idx)                   Param #\n",
      "=================================================================\n",
      "├─Conv2d: 1-1                            9,408\n",
      "├─BatchNorm2d: 1-2                       128\n",
      "├─ReLU: 1-3                              --\n",
      "├─MaxPool2d: 1-4                         --\n",
      "├─Sequential: 1-5                        --\n",
      "|    └─BasicBlock: 2-1                   --\n",
      "|    |    └─Conv2d: 3-1                  36,864\n",
      "|    |    └─BatchNorm2d: 3-2             128\n",
      "|    |    └─ReLU: 3-3                    --\n",
      "|    |    └─Conv2d: 3-4                  36,864\n",
      "|    |    └─BatchNorm2d: 3-5             128\n",
      "|    └─BasicBlock: 2-2                   --\n",
      "|    |    └─Conv2d: 3-6                  36,864\n",
      "|    |    └─BatchNorm2d: 3-7             128\n",
      "|    |    └─ReLU: 3-8                    --\n",
      "|    |    └─Conv2d: 3-9                  36,864\n",
      "|    |    └─BatchNorm2d: 3-10            128\n",
      "├─Sequential: 1-6                        --\n",
      "|    └─BasicBlock: 2-3                   --\n",
      "|    |    └─Conv2d: 3-11                 73,728\n",
      "|    |    └─BatchNorm2d: 3-12            256\n",
      "|    |    └─ReLU: 3-13                   --\n",
      "|    |    └─Conv2d: 3-14                 147,456\n",
      "|    |    └─BatchNorm2d: 3-15            256\n",
      "|    |    └─Sequential: 3-16             8,448\n",
      "|    └─BasicBlock: 2-4                   --\n",
      "|    |    └─Conv2d: 3-17                 147,456\n",
      "|    |    └─BatchNorm2d: 3-18            256\n",
      "|    |    └─ReLU: 3-19                   --\n",
      "|    |    └─Conv2d: 3-20                 147,456\n",
      "|    |    └─BatchNorm2d: 3-21            256\n",
      "├─Sequential: 1-7                        --\n",
      "|    └─BasicBlock: 2-5                   --\n",
      "|    |    └─Conv2d: 3-22                 294,912\n",
      "|    |    └─BatchNorm2d: 3-23            512\n",
      "|    |    └─ReLU: 3-24                   --\n",
      "|    |    └─Conv2d: 3-25                 589,824\n",
      "|    |    └─BatchNorm2d: 3-26            512\n",
      "|    |    └─Sequential: 3-27             33,280\n",
      "|    └─BasicBlock: 2-6                   --\n",
      "|    |    └─Conv2d: 3-28                 589,824\n",
      "|    |    └─BatchNorm2d: 3-29            512\n",
      "|    |    └─ReLU: 3-30                   --\n",
      "|    |    └─Conv2d: 3-31                 589,824\n",
      "|    |    └─BatchNorm2d: 3-32            512\n",
      "├─Sequential: 1-8                        --\n",
      "|    └─BasicBlock: 2-7                   --\n",
      "|    |    └─Conv2d: 3-33                 1,179,648\n",
      "|    |    └─BatchNorm2d: 3-34            1,024\n",
      "|    |    └─ReLU: 3-35                   --\n",
      "|    |    └─Conv2d: 3-36                 2,359,296\n",
      "|    |    └─BatchNorm2d: 3-37            1,024\n",
      "|    |    └─Sequential: 3-38             132,096\n",
      "|    └─BasicBlock: 2-8                   --\n",
      "|    |    └─Conv2d: 3-39                 2,359,296\n",
      "|    |    └─BatchNorm2d: 3-40            1,024\n",
      "|    |    └─ReLU: 3-41                   --\n",
      "|    |    └─Conv2d: 3-42                 2,359,296\n",
      "|    |    └─BatchNorm2d: 3-43            1,024\n",
      "├─AdaptiveAvgPool2d: 1-9                 --\n",
      "├─Linear: 1-10                           1,026\n",
      "=================================================================\n",
      "Total params: 11,177,538\n",
      "Trainable params: 11,177,538\n",
      "Non-trainable params: 0\n",
      "=================================================================\n"
     ]
    },
    {
     "data": {
      "text/plain": [
       "=================================================================\n",
       "Layer (type:depth-idx)                   Param #\n",
       "=================================================================\n",
       "├─Conv2d: 1-1                            9,408\n",
       "├─BatchNorm2d: 1-2                       128\n",
       "├─ReLU: 1-3                              --\n",
       "├─MaxPool2d: 1-4                         --\n",
       "├─Sequential: 1-5                        --\n",
       "|    └─BasicBlock: 2-1                   --\n",
       "|    |    └─Conv2d: 3-1                  36,864\n",
       "|    |    └─BatchNorm2d: 3-2             128\n",
       "|    |    └─ReLU: 3-3                    --\n",
       "|    |    └─Conv2d: 3-4                  36,864\n",
       "|    |    └─BatchNorm2d: 3-5             128\n",
       "|    └─BasicBlock: 2-2                   --\n",
       "|    |    └─Conv2d: 3-6                  36,864\n",
       "|    |    └─BatchNorm2d: 3-7             128\n",
       "|    |    └─ReLU: 3-8                    --\n",
       "|    |    └─Conv2d: 3-9                  36,864\n",
       "|    |    └─BatchNorm2d: 3-10            128\n",
       "├─Sequential: 1-6                        --\n",
       "|    └─BasicBlock: 2-3                   --\n",
       "|    |    └─Conv2d: 3-11                 73,728\n",
       "|    |    └─BatchNorm2d: 3-12            256\n",
       "|    |    └─ReLU: 3-13                   --\n",
       "|    |    └─Conv2d: 3-14                 147,456\n",
       "|    |    └─BatchNorm2d: 3-15            256\n",
       "|    |    └─Sequential: 3-16             8,448\n",
       "|    └─BasicBlock: 2-4                   --\n",
       "|    |    └─Conv2d: 3-17                 147,456\n",
       "|    |    └─BatchNorm2d: 3-18            256\n",
       "|    |    └─ReLU: 3-19                   --\n",
       "|    |    └─Conv2d: 3-20                 147,456\n",
       "|    |    └─BatchNorm2d: 3-21            256\n",
       "├─Sequential: 1-7                        --\n",
       "|    └─BasicBlock: 2-5                   --\n",
       "|    |    └─Conv2d: 3-22                 294,912\n",
       "|    |    └─BatchNorm2d: 3-23            512\n",
       "|    |    └─ReLU: 3-24                   --\n",
       "|    |    └─Conv2d: 3-25                 589,824\n",
       "|    |    └─BatchNorm2d: 3-26            512\n",
       "|    |    └─Sequential: 3-27             33,280\n",
       "|    └─BasicBlock: 2-6                   --\n",
       "|    |    └─Conv2d: 3-28                 589,824\n",
       "|    |    └─BatchNorm2d: 3-29            512\n",
       "|    |    └─ReLU: 3-30                   --\n",
       "|    |    └─Conv2d: 3-31                 589,824\n",
       "|    |    └─BatchNorm2d: 3-32            512\n",
       "├─Sequential: 1-8                        --\n",
       "|    └─BasicBlock: 2-7                   --\n",
       "|    |    └─Conv2d: 3-33                 1,179,648\n",
       "|    |    └─BatchNorm2d: 3-34            1,024\n",
       "|    |    └─ReLU: 3-35                   --\n",
       "|    |    └─Conv2d: 3-36                 2,359,296\n",
       "|    |    └─BatchNorm2d: 3-37            1,024\n",
       "|    |    └─Sequential: 3-38             132,096\n",
       "|    └─BasicBlock: 2-8                   --\n",
       "|    |    └─Conv2d: 3-39                 2,359,296\n",
       "|    |    └─BatchNorm2d: 3-40            1,024\n",
       "|    |    └─ReLU: 3-41                   --\n",
       "|    |    └─Conv2d: 3-42                 2,359,296\n",
       "|    |    └─BatchNorm2d: 3-43            1,024\n",
       "├─AdaptiveAvgPool2d: 1-9                 --\n",
       "├─Linear: 1-10                           1,026\n",
       "=================================================================\n",
       "Total params: 11,177,538\n",
       "Trainable params: 11,177,538\n",
       "Non-trainable params: 0\n",
       "================================================================="
      ]
     },
     "execution_count": 9,
     "metadata": {},
     "output_type": "execute_result"
    }
   ],
   "source": [
    "from torchsummary import summary\n",
    "\n",
    "summary(net)\n"
   ]
  },
  {
   "cell_type": "code",
   "execution_count": 10,
   "id": "31dbb54c-8c5e-4871-84d3-ac5085253d6c",
   "metadata": {
    "tags": []
   },
   "outputs": [
    {
     "data": {
      "text/plain": [
       "ResNet(\n",
       "  (conv1): Conv2d(3, 64, kernel_size=(7, 7), stride=(2, 2), padding=(3, 3), bias=False)\n",
       "  (bn1): BatchNorm2d(64, eps=1e-05, momentum=0.1, affine=True, track_running_stats=True)\n",
       "  (relu): ReLU(inplace=True)\n",
       "  (maxpool): MaxPool2d(kernel_size=3, stride=2, padding=1, dilation=1, ceil_mode=False)\n",
       "  (layer1): Sequential(\n",
       "    (0): BasicBlock(\n",
       "      (conv1): Conv2d(64, 64, kernel_size=(3, 3), stride=(1, 1), padding=(1, 1), bias=False)\n",
       "      (bn1): BatchNorm2d(64, eps=1e-05, momentum=0.1, affine=True, track_running_stats=True)\n",
       "      (relu): ReLU(inplace=True)\n",
       "      (conv2): Conv2d(64, 64, kernel_size=(3, 3), stride=(1, 1), padding=(1, 1), bias=False)\n",
       "      (bn2): BatchNorm2d(64, eps=1e-05, momentum=0.1, affine=True, track_running_stats=True)\n",
       "    )\n",
       "    (1): BasicBlock(\n",
       "      (conv1): Conv2d(64, 64, kernel_size=(3, 3), stride=(1, 1), padding=(1, 1), bias=False)\n",
       "      (bn1): BatchNorm2d(64, eps=1e-05, momentum=0.1, affine=True, track_running_stats=True)\n",
       "      (relu): ReLU(inplace=True)\n",
       "      (conv2): Conv2d(64, 64, kernel_size=(3, 3), stride=(1, 1), padding=(1, 1), bias=False)\n",
       "      (bn2): BatchNorm2d(64, eps=1e-05, momentum=0.1, affine=True, track_running_stats=True)\n",
       "    )\n",
       "  )\n",
       "  (layer2): Sequential(\n",
       "    (0): BasicBlock(\n",
       "      (conv1): Conv2d(64, 128, kernel_size=(3, 3), stride=(2, 2), padding=(1, 1), bias=False)\n",
       "      (bn1): BatchNorm2d(128, eps=1e-05, momentum=0.1, affine=True, track_running_stats=True)\n",
       "      (relu): ReLU(inplace=True)\n",
       "      (conv2): Conv2d(128, 128, kernel_size=(3, 3), stride=(1, 1), padding=(1, 1), bias=False)\n",
       "      (bn2): BatchNorm2d(128, eps=1e-05, momentum=0.1, affine=True, track_running_stats=True)\n",
       "      (downsample): Sequential(\n",
       "        (0): Conv2d(64, 128, kernel_size=(1, 1), stride=(2, 2), bias=False)\n",
       "        (1): BatchNorm2d(128, eps=1e-05, momentum=0.1, affine=True, track_running_stats=True)\n",
       "      )\n",
       "    )\n",
       "    (1): BasicBlock(\n",
       "      (conv1): Conv2d(128, 128, kernel_size=(3, 3), stride=(1, 1), padding=(1, 1), bias=False)\n",
       "      (bn1): BatchNorm2d(128, eps=1e-05, momentum=0.1, affine=True, track_running_stats=True)\n",
       "      (relu): ReLU(inplace=True)\n",
       "      (conv2): Conv2d(128, 128, kernel_size=(3, 3), stride=(1, 1), padding=(1, 1), bias=False)\n",
       "      (bn2): BatchNorm2d(128, eps=1e-05, momentum=0.1, affine=True, track_running_stats=True)\n",
       "    )\n",
       "  )\n",
       "  (layer3): Sequential(\n",
       "    (0): BasicBlock(\n",
       "      (conv1): Conv2d(128, 256, kernel_size=(3, 3), stride=(2, 2), padding=(1, 1), bias=False)\n",
       "      (bn1): BatchNorm2d(256, eps=1e-05, momentum=0.1, affine=True, track_running_stats=True)\n",
       "      (relu): ReLU(inplace=True)\n",
       "      (conv2): Conv2d(256, 256, kernel_size=(3, 3), stride=(1, 1), padding=(1, 1), bias=False)\n",
       "      (bn2): BatchNorm2d(256, eps=1e-05, momentum=0.1, affine=True, track_running_stats=True)\n",
       "      (downsample): Sequential(\n",
       "        (0): Conv2d(128, 256, kernel_size=(1, 1), stride=(2, 2), bias=False)\n",
       "        (1): BatchNorm2d(256, eps=1e-05, momentum=0.1, affine=True, track_running_stats=True)\n",
       "      )\n",
       "    )\n",
       "    (1): BasicBlock(\n",
       "      (conv1): Conv2d(256, 256, kernel_size=(3, 3), stride=(1, 1), padding=(1, 1), bias=False)\n",
       "      (bn1): BatchNorm2d(256, eps=1e-05, momentum=0.1, affine=True, track_running_stats=True)\n",
       "      (relu): ReLU(inplace=True)\n",
       "      (conv2): Conv2d(256, 256, kernel_size=(3, 3), stride=(1, 1), padding=(1, 1), bias=False)\n",
       "      (bn2): BatchNorm2d(256, eps=1e-05, momentum=0.1, affine=True, track_running_stats=True)\n",
       "    )\n",
       "  )\n",
       "  (layer4): Sequential(\n",
       "    (0): BasicBlock(\n",
       "      (conv1): Conv2d(256, 512, kernel_size=(3, 3), stride=(2, 2), padding=(1, 1), bias=False)\n",
       "      (bn1): BatchNorm2d(512, eps=1e-05, momentum=0.1, affine=True, track_running_stats=True)\n",
       "      (relu): ReLU(inplace=True)\n",
       "      (conv2): Conv2d(512, 512, kernel_size=(3, 3), stride=(1, 1), padding=(1, 1), bias=False)\n",
       "      (bn2): BatchNorm2d(512, eps=1e-05, momentum=0.1, affine=True, track_running_stats=True)\n",
       "      (downsample): Sequential(\n",
       "        (0): Conv2d(256, 512, kernel_size=(1, 1), stride=(2, 2), bias=False)\n",
       "        (1): BatchNorm2d(512, eps=1e-05, momentum=0.1, affine=True, track_running_stats=True)\n",
       "      )\n",
       "    )\n",
       "    (1): BasicBlock(\n",
       "      (conv1): Conv2d(512, 512, kernel_size=(3, 3), stride=(1, 1), padding=(1, 1), bias=False)\n",
       "      (bn1): BatchNorm2d(512, eps=1e-05, momentum=0.1, affine=True, track_running_stats=True)\n",
       "      (relu): ReLU(inplace=True)\n",
       "      (conv2): Conv2d(512, 512, kernel_size=(3, 3), stride=(1, 1), padding=(1, 1), bias=False)\n",
       "      (bn2): BatchNorm2d(512, eps=1e-05, momentum=0.1, affine=True, track_running_stats=True)\n",
       "    )\n",
       "  )\n",
       "  (avgpool): AdaptiveAvgPool2d(output_size=(1, 1))\n",
       "  (fc): Linear(in_features=512, out_features=2, bias=True)\n",
       ")"
      ]
     },
     "execution_count": 10,
     "metadata": {},
     "output_type": "execute_result"
    }
   ],
   "source": [
    "net"
   ]
  },
  {
   "cell_type": "code",
   "execution_count": null,
   "id": "87b5d7e8-da25-418e-b85d-2eb77546bd58",
   "metadata": {},
   "outputs": [],
   "source": []
  }
 ],
 "metadata": {
  "kernelspec": {
   "display_name": "Python 3 (ipykernel)",
   "language": "python",
   "name": "python3"
  },
  "language_info": {
   "codemirror_mode": {
    "name": "ipython",
    "version": 3
   },
   "file_extension": ".py",
   "mimetype": "text/x-python",
   "name": "python",
   "nbconvert_exporter": "python",
   "pygments_lexer": "ipython3",
   "version": "3.8.10"
  }
 },
 "nbformat": 4,
 "nbformat_minor": 5
}
