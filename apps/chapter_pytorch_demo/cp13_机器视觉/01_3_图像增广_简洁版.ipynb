{
 "cells": [
  {
   "cell_type": "code",
   "execution_count": 1,
   "id": "423b327b-e764-44c0-bf33-2613891cd11e",
   "metadata": {},
   "outputs": [
    {
     "name": "stdout",
     "output_type": "stream",
     "text": [
      "1.13.1+cu117\n"
     ]
    }
   ],
   "source": [
    "# from d2l import torch as d2l\n",
    "import torch\n",
    "from torch import nn\n",
    "from torch.nn import functional as F\n",
    "\n",
    "import sys\n",
    "sys.path.append(\"..\")\n",
    "# import d2lzh_pytorch.torch as d2l\n",
    "\n",
    "from d2lzh_pytorch.cnn.model.resnet18 import get_resnet18\n",
    "\n",
    "from d2lzh_pytorch.cnn.load_data.load_cifar10 import get_aug_cifar10\n",
    "\n",
    "from d2lzh_pytorch.cnn.train.train_ch13 import train_ch13\n",
    "\n",
    "from d2lzh_pytorch import myUtils\n",
    "\n",
    "print(torch.__version__)"
   ]
  },
  {
   "cell_type": "code",
   "execution_count": 2,
   "id": "b9261f7e-ac85-478b-b007-299a7e6cbf39",
   "metadata": {
    "tags": []
   },
   "outputs": [],
   "source": [
    "\n",
    "batch_size = 256\n",
    "devices = myUtils.try_all_gpus()\n",
    "\n",
    "\n",
    "\n",
    "net = get_resnet18(num_classes=10, \n",
    "                   in_channels=3)\n"
   ]
  },
  {
   "cell_type": "code",
   "execution_count": 3,
   "id": "2c4b1d2f-2e1f-40a1-8ff1-174d8141266a",
   "metadata": {},
   "outputs": [
    {
     "name": "stdout",
     "output_type": "stream",
     "text": [
      "use image augmentation technology, dataset data size is: 50000\n",
      "use image augmentation technology, dataset data size is: 10000\n",
      "load cifar10 sonsume time: 0.57\n"
     ]
    }
   ],
   "source": [
    "\n",
    "\n",
    "lr = 0.001\n",
    "\n",
    "train_iter, test_iter = get_aug_cifar10(256)\n",
    "\n",
    "\n",
    "loss = nn.CrossEntropyLoss(reduction=\"none\")\n",
    "\n",
    "trainer = torch.optim.Adam(net.parameters(), lr=lr)"
   ]
  },
  {
   "cell_type": "code",
   "execution_count": 16,
   "id": "ce9f411f-0ff3-4c9b-ab6e-f07f4bf1ffd3",
   "metadata": {
    "tags": []
   },
   "outputs": [
    {
     "data": {
      "text/plain": [
       "40"
      ]
     },
     "execution_count": 16,
     "metadata": {},
     "output_type": "execute_result"
    }
   ],
   "source": [
    "len(test_iter)"
   ]
  },
  {
   "cell_type": "code",
   "execution_count": 15,
   "id": "e24d1ad5-3b6d-4850-a3f1-3b58f8a87e3d",
   "metadata": {
    "tags": []
   },
   "outputs": [
    {
     "data": {
      "text/plain": [
       "196"
      ]
     },
     "execution_count": 15,
     "metadata": {},
     "output_type": "execute_result"
    }
   ],
   "source": [
    "len(train_iter)"
   ]
  },
  {
   "cell_type": "code",
   "execution_count": null,
   "id": "09bf6fd7-f0f8-4de2-b1ef-9a7ab7c49bb7",
   "metadata": {},
   "outputs": [],
   "source": [
    "\n",
    "\n",
    "num_epochs = 10\n",
    "\n",
    "# 开始训练\n",
    "train_ch13(net, train_iter, test_iter, \n",
    "           loss, \n",
    "           trainer,\n",
    "           num_epochs, \n",
    "           devices\n",
    "          )"
   ]
  },
  {
   "cell_type": "code",
   "execution_count": null,
   "id": "39773ebc-0579-4062-aa0c-cccb669eabea",
   "metadata": {},
   "outputs": [],
   "source": []
  }
 ],
 "metadata": {
  "kernelspec": {
   "display_name": "Python 3 (ipykernel)",
   "language": "python",
   "name": "python3"
  },
  "language_info": {
   "codemirror_mode": {
    "name": "ipython",
    "version": 3
   },
   "file_extension": ".py",
   "mimetype": "text/x-python",
   "name": "python",
   "nbconvert_exporter": "python",
   "pygments_lexer": "ipython3",
   "version": "3.8.10"
  }
 },
 "nbformat": 4,
 "nbformat_minor": 5
}
