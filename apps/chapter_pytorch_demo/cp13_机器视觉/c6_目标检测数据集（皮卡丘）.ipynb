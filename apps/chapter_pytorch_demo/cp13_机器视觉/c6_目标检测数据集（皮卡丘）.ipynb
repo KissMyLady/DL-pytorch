{
 "cells": [
  {
   "cell_type": "markdown",
   "id": "8571cb9f-4331-472e-b3ad-1a0ae772c3ef",
   "metadata": {},
   "source": [
    "# 9.6 目标检测数据集（皮卡丘）\n",
    "\n",
    "在目标检测领域并没有类似MNIST或Fashion-MNIST那样的小数据集。为了快速测试模型，我们合成了一个小的数据集。我们首先使用一个开源的皮卡丘3D模型生成了1000张不同角度和大小的皮卡丘图像。然后我们收集了一系列背景图像，并在每张图的随机位置放置一张随机的皮卡丘图像。该数据集使用MXNet提供的im2rec工具将图像转换成了二进制的RecordIO格式 [1]。该格式既可以降低数据集在磁盘上的存储开销，又能提高读取效率。如果想了解更多的图像读取方法，可以查阅GluonCV工具包的文档 [2]。"
   ]
  },
  {
   "cell_type": "markdown",
   "id": "6c6214b1-3c2e-4255-a4d5-4353e72cecdf",
   "metadata": {},
   "source": [
    "## 9.6.1 下载数据集\n",
    "\n",
    "前面说了，皮卡丘数据集使用MXNet提供的im2rec工具将图像转换成了二进制的RecordIO格式，但是我们后续要使用PyTorch，所以我先用[脚本](https://github.com/ShusenTang/Dive-into-DL-PyTorch/blob/master/code/chapter09_computer-vision/9.6.0_prepare_pikachu.ipynb)将其转换成了PNG图片并用json文件存放对应的label信息。在继续阅读前，请务必确保运行了这个脚本，保证数据已准备好。`pikachu`文件夹下的结构应如下所示。\n",
    "```sh\n",
    "--pikachu\n",
    "  --train\n",
    "    --images\n",
    "      --1.png\n",
    "      ...\n",
    "    --label.json\n",
    "  --val\n",
    "    --images\n",
    "      --1.png\n",
    "      ...\n",
    "    --label.json \n",
    "```"
   ]
  },
  {
   "cell_type": "markdown",
   "id": "9e7ecca2-22a0-4cc1-b5b7-d4599c74073e",
   "metadata": {},
   "source": [
    "先导入相关库。"
   ]
  },
  {
   "cell_type": "code",
   "execution_count": null,
   "id": "3aca3c8a-fe16-448b-830f-fdc06b1afad5",
   "metadata": {
    "tags": []
   },
   "outputs": [],
   "source": [
    "%matplotlib inline\n",
    "import os\n",
    "import json\n",
    "import numpy as np\n",
    "import torch\n",
    "import torchvision\n",
    "from PIL import Image\n",
    "\n",
    "import sys\n",
    "sys.path.append(\"..\") \n",
    "import d2lzh_pytorch as d2l\n",
    "\n",
    "data_dir = '/mnt/325E98425E980131/ai_data/yolo_train/csgo/images'\n",
    "\n",
    "pikachu_path = os.path.join(data_dir, \"train\")\n",
    "\n",
    "assert os.path.exists(pikachu_path)"
   ]
  },
  {
   "cell_type": "markdown",
   "id": "352cb3b6-1565-4e03-b757-e05a3f40d1c0",
   "metadata": {},
   "source": [
    "## 9.6.2 读取数据集\n",
    "\n",
    "我们先定义一个数据集类`PikachuDetDataset`，数据集每个样本包含`label`和`image`，其中label是一个 $m \\times 5$ 的向量，即m个边界框，每个边界框由`[class, x_min, y_min, x_max, y_max]`表示，这里的皮卡丘数据集中每个图像只有一个边界框，因此m=1。`image`是一个所有元素都位于`[0.0, 1.0]`的浮点`tensor`，代表图片数据。"
   ]
  },
  {
   "cell_type": "code",
   "execution_count": null,
   "id": "a1aaf854-73fd-4f20-9e0f-a6c458f4769c",
   "metadata": {},
   "outputs": [],
   "source": [
    "# 本类已保存在d2lzh_pytorch包中方便以后使用\n",
    "class PikachuDetDataset(torch.utils.data.Dataset):\n",
    "    \n",
    "    \"\"\"\n",
    "    皮卡丘检测数据集类\n",
    "    \"\"\"\n",
    "    def __init__(self, data_dir, part, image_size=(256, 256)):\n",
    "        assert part in [\"train\", \"val\"]\n",
    "        \n",
    "        self.image_size = image_size\n",
    "        self.image_dir = os.path.join(data_dir, part, \"images\")\n",
    "        \n",
    "        with open(os.path.join(data_dir, part, \"label.json\")) as f:\n",
    "            self.label = json.load(f)\n",
    "        \n",
    "        self.transform = torchvision.transforms.Compose([\n",
    "            # 将 PIL 图片转换成位于[0.0, 1.0]的floatTensor, shape (C x H x W)\n",
    "            torchvision.transforms.ToTensor()]\n",
    "        )\n",
    "            \n",
    "    def __len__(self):\n",
    "        return len(self.label)\n",
    "    \n",
    "    def __getitem__(self, index):\n",
    "        image_path = str(index + 1) + \".png\"\n",
    "        \n",
    "        cls = self.label[image_path][\"class\"]\n",
    "        label = np.array([cls] + self.label[image_path][\"loc\"], \n",
    "                         dtype=\"float32\")[None, :]\n",
    "        \n",
    "        PIL_img = Image.open(os.path.join(self.image_dir, image_path)).convert('RGB').resize(self.image_size)\n",
    "        \n",
    "        img = self.transform(PIL_img)\n",
    "        \n",
    "        sample = {\n",
    "            \"label\": label, # shape: (1, 5) [class, xmin, ymin, xmax, ymax]\n",
    "            \"image\": img    # shape: (3, *image_size)\n",
    "        }\n",
    "        \n",
    "        return sample"
   ]
  },
  {
   "cell_type": "markdown",
   "id": "b4c23008-976b-4c36-a92c-780a64af5b33",
   "metadata": {
    "tags": []
   },
   "source": [
    "然后我们通过创建`DataLoader`实例来读取目标检测数据集。我们将以随机顺序读取训练数据集，按序读取测试数据集。\n",
    "> 原书还做了数据增强: *对于训练集中的每张图像，我们将采用随机裁剪，并要求裁剪出的图像至少覆盖每个目标95%的区域。由于裁剪是随机的，这个要求不一定总被满足。我们设定最多尝试200次随机裁剪：如果都不符合要求则不裁剪图像。为保证输出结果的确定性，我们不随机裁剪测试数据集中的图像。 我们也无须按随机顺序读取测试数据集。*"
   ]
  },
  {
   "cell_type": "code",
   "execution_count": null,
   "id": "a6ea4db5-447c-4670-8caf-ee62796a30cf",
   "metadata": {},
   "outputs": [],
   "source": [
    "# 本函数已保存在d2lzh_pytorch包中方便以后使用\n",
    "def load_data_pikachu(batch_size, edge_size=256, data_dir = '../../data/pikachu'):  \n",
    "    \"\"\"\n",
    "    edge_size：输出图像的宽和高\n",
    "    \"\"\"\n",
    "    \n",
    "    image_size = (edge_size, edge_size)\n",
    "    train_dataset = PikachuDetDataset(data_dir, 'train', image_size)\n",
    "    val_dataset = PikachuDetDataset(data_dir, 'val', image_size)\n",
    "    \n",
    "    train_iter = torch.utils.data.DataLoader(train_dataset, \n",
    "                                             batch_size=batch_size, \n",
    "                                             shuffle=True, \n",
    "                                             num_workers=4)\n",
    "\n",
    "    val_iter = torch.utils.data.DataLoader(val_dataset, \n",
    "                                           batch_size=batch_size,\n",
    "                                           shuffle=False, \n",
    "                                           num_workers=4)\n",
    "    return train_iter, val_iter"
   ]
  },
  {
   "cell_type": "markdown",
   "id": "082ef07d-dab3-40a9-b5fb-293e5a57e383",
   "metadata": {},
   "source": [
    "下面我们读取一个小批量并打印图像和标签的形状。图像的形状和之前实验中的一样，依然是(批量大小, 通道数, 高, 宽)。而标签的形状则是(批量大小, $m$, 5)，其中$m$等于数据集中单个图像最多含有的边界框个数。小批量计算虽然高效，但它要求每张图像含有相同数量的边界框，以便放在同一个批量中。由于每张图像含有的边界框个数可能不同，我们为边界框个数小于$m$的图像填充非法边界框，直到每张图像均含有$m$个边界框。这样，我们就可以每次读取小批量的图像了。图像中每个边界框的标签由长度为5的数组表示。数组中第一个元素是边界框所含目标的类别。当值为-1时，该边界框为填充用的非法边界框。数组的剩余4个元素分别表示边界框左上角的$x$和$y$轴坐标以及右下角的$x$和$y$轴坐标（值域在0到1之间）。这里的皮卡丘数据集中每个图像只有一个边界框，因此$m=1$。"
   ]
  },
  {
   "cell_type": "code",
   "execution_count": null,
   "id": "2a32c74a-e4f8-4a88-bb61-4e43df710d22",
   "metadata": {},
   "outputs": [],
   "source": [
    "batch_size, edge_size = 32, 256\n",
    "\n",
    "data_dir = r\"/mnt/325E98425E980131/ai_data/yolo_train/csgo/images\"\n",
    "train_iter, _ = load_data_pikachu(batch_size, edge_size, data_dir)\n",
    "\n",
    "batch = iter(train_iter).next()\n",
    "\n",
    "print(batch[\"image\"].shape, batch[\"label\"].shape)"
   ]
  },
  {
   "cell_type": "markdown",
   "id": "0b54cd5c-de84-4e18-9f85-3d4de24d6a88",
   "metadata": {},
   "source": [
    "## 9.6.3 图示数据\n",
    "\n",
    "我们画出10张图像和它们中的边界框。可以看到，皮卡丘的角度、大小和位置在每张图像中都不一样。当然，这是一个简单的人工数据集。实际中的数据通常会复杂得多。"
   ]
  },
  {
   "cell_type": "code",
   "execution_count": null,
   "id": "26b68d3e-1bf7-4abe-8d39-268ccf844057",
   "metadata": {},
   "outputs": [],
   "source": [
    "imgs = batch[\"image\"][0:10].permute(0,2,3,1)\n",
    "bboxes = batch[\"label\"][0:10, 0, 1:]\n",
    "\n",
    "\n",
    "axes = d2l.show_images(imgs, 2, 5).flatten()\n",
    "\n",
    "\n",
    "for ax, bb in zip(axes, bboxes):\n",
    "    d2l.show_bboxes(ax, [bb*edge_size], colors=['w'])"
   ]
  },
  {
   "cell_type": "markdown",
   "id": "f699db54-4ec6-4672-879f-b41c82596160",
   "metadata": {},
   "source": [
    "## 小结\n",
    "\n",
    "* 合成的皮卡丘数据集可用于测试目标检测模型。\n",
    "* 目标检测的数据读取跟图像分类的类似。然而，在引入边界框后，标签形状和图像增广（如随机裁剪）发生了变化。\n",
    "\n",
    "## 参考文献\n",
    "\n",
    "[1] im2rec工具。https://github.com/apache/incubator-mxnet/blob/master/tools/im2rec.py\n",
    "\n",
    "[2] GluonCV 工具包。https://gluon-cv.mxnet.io/"
   ]
  },
  {
   "cell_type": "code",
   "execution_count": null,
   "id": "bc3508a6-95d2-447c-bd0d-9b05390d1b61",
   "metadata": {},
   "outputs": [],
   "source": []
  }
 ],
 "metadata": {
  "kernelspec": {
   "display_name": "Python 3 (ipykernel)",
   "language": "python",
   "name": "python3"
  },
  "language_info": {
   "codemirror_mode": {
    "name": "ipython",
    "version": 3
   },
   "file_extension": ".py",
   "mimetype": "text/x-python",
   "name": "python",
   "nbconvert_exporter": "python",
   "pygments_lexer": "ipython3",
   "version": "3.8.10"
  }
 },
 "nbformat": 4,
 "nbformat_minor": 5
}
