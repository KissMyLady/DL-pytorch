{
 "cells": [
  {
   "cell_type": "code",
   "execution_count": 3,
   "id": "b3a8742a-37c9-4b71-a51a-b1ff665e2c1e",
   "metadata": {
    "tags": []
   },
   "outputs": [],
   "source": [
    "import torch\n",
    "from torch import nn, optim\n",
    "from torch.utils.data import Dataset, DataLoader\n",
    "import torchvision\n",
    "from torchvision.datasets import ImageFolder\n",
    "from torchvision import transforms\n",
    "from torchvision import models\n",
    "import os\n",
    "\n",
    "import sys\n",
    "\n",
    "sys.path.append(\"..\")\n",
    "import d2lzh_pytorch as d2l\n",
    "# from apps.chapter import d2lzh_pytorch as d2l\n",
    "\n",
    "device = torch.device('cuda' if torch.cuda.is_available() else 'cpu')"
   ]
  },
  {
   "cell_type": "code",
   "execution_count": 10,
   "id": "7a9690d0-1e59-4571-8a78-51a3a75986cd",
   "metadata": {
    "tags": []
   },
   "outputs": [],
   "source": [
    "# 路径, 数据加载\n",
    "data_dir = '/home/mylady/Datasets'\n",
    "os.listdir(os.path.join(data_dir, \"hotdog\"))  # ['train', 'test']\n",
    "\n",
    "hotdog_train_path = os.path.join(data_dir, 'hotdog/train')\n",
    "hotdog_test_path = os.path.join(data_dir, 'hotdog/test')\n",
    "\n",
    "train_imgs = ImageFolder(hotdog_train_path)\n",
    "test_imgs = ImageFolder(hotdog_test_path)"
   ]
  },
  {
   "cell_type": "code",
   "execution_count": 11,
   "id": "1311ee68-b08c-4050-b828-d3ac3193298a",
   "metadata": {
    "tags": []
   },
   "outputs": [],
   "source": [
    "def load_data(batch_size):\n",
    "    # 指定RGB三个通道的均值和方差来将图像通道归一化\n",
    "    normalize = transforms.Normalize(\n",
    "        mean=[0.485, 0.456, 0.406],\n",
    "        std=[0.229, 0.224, 0.225]\n",
    "    )\n",
    "\n",
    "    train_augs = transforms.Compose([\n",
    "        transforms.RandomResizedCrop(size=224),\n",
    "        transforms.RandomHorizontalFlip(),\n",
    "        transforms.ToTensor(),\n",
    "        normalize\n",
    "    ])\n",
    "\n",
    "    test_augs = transforms.Compose([\n",
    "        transforms.Resize(size=256),     # 把给定的图片resize\n",
    "        transforms.CenterCrop(size=224), # 在图片的中间区域进行裁剪\n",
    "        transforms.ToTensor(),\n",
    "        normalize # 用均值和标准差归一化张量图像\n",
    "    ])\n",
    "\n",
    "    train_iter = DataLoader(ImageFolder(hotdog_train_path, transform=train_augs),\n",
    "                            batch_size,\n",
    "                            shuffle=True)\n",
    "\n",
    "    test_iter = DataLoader(ImageFolder(hotdog_test_path, transform=test_augs),\n",
    "                           batch_size)\n",
    "    return train_iter, test_iter"
   ]
  },
  {
   "cell_type": "code",
   "execution_count": 12,
   "id": "d41c155c-fce5-46ea-a4c2-d5ab84d72b7c",
   "metadata": {
    "tags": []
   },
   "outputs": [],
   "source": [
    "def train_fine_tuning(net, optimizer, batch_size=128, num_epochs=5):\n",
    "    train_iter, test_iter = load_data(batch_size)\n",
    "\n",
    "    # 损失函数\n",
    "    loss = torch.nn.CrossEntropyLoss()\n",
    "\n",
    "    # 训练\n",
    "    d2l.train(train_iter, test_iter, \n",
    "              net, loss,optimizer, \n",
    "              device, num_epochs\n",
    "             )"
   ]
  },
  {
   "cell_type": "code",
   "execution_count": 13,
   "id": "70840ef0-58fa-4000-99b6-ede4b6027279",
   "metadata": {
    "tags": []
   },
   "outputs": [],
   "source": [
    "def run():\n",
    "    # 初始化模型\n",
    "    pretrained_net = models.resnet18(weights=True)\n",
    "    pretrained_net.fc = nn.Linear(512, 2)  # 改为输出为2\n",
    "\n",
    "    output_params = list(map(id, pretrained_net.fc.parameters()))\n",
    "    feature_params = filter(lambda p: id(p) not in output_params, pretrained_net.parameters())\n",
    "\n",
    "    lr = 0.01\n",
    "    optimizer = optim.SGD([{'params': feature_params},\n",
    "                           {'params': pretrained_net.fc.parameters(), 'lr': lr * 10}],\n",
    "                          lr=lr,\n",
    "                          weight_decay=0.001)\n",
    "    # 开始训练\n",
    "    train_fine_tuning(pretrained_net,\n",
    "                      optimizer\n",
    "                      )\n",
    "    pass"
   ]
  },
  {
   "cell_type": "code",
   "execution_count": 14,
   "id": "31d5ec5f-63e7-43c1-a4f5-b27fb660b0d2",
   "metadata": {
    "tags": []
   },
   "outputs": [
    {
     "name": "stdout",
     "output_type": "stream",
     "text": [
      "training on  cuda\n",
      "epoch 1, loss 3.8759, train acc 0.683, test acc 0.920, time 9.2 sec\n",
      "epoch 2, loss 0.1916, train acc 0.910, test acc 0.909, time 9.2 sec\n",
      "epoch 3, loss 0.0746, train acc 0.930, test acc 0.906, time 9.2 sec\n",
      "epoch 4, loss 0.1039, train acc 0.910, test acc 0.869, time 9.2 sec\n",
      "epoch 5, loss 0.0536, train acc 0.924, test acc 0.934, time 9.2 sec\n"
     ]
    }
   ],
   "source": [
    "run()"
   ]
  },
  {
   "cell_type": "code",
   "execution_count": null,
   "id": "69b456d6-b4cc-4486-840e-c768afc5dfff",
   "metadata": {},
   "outputs": [],
   "source": []
  }
 ],
 "metadata": {
  "kernelspec": {
   "display_name": "Python 3 (ipykernel)",
   "language": "python",
   "name": "python3"
  },
  "language_info": {
   "codemirror_mode": {
    "name": "ipython",
    "version": 3
   },
   "file_extension": ".py",
   "mimetype": "text/x-python",
   "name": "python",
   "nbconvert_exporter": "python",
   "pygments_lexer": "ipython3",
   "version": "3.8.10"
  }
 },
 "nbformat": 4,
 "nbformat_minor": 5
}
