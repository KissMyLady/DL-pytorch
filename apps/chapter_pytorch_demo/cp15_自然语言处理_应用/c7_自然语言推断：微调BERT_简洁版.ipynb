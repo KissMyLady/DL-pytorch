{
 "cells": [
  {
   "cell_type": "code",
   "execution_count": 3,
   "id": "e07cca60-8e36-4b8c-b790-e6c90100a7fa",
   "metadata": {
    "tags": []
   },
   "outputs": [],
   "source": [
    "import torch\n",
    "from torch import nn\n",
    "import sys\n",
    "import json\n",
    "import os\n",
    "import multiprocessing\n",
    "\n",
    "sys.path.append(\".\")\n",
    "sys.path.append(\"..\")\n",
    "sys.path.append(\"../..\")\n",
    "from d2lzh_pytorch.BERT_unit_v3.use_BERT import load_pretrained_model, \\\n",
    "SNLIBERTDataset, BERTClassifier\n",
    "\n",
    "\n",
    "from d2lzh_pytorch.myUtils import try_all_gpus"
   ]
  },
  {
   "cell_type": "code",
   "execution_count": 4,
   "id": "b29302f4-1721-4484-8a18-acbc1d551e93",
   "metadata": {
    "tags": []
   },
   "outputs": [],
   "source": [
    "devices = try_all_gpus()\n",
    "# devices = [torch.device('cpu')]\n",
    "\n",
    "# 加载词向量\n",
    "bert, vocab = load_pretrained_model('bert.small',\n",
    "                                    num_hiddens=256,\n",
    "                                    ffn_num_hiddens=512,\n",
    "                                    num_heads=4,\n",
    "                                    num_layers=2,\n",
    "                                    dropout=0.1,\n",
    "                                    max_len=512,\n",
    "                                    devices=devices)"
   ]
  },
  {
   "cell_type": "code",
   "execution_count": 11,
   "id": "cd3d40f6-0779-49db-867a-c4bdaee13e9c",
   "metadata": {
    "tags": []
   },
   "outputs": [],
   "source": [
    "# 如果出现显存不足错误，请减少“batch_size”。在原始的BERT模型中，max_len=512\n",
    "batch_size = 512\n",
    "max_len = 128\n",
    "num_workers = 4\n",
    "\n",
    "# data_dir = download_extract('SNLI')\n",
    "\n",
    "data_dir = r\"/home/mylady/code/python/DL-pytorch/apps/chapter_pytorch_demo/data/snli_1.0\""
   ]
  },
  {
   "cell_type": "code",
   "execution_count": 12,
   "id": "7dc9c8bb-6bd5-490a-b2d1-5b75b29f3528",
   "metadata": {
    "tags": []
   },
   "outputs": [
    {
     "name": "stdout",
     "output_type": "stream",
     "text": [
      "read 549367 examples\n",
      "read 9824 examples\n"
     ]
    }
   ],
   "source": [
    "\n",
    "train_set = SNLIBERTDataset(read_snli(data_dir, True), max_len, vocab)\n",
    "test_set = SNLIBERTDataset(read_snli(data_dir, False), max_len, vocab)"
   ]
  },
  {
   "cell_type": "code",
   "execution_count": 8,
   "id": "b291a955-fa31-4f6a-8e10-971de1fdef4f",
   "metadata": {
    "tags": []
   },
   "outputs": [],
   "source": [
    "# 加载数据\n",
    "train_iter = torch.utils.data.DataLoader(train_set,\n",
    "                                         batch_size,\n",
    "                                         shuffle=True,\n",
    "                                         num_workers=num_workers)\n",
    "\n",
    "test_iter = torch.utils.data.DataLoader(test_set,\n",
    "                                        batch_size,\n",
    "                                        num_workers=num_workers)"
   ]
  },
  {
   "cell_type": "code",
   "execution_count": 9,
   "id": "be650195-d891-44e0-8645-8ac138ad4e88",
   "metadata": {
    "tags": []
   },
   "outputs": [],
   "source": [
    "# 模型及参数\n",
    "net = BERTClassifier(bert)\n",
    "lr = 1e-4\n",
    "num_epochs = 5\n",
    "\n",
    "trainer = torch.optim.Adam(net.parameters(), lr=lr)\n",
    "loss = nn.CrossEntropyLoss(reduction='none')"
   ]
  },
  {
   "cell_type": "code",
   "execution_count": null,
   "id": "54c2377c-6ae6-4fc2-b263-6feed5a05066",
   "metadata": {
    "tags": []
   },
   "outputs": [],
   "source": [
    "# 开始微调\n",
    "train_ch13(net,\n",
    "           train_iter, test_iter,\n",
    "           loss, trainer,\n",
    "           num_epochs,\n",
    "           devices)"
   ]
  },
  {
   "cell_type": "code",
   "execution_count": null,
   "id": "06f59399-3d5c-479b-83f1-dc6de30aa30b",
   "metadata": {},
   "outputs": [],
   "source": []
  }
 ],
 "metadata": {
  "kernelspec": {
   "display_name": "Python 3 (ipykernel)",
   "language": "python",
   "name": "python3"
  },
  "language_info": {
   "codemirror_mode": {
    "name": "ipython",
    "version": 3
   },
   "file_extension": ".py",
   "mimetype": "text/x-python",
   "name": "python",
   "nbconvert_exporter": "python",
   "pygments_lexer": "ipython3",
   "version": "3.8.10"
  }
 },
 "nbformat": 4,
 "nbformat_minor": 5
}
