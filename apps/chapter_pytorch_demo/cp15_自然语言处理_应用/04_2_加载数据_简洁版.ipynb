{
 "cells": [
  {
   "cell_type": "code",
   "execution_count": 2,
   "id": "25b377ec-8dd8-40a6-b4f5-cca57a77ae4a",
   "metadata": {
    "tags": []
   },
   "outputs": [],
   "source": [
    "import sys\n",
    "sys.path.append(\"..\")\n",
    "import d2lzh_pytorch.torch as d2l\n",
    "\n",
    "from d2lzh_pytorch.nlp.load_data.load_snli import load_data_snli\n"
   ]
  },
  {
   "cell_type": "code",
   "execution_count": 3,
   "id": "32c3df76-ab42-46c3-b619-1169e2e20259",
   "metadata": {
    "tags": []
   },
   "outputs": [
    {
     "name": "stdout",
     "output_type": "stream",
     "text": [
      "read 549367 examples\n",
      "read 9824 examples\n"
     ]
    }
   ],
   "source": [
    "batch_size = 256\n",
    "num_steps = 50\n",
    "\n",
    "\n",
    "# snil的服务器关闭，7月3号才恢复\n",
    "# https://cs.stanford.edu/srcf_404\n",
    "# 加载数据\n",
    "train_iter, test_iter, vocab = load_data_snli(\n",
    "    batch_size, \n",
    "    num_steps)    "
   ]
  },
  {
   "cell_type": "code",
   "execution_count": 7,
   "id": "841c2806-bb4b-4892-93a6-1b8a5c18b3c7",
   "metadata": {},
   "outputs": [
    {
     "name": "stdout",
     "output_type": "stream",
     "text": [
      "2\n",
      "torch.Size([256, 50])\n",
      "torch.Size([256, 50])\n",
      "torch.Size([256])\n"
     ]
    }
   ],
   "source": [
    "for X, Y in train_iter:\n",
    "    print(len(X))\n",
    "    print(X[0].shape)\n",
    "    print(X[1].shape)\n",
    "    # print(X[2].shape)\n",
    "    # print(X[3].shape)\n",
    "    print(Y.shape)\n",
    "    break"
   ]
  },
  {
   "cell_type": "code",
   "execution_count": 4,
   "id": "f23703aa-ec30-4d28-8842-45edf0606edf",
   "metadata": {},
   "outputs": [
    {
     "data": {
      "text/plain": [
       "18678"
      ]
     },
     "execution_count": 4,
     "metadata": {},
     "output_type": "execute_result"
    }
   ],
   "source": [
    "len(vocab)"
   ]
  },
  {
   "cell_type": "code",
   "execution_count": null,
   "id": "347e72ef-b6d8-4c34-8f98-2312d414a737",
   "metadata": {},
   "outputs": [],
   "source": []
  }
 ],
 "metadata": {
  "kernelspec": {
   "display_name": "Python 3 (ipykernel)",
   "language": "python",
   "name": "python3"
  },
  "language_info": {
   "codemirror_mode": {
    "name": "ipython",
    "version": 3
   },
   "file_extension": ".py",
   "mimetype": "text/x-python",
   "name": "python",
   "nbconvert_exporter": "python",
   "pygments_lexer": "ipython3",
   "version": "3.8.10"
  }
 },
 "nbformat": 4,
 "nbformat_minor": 5
}
