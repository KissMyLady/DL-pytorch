{
 "cells": [
  {
   "cell_type": "markdown",
   "id": "2c6dc597-2b5a-446e-b3a8-368f32891dbe",
   "metadata": {},
   "source": [
    "# 自然语言推断：微调BERT\n",
    ":label:`sec_natural-language-inference-bert`\n",
    "\n",
    "在本章的前面几节中，我们已经为SNLI数据集（ :numref:`sec_natural-language-inference-and-dataset`）上的自然语言推断任务设计了一个基于注意力的结构（ :numref:`sec_natural-language-inference-attention`）。\n",
    "\n",
    "现在，我们通过微调BERT来重新审视这项任务。正如在 :numref:`sec_finetuning-bert`中讨论的那样，自然语言推断是一个序列级别的文本对分类问题，而微调BERT只需要一个额外的基于多层感知机的架构，如 :numref:`fig_nlp-map-nli-bert`中所示。\n",
    "\n",
    "本节将下载一个预训练好的小版本的BERT，然后对其进行微调，以便在SNLI数据集上进行自然语言推断。\n"
   ]
  },
  {
   "cell_type": "code",
   "execution_count": 1,
   "id": "6c348cb0-31a9-409f-bf05-7ae66ccf0d40",
   "metadata": {
    "tags": []
   },
   "outputs": [],
   "source": [
    "import json\n",
    "import multiprocessing\n",
    "import os\n",
    "import torch\n",
    "from torch import nn\n",
    "\n",
    "import sys\n",
    "sys.path.append(\"..\")\n",
    "import d2lzh_pytorch.torch as d2l"
   ]
  },
  {
   "cell_type": "markdown",
   "id": "a689d856-d206-4d55-b767-9dbb5729e10c",
   "metadata": {},
   "source": [
    "## [**加载预训练的BERT**]\n",
    "\n",
    "我们已经在 :numref:`sec_bert-dataset`和 :numref:`sec_bert-pretraining`WikiText-2数据集上预训练BERT（请注意，原始的BERT模型是在更大的语料库上预训练的）。正如在 :numref:`sec_bert-pretraining`中所讨论的，原始的BERT模型有数以亿计的参数。在下面，我们提供了两个版本的预训练的BERT：“bert.base”与原始的BERT基础模型一样大，需要大量的计算资源才能进行微调，而“bert.small”是一个小版本，以便于演示。\n"
   ]
  },
  {
   "cell_type": "code",
   "execution_count": 2,
   "id": "22ab753d-ba94-4345-b135-1dd88270543d",
   "metadata": {
    "tags": []
   },
   "outputs": [],
   "source": [
    "d2l.DATA_HUB['bert.small'] = (\n",
    "    d2l.DATA_URL + 'bert.small.torch.zip',\n",
    "    'c72329e68a732bef0452e4b96a1c341c8910f81f'\n",
    ")"
   ]
  },
  {
   "cell_type": "code",
   "execution_count": 1,
   "id": "864904da-ea3b-4156-b3ca-47d6892959ca",
   "metadata": {
    "tags": []
   },
   "outputs": [],
   "source": [
    "#@tab pytorch\n",
    "def load_pretrained_model(pretrained_model, num_hiddens, ffn_num_hiddens,\n",
    "                          num_heads, num_layers, dropout, max_len, devices):\n",
    "    data_dir = d2l.download_extract(pretrained_model)\n",
    "    # 定义空词表以加载预定义词表\n",
    "    vocab = d2l.Vocab()\n",
    "    vocab.idx_to_token = json.load(open(os.path.join(data_dir, 'vocab.json')))\n",
    "    vocab.token_to_idx = {token: idx for idx, token in enumerate(vocab.idx_to_token)}\n",
    "    \n",
    "    bert = d2l.BERTModel(len(vocab), \n",
    "                         num_hiddens, \n",
    "                         norm_shape=[256],\n",
    "                         ffn_num_input=256, \n",
    "                         ffn_num_hiddens=ffn_num_hiddens,\n",
    "                         num_heads=4, \n",
    "                         num_layers=2, \n",
    "                         dropout=0.2,\n",
    "                         max_len=max_len, \n",
    "                         key_size=256, \n",
    "                         query_size=256,\n",
    "                         value_size=256,\n",
    "                         hid_in_features=256,\n",
    "                         mlm_in_features=256, \n",
    "                         nsp_in_features=256)\n",
    "    \n",
    "    # 加载预训练BERT参数\n",
    "    bert.load_state_dict(torch.load(os.path.join(data_dir, 'pretrained.params')))\n",
    "    return bert, vocab"
   ]
  },
  {
   "cell_type": "markdown",
   "id": "4dae532c-3b7c-4518-aee4-fd9498582968",
   "metadata": {},
   "source": [
    "两个预训练好的BERT模型都包含一个定义词表的“vocab.json”文件和一个预训练参数的“pretrained.params”文件。我们实现了以下`load_pretrained_model`函数来[**加载预先训练好的BERT参数**]。\n"
   ]
  },
  {
   "cell_type": "code",
   "execution_count": 4,
   "id": "b8aeade7-7b3d-4c9b-aa89-649355995025",
   "metadata": {
    "tags": []
   },
   "outputs": [],
   "source": [
    "def load_pretrained_model(pretrained_model, \n",
    "                          num_hiddens, \n",
    "                          ffn_num_hiddens,\n",
    "                          num_heads, \n",
    "                          num_layers, \n",
    "                          dropout, \n",
    "                          max_len, \n",
    "                          devices):\n",
    "    \n",
    "    data_dir = d2l.download_extract(pretrained_model)\n",
    "    \n",
    "    # 定义空词表以加载预定义词表\n",
    "    vocab = d2l.Vocab()\n",
    "    \n",
    "    vocab.idx_to_token = json.load(open(os.path.join(data_dir,'vocab.json')))\n",
    "    vocab.token_to_idx = {token: idx for idx, token in enumerate(vocab.idx_to_token)}\n",
    "    \n",
    "    bert = d2l.BERTModel(len(vocab), \n",
    "                         num_hiddens, \n",
    "                         norm_shape=[256],\n",
    "                         ffn_num_input=256, \n",
    "                         ffn_num_hiddens=ffn_num_hiddens,\n",
    "                         num_heads=4, \n",
    "                         num_layers=2, \n",
    "                         dropout=0.2,\n",
    "                         max_len=max_len, \n",
    "                         key_size=256, \n",
    "                         query_size=256,\n",
    "                         value_size=256, \n",
    "                         hid_in_features=256,\n",
    "                         mlm_in_features=256, \n",
    "                         nsp_in_features=256)\n",
    "    \n",
    "    # 加载预训练BERT参数\n",
    "    bert.load_state_dict(torch.load(os.path.join(data_dir,'pretrained.params')))\n",
    "    return bert, vocab"
   ]
  },
  {
   "cell_type": "markdown",
   "id": "033bc4bd-74eb-408e-86f9-81e8f0a5fa15",
   "metadata": {},
   "source": [
    "为了便于在大多数机器上演示，我们将在本节中加载和微调经过预训练BERT的小版本（“bert.small”）。在练习中，我们将展示如何微调大得多的“bert.base”以显著提高测试精度。\n"
   ]
  },
  {
   "cell_type": "code",
   "execution_count": 5,
   "id": "fb477d42-756c-40e2-8362-d42db6248e1e",
   "metadata": {
    "tags": []
   },
   "outputs": [],
   "source": [
    "devices = d2l.try_all_gpus()\n",
    "# devices = [torch.device('cpu')]\n",
    "\n",
    "\n",
    "# 加载词向量\n",
    "bert, vocab = load_pretrained_model('bert.small', \n",
    "                                    num_hiddens=256, \n",
    "                                    ffn_num_hiddens=512, \n",
    "                                    num_heads=4,\n",
    "                                    num_layers=2, \n",
    "                                    dropout=0.1, \n",
    "                                    max_len=512, \n",
    "                                    devices=devices)"
   ]
  },
  {
   "cell_type": "markdown",
   "id": "d38ec60c-b4a5-4ddc-8dc9-69aab70036dd",
   "metadata": {},
   "source": [
    "## [**微调BERT的数据集**]\n",
    "\n",
    "对于SNLI数据集的下游任务自然语言推断，我们定义了一个定制的数据集类`SNLIBERTDataset`。在每个样本中，前提和假设形成一对文本序列，并被打包成一个BERT输入序列，如 :numref:`fig_bert-two-seqs`所示。回想 :numref:`subsec_bert_input_rep`，片段索引用于区分BERT输入序列中的前提和假设。利用预定义的BERT输入序列的最大长度（`max_len`），持续移除输入文本对中较长文本的最后一个标记，直到满足`max_len`。为了加速生成用于微调BERT的SNLI数据集，我们使用4个工作进程并行生成训练或测试样本。\n"
   ]
  },
  {
   "cell_type": "code",
   "execution_count": 6,
   "id": "fa7256a9-a4dd-479a-a347-fb87044645de",
   "metadata": {
    "tags": []
   },
   "outputs": [],
   "source": [
    "class SNLIBERTDataset(torch.utils.data.Dataset):\n",
    "    \n",
    "    def __init__(self, dataset, max_len, vocab=None):\n",
    "        all_premise_hypothesis_tokens = [\n",
    "            [p_tokens, h_tokens] for p_tokens, h_tokens in zip(\n",
    "            *[d2l.tokenize([s.lower() for s in sentences])\n",
    "              for sentences in dataset[:2]])]\n",
    "\n",
    "        self.labels = torch.tensor(dataset[2])\n",
    "        self.vocab = vocab\n",
    "        self.max_len = max_len\n",
    "        \n",
    "        (self.all_token_ids, \n",
    "         self.all_segments,\n",
    "         self.valid_lens) = self._preprocess(all_premise_hypothesis_tokens)\n",
    "        \n",
    "        print('read ' + str(len(self.all_token_ids)) + ' examples')\n",
    "\n",
    "    def _preprocess(self, all_premise_hypothesis_tokens):\n",
    "        pool = multiprocessing.Pool(4)  # 使用4个进程\n",
    "        out = pool.map(self._mp_worker, all_premise_hypothesis_tokens)\n",
    "        all_token_ids = [token_ids for token_ids, segments, valid_len in out]\n",
    "        all_segments = [segments for token_ids, segments, valid_len in out]\n",
    "        valid_lens = [valid_len for token_ids, segments, valid_len in out]\n",
    "        \n",
    "        return (torch.tensor(all_token_ids, dtype=torch.long),\n",
    "                torch.tensor(all_segments, dtype=torch.long),\n",
    "                torch.tensor(valid_lens))\n",
    "\n",
    "    def _mp_worker(self, premise_hypothesis_tokens):\n",
    "        p_tokens, h_tokens = premise_hypothesis_tokens\n",
    "        self._truncate_pair_of_tokens(p_tokens, h_tokens)\n",
    "        tokens, segments = d2l.get_tokens_and_segments(p_tokens, h_tokens)\n",
    "        token_ids = self.vocab[tokens] + [self.vocab['<pad>']] \\\n",
    "                             * (self.max_len - len(tokens))\n",
    "        segments = segments + [0] * (self.max_len - len(segments))\n",
    "        valid_len = len(tokens)\n",
    "        return token_ids, segments, valid_len\n",
    "\n",
    "    def _truncate_pair_of_tokens(self, p_tokens, h_tokens):\n",
    "        # 为BERT输入中的'<CLS>'、'<SEP>'和'<SEP>'词元保留位置\n",
    "        while len(p_tokens) + len(h_tokens) > self.max_len - 3:\n",
    "            if len(p_tokens) > len(h_tokens):\n",
    "                p_tokens.pop()\n",
    "            else:\n",
    "                h_tokens.pop()\n",
    "\n",
    "    def __getitem__(self, idx):\n",
    "        return (self.all_token_ids[idx], self.all_segments[idx],\n",
    "                self.valid_lens[idx]), self.labels[idx]\n",
    "\n",
    "    def __len__(self):\n",
    "        return len(self.all_token_ids)"
   ]
  },
  {
   "cell_type": "markdown",
   "id": "351a9733-4633-48d4-ac5b-00f8c7cdaf32",
   "metadata": {},
   "source": [
    "下载完SNLI数据集后，我们通过实例化`SNLIBERTDataset`类来[**生成训练和测试样本**]。这些样本将在自然语言推断的训练和测试期间进行小批量读取。\n"
   ]
  },
  {
   "cell_type": "code",
   "execution_count": 7,
   "id": "e947b2c1-ff08-40bc-a2a9-5cfe57b885f7",
   "metadata": {
    "tags": []
   },
   "outputs": [
    {
     "name": "stdout",
     "output_type": "stream",
     "text": [
      "read 549367 examples\n",
      "read 9824 examples\n"
     ]
    }
   ],
   "source": [
    "# 如果出现显存不足错误，请减少“batch_size”。在原始的BERT模型中，max_len=512\n",
    "batch_size = 512\n",
    "max_len = 128\n",
    "num_workers = d2l.get_dataloader_workers()\n",
    "\n",
    "\n",
    "data_dir = d2l.download_extract('SNLI')\n",
    "\n",
    "\n",
    "train_set = SNLIBERTDataset(d2l.read_snli(data_dir, True), max_len, vocab)\n",
    "test_set = SNLIBERTDataset(d2l.read_snli(data_dir, False), max_len, vocab)\n",
    "\n",
    "\n",
    "# 加载数据\n",
    "train_iter = torch.utils.data.DataLoader(train_set, \n",
    "                                         batch_size, \n",
    "                                         shuffle=True,\n",
    "                                         num_workers=num_workers)\n",
    "\n",
    "test_iter = torch.utils.data.DataLoader(test_set, \n",
    "                                        batch_size,\n",
    "                                        num_workers=num_workers)"
   ]
  },
  {
   "cell_type": "markdown",
   "id": "dcd82696-434f-4efb-b5aa-fca8a985eec7",
   "metadata": {},
   "source": [
    "## 微调BERT\n",
    "\n",
    "如 :numref:`fig_bert-two-seqs`所示，用于自然语言推断的微调BERT只需要一个额外的多层感知机，该多层感知机由两个全连接层组成（请参见下面`BERTClassifier`类中的`self.hidden`和`self.output`）。[**这个多层感知机将特殊的“&lt;cls&gt;”词元**]的BERT表示进行了转换，该词元同时编码前提和假设的信息(**为自然语言推断的三个输出**)：蕴涵、矛盾和中性。\n"
   ]
  },
  {
   "cell_type": "code",
   "execution_count": 8,
   "id": "65f2c9dc-9498-46cf-b239-4e339268e1a3",
   "metadata": {
    "tags": []
   },
   "outputs": [],
   "source": [
    "class BERTClassifier(nn.Module):\n",
    "    \n",
    "    def __init__(self, bert):\n",
    "        super(BERTClassifier, self).__init__()\n",
    "        self.encoder = bert.encoder\n",
    "        self.hidden = bert.hidden\n",
    "        self.output = nn.Linear(256, 3)\n",
    "\n",
    "    def forward(self, inputs):\n",
    "        tokens_X, segments_X, valid_lens_x = inputs\n",
    "        encoded_X = self.encoder(tokens_X, segments_X, valid_lens_x)\n",
    "        return self.output(self.hidden(encoded_X[:, 0, :]))"
   ]
  },
  {
   "cell_type": "markdown",
   "id": "8a5c34e3-18c5-4ce6-91ee-55a771157be9",
   "metadata": {},
   "source": [
    "在下文中，预训练的BERT模型`bert`被送到用于下游应用的`BERTClassifier`实例`net`中。在BERT微调的常见实现中，只有额外的多层感知机（`net.output`）的输出层的参数将从零开始学习。预训练BERT编码器（`net.encoder`）和额外的多层感知机的隐藏层（`net.hidden`）的所有参数都将进行微调。\n"
   ]
  },
  {
   "cell_type": "code",
   "execution_count": 9,
   "id": "a38eadc4-a4ec-4d7d-a31b-e2f1b8c8574a",
   "metadata": {
    "tags": []
   },
   "outputs": [],
   "source": [
    "net = BERTClassifier(bert)"
   ]
  },
  {
   "cell_type": "code",
   "execution_count": 10,
   "id": "b738140d-6dad-490d-bb02-1141b5649671",
   "metadata": {
    "tags": []
   },
   "outputs": [
    {
     "data": {
      "text/plain": [
       "BERTClassifier(\n",
       "  (encoder): BERTEncoder(\n",
       "    (token_embedding): Embedding(60005, 256)\n",
       "    (segment_embedding): Embedding(2, 256)\n",
       "    (blks): Sequential(\n",
       "      (0): EncoderBlock(\n",
       "        (attention): MultiHeadAttention(\n",
       "          (attention): DotProductAttention(\n",
       "            (dropout): Dropout(p=0.2, inplace=False)\n",
       "          )\n",
       "          (W_q): Linear(in_features=256, out_features=256, bias=True)\n",
       "          (W_k): Linear(in_features=256, out_features=256, bias=True)\n",
       "          (W_v): Linear(in_features=256, out_features=256, bias=True)\n",
       "          (W_o): Linear(in_features=256, out_features=256, bias=True)\n",
       "        )\n",
       "        (addnorm1): AddNorm(\n",
       "          (dropout): Dropout(p=0.2, inplace=False)\n",
       "          (ln): LayerNorm((256,), eps=1e-05, elementwise_affine=True)\n",
       "        )\n",
       "        (ffn): PositionWiseFFN(\n",
       "          (dense1): Linear(in_features=256, out_features=512, bias=True)\n",
       "          (relu): ReLU()\n",
       "          (dense2): Linear(in_features=512, out_features=256, bias=True)\n",
       "        )\n",
       "        (addnorm2): AddNorm(\n",
       "          (dropout): Dropout(p=0.2, inplace=False)\n",
       "          (ln): LayerNorm((256,), eps=1e-05, elementwise_affine=True)\n",
       "        )\n",
       "      )\n",
       "      (1): EncoderBlock(\n",
       "        (attention): MultiHeadAttention(\n",
       "          (attention): DotProductAttention(\n",
       "            (dropout): Dropout(p=0.2, inplace=False)\n",
       "          )\n",
       "          (W_q): Linear(in_features=256, out_features=256, bias=True)\n",
       "          (W_k): Linear(in_features=256, out_features=256, bias=True)\n",
       "          (W_v): Linear(in_features=256, out_features=256, bias=True)\n",
       "          (W_o): Linear(in_features=256, out_features=256, bias=True)\n",
       "        )\n",
       "        (addnorm1): AddNorm(\n",
       "          (dropout): Dropout(p=0.2, inplace=False)\n",
       "          (ln): LayerNorm((256,), eps=1e-05, elementwise_affine=True)\n",
       "        )\n",
       "        (ffn): PositionWiseFFN(\n",
       "          (dense1): Linear(in_features=256, out_features=512, bias=True)\n",
       "          (relu): ReLU()\n",
       "          (dense2): Linear(in_features=512, out_features=256, bias=True)\n",
       "        )\n",
       "        (addnorm2): AddNorm(\n",
       "          (dropout): Dropout(p=0.2, inplace=False)\n",
       "          (ln): LayerNorm((256,), eps=1e-05, elementwise_affine=True)\n",
       "        )\n",
       "      )\n",
       "    )\n",
       "  )\n",
       "  (hidden): Sequential(\n",
       "    (0): Linear(in_features=256, out_features=256, bias=True)\n",
       "    (1): Tanh()\n",
       "  )\n",
       "  (output): Linear(in_features=256, out_features=3, bias=True)\n",
       ")"
      ]
     },
     "execution_count": 10,
     "metadata": {},
     "output_type": "execute_result"
    }
   ],
   "source": [
    "net"
   ]
  },
  {
   "cell_type": "markdown",
   "id": "17b12488-0070-45a1-9f21-afd9855882ab",
   "metadata": {},
   "source": [
    "回想一下，在 :numref:`sec_bert`中，`MaskLM`类和`NextSentencePred`类在其使用的多层感知机中都有一些参数。这些参数是预训练BERT模型`bert`中参数的一部分，因此是`net`中的参数的一部分。然而，这些参数仅用于计算预训练过程中的遮蔽语言模型损失和下一句预测损失。这两个损失函数与微调下游应用无关，因此当BERT微调时，`MaskLM`和`NextSentencePred`中采用的多层感知机的参数不会更新（陈旧的，staled）。\n",
    "\n",
    "为了允许具有陈旧梯度的参数，标志`ignore_stale_grad=True`在`step`函数`d2l.train_batch_ch13`中被设置。我们通过该函数使用SNLI的训练集（`train_iter`）和测试集（`test_iter`）对`net`模型进行训练和评估。由于计算资源有限，[**训练**]和测试精度可以进一步提高：我们把对它的讨论留在练习中。\n"
   ]
  },
  {
   "cell_type": "code",
   "execution_count": 11,
   "id": "bb20bcf9-e29c-4da5-8434-cf900d4ace4b",
   "metadata": {
    "tags": []
   },
   "outputs": [],
   "source": [
    "lr = 1e-4\n",
    "num_epochs = 5\n",
    "\n",
    "\n",
    "trainer = torch.optim.Adam(net.parameters(), lr=lr)\n",
    "loss = nn.CrossEntropyLoss(reduction='none')"
   ]
  },
  {
   "cell_type": "code",
   "execution_count": null,
   "id": "2624a59b-d666-4b04-9287-5cfb06baaa28",
   "metadata": {
    "tags": []
   },
   "outputs": [],
   "source": [
    "\n",
    "# 微调\n",
    "d2l.train_ch13(net, \n",
    "               train_iter, \n",
    "               test_iter, \n",
    "               loss, \n",
    "               trainer, \n",
    "               num_epochs,\n",
    "               devices)"
   ]
  },
  {
   "cell_type": "markdown",
   "id": "d2522749-d639-42da-ad54-8d313abe3b2b",
   "metadata": {},
   "source": [
    "## 小结\n",
    "\n",
    "* 我们可以针对下游应用对预训练的BERT模型进行微调，例如在SNLI数据集上进行自然语言推断。\n",
    "* 在微调过程中，BERT模型成为下游应用模型的一部分。仅与训练前损失相关的参数在微调期间不会更新。"
   ]
  },
  {
   "cell_type": "code",
   "execution_count": null,
   "id": "ef80c487-62a9-4f56-84f9-99acb123eb21",
   "metadata": {},
   "outputs": [],
   "source": []
  }
 ],
 "metadata": {
  "kernelspec": {
   "display_name": "Python 3 (ipykernel)",
   "language": "python",
   "name": "python3"
  },
  "language_info": {
   "codemirror_mode": {
    "name": "ipython",
    "version": 3
   },
   "file_extension": ".py",
   "mimetype": "text/x-python",
   "name": "python",
   "nbconvert_exporter": "python",
   "pygments_lexer": "ipython3",
   "version": "3.8.10"
  }
 },
 "nbformat": 4,
 "nbformat_minor": 5
}
