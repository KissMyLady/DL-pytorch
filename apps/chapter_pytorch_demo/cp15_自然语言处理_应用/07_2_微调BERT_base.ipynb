{
 "cells": [
  {
   "cell_type": "code",
   "execution_count": 6,
   "id": "e07cca60-8e36-4b8c-b790-e6c90100a7fa",
   "metadata": {
    "tags": []
   },
   "outputs": [],
   "source": [
    "import torch\n",
    "from torch import nn\n",
    "import sys\n",
    "import json\n",
    "import os\n",
    "import multiprocessing\n",
    "\n",
    "\n",
    "sys.path.append(\".\")\n",
    "sys.path.append(\"..\")\n",
    "sys.path.append(\"../..\")\n",
    "\n",
    "from d2lzh_pytorch.BERT_unit_v3.use_BERT import load_pretrained_model, \\\n",
    "SNLIBERTDataset, BERTClassifier, load_data\n",
    "\n",
    "\n",
    "from d2lzh_pytorch.myUtils import try_all_gpus"
   ]
  },
  {
   "cell_type": "code",
   "execution_count": 12,
   "id": "99a6e357-026f-4446-871f-a520a9ee0906",
   "metadata": {
    "tags": []
   },
   "outputs": [],
   "source": [
    "# 导入模型\n",
    "from d2lzh_pytorch.BERT_unit.BERT_model import BERTModel\n",
    "\n",
    "\n",
    "vocab_len = 60005\n",
    "\n",
    "num_hiddens = 256\n",
    "\n",
    "ffn_num_hiddens = 512\n",
    "\n",
    "num_heads = 4\n",
    "num_layers = 2\n",
    "dropout = 0.1\n",
    "max_len = 512"
   ]
  },
  {
   "cell_type": "code",
   "execution_count": 68,
   "id": "1a9262c7-88b5-4c2d-b795-4839a84d1514",
   "metadata": {
    "tags": []
   },
   "outputs": [],
   "source": [
    "\n",
    "# bert模型\n",
    "bert = BERTModel(vocab_size=60005,\n",
    "                 num_hiddens=768,\n",
    "                 norm_shape=[768],\n",
    "                 \n",
    "                 ffn_num_input=768,\n",
    "                 ffn_num_hiddens=3072,\n",
    "                 \n",
    "                 num_heads=4,\n",
    "                 num_layers=2,\n",
    "                 dropout=0.2,\n",
    "                 max_len=512,\n",
    "                 \n",
    "                 key_size=768,\n",
    "                 query_size=768,\n",
    "                 value_size=768,\n",
    "                 \n",
    "                 hid_in_features=768,\n",
    "                 mlm_in_features=768,\n",
    "                 nsp_in_features=768\n",
    "                )"
   ]
  },
  {
   "cell_type": "markdown",
   "id": "2bb08c3d-bc3c-4e25-9812-7d48cdd07902",
   "metadata": {},
   "source": [
    "## 加载 bert.base 模型参数"
   ]
  },
  {
   "cell_type": "code",
   "execution_count": 69,
   "id": "d7961cc9-4192-46e3-b39b-7133879a09f3",
   "metadata": {
    "tags": []
   },
   "outputs": [],
   "source": [
    "# 路径配置\n",
    "base_path = r\"/home/mylady/code/python/DL-pytorch/apps/chapter_pytorch_demo/data\"\n",
    "target_path = r\"bert.base.torch/pretrained.params\"\n",
    "\n",
    "data_dir = os.path.join(base_path, target_path)"
   ]
  },
  {
   "cell_type": "code",
   "execution_count": 52,
   "id": "f4db874e-2e4e-4d64-b353-2fc273c55f61",
   "metadata": {
    "tags": []
   },
   "outputs": [],
   "source": [
    "a = torch.load(data_dir)\n"
   ]
  },
  {
   "cell_type": "code",
   "execution_count": null,
   "id": "ef350603-91ec-4e45-b51e-fd7ec49d7cf0",
   "metadata": {
    "tags": []
   },
   "outputs": [],
   "source": [
    "\n",
    "\n",
    "# 加载\n",
    "bert.load_state_dict(torch.load(data_dir))"
   ]
  },
  {
   "cell_type": "code",
   "execution_count": 24,
   "id": "7dc9c8bb-6bd5-490a-b2d1-5b75b29f3528",
   "metadata": {
    "tags": []
   },
   "outputs": [
    {
     "name": "stdout",
     "output_type": "stream",
     "text": [
      "read 549367 examples\n",
      "read 9824 examples\n"
     ]
    }
   ],
   "source": [
    "\n",
    "# 加载数据\n",
    "train_iter, test_iter = load_data(vocab)"
   ]
  },
  {
   "cell_type": "code",
   "execution_count": 25,
   "id": "d2fe10e6-55d1-48de-aebc-5c63ab94a213",
   "metadata": {
    "tags": []
   },
   "outputs": [
    {
     "data": {
      "text/plain": [
       "(1073, 20)"
      ]
     },
     "execution_count": 25,
     "metadata": {},
     "output_type": "execute_result"
    }
   ],
   "source": [
    "len(train_iter), len(test_iter)"
   ]
  },
  {
   "cell_type": "markdown",
   "id": "c56b485c-e04e-4879-b4c2-07ef3be2f810",
   "metadata": {},
   "source": [
    "打印 train_iter 数据看看"
   ]
  },
  {
   "cell_type": "code",
   "execution_count": 31,
   "id": "2a1b9c7b-f374-47c9-a887-5b0090e46f52",
   "metadata": {
    "tags": []
   },
   "outputs": [
    {
     "name": "stdout",
     "output_type": "stream",
     "text": [
      "torch.Size([512, 128])\n",
      "torch.Size([512, 128])\n",
      "torch.Size([512])\n",
      "count:  1\n",
      "\n",
      "torch.Size([512, 128])\n",
      "torch.Size([512, 128])\n",
      "torch.Size([512])\n",
      "count:  2\n",
      "\n",
      "torch.Size([512, 128])\n",
      "torch.Size([512, 128])\n",
      "torch.Size([512])\n",
      "end:  3\n"
     ]
    }
   ],
   "source": [
    "\n",
    "# 打印一下数据\n",
    "count = 0\n",
    "for X, Y in train_iter:\n",
    "    \n",
    "    print(X[0].shape)  # [512, 128]\n",
    "    print(X[1].shape)  # [512, 128]\n",
    "    print(Y.shape)     # [512]\n",
    "    \n",
    "    count += 1\n",
    "    \n",
    "    if count >= 3:\n",
    "        print('end: ', count)\n",
    "        break\n",
    "    print('count: ', count)\n",
    "    print(\"\")"
   ]
  },
  {
   "cell_type": "code",
   "execution_count": 33,
   "id": "be650195-d891-44e0-8645-8ac138ad4e88",
   "metadata": {
    "tags": []
   },
   "outputs": [],
   "source": [
    "# 模型及参数\n",
    "net = BERTClassifier(bert)\n",
    "lr = 1e-4\n",
    "num_epochs = 5\n",
    "\n",
    "\n",
    "trainer = torch.optim.Adam(net.parameters(), lr=lr)\n",
    "loss = nn.CrossEntropyLoss(reduction='none')"
   ]
  },
  {
   "cell_type": "code",
   "execution_count": null,
   "id": "54c2377c-6ae6-4fc2-b263-6feed5a05066",
   "metadata": {
    "tags": []
   },
   "outputs": [],
   "source": [
    "# 如果出现显存不足错误，请减少“batch_size”。在原始的BERT模型中，max_len=512\n",
    "batch_size = 512\n",
    "max_len = 128\n",
    "num_workers = 4\n",
    "\n",
    "\n",
    "# 开始微调\n",
    "train_ch13(net,\n",
    "           train_iter, \n",
    "           test_iter,\n",
    "           loss, \n",
    "           trainer,\n",
    "           num_epochs,\n",
    "           devices)"
   ]
  },
  {
   "cell_type": "code",
   "execution_count": null,
   "id": "06f59399-3d5c-479b-83f1-dc6de30aa30b",
   "metadata": {},
   "outputs": [],
   "source": []
  }
 ],
 "metadata": {
  "kernelspec": {
   "display_name": "Python 3 (ipykernel)",
   "language": "python",
   "name": "python3"
  },
  "language_info": {
   "codemirror_mode": {
    "name": "ipython",
    "version": 3
   },
   "file_extension": ".py",
   "mimetype": "text/x-python",
   "name": "python",
   "nbconvert_exporter": "python",
   "pygments_lexer": "ipython3",
   "version": "3.8.10"
  }
 },
 "nbformat": 4,
 "nbformat_minor": 5
}
