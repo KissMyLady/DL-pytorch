{
 "cells": [
  {
   "cell_type": "code",
   "execution_count": 1,
   "id": "3c06bda7-cea4-4a3f-b4b0-1008c57351e4",
   "metadata": {
    "tags": []
   },
   "outputs": [],
   "source": [
    "import time\n",
    "import torch\n",
    "from torch import nn, optim\n",
    "from torch.utils.data import Dataset, DataLoader\n",
    "import torchvision\n",
    "from PIL import Image\n",
    "\n",
    "import sys\n",
    "\n",
    "sys.path.append(\"../..\")\n",
    "import d2lzh_pytorch as d2l\n",
    "# from apps.chapter import d2lzh_pytorch as d2l\n",
    "\n",
    "device = torch.device('cuda' if torch.cuda.is_available() else 'cpu')"
   ]
  },
  {
   "cell_type": "code",
   "execution_count": 2,
   "id": "c7c8405f-44b9-4280-bdf7-327550f12566",
   "metadata": {
    "tags": []
   },
   "outputs": [],
   "source": [
    "def load_cifar10(is_train, augs, batch_size, root=\"~/Datasets/CIFAR\"):\n",
    "    dataset = torchvision.datasets.CIFAR10(root=root,\n",
    "                                           train=is_train,\n",
    "                                           transform=augs,\n",
    "                                           download=True\n",
    "                                           )\n",
    "    num_workers = 0 if sys.platform.startswith('win32') else 4\n",
    "    return DataLoader(dataset, batch_size=batch_size, shuffle=is_train, num_workers=num_workers)"
   ]
  },
  {
   "cell_type": "code",
   "execution_count": 3,
   "id": "013298e2-5b24-434f-9361-91555f6ef419",
   "metadata": {
    "tags": []
   },
   "outputs": [],
   "source": [
    "def train_with_data_aug(train_augs, test_augs, lr=0.001):\n",
    "    batch_size, net = 256, d2l.resnet18(10)\n",
    "    num_epochs = 5\n",
    "    \n",
    "    optimizer = torch.optim.Adam(net.parameters(), lr=lr)\n",
    "    loss = torch.nn.CrossEntropyLoss()\n",
    "\n",
    "    train_iter = load_cifar10(True, train_augs, batch_size)\n",
    "    test_iter = load_cifar10(False, test_augs, batch_size)\n",
    "\n",
    "    # 训练\n",
    "    d2l.train(train_iter, test_iter,\n",
    "              net,\n",
    "              loss,\n",
    "              optimizer,\n",
    "              device,\n",
    "              num_epochs=num_epochs\n",
    "             )"
   ]
  },
  {
   "cell_type": "code",
   "execution_count": 4,
   "id": "5875c0f8-774f-43f4-9e5e-0c88b1231f10",
   "metadata": {
    "tags": []
   },
   "outputs": [],
   "source": [
    "def run():\n",
    "    flip_aug = torchvision.transforms.Compose([\n",
    "        torchvision.transforms.RandomHorizontalFlip(),\n",
    "        torchvision.transforms.ToTensor()\n",
    "    ])\n",
    "    no_aug = torchvision.transforms.Compose([\n",
    "        torchvision.transforms.ToTensor()\n",
    "    ])\n",
    "\n",
    "    # 训练\n",
    "    train_with_data_aug(flip_aug,\n",
    "                        no_aug)\n",
    "    pass"
   ]
  },
  {
   "cell_type": "code",
   "execution_count": 5,
   "id": "ab93abff-d940-4625-9d60-a565ae4021c0",
   "metadata": {
    "tags": []
   },
   "outputs": [
    {
     "name": "stdout",
     "output_type": "stream",
     "text": [
      "Files already downloaded and verified\n",
      "Files already downloaded and verified\n",
      "training on  cuda\n",
      "epoch 1, loss 1.3863, train acc 0.497, test acc 0.424, time 4.3 sec\n",
      "epoch 2, loss 0.5001, train acc 0.647, test acc 0.566, time 3.5 sec\n",
      "epoch 3, loss 0.2817, train acc 0.702, test acc 0.655, time 3.5 sec\n",
      "epoch 4, loss 0.1865, train acc 0.737, test acc 0.666, time 3.5 sec\n",
      "epoch 5, loss 0.1334, train acc 0.768, test acc 0.703, time 3.5 sec\n"
     ]
    }
   ],
   "source": [
    "run()"
   ]
  },
  {
   "cell_type": "code",
   "execution_count": null,
   "id": "df125178-69cd-4fc8-8aa6-ec2864579d6f",
   "metadata": {},
   "outputs": [],
   "source": []
  }
 ],
 "metadata": {
  "kernelspec": {
   "display_name": "Python 3 (ipykernel)",
   "language": "python",
   "name": "python3"
  },
  "language_info": {
   "codemirror_mode": {
    "name": "ipython",
    "version": 3
   },
   "file_extension": ".py",
   "mimetype": "text/x-python",
   "name": "python",
   "nbconvert_exporter": "python",
   "pygments_lexer": "ipython3",
   "version": "3.8.10"
  }
 },
 "nbformat": 4,
 "nbformat_minor": 5
}
