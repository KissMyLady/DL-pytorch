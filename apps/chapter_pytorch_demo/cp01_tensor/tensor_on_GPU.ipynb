{
 "cells": [
  {
   "cell_type": "code",
   "execution_count": 1,
   "id": "632f0f89-0549-4f5e-9fdd-feb706f259cb",
   "metadata": {
    "tags": []
   },
   "outputs": [],
   "source": [
    "import torch\n",
    "\n",
    "\n",
    "x = torch.tensor([1, 2])\n",
    "y = torch.tensor([2, 3])\n",
    "\n",
    "\n",
    "if torch.cuda.is_available():\n",
    "    print(\"只有在PyTorch GPU版本上才会执行 >> \")\n",
    "    \n",
    "    device = torch.device(\"cuda\")          # GPU\n",
    "    y = torch.ones_like(x, device=device)  # 直接创建一个在GPU上的Tensor\n",
    "    x = x.to(device)                       # 等价于 .to(\"cuda\")\n",
    "    print(\"x: \", x)\n",
    "    z = x + y\n",
    "\n",
    "    print(z)\n",
    "    print(z.to(\"cpu\", torch.double))       # to()还可以同时更改数据类型"
   ]
  },
  {
   "cell_type": "code",
   "execution_count": 5,
   "id": "fed65e60-465f-40ec-86e7-373d9f3beaa5",
   "metadata": {
    "tags": []
   },
   "outputs": [
    {
     "name": "stdout",
     "output_type": "stream",
     "text": [
      "1.13.1+cu117\n"
     ]
    }
   ],
   "source": [
    "print(torch.__version__)"
   ]
  },
  {
   "cell_type": "code",
   "execution_count": 2,
   "id": "d59e5658-6dbd-4f76-8dd1-9d4328d20adb",
   "metadata": {
    "tags": []
   },
   "outputs": [
    {
     "name": "stdout",
     "output_type": "stream",
     "text": [
      "warn: 当前服务器GPU不可用\n"
     ]
    }
   ],
   "source": [
    "\n",
    "if torch.cuda.is_available():\n",
    "    \n",
    "    print(\"GPU是否可用: \\t\", torch.cuda.is_available())\n",
    "    \n",
    "    print(\"GPU数量: \\t\",    torch.cuda.device_count())\n",
    "    \n",
    "    print(\"GPU索引号: \\t\",   torch.cuda.current_device())\n",
    "    \n",
    "    print(\"GPU名称: \\t\",     torch.cuda.get_device_name())\n",
    "    \n",
    "else:\n",
    "    print(\"warn: 当前服务器GPU不可用\")"
   ]
  },
  {
   "cell_type": "code",
   "execution_count": null,
   "id": "2592bddc-745a-4e8c-badf-00ecfb6a48fe",
   "metadata": {},
   "outputs": [],
   "source": []
  }
 ],
 "metadata": {
  "kernelspec": {
   "display_name": "Python 3 (ipykernel)",
   "language": "python",
   "name": "python3"
  },
  "language_info": {
   "codemirror_mode": {
    "name": "ipython",
    "version": 3
   },
   "file_extension": ".py",
   "mimetype": "text/x-python",
   "name": "python",
   "nbconvert_exporter": "python",
   "pygments_lexer": "ipython3",
   "version": "3.10.13"
  }
 },
 "nbformat": 4,
 "nbformat_minor": 5
}
