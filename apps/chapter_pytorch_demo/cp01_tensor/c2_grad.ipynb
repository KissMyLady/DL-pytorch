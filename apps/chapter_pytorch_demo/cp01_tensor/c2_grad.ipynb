{
 "cells": [
  {
   "cell_type": "code",
   "execution_count": 1,
   "id": "0720f4b3-f886-4817-852d-136abfab7820",
   "metadata": {
    "tags": []
   },
   "outputs": [
    {
     "name": "stdout",
     "output_type": "stream",
     "text": [
      "2.3.0\n"
     ]
    }
   ],
   "source": [
    "import torch\n",
    "\n",
    "print(torch.__version__)"
   ]
  },
  {
   "cell_type": "code",
   "execution_count": 4,
   "id": "e1301f27-db10-4f9e-af83-6ae6bcdaecfd",
   "metadata": {
    "tags": []
   },
   "outputs": [],
   "source": []
  },
  {
   "cell_type": "code",
   "execution_count": 2,
   "id": "c497d01a-43e5-4545-9b07-760d770e74ee",
   "metadata": {
    "tags": []
   },
   "outputs": [],
   "source": [
    "x = torch.ones(2, 2, requires_grad=True)\n",
    "\n",
    "y = x + 2\n",
    "\n",
    "z = y * y * 3\n",
    "\n",
    "out = z.mean()"
   ]
  },
  {
   "cell_type": "code",
   "execution_count": 3,
   "id": "4e03b435-4119-4b8b-b46b-282ffc5cdb6d",
   "metadata": {
    "tags": []
   },
   "outputs": [],
   "source": [
    "out.backward()"
   ]
  },
  {
   "cell_type": "code",
   "execution_count": 4,
   "id": "50441a6a-080e-4984-9fe1-8b0c720065f1",
   "metadata": {
    "tags": []
   },
   "outputs": [
    {
     "name": "stdout",
     "output_type": "stream",
     "text": [
      "tensor([[4.5000, 4.5000],\n",
      "        [4.5000, 4.5000]])\n"
     ]
    }
   ],
   "source": [
    "print(x.grad)"
   ]
  },
  {
   "cell_type": "markdown",
   "id": "318dcd37-70ce-46ad-9e9e-ebbc24072595",
   "metadata": {},
   "source": [
    "## 函数演示自动梯度计算"
   ]
  },
  {
   "cell_type": "code",
   "execution_count": 5,
   "id": "f62b881c-6a1d-4a46-95d0-57db2652c878",
   "metadata": {},
   "outputs": [],
   "source": [
    "def fun_add(x):\n",
    "    y = x + 2\n",
    "    z = (y **2 ) * 3\n",
    "    return z.mean()"
   ]
  },
  {
   "cell_type": "code",
   "execution_count": 6,
   "id": "0d32e012-dff3-424b-a724-6511509f3b64",
   "metadata": {},
   "outputs": [
    {
     "name": "stdout",
     "output_type": "stream",
     "text": [
      "输出计算后out2的值:  tensor(27., grad_fn=<MeanBackward0>)\n"
     ]
    }
   ],
   "source": [
    "x = torch.ones(2, 2, requires_grad=True)\n",
    "\n",
    "out2 = fun_add(x)\n",
    "\n",
    "print(\"输出计算后out2的值: \", out2)"
   ]
  },
  {
   "cell_type": "code",
   "execution_count": 7,
   "id": "587f435a-3208-482a-941b-59f39c421533",
   "metadata": {
    "tags": []
   },
   "outputs": [
    {
     "name": "stdout",
     "output_type": "stream",
     "text": [
      "tensor([[4.5000, 4.5000],\n",
      "        [4.5000, 4.5000]])\n"
     ]
    }
   ],
   "source": [
    "out2.backward()\n",
    "\n",
    "print(x.grad)"
   ]
  },
  {
   "cell_type": "code",
   "execution_count": null,
   "id": "d9865794-e237-4861-8918-711fec3a57ea",
   "metadata": {},
   "outputs": [],
   "source": []
  }
 ],
 "metadata": {
  "kernelspec": {
   "display_name": "Python 3 (ipykernel)",
   "language": "python",
   "name": "python3"
  },
  "language_info": {
   "codemirror_mode": {
    "name": "ipython",
    "version": 3
   },
   "file_extension": ".py",
   "mimetype": "text/x-python",
   "name": "python",
   "nbconvert_exporter": "python",
   "pygments_lexer": "ipython3",
   "version": "3.10.14"
  }
 },
 "nbformat": 4,
 "nbformat_minor": 5
}
