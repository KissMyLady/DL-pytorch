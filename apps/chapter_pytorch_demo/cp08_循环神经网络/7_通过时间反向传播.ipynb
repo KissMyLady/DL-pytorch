{
 "cells": [
  {
   "cell_type": "markdown",
   "id": "314712c3-bbba-4aff-8e8e-937ce11acee5",
   "metadata": {
    "jp-MarkdownHeadingCollapsed": true,
    "tags": []
   },
   "source": [
    "# 通过时间反向传播"
   ]
  },
  {
   "cell_type": "code",
   "execution_count": null,
   "id": "7a5f32e4-b691-4caa-8357-4ea6c43e7ef4",
   "metadata": {},
   "outputs": [],
   "source": []
  }
 ],
 "metadata": {
  "kernelspec": {
   "display_name": "Python 3 (ipykernel)",
   "language": "python",
   "name": "python3"
  },
  "language_info": {
   "codemirror_mode": {
    "name": "ipython",
    "version": 3
   },
   "file_extension": ".py",
   "mimetype": "text/x-python",
   "name": "python",
   "nbconvert_exporter": "python",
   "pygments_lexer": "ipython3",
   "version": "3.8.10"
  }
 },
 "nbformat": 4,
 "nbformat_minor": 5
}
