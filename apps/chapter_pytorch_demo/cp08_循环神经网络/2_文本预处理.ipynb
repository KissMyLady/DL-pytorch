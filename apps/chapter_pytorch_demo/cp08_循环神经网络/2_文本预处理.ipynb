{
 "cells": [
  {
   "cell_type": "markdown",
   "id": "82df43a8-d250-4a3c-8e77-2efe41073ff4",
   "metadata": {
    "tags": []
   },
   "source": [
    "# 文本预处理\n",
    "sec_text_preprocessing\n",
    "\n",
    "对于序列数据处理问题，我们在 sec_sequence中\n",
    "评估了所需的统计工具和预测时面临的挑战。\n",
    "这样的数据存在许多种形式，文本是最常见例子之一。\n",
    "例如，一篇文章可以被简单地看作一串单词序列，甚至是一串字符序列。\n",
    "本节中，我们将解析文本的常见预处理步骤。\n",
    "这些步骤通常包括：\n",
    "\n",
    "1. 将文本作为字符串加载到内存中。\n",
    "1. 将字符串拆分为词元（如单词和字符）。\n",
    "1. 建立一个词表，将拆分的词元映射到数字索引。\n",
    "1. 将文本转换为数字索引序列，方便模型操作。\n"
   ]
  },
  {
   "cell_type": "code",
   "execution_count": 29,
   "id": "b33ba5e3-458d-42b2-8756-f7d0da72b4a0",
   "metadata": {
    "tags": []
   },
   "outputs": [],
   "source": [
    "import collections\n",
    "import re\n",
    "import jieba\n",
    "from d2l import torch as d2l"
   ]
  },
  {
   "cell_type": "markdown",
   "id": "f25f0c73-bd4d-4596-9410-7b80ebed3e55",
   "metadata": {
    "tags": []
   },
   "source": [
    "## 读取数据集\n",
    "\n",
    "首先，我们从H.G.Well的[时光机器](https://www.gutenberg.org/ebooks/35)中加载文本。\n",
    "这是一个相当小的语料库，只有30000多个单词，但足够我们小试牛刀，\n",
    "而现实中的文档集合可能会包含数十亿个单词。\n",
    "下面的函数(**将数据集读取到由多条文本行组成的列表中**)，其中每条文本行都是一个字符串。\n",
    "为简单起见，我们在这里忽略了标点符号和字母大写。\n"
   ]
  },
  {
   "cell_type": "code",
   "execution_count": null,
   "id": "91f7783f-a586-456e-95bc-6f35da441fe1",
   "metadata": {
    "tags": []
   },
   "outputs": [],
   "source": [
    "def load_ai_data():\n",
    "    d2l.DATA_HUB['time_machine'] = (d2l.DATA_URL + 'timemachine.txt',\n",
    "                                    '090b5e7e70c295757f55df93cb0a180b9691891a')\n",
    "\n",
    "    pass"
   ]
  },
  {
   "cell_type": "code",
   "execution_count": null,
   "id": "14342f4e-0bd3-4c1e-bae7-1b293e258201",
   "metadata": {
    "tags": []
   },
   "outputs": [],
   "source": [
    "# 加载训练数据 英文小说\n",
    "load_ai_data()"
   ]
  },
  {
   "cell_type": "code",
   "execution_count": null,
   "id": "c08f193f-1ed6-432f-acbc-87df5c8a8e22",
   "metadata": {
    "tags": []
   },
   "outputs": [],
   "source": [
    "with open(\"/mnt/325E98425E980131/ai_data/NLP_data/贾平凹-山本.txt\", \n",
    "          'r', encoding='utf8') as f:\n",
    "    lines = f.readlines()\n",
    "    pass\n",
    "\n",
    "\n",
    "# 加载停用词表\n",
    "stopwords_file = '/mnt/325E98425E980131/ai_data/NLP_data/stopwords.txt'\n",
    "with open(stopwords_file, \"r\") as words:\n",
    "    stopwords = [i.strip() for i in words]\n",
    "    pass\n",
    "\n",
    "stopwords.extend(['n', '.','（','）','-','——','(',')',' ','，'])\n",
    "textList = jieba.lcut(str(lines))# .split()\n",
    "\n",
    "q_cut_list = [i for i in textList if i not in stopwords] # 去除停用词\n",
    "q_cut_list"
   ]
  },
  {
   "cell_type": "code",
   "execution_count": 129,
   "id": "780f63c4-6677-4618-a7a3-f14e689fbe2f",
   "metadata": {
    "tags": []
   },
   "outputs": [],
   "source": [
    "\n",
    "# 加载英文小说\n",
    "def read_time_machine(): \n",
    "    \"\"\"\n",
    "    将时间机器数据集加载到文本行的列表中\n",
    "    \"\"\"\n",
    "    with open(d2l.download('time_machine'), 'r') as f:\n",
    "        lines = f.readlines()\n",
    "        pass\n",
    "    return [re.sub('[^A-Za-z]+', ' ', line).strip().lower() for line in lines]\n",
    "\n",
    "\n",
    "# 加载汉字小说\n",
    "def read_time_machine_v2(): \n",
    "    \"\"\"\n",
    "    将时间机器数据集加载到文本行的列表中\n",
    "    \"\"\"\n",
    "    with open(\"/mnt/325E98425E980131/ai_data/NLP_data/贾平凹-山本.txt\", \n",
    "              'r', encoding='utf8') as f:\n",
    "        lines = f.readlines()\n",
    "        pass\n",
    "    \n",
    "    # 加载停用词表\n",
    "    stopwords_file = '/mnt/325E98425E980131/ai_data/NLP_data/stopwords.txt'\n",
    "    with open(stopwords_file, \"r\") as words:\n",
    "        stopwords = [i.strip() for i in words]\n",
    "        pass\n",
    "    \n",
    "    stopwords.extend(['n', '.','（','）','-','——','(',')',' ','，'])\n",
    "    textList = jieba.lcut(str(lines))\n",
    "    # q_cut_str = \" \".join(textList)\n",
    "    \n",
    "    q_cut_list = [i for i in textList if i not in stopwords] # 去除停用词\n",
    "    return q_cut_list"
   ]
  },
  {
   "cell_type": "code",
   "execution_count": 130,
   "id": "b46f6fdf-1d82-4d74-9de8-0b9822220a3b",
   "metadata": {
    "tags": []
   },
   "outputs": [
    {
     "name": "stdout",
     "output_type": "stream",
     "text": [
      "# 文本总行数: 134938\n",
      "文前\n",
      "著\n"
     ]
    }
   ],
   "source": [
    "# lines = read_time_machine()\n",
    "lines = read_time_machine_v2()\n",
    "\n",
    "print(f'# 文本总行数: {len(lines)}')\n",
    "print(lines[0])\n",
    "print(lines[10])"
   ]
  },
  {
   "cell_type": "markdown",
   "id": "2f3769a8-015f-4790-ad9d-347a76947a8d",
   "metadata": {},
   "source": [
    "## 词元化\n",
    "\n",
    "下面的`tokenize`函数将文本行列表（`lines`）作为输入，\n",
    "列表中的每个元素是一个文本序列（如一条文本行）。\n",
    "[**每个文本序列又被拆分成一个词元列表**]，*词元*（token）是文本的基本单位。\n",
    "最后，返回一个由词元列表组成的列表，其中的每个词元都是一个字符串（string）。\n"
   ]
  },
  {
   "cell_type": "code",
   "execution_count": 131,
   "id": "0de8be27-6252-41ac-b6ec-df451d4f9459",
   "metadata": {
    "tags": []
   },
   "outputs": [],
   "source": [
    "def tokenize(lines, token='word'):  #@save\n",
    "    \"\"\"\n",
    "    将文本行拆分为单词或字符词元\n",
    "    \"\"\"\n",
    "    if token == 'word':\n",
    "        return [line for line in lines]\n",
    "\n",
    "    elif token == 'char':\n",
    "        return [list(line) for line in lines]\n",
    "    \n",
    "    else:\n",
    "        print('错误：未知词元类型：' + token)"
   ]
  },
  {
   "cell_type": "code",
   "execution_count": 132,
   "id": "2892b85f-368f-4d5e-94f1-cee78c5e5823",
   "metadata": {
    "tags": []
   },
   "outputs": [
    {
     "name": "stdout",
     "output_type": "stream",
     "text": [
      "['文', '前']\n",
      "['辅', '文']\n",
      "['作', '者', '简', '介']\n",
      "['图', '书']\n",
      "['版']\n",
      "['编', '目']\n",
      "['C', 'I', 'P']\n",
      "['数', '据']\n",
      "['山', '本']\n",
      "['贾', '平', '凹']\n",
      "['著']\n",
      "['北', '京']\n",
      "['人', '民', '文', '学', '出', '版', '社']\n",
      "['2', '0', '1', '8']\n",
      "['I', 'S', 'B', 'N']\n",
      "['9', '7', '8']\n",
      "['0', '1', '3', '9', '7', '8']\n",
      "['Ⅰ']\n",
      "['山']\n",
      "['Ⅱ']\n",
      "['贾']\n",
      "['长', '篇', '小', '说']\n",
      "['中', '国']\n",
      "['当', '代']\n",
      "['Ⅳ']\n",
      "['I', '2', '4', '7', '.', '5']\n",
      "['中', '国']\n",
      "['版', '本']\n",
      "['图', '书', '馆']\n",
      "['C', 'I', 'P']\n"
     ]
    }
   ],
   "source": [
    "tokens = tokenize(lines, token='char')\n",
    "\n",
    "for i in range(30):\n",
    "    print(tokens[i])\n",
    "    pass"
   ]
  },
  {
   "cell_type": "markdown",
   "id": "5e464590-7572-46f7-ab64-7793fff720d0",
   "metadata": {},
   "source": [
    "## 词表\n",
    "\n",
    "词元的类型是字符串，而模型需要的输入是数字，因此这种类型不方便模型使用。\n",
    "现在，让我们[**构建一个字典，通常也叫做*词表*（vocabulary），\n",
    "用来将字符串类型的词元映射到从$0$开始的数字索引中**]。\n",
    "我们先将训练集中的所有文档合并在一起，对它们的唯一词元进行统计，\n",
    "得到的统计结果称之为*语料*（corpus）。\n",
    "然后根据每个唯一词元的出现频率，为其分配一个数字索引。\n",
    "很少出现的词元通常被移除，这可以降低复杂性。\n",
    "另外，语料库中不存在或已删除的任何词元都将映射到一个特定的未知词元“&lt;unk&gt;”。\n",
    "我们可以选择增加一个列表，用于保存那些被保留的词元，\n",
    "例如：填充词元（“&lt;pad&gt;”）；\n",
    "序列开始词元（“&lt;bos&gt;”）；\n",
    "序列结束词元（“&lt;eos&gt;”）。\n"
   ]
  },
  {
   "cell_type": "code",
   "execution_count": 133,
   "id": "0db4539c-d544-4fba-b17d-12fd00e580f4",
   "metadata": {
    "tags": []
   },
   "outputs": [],
   "source": [
    "class Vocab:\n",
    "    \"\"\"\n",
    "    文本词表\n",
    "    \"\"\"\n",
    "    \n",
    "    def __init__(self, tokens=None, min_freq=0, reserved_tokens=None):\n",
    "        if tokens is None:\n",
    "            tokens = []\n",
    "            \n",
    "        if reserved_tokens is None:\n",
    "            reserved_tokens = []\n",
    "            \n",
    "        # 按出现频率排序\n",
    "        counter = count_corpus(tokens)\n",
    "        self._token_freqs = sorted(counter.items(), \n",
    "                                   key=lambda x: x[1],\n",
    "                                   reverse=True\n",
    "                                  )\n",
    "        # 未知词元的索引为0\n",
    "        self.idx_to_token = ['<unk>'] + reserved_tokens\n",
    "        self.token_to_idx = {token: idx\n",
    "                             for idx, token in enumerate(self.idx_to_token)\n",
    "                            }\n",
    "        \n",
    "        for token, freq in self._token_freqs:\n",
    "            if freq < min_freq:\n",
    "                break\n",
    "            if token not in self.token_to_idx:\n",
    "                self.idx_to_token.append(token)\n",
    "                self.token_to_idx[token] = len(self.idx_to_token) - 1\n",
    "\n",
    "    def __len__(self):\n",
    "        return len(self.idx_to_token)\n",
    "\n",
    "    def __getitem__(self, tokens):\n",
    "        if not isinstance(tokens, (list, tuple)):\n",
    "            return self.token_to_idx.get(tokens, self.unk)\n",
    "        return [self.__getitem__(token) for token in tokens]\n",
    "\n",
    "    def to_tokens(self, indices):\n",
    "        if not isinstance(indices, (list, tuple)):\n",
    "            return self.idx_to_token[indices]\n",
    "        return [self.idx_to_token[index] for index in indices]\n",
    "\n",
    "    @property\n",
    "    def unk(self):  # 未知词元的索引为0\n",
    "        return 0\n",
    "\n",
    "    @property\n",
    "    def token_freqs(self):\n",
    "        return self._token_freqs\n",
    "\n",
    "    \n",
    "def count_corpus(tokens):  #@save\n",
    "    \"\"\"\n",
    "    统计词元的频率\n",
    "    \"\"\"\n",
    "    # 这里的tokens是1D列表或2D列表\n",
    "    if len(tokens) == 0 or isinstance(tokens[0], list):\n",
    "        # 将词元列表展平成一个列表\n",
    "        tokens = [token for line in tokens for token in line]\n",
    "        \n",
    "    return collections.Counter(tokens)"
   ]
  },
  {
   "cell_type": "markdown",
   "id": "1cf84dd4-ffac-42b3-9fc8-fa2620ee75af",
   "metadata": {},
   "source": [
    "我们首先使用时光机器数据集作为语料库来[**构建词表**]，然后打印前几个高频词元及其索引。\n"
   ]
  },
  {
   "cell_type": "code",
   "execution_count": 139,
   "id": "5a35e5b8-940e-41f6-be90-881f5a738584",
   "metadata": {
    "tags": []
   },
   "outputs": [
    {
     "name": "stdout",
     "output_type": "stream",
     "text": [
      "[('<unk>', 0), ('说', 1), ('一', 2), ('子', 3), ('人', 4), ('井', 5), ('宗', 6), ('里', 7), ('秀', 8), ('上', 9), ('陆', 10), ('来', 11), ('不', 12), ('长', 13), ('菊', 14), ('头', 15), ('0', 16), ('天', 17), ('生', 18), ('个', 19), ('家', 20), ('成', 21), ('下', 22), ('杨', 23), ('县', 24), ('门', 25), ('花', 26), ('山', 27), ('三', 28), ('镇', 29), ('着', 30), ('回', 31), ('老', 32), ('保', 33), ('吃', 34), ('走', 35), ('出', 36), ('柜', 37), ('掌', 38), ('两', 39), ('剩', 40), ('事', 41), ('口', 42), ('地', 43), ('钟', 44), ('大', 45), ('陈', 46), ('十', 47), ('这', 48), ('安', 49), ('到', 50), ('好', 51), ('跑', 52), ('死', 53), ('枪', 54), ('有', 55), ('队', 56), ('杜', 57), ('得', 58), ('打', 59), ('城', 60), ('开', 61), ('先', 62), ('阮', 63), ('手', 64), ('麻', 65), ('边', 66), ('去', 67), ('五', 68), ('院', 69), ('鲁', 70), ('身', 71), ('声', 72), ('没', 73), ('想', 74), ('过', 75), ('水', 76), ('树', 77), ('周', 78), ('茶', 79), ('3', 80), ('住', 81), ('丞', 82), ('马', 83), ('发', 84), ('问', 85), ('是', 86), ('前', 87), ('看', 88), ('团', 89), ('黑', 90), ('话', 91), ('房', 92), ('u', 93), ('王', 94), ('进', 95), ('面', 96), ('做', 97), ('旅', 98), ('白', 99), ('听', 100), ('倒', 101), ('女', 102), ('喝', 103), ('石', 104), ('眼', 105), ('日', 106), ('土', 107), ('起', 108), ('那', 109), ('后', 110), ('在', 111), ('夜', 112), ('几', 113), ('儿', 114), ('林', 115), ('河', 116), ('往', 117), ('行', 118), ('见', 119), ('涡', 120), ('全', 121), ('墙', 122), ('备', 123), ('外', 124), ('放', 125), ('太', 126), ('中', 127), ('小', 128), ('祥', 129), ('蚯', 130), ('蚓', 131), ('干', 132), ('预', 133), ('笑', 134), ('要', 135), ('动', 136), ('街', 137), ('我', 138), ('木', 139), ('火', 140), ('气', 141), ('红', 142), ('坐', 143), ('爹', 144), ('道', 145), ('二', 146), ('四', 147), ('东', 148), ('半', 149), ('屋', 150), ('百', 151), ('钱', 152), ('妇', 153), ('拉', 154), ('分', 155), ('心', 156), ('草', 157), ('饭', 158), ('只', 159), ('店', 160), ('酒', 161), ('会', 162), ('时', 163), ('明', 164), ('脸', 165), ('风', 166), ('了', 167), ('西', 168), ('多', 169), ('路', 170), ('双', 171), ('兵', 172), ('年', 173), ('皮', 174), ('脚', 175), ('条', 176), ('张', 177), ('高', 178), ('嘴', 179), ('块', 180), ('楼', 181), ('师', 182), ('烟', 183), ('方', 184), ('意', 185), ('背', 186), ('喊', 187), ('肉', 188), ('正', 189), ('能', 190), ('烧', 191), ('衣', 192), ('睡', 193), ('当', 194), ('媳', 195), ('雷', 196), ('带', 197), ('纸', 198), ('庙', 199), ('收', 200), ('村', 201), ('平', 202), ('娘', 203), ('军', 204), ('找', 205), ('点', 206), ('哭', 207), ('公', 208), ('巷', 209), ('八', 210), ('送', 211), ('站', 212), ('用', 213), ('线', 214), ('北', 215), ('买', 216), ('关', 217), ('提', 218), ('骂', 219), ('杀', 220), ('腿', 221), ('的', 222), ('掉', 223), ('巩', 224), ('狗', 225), ('忙', 226), ('早', 227), ('间', 228), ('布', 229), ('响', 230), ('活', 231), ('第', 232), ('七', 233), ('鸡', 234), ('蔡', 235), ('角', 236), ('六', 237), ('包', 238), ('黄', 239), ('虎', 240), ('合', 241), ('粮', 242), ('根', 243), ('叫', 244), ('击', 245), ('服', 246), ('像', 247), ('越', 248), ('远', 249), ('秦', 250), ('弹', 251), ('岭', 252), ('沟', 253), ('指', 254), ('吴', 255), ('喜', 256), ('真', 257), ('光', 258), ('色', 259), ('炮', 260), ('情', 261), ('父', 262), ('乱', 263), ('碗', 264), ('铺', 265), ('就', 266), ('病', 267), ('南', 268), ('伙', 269), ('飞', 270), ('香', 271), ('毛', 272), ('流', 273), ('定', 274), ('游', 275), ('字', 276), ('晚', 277), ('猪', 278), ('他', 279), ('文', 280), ('梁', 281), ('刀', 282), ('魏', 283), ('场', 284), ('血', 285), ('完', 286), ('领', 287), ('户', 288), ('穿', 289), ('紧', 290), ('给', 291), ('抓', 292), ('月', 293), ('些', 294), ('建', 295), ('处', 296), ('清', 297), ('孩', 298), ('原', 299)]\n"
     ]
    }
   ],
   "source": [
    "vocab = Vocab(tokens)\n",
    "\n",
    "print(list(vocab.token_to_idx.items())[:300])"
   ]
  },
  {
   "cell_type": "markdown",
   "id": "fed6c6d6-d586-400c-b5f8-c997d202a165",
   "metadata": {},
   "source": [
    "现在，我们可以(**将每一条文本行转换成一个数字索引列表**)。\n"
   ]
  },
  {
   "cell_type": "code",
   "execution_count": 135,
   "id": "46382153-1080-4ddb-ad53-780b21b7372b",
   "metadata": {
    "tags": []
   },
   "outputs": [
    {
     "name": "stdout",
     "output_type": "stream",
     "text": [
      "文本: ['文', '前']\n",
      "索引: [280, 87]\n",
      "文本: ['著']\n",
      "索引: [2852]\n"
     ]
    }
   ],
   "source": [
    "for i in [0, 10]:\n",
    "    print('文本:', tokens[i])\n",
    "    print('索引:', vocab[tokens[i]])"
   ]
  },
  {
   "cell_type": "markdown",
   "id": "44ff3a36-e164-48e0-a56c-ab5cac920890",
   "metadata": {},
   "source": [
    "## 整合所有功能\n",
    "\n",
    "在使用上述函数时，我们[**将所有功能打包到`load_corpus_time_machine`函数中**]，\n",
    "该函数返回`corpus`（词元索引列表）和`vocab`（时光机器语料库的词表）。\n",
    "我们在这里所做的改变是：\n",
    "\n",
    "1. 为了简化后面章节中的训练，我们使用字符（而不是单词）实现文本词元化；\n",
    "1. 时光机器数据集中的每个文本行不一定是一个句子或一个段落，还可能是一个单词，因此返回的`corpus`仅处理为单个列表，而不是使用多词元列表构成的一个列表。\n"
   ]
  },
  {
   "cell_type": "code",
   "execution_count": 136,
   "id": "f0c4a0f2-d9f3-4459-a647-e2887dd0d47e",
   "metadata": {
    "tags": []
   },
   "outputs": [],
   "source": [
    "def load_corpus_time_machine(max_tokens=-1):  #@save\n",
    "    \"\"\"\n",
    "    返回时光机器数据集的词元索引列表和词表\n",
    "    \"\"\"\n",
    "    # lines = read_time_machine()\n",
    "    lines = read_time_machine_v2()\n",
    "    tokens = tokenize(lines, 'char')\n",
    "    vocab = Vocab(tokens)\n",
    "    \n",
    "    # 因为时光机器数据集中的每个文本行不一定是一个句子或一个段落，\n",
    "    # 所以将所有文本行展平到一个列表中\n",
    "    corpus = [vocab[token] for line in tokens for token in line]\n",
    "    if max_tokens > 0:\n",
    "        corpus = corpus[:max_tokens]\n",
    "        pass\n",
    "    \n",
    "    return corpus, vocab"
   ]
  },
  {
   "cell_type": "code",
   "execution_count": 137,
   "id": "2c514168-b733-4ae4-93b4-28da6fd10d6d",
   "metadata": {
    "tags": []
   },
   "outputs": [
    {
     "data": {
      "text/plain": [
       "(249243, 3575)"
      ]
     },
     "execution_count": 137,
     "metadata": {},
     "output_type": "execute_result"
    }
   ],
   "source": [
    "\n",
    "# 词元索引列表\n",
    "corpus, vocab = load_corpus_time_machine()\n",
    "\n",
    "\n",
    "len(corpus), len(vocab)"
   ]
  },
  {
   "cell_type": "markdown",
   "id": "7bb35a4e-d6f5-41ac-aebd-e89a2afbd18e",
   "metadata": {},
   "source": [
    "## 小结\n",
    "\n",
    "* 文本是序列数据的一种最常见的形式之一。\n",
    "* 为了对文本进行预处理，我们通常将文本拆分为词元，构建词表将词元字符串映射为数字索引，并将文本数据转换为词元索引以供模型操作。"
   ]
  },
  {
   "cell_type": "code",
   "execution_count": null,
   "id": "8408e11a-8c1c-46d8-9b40-2987065f3abd",
   "metadata": {},
   "outputs": [],
   "source": []
  }
 ],
 "metadata": {
  "kernelspec": {
   "display_name": "Python 3 (ipykernel)",
   "language": "python",
   "name": "python3"
  },
  "language_info": {
   "codemirror_mode": {
    "name": "ipython",
    "version": 3
   },
   "file_extension": ".py",
   "mimetype": "text/x-python",
   "name": "python",
   "nbconvert_exporter": "python",
   "pygments_lexer": "ipython3",
   "version": "3.8.10"
  }
 },
 "nbformat": 4,
 "nbformat_minor": 5
}
