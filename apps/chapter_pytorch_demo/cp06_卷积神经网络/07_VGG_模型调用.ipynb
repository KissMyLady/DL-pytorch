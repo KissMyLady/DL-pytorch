{
 "cells": [
  {
   "cell_type": "code",
   "execution_count": 78,
   "id": "37a464c1-bb5c-475c-a26a-4bc249139fd8",
   "metadata": {
    "tags": []
   },
   "outputs": [
    {
     "name": "stdout",
     "output_type": "stream",
     "text": [
      "1.13.1+cu117\n"
     ]
    }
   ],
   "source": [
    "import time\n",
    "import torch\n",
    "from torch import nn, optim\n",
    "import torch.nn.functional as F\n",
    "\n",
    "import sys\n",
    "sys.path.append(\"..\")\n",
    "import d2lzh_pytorch.torch as d2l\n",
    "from d2lzh_pytorch.utils import FlattenLayer\n",
    "from d2lzh_pytorch.utils import train_ch5\n",
    "from d2lzh_pytorch.CNN.VGG_model import get_VGG_model\n",
    "\n",
    "\n",
    "device = torch.device('cuda' if torch.cuda.is_available() else 'cpu')\n",
    "\n",
    "print(torch.__version__)"
   ]
  },
  {
   "cell_type": "code",
   "execution_count": 52,
   "id": "0f8177bd-2da1-42c1-92c7-f0cd44372d2c",
   "metadata": {
    "tags": []
   },
   "outputs": [],
   "source": [
    "# 数据加载\n",
    "\n",
    "batch_size = 256\n",
    "#rootPath = r\"/mnt/g1t/ai_data/Datasets_on_HHD/FashionMNIST\"\n",
    "#train_iter, test_iter = d2l.load_data_fashion_mnist(batch_size, root=rootPath)\n",
    "\n",
    "rootPath = r\"/mnt/g1t/ai_data/Datasets_on_HHD/FashionMNIST\"\n",
    "train_iter, test_iter = d2l.load_data_fashion_mnist(batch_size, \n",
    "                                                    resize=224,\n",
    "                                                    root =rootPath \n",
    "                                                   )"
   ]
  },
  {
   "cell_type": "code",
   "execution_count": 80,
   "id": "28a4b3b0-4e4a-4990-aaca-fb56bfba13f7",
   "metadata": {
    "tags": []
   },
   "outputs": [
    {
     "data": {
      "text/plain": [
       "<All keys matched successfully>"
      ]
     },
     "execution_count": 80,
     "metadata": {},
     "output_type": "execute_result"
    }
   ],
   "source": [
    "# 加载已训练好的模型\n",
    "m_name = \"VGG_net_2023_06_27_00-27-09.pt\"  # 7.8M\n",
    "\n",
    "model = torch.load(m_name)\n",
    "\n",
    "VGG = get_VGG_model()\n",
    "VGG.load_state_dict(model.state_dict())"
   ]
  },
  {
   "cell_type": "code",
   "execution_count": 93,
   "id": "7ed946cd-32e3-4832-9bec-e6eabc6db5e2",
   "metadata": {
    "tags": []
   },
   "outputs": [
    {
     "data": {
      "text/plain": [
       "Sequential(\n",
       "  (vgg_block_1): Sequential(\n",
       "    (0): Conv2d(1, 8, kernel_size=(3, 3), stride=(1, 1), padding=(1, 1))\n",
       "    (1): ReLU()\n",
       "    (2): MaxPool2d(kernel_size=2, stride=2, padding=0, dilation=1, ceil_mode=False)\n",
       "  )\n",
       "  (vgg_block_2): Sequential(\n",
       "    (0): Conv2d(8, 16, kernel_size=(3, 3), stride=(1, 1), padding=(1, 1))\n",
       "    (1): ReLU()\n",
       "    (2): MaxPool2d(kernel_size=2, stride=2, padding=0, dilation=1, ceil_mode=False)\n",
       "  )\n",
       "  (vgg_block_3): Sequential(\n",
       "    (0): Conv2d(16, 32, kernel_size=(3, 3), stride=(1, 1), padding=(1, 1))\n",
       "    (1): ReLU()\n",
       "    (2): Conv2d(32, 32, kernel_size=(3, 3), stride=(1, 1), padding=(1, 1))\n",
       "    (3): ReLU()\n",
       "    (4): MaxPool2d(kernel_size=2, stride=2, padding=0, dilation=1, ceil_mode=False)\n",
       "  )\n",
       "  (vgg_block_4): Sequential(\n",
       "    (0): Conv2d(32, 64, kernel_size=(3, 3), stride=(1, 1), padding=(1, 1))\n",
       "    (1): ReLU()\n",
       "    (2): Conv2d(64, 64, kernel_size=(3, 3), stride=(1, 1), padding=(1, 1))\n",
       "    (3): ReLU()\n",
       "    (4): MaxPool2d(kernel_size=2, stride=2, padding=0, dilation=1, ceil_mode=False)\n",
       "  )\n",
       "  (vgg_block_5): Sequential(\n",
       "    (0): Conv2d(64, 64, kernel_size=(3, 3), stride=(1, 1), padding=(1, 1))\n",
       "    (1): ReLU()\n",
       "    (2): Conv2d(64, 64, kernel_size=(3, 3), stride=(1, 1), padding=(1, 1))\n",
       "    (3): ReLU()\n",
       "    (4): MaxPool2d(kernel_size=2, stride=2, padding=0, dilation=1, ceil_mode=False)\n",
       "  )\n",
       "  (fc): Sequential(\n",
       "    (0): FlattenLayer()\n",
       "    (1): Linear(in_features=3136, out_features=512, bias=True)\n",
       "    (2): ReLU()\n",
       "    (3): Dropout(p=0.5, inplace=False)\n",
       "    (4): Linear(in_features=512, out_features=512, bias=True)\n",
       "    (5): ReLU()\n",
       "    (6): Dropout(p=0.5, inplace=False)\n",
       "    (7): Linear(in_features=512, out_features=10, bias=True)\n",
       "  )\n",
       ")"
      ]
     },
     "execution_count": 93,
     "metadata": {},
     "output_type": "execute_result"
    }
   ],
   "source": [
    "VGG"
   ]
  },
  {
   "cell_type": "code",
   "execution_count": 91,
   "id": "0ad52c3b-c6a8-4895-80eb-ab2985f4dd44",
   "metadata": {
    "tags": []
   },
   "outputs": [],
   "source": [
    "def predict_ch3(net, test_iter, n=6):  #@save\n",
    "    \"\"\"预测标签（定义见第3章）\"\"\"\n",
    "    \n",
    "    err = 0\n",
    "    succ = 0\n",
    "    \n",
    "    for X, y in test_iter:\n",
    "    \n",
    "        trues = d2l.get_fashion_mnist_labels(y)\n",
    "        preds = d2l.get_fashion_mnist_labels(net(X).argmax(axis=1))  # 计算结果, 预测结果\n",
    "        titles = [true +'\\n' + pred for true, pred in zip(trues, preds)]\n",
    "\n",
    "        X_resized = F.interpolate(X[0: n], size=(28, 28), mode='nearest')\n",
    "        # print(X_resized.shape)   # 输出：torch.Size([6, 1, 28, 28])\n",
    "        \n",
    "        for true, pred in zip(trues, preds):\n",
    "            \n",
    "            if true != pred:\n",
    "                # print(\"判断错误: 标签是:%s \\t 计算为:%s\" % (true, pred))\n",
    "                err += 1\n",
    "            else:\n",
    "                succ += 1\n",
    "                pass\n",
    "        # d2l.show_images(X_resized.reshape((n, 28, 28)), 1, n, titles=titles[0:n])\n",
    "        # break\n",
    "        pass\n",
    "    \n",
    "    succ_per = succ / (succ + err)\n",
    "    print(\"正确 %s, 错误: %s, 正确率: %s\" % (succ, err, succ_per))"
   ]
  },
  {
   "cell_type": "code",
   "execution_count": 92,
   "id": "7b1d97f0-617e-4a6c-b610-bdd03117a7dc",
   "metadata": {
    "tags": []
   },
   "outputs": [
    {
     "name": "stdout",
     "output_type": "stream",
     "text": [
      "正确 9104, 错误: 896, 正确率: 0.9104\n"
     ]
    }
   ],
   "source": [
    "test_n = 6\n",
    "\n",
    "\n",
    "predict_ch3(VGG,\n",
    "            test_iter,\n",
    "            n=test_n)"
   ]
  }
 ],
 "metadata": {
  "kernelspec": {
   "display_name": "Python 3 (ipykernel)",
   "language": "python",
   "name": "python3"
  },
  "language_info": {
   "codemirror_mode": {
    "name": "ipython",
    "version": 3
   },
   "file_extension": ".py",
   "mimetype": "text/x-python",
   "name": "python",
   "nbconvert_exporter": "python",
   "pygments_lexer": "ipython3",
   "version": "3.8.10"
  }
 },
 "nbformat": 4,
 "nbformat_minor": 5
}
