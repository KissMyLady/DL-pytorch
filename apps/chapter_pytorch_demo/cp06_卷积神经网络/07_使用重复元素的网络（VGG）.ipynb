{
 "cells": [
  {
   "cell_type": "markdown",
   "id": "e5b14bd8-4e98-42b0-bbcd-53eb3870eb42",
   "metadata": {},
   "source": [
    "# 5.7 使用重复元素的网络（VGG）\n",
    "\n",
    "AlexNet在LeNet的基础上增加了3个卷积层。但AlexNet作者对它们的卷积窗口、输出通道数和构造顺序均做了大量的调整。虽然AlexNet指明了深度卷积神经网络可以取得出色的结果，但并没有提供简单的规则以指导后来的研究者如何设计新的网络。我们将在本章的后续几节里介绍几种不同的深度网络设计思路。\n",
    "\n",
    "本节介绍VGG，它的名字来源于论文作者所在的实验室Visual Geometry Group [1]。VGG提出了可以通过重复使用简单的基础块来构建深度模型的思路。"
   ]
  },
  {
   "cell_type": "markdown",
   "id": "39277ca8-9241-4d69-9a5e-d6f3e3d33a37",
   "metadata": {},
   "source": [
    "## 5.7.1 VGG块\n",
    "\n",
    "VGG块的组成规律是：连续使用数个相同的填充为1、窗口形状为$3\\times 3$的卷积层后接上一个步幅为2、窗口形状为$2\\times 2$的最大池化层。卷积层保持输入的高和宽不变，而池化层则对其减半。我们使用`vgg_block`函数来实现这个基础的VGG块，它可以指定卷积层的数量和输入输出通道数。\n",
    "\n",
    "> 对于给定的感受野（与输出有关的输入图片的局部大小），采用堆积的小卷积核优于采用大的卷积核，因为可以增加网络深度来保证学习更复杂的模式，而且代价还比较小（参数更少）。例如，在VGG中，使用了3个3x3卷积核来代替7x7卷积核，使用了2个3x3卷积核来代替5*5卷积核，这样做的主要目的是在保证具有相同感知野的条件下，提升了网络的深度，在一定程度上提升了神经网络的效果。"
   ]
  },
  {
   "cell_type": "code",
   "execution_count": 7,
   "id": "64c3db54-14f0-4c19-aba1-589d41da25d3",
   "metadata": {
    "tags": []
   },
   "outputs": [
    {
     "name": "stdout",
     "output_type": "stream",
     "text": [
      "1.13.1+cu117\n"
     ]
    }
   ],
   "source": [
    "import time\n",
    "import torch\n",
    "from torch import nn, optim\n",
    "\n",
    "import sys\n",
    "sys.path.append(\"..\") \n",
    "# import d2lzh_pytorch as d2l\n",
    "import d2lzh_pytorch.torch as d2l\n",
    "from d2lzh_pytorch.utils import train_ch5\n",
    "from d2lzh_pytorch.utils import FlattenLayer\n",
    "\n",
    "device = torch.device('cuda' if torch.cuda.is_available() else 'cpu')\n",
    "\n",
    "print(torch.__version__)"
   ]
  },
  {
   "cell_type": "code",
   "execution_count": 8,
   "id": "33e38600-7c45-4194-a0fc-b44403d6607f",
   "metadata": {
    "tags": []
   },
   "outputs": [],
   "source": [
    "\n",
    "def vgg_block(num_convs, in_channels, out_channels):\n",
    "    blk = []\n",
    "    \n",
    "    for i in range(num_convs):\n",
    "        if i == 0:\n",
    "            blk.append(nn.Conv2d(in_channels, \n",
    "                                 out_channels,\n",
    "                                 kernel_size=3, \n",
    "                                 padding=1))\n",
    "        else:\n",
    "            blk.append(nn.Conv2d(out_channels, \n",
    "                                 out_channels, \n",
    "                                 kernel_size=3, \n",
    "                                 padding=1))\n",
    "        blk.append(nn.ReLU())\n",
    "        pass\n",
    "    \n",
    "    blk.append(nn.MaxPool2d(kernel_size=2, stride=2)) # 这里会使宽高减半\n",
    "    return nn.Sequential(*blk)\n"
   ]
  },
  {
   "cell_type": "markdown",
   "id": "b10f9c3b-c7f7-4292-8eeb-23a4b927a0ee",
   "metadata": {},
   "source": [
    "## 5.7.2 VGG网络\n",
    "\n",
    "与AlexNet和LeNet一样，VGG网络由卷积层模块后接全连接层模块构成。卷积层模块串联数个`vgg_block`，其超参数由变量`conv_arch`定义。该变量指定了每个VGG块里卷积层个数和输入输出通道数。全连接模块则跟AlexNet中的一样。\n",
    "\n",
    "现在我们构造一个VGG网络。它有5个卷积块，前2块使用单卷积层，而后3块使用双卷积层。第一块的输入输出通道分别是1（因为下面要使用的Fashion-MNIST数据的通道数为1）和64，之后每次对输出通道数翻倍，直到变为512。因为这个网络使用了8个卷积层和3个全连接层，所以经常被称为VGG-11。"
   ]
  },
  {
   "cell_type": "code",
   "execution_count": 9,
   "id": "2d27d1d9-61e1-406d-8bb3-8103a1a4543b",
   "metadata": {
    "tags": []
   },
   "outputs": [],
   "source": [
    "conv_arch = ((1, 1, 64), \n",
    "             (1, 64, 128), \n",
    "             (2, 128, 256), \n",
    "             (2, 256, 512),\n",
    "             (2, 512, 512)\n",
    "            )\n",
    "\n",
    "\n",
    "# 经过5个 vgg_block, 宽高会减半5次, 变成 224/32 = 7\n",
    "fc_features = 512 * 7 * 7 # c * w * h\n",
    "\n",
    "fc_hidden_units = 4096    # 任意"
   ]
  },
  {
   "cell_type": "markdown",
   "id": "e350e095-ac13-4d86-9edf-898bf45f28c7",
   "metadata": {},
   "source": [
    "下面我们实现VGG-11。"
   ]
  },
  {
   "cell_type": "code",
   "execution_count": 12,
   "id": "b64efc37-dd5f-4365-bddb-dcf3e4ba5b0e",
   "metadata": {
    "tags": []
   },
   "outputs": [],
   "source": [
    "def vgg(conv_arch, fc_features, fc_hidden_units=4096):\n",
    "    \n",
    "    net = nn.Sequential()\n",
    "    # 卷积层部分\n",
    "    for i, (num_convs, in_channels, out_channels) in enumerate(conv_arch):\n",
    "        # 每经过一个vgg_block都会使宽高减半\n",
    "        net.add_module(\"vgg_block_\" + str(i+1), \n",
    "                       vgg_block(num_convs, \n",
    "                                 in_channels, \n",
    "                                 out_channels\n",
    "                                )\n",
    "                      )\n",
    "        pass\n",
    "\n",
    "    # 全连接层部分\n",
    "    net.add_module(\"fc\", nn.Sequential(FlattenLayer(),\n",
    "                                       nn.Linear(fc_features, fc_hidden_units),\n",
    "                                       nn.ReLU(),\n",
    "                                       nn.Dropout(0.5),\n",
    "                                       nn.Linear(fc_hidden_units, fc_hidden_units),\n",
    "                                       nn.ReLU(),\n",
    "                                       nn.Dropout(0.5),\n",
    "                                       nn.Linear(fc_hidden_units, 10)\n",
    "                                      ))\n",
    "    return net"
   ]
  },
  {
   "cell_type": "markdown",
   "id": "eb30ec85-654d-456f-87f1-fe22598e27f2",
   "metadata": {},
   "source": [
    "下面构造一个高和宽均为224的单通道数据样本来观察每一层的输出形状。"
   ]
  },
  {
   "cell_type": "code",
   "execution_count": 13,
   "id": "e15d5cf9-d636-4f5e-b9ee-f6306578b403",
   "metadata": {
    "tags": []
   },
   "outputs": [
    {
     "name": "stdout",
     "output_type": "stream",
     "text": [
      "vgg_block_1 output shape:  torch.Size([1, 64, 112, 112])\n",
      "vgg_block_2 output shape:  torch.Size([1, 128, 56, 56])\n",
      "vgg_block_3 output shape:  torch.Size([1, 256, 28, 28])\n",
      "vgg_block_4 output shape:  torch.Size([1, 512, 14, 14])\n",
      "vgg_block_5 output shape:  torch.Size([1, 512, 7, 7])\n",
      "fc output shape:  torch.Size([1, 10])\n"
     ]
    }
   ],
   "source": [
    "\n",
    "net = vgg(conv_arch, \n",
    "          fc_features, \n",
    "          fc_hidden_units)\n",
    "\n",
    "X = torch.rand(1, 1, 224, 224)\n",
    "\n",
    "\n",
    "# named_children获取一级子模块及其名字(named_modules会返回所有子模块,包括子模块的子模块)\n",
    "for name, blk in net.named_children(): \n",
    "    X = blk(X)\n",
    "    print(name, 'output shape: ', X.shape)"
   ]
  },
  {
   "cell_type": "markdown",
   "id": "3d768ed5-022e-4a74-a987-ede6d7b6b207",
   "metadata": {},
   "source": [
    "可以看到，每次我们将输入的高和宽减半，直到最终高和宽变成7后传入全连接层。与此同时，输出通道数每次翻倍，直到变成512。因为每个卷积层的窗口大小一样，所以每层的模型参数尺寸和计算复杂度与输入高、输入宽、输入通道数和输出通道数的乘积成正比。VGG这种高和宽减半以及通道翻倍的设计使得多数卷积层都有相同的模型参数尺寸和计算复杂度。"
   ]
  },
  {
   "cell_type": "markdown",
   "id": "422a1226-3498-41b9-8c0b-96228deb7abd",
   "metadata": {},
   "source": [
    "## 5.7.3 获取数据和训练模型\n",
    "\n",
    "因为VGG-11计算上比AlexNet更加复杂，出于测试的目的我们构造一个通道数更小，或者说更窄的网络在Fashion-MNIST数据集上进行训练。"
   ]
  },
  {
   "cell_type": "code",
   "execution_count": 14,
   "id": "fb7c7c1c-a7d8-4ef1-af90-985a33c5d2ce",
   "metadata": {
    "tags": []
   },
   "outputs": [],
   "source": [
    "ratio = 8\n",
    "small_conv_arch = [(1, 1, 64//ratio), \n",
    "                   (1, 64//ratio, 128//ratio), \n",
    "                   (2, 128//ratio, 256//ratio), \n",
    "                   (2, 256//ratio, 512//ratio), \n",
    "                   (2, 512//ratio, 512//ratio)\n",
    "                  ]\n",
    "\n",
    "\n",
    "net = vgg(small_conv_arch, \n",
    "          fc_features // ratio, \n",
    "          fc_hidden_units // ratio\n",
    "         )"
   ]
  },
  {
   "cell_type": "markdown",
   "id": "89615515-5e7a-44c9-b9b2-effa8a299fb0",
   "metadata": {},
   "source": [
    "模型训练过程与上一节的AlexNet中的类似。"
   ]
  },
  {
   "cell_type": "code",
   "execution_count": 15,
   "id": "bef56d5b-1125-403c-8ef2-13f6f75a0190",
   "metadata": {
    "tags": []
   },
   "outputs": [],
   "source": [
    "batch_size = 64\n",
    "\n",
    "# 如出现“out of memory”的报错信息，可减小batch_size或resize\n",
    "rootPath = r\"/mnt/g1t/ai_data/Datasets_on_HHD/FashionMNIST\"\n",
    "train_iter, test_iter = d2l.load_data_fashion_mnist(batch_size, \n",
    "                                                    resize=224,\n",
    "                                                    root =rootPath \n",
    "                                                   )\n",
    "\n",
    "\n",
    "lr, num_epochs = 0.001, 5\n",
    "\n",
    "optimizer = torch.optim.Adam(net.parameters(), lr=lr)"
   ]
  },
  {
   "cell_type": "code",
   "execution_count": 16,
   "id": "e8da7a7a-dde7-4948-8026-59609f433af6",
   "metadata": {
    "tags": []
   },
   "outputs": [
    {
     "name": "stdout",
     "output_type": "stream",
     "text": [
      "training on  cuda\n",
      "epoch 1, loss 0.6254, train acc 0.762, test acc 0.873, time 23.0 sec\n",
      "epoch 2, loss 0.3230, train acc 0.881, test acc 0.900, time 21.4 sec\n",
      "epoch 3, loss 0.2768, train acc 0.899, test acc 0.901, time 21.4 sec\n",
      "epoch 4, loss 0.2451, train acc 0.911, test acc 0.914, time 21.5 sec\n",
      "epoch 5, loss 0.2228, train acc 0.918, test acc 0.916, time 21.5 sec\n"
     ]
    }
   ],
   "source": [
    "\n",
    "# 训练\n",
    "train_ch5(net, train_iter, test_iter, \n",
    "              batch_size, \n",
    "              optimizer, \n",
    "              device, \n",
    "              num_epochs\n",
    "             )"
   ]
  },
  {
   "cell_type": "markdown",
   "id": "72217a88-e0d8-46b9-abc0-9339aff6ea5a",
   "metadata": {},
   "source": [
    "## 小结\n",
    "\n",
    "* VGG-11通过5个可以重复使用的卷积块来构造网络。根据每块里卷积层个数和输出通道数的不同可以定义出不同的VGG模型。\n",
    "\n"
   ]
  },
  {
   "cell_type": "code",
   "execution_count": 18,
   "id": "6b656674-5c8c-4d6e-808f-b6d4abeafeb5",
   "metadata": {},
   "outputs": [
    {
     "name": "stdout",
     "output_type": "stream",
     "text": [
      "训练完毕, 模型已保存至当前路径\n"
     ]
    }
   ],
   "source": [
    "# 保存模型\n",
    "\n",
    "import datetime\n",
    "str_time = str(datetime.datetime.now().strftime(\"%Y_%m_%d_%H-%M-%S\"))\n",
    "\n",
    "# 转移到CPU上保存\n",
    "net = net.to(\"cpu\")\n",
    "\n",
    "torch.save(net, 'VGG_net_cpu_%s.pt' % str_time)  # 全保存 39M\n",
    "print(\"训练完毕, 模型已保存至当前路径\")"
   ]
  },
  {
   "cell_type": "raw",
   "id": "2f03975f-5cb4-4907-999e-12f03d105d7f",
   "metadata": {},
   "source": [
    "设备字符串开头应为\n",
    "cpu、cuda、ipu、xpu、mkldnn、opengl、opencl、ideep、hip、ve、fpga、ort、xla、lazy、vulkan、mps、meta、hpu、privateuseone\n",
    "\n",
    "设备类型之一：cpu"
   ]
  },
  {
   "cell_type": "code",
   "execution_count": 21,
   "id": "4bd901c3-36fe-4385-a280-1f64e8e60bc7",
   "metadata": {},
   "outputs": [
    {
     "name": "stdout",
     "output_type": "stream",
     "text": [
      "当前模型保存在设备: \n"
     ]
    },
    {
     "data": {
      "text/plain": [
       "device(type='cpu')"
      ]
     },
     "execution_count": 21,
     "metadata": {},
     "output_type": "execute_result"
    }
   ],
   "source": [
    "# 打印设置\n",
    "\n",
    "print(\"当前模型保存在设备: \")\n",
    "next(net.parameters()).device"
   ]
  },
  {
   "cell_type": "code",
   "execution_count": null,
   "id": "cb95a0ed-257b-45bb-8c2c-60df8a12026c",
   "metadata": {},
   "outputs": [],
   "source": []
  }
 ],
 "metadata": {
  "kernelspec": {
   "display_name": "Python 3 (ipykernel)",
   "language": "python",
   "name": "python3"
  },
  "language_info": {
   "codemirror_mode": {
    "name": "ipython",
    "version": 3
   },
   "file_extension": ".py",
   "mimetype": "text/x-python",
   "name": "python",
   "nbconvert_exporter": "python",
   "pygments_lexer": "ipython3",
   "version": "3.8.10"
  }
 },
 "nbformat": 4,
 "nbformat_minor": 5
}
