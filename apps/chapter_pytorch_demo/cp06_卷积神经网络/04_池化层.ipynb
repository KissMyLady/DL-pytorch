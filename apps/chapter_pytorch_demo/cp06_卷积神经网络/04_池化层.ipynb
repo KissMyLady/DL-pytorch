{
 "cells": [
  {
   "cell_type": "markdown",
   "id": "fbba9e89-4e0c-48cc-baae-f707f09877c5",
   "metadata": {},
   "source": [
    "# 5.4 池化层\n",
    "\n",
    "回忆一下，在5.1节（二维卷积层）里介绍的图像物体边缘检测应用中，我们构造卷积核从而精确地找到了像素变化的位置。设任意二维数组`X`的`i`行`j`列的元素为`X[i, j]`。如果我们构造的卷积核输出`Y[i, j]=1`，那么说明输入中`X[i, j]`和`X[i, j+1]`数值不一样。这可能意味着物体边缘通过这两个元素之间。但实际图像里，我们感兴趣的物体不会总出现在固定位置：即使我们连续拍摄同一个物体也极有可能出现像素位置上的偏移。这会导致同一个边缘对应的输出可能出现在卷积输出`Y`中的不同位置，进而对后面的模式识别造成不便。\n",
    "\n",
    "在本节中我们介绍池化（pooling）层，它的提出是**为了缓解卷积层对位置的过度敏感性**。"
   ]
  },
  {
   "cell_type": "markdown",
   "id": "a40aba09-8e25-41a0-bc5d-3591049ade7c",
   "metadata": {},
   "source": [
    "## 5.4.1 二维最大池化层和平均池化层\n",
    "\n",
    "同卷积层一样，池化层每次对输入数据的一个固定形状窗口（又称池化窗口）中的元素计算输出。不同于卷积层里计算输入和核的互相关性，池化层直接计算池化窗口内元素的最大值或者平均值。该运算也分别叫做最大池化或平均池化。在二维最大池化中，池化窗口从输入数组的最左上方开始，按从左往右、从上往下的顺序，依次在输入数组上滑动。当池化窗口滑动到某一位置时，窗口中的输入子数组的最大值即输出数组中相应位置的元素。"
   ]
  },
  {
   "cell_type": "markdown",
   "id": "64ee5ddf-0f6f-4b7d-85e4-d4130637bee5",
   "metadata": {},
   "source": [
    "图5.6展示了池化窗口形状为$2\\times 2$的最大池化，阴影部分为第一个输出元素及其计算所使用的输入元素。输出数组的高和宽分别为2，其中的4个元素由取最大值运算$\\text{max}$得出：\n",
    "\n",
    "$$\n",
    "\\max(0,1,3,4)=4,\\\\\n",
    "\\max(1,2,4,5)=5,\\\\\n",
    "\\max(3,4,6,7)=7,\\\\\n",
    "\\max(4,5,7,8)=8.\\\\\n",
    "$$\n",
    "\n",
    "\n",
    "二维平均池化的工作原理与二维最大池化类似，但将最大运算符替换成平均运算符。池化窗口形状为$p \\times q$的池化层称为$p \\times q$池化层，其中的池化运算叫作$p \\times q$池化。\n",
    "\n",
    "让我们再次回到本节开始提到的物体边缘检测的例子。现在我们将卷积层的输出作为$2\\times 2$最大池化的输入。设该卷积层输入是`X`、池化层输出为`Y`。无论是`X[i, j]`和`X[i, j+1]`值不同，还是`X[i, j+1]`和`X[i, j+2]`不同，池化层输出均有`Y[i, j]=1`。也就是说，使用$2\\times 2$最大池化层时，只要卷积层识别的模式在高和宽上移动不超过一个元素，我们依然可以将它检测出来。\n",
    "\n",
    "下面把池化层的前向计算实现在`pool2d`函数里。它跟5.1节（二维卷积层）里`corr2d`函数非常类似，唯一的区别在计算输出`Y`上。"
   ]
  },
  {
   "cell_type": "code",
   "execution_count": 1,
   "id": "d6fc0e5f-94a8-488d-8032-99503f1a9ec5",
   "metadata": {
    "tags": []
   },
   "outputs": [],
   "source": [
    "import torch\n",
    "from torch import nn"
   ]
  },
  {
   "cell_type": "code",
   "execution_count": 2,
   "id": "c3ac2b62-d468-474a-8469-880e6d816bca",
   "metadata": {
    "tags": []
   },
   "outputs": [],
   "source": [
    "\n",
    "# 池化层算法\n",
    "def pool2d(X, pool_size, mode='max'):\n",
    "    \"\"\"\n",
    "    X: 输入矩阵\n",
    "    pool_size\" 池化尺寸\n",
    "    mode: 模式\n",
    "    \"\"\"\n",
    "    X = X.float()\n",
    "    p_h, p_w = pool_size\n",
    "    Y = torch.zeros(X.shape[0] - p_h + 1, X.shape[1] - p_w + 1)\n",
    "    \n",
    "    for i in range(Y.shape[0]):\n",
    "        for j in range(Y.shape[1]):\n",
    "            if mode == 'max':\n",
    "                Y[i, j] = X[i: i + p_h, j: j + p_w].max()\n",
    "            elif mode == 'avg':\n",
    "                Y[i, j] = X[i: i + p_h, j: j + p_w].mean()       \n",
    "    return Y\n"
   ]
  },
  {
   "cell_type": "markdown",
   "id": "d906431d-1977-487c-b340-d614fa8f823b",
   "metadata": {},
   "source": [
    "我们可以构造图5.6中的输入数组`X`来验证二维最大池化层的输出。"
   ]
  },
  {
   "cell_type": "code",
   "execution_count": 3,
   "id": "fd1cb428-5413-49e1-ad03-891b8460cd21",
   "metadata": {
    "tags": []
   },
   "outputs": [
    {
     "data": {
      "text/plain": [
       "tensor([[4., 5.],\n",
       "        [7., 8.]])"
      ]
     },
     "execution_count": 3,
     "metadata": {},
     "output_type": "execute_result"
    }
   ],
   "source": [
    "X = torch.tensor([[0, 1, 2], \n",
    "                  [3, 4, 5], \n",
    "                  [6, 7, 8]]\n",
    "                )\n",
    "\n",
    "\n",
    "pool2d(X, (2, 2))\n"
   ]
  },
  {
   "cell_type": "markdown",
   "id": "4902c845-fe31-46fa-b072-d3ff1f8b4272",
   "metadata": {},
   "source": [
    "同时我们实验一下平均池化层。"
   ]
  },
  {
   "cell_type": "code",
   "execution_count": 4,
   "id": "3cda66c2-3930-478f-a0b0-5578d7df66cb",
   "metadata": {
    "tags": []
   },
   "outputs": [
    {
     "data": {
      "text/plain": [
       "tensor([[2., 3.],\n",
       "        [5., 6.]])"
      ]
     },
     "execution_count": 4,
     "metadata": {},
     "output_type": "execute_result"
    }
   ],
   "source": [
    "pool2d(X, (2,2), 'avg')"
   ]
  },
  {
   "cell_type": "markdown",
   "id": "40cbfe10-6b13-4ffe-9ee3-7ec3f2acee0a",
   "metadata": {},
   "source": [
    "## 5.4.2 填充和步幅\n",
    "\n",
    "同卷积层一样，池化层也可以在输入的高和宽两侧的填充并调整窗口的移动步幅来改变输出形状。池化层填充和步幅与卷积层填充和步幅的工作机制一样。我们将通过`nn`模块里的二维最大池化层`MaxPool2d`来演示池化层填充和步幅的工作机制。我们先构造一个形状为(1, 1, 4, 4)的输入数据，前两个维度分别是批量和通道。"
   ]
  },
  {
   "cell_type": "code",
   "execution_count": 5,
   "id": "72011323-d677-488e-9f03-f61aff0851ac",
   "metadata": {
    "tags": []
   },
   "outputs": [
    {
     "data": {
      "text/plain": [
       "tensor([[[[ 0.,  1.,  2.,  3.],\n",
       "          [ 4.,  5.,  6.,  7.],\n",
       "          [ 8.,  9., 10., 11.],\n",
       "          [12., 13., 14., 15.]]]])"
      ]
     },
     "execution_count": 5,
     "metadata": {},
     "output_type": "execute_result"
    }
   ],
   "source": [
    "X = torch.arange(16, \n",
    "                 dtype=torch.float\n",
    "                ).view((1, 1, 4, 4))\n",
    "\n",
    "X"
   ]
  },
  {
   "cell_type": "markdown",
   "id": "5f1d1c03-0648-45e0-b96f-db56097c7c2f",
   "metadata": {},
   "source": [
    "默认情况下，`MaxPool2d`实例里步幅和池化窗口形状相同。下面使用形状为(3, 3)的池化窗口，默认获得形状为(3, 3)的步幅。"
   ]
  },
  {
   "cell_type": "code",
   "execution_count": 6,
   "id": "253fccdc-ae43-4eb4-a4a1-eccc59a968e5",
   "metadata": {
    "tags": []
   },
   "outputs": [
    {
     "data": {
      "text/plain": [
       "tensor([[[[10.]]]])"
      ]
     },
     "execution_count": 6,
     "metadata": {},
     "output_type": "execute_result"
    }
   ],
   "source": [
    "# pool2d = nn.MaxPool2d(3)\n",
    "\n",
    "pool2d = nn.MaxPool2d((3,3))\n",
    "\n",
    "\n",
    "pool2d(X) "
   ]
  },
  {
   "cell_type": "markdown",
   "id": "f0985321-b08b-455b-9118-744e6b14fbfc",
   "metadata": {},
   "source": [
    "我们可以手动指定步幅和填充。"
   ]
  },
  {
   "cell_type": "code",
   "execution_count": 7,
   "id": "cf174141-6ff8-4f35-9b23-72e8003a2c45",
   "metadata": {
    "tags": []
   },
   "outputs": [
    {
     "data": {
      "text/plain": [
       "tensor([[[[ 5.,  7.],\n",
       "          [13., 15.]]]])"
      ]
     },
     "execution_count": 7,
     "metadata": {},
     "output_type": "execute_result"
    }
   ],
   "source": [
    "pool2d = nn.MaxPool2d(3, \n",
    "                      padding=1, \n",
    "                      stride=2\n",
    "                     )\n",
    "\n",
    "\n",
    "pool2d(X)"
   ]
  },
  {
   "cell_type": "markdown",
   "id": "44154fc3-93da-4664-85a3-0790d6fd4b38",
   "metadata": {},
   "source": [
    "当然，我们也可以指定非正方形的池化窗口，并分别指定高和宽上的填充和步幅。"
   ]
  },
  {
   "cell_type": "code",
   "execution_count": 8,
   "id": "bc2bd717-6787-4406-a245-64450ccab8ee",
   "metadata": {
    "tags": []
   },
   "outputs": [
    {
     "data": {
      "text/plain": [
       "tensor([[[[ 1.,  3.],\n",
       "          [ 9., 11.],\n",
       "          [13., 15.]]]])"
      ]
     },
     "execution_count": 8,
     "metadata": {},
     "output_type": "execute_result"
    }
   ],
   "source": [
    "pool2d = nn.MaxPool2d((2, 4), \n",
    "                      padding=(1, 2), \n",
    "                      stride=(2, 3)\n",
    "                     )\n",
    "\n",
    "pool2d(X)"
   ]
  },
  {
   "cell_type": "markdown",
   "id": "478c90c7-c581-49ba-9382-ad1e66a69c2d",
   "metadata": {},
   "source": [
    "## 5.4.3 多通道\n",
    "\n",
    "在处理多通道输入数据时，**池化层对每个输入通道分别池化，而不是像卷积层那样将各通道的输入按通道相加**。这意味着池化层的输出通道数与输入通道数相等。下面将数组`X`和`X+1`在通道维上连结来构造通道数为2的输入。"
   ]
  },
  {
   "cell_type": "code",
   "execution_count": 9,
   "id": "cc9c4aa9-925a-4886-b4fa-6e41cf0a2ad2",
   "metadata": {
    "tags": []
   },
   "outputs": [
    {
     "data": {
      "text/plain": [
       "tensor([[[[ 0.,  1.,  2.,  3.],\n",
       "          [ 4.,  5.,  6.,  7.],\n",
       "          [ 8.,  9., 10., 11.],\n",
       "          [12., 13., 14., 15.]],\n",
       "\n",
       "         [[ 1.,  2.,  3.,  4.],\n",
       "          [ 5.,  6.,  7.,  8.],\n",
       "          [ 9., 10., 11., 12.],\n",
       "          [13., 14., 15., 16.]]]])"
      ]
     },
     "execution_count": 9,
     "metadata": {},
     "output_type": "execute_result"
    }
   ],
   "source": [
    "X = torch.cat((X, X + 1), \n",
    "              dim=1\n",
    "             )\n",
    "\n",
    "\n",
    "X"
   ]
  },
  {
   "cell_type": "markdown",
   "id": "b733aace-878c-4e5f-9c54-926b0c969fa4",
   "metadata": {},
   "source": [
    "池化后，我们发现输出通道数仍然是2。"
   ]
  },
  {
   "cell_type": "code",
   "execution_count": 17,
   "id": "fe47f297-9ed9-400c-85ae-eef3b16b463d",
   "metadata": {
    "tags": []
   },
   "outputs": [
    {
     "data": {
      "text/plain": [
       "tensor([[[[ 5.,  6.,  7.,  7.],\n",
       "          [ 9., 10., 11., 11.],\n",
       "          [13., 14., 15., 15.],\n",
       "          [13., 14., 15., 15.]],\n",
       "\n",
       "         [[ 6.,  7.,  8.,  8.],\n",
       "          [10., 11., 12., 12.],\n",
       "          [14., 15., 16., 16.],\n",
       "          [14., 15., 16., 16.]]]])"
      ]
     },
     "execution_count": 17,
     "metadata": {},
     "output_type": "execute_result"
    }
   ],
   "source": [
    "pool2d = nn.MaxPool2d((3,3), \n",
    "                      padding=1, \n",
    "                      stride=1\n",
    "                     )\n",
    "\n",
    "\n",
    "pool2d(X)"
   ]
  },
  {
   "cell_type": "markdown",
   "id": "b7159f49-598f-4ed5-9368-ad7157a96a31",
   "metadata": {},
   "source": [
    "## 小结\n",
    "\n",
    "* 最大池化和平均池化分别取池化窗口中输入元素的最大值和平均值作为输出。\n",
    "* 池化层的一个主要作用是缓解卷积层对位置的过度敏感性。\n",
    "* 可以指定池化层的填充和步幅。\n",
    "* 池化层的输出通道数跟输入通道数相同。"
   ]
  },
  {
   "cell_type": "code",
   "execution_count": null,
   "id": "edf164c1-abe0-4408-bc6f-5c9cfebd6fa5",
   "metadata": {},
   "outputs": [],
   "source": []
  }
 ],
 "metadata": {
  "kernelspec": {
   "display_name": "Python 3 (ipykernel)",
   "language": "python",
   "name": "python3"
  },
  "language_info": {
   "codemirror_mode": {
    "name": "ipython",
    "version": 3
   },
   "file_extension": ".py",
   "mimetype": "text/x-python",
   "name": "python",
   "nbconvert_exporter": "python",
   "pygments_lexer": "ipython3",
   "version": "3.8.10"
  }
 },
 "nbformat": 4,
 "nbformat_minor": 5
}
