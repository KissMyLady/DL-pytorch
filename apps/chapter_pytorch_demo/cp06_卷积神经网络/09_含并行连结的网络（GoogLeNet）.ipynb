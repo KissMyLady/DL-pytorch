{
 "cells": [
  {
   "cell_type": "markdown",
   "id": "739d261d-550a-40a3-b4d3-b91bc3f86544",
   "metadata": {},
   "source": [
    "# 5.9 含并行连结的网络（GoogLeNet）\n",
    "\n",
    "在2014年的ImageNet图像识别挑战赛中，一个名叫GoogLeNet的网络结构大放异彩 [1]。它虽然在名字上向LeNet致敬，但在网络结构上已经很难看到LeNet的影子。GoogLeNet吸收了NiN中网络串联网络的思想，并在此基础上做了很大改进。在随后的几年里，研究人员对GoogLeNet进行了数次改进，本节将介绍这个模型系列的第一个版本。"
   ]
  },
  {
   "cell_type": "markdown",
   "id": "5137d021-4d81-4484-bfe9-82662f73a5d2",
   "metadata": {},
   "source": [
    "## 5.9.1 Inception 块\n",
    "\n",
    "GoogLeNet中的基础卷积块叫作Inception块，得名于同名电影《盗梦空间》（Inception）。与上一节介绍的NiN块相比，这个基础块在结构上更加复杂，如图5.8所示。"
   ]
  },
  {
   "cell_type": "markdown",
   "id": "b3d2f240-5dcd-46ff-976e-9b25acea8ab0",
   "metadata": {},
   "source": [
    "由图5.8可以看出，Inception块里有4条并行的线路。前3条线路使用窗口大小分别是$1\\times 1$、$3\\times 3$和$5\\times 5$的卷积层来抽取不同空间尺寸下的信息，其中中间2个线路会对输入先做$1\\times 1$卷积来减少输入通道数，以降低模型复杂度。第四条线路则使用$3\\times 3$最大池化层，后接$1\\times 1$卷积层来改变通道数。4条线路都使用了合适的填充来使输入与输出的高和宽一致。最后我们将每条线路的输出在通道维上连结，并输入接下来的层中去。\n",
    "\n",
    "Inception块中可以自定义的超参数是每个层的输出通道数，我们以此来控制模型复杂度。"
   ]
  },
  {
   "cell_type": "code",
   "execution_count": 2,
   "id": "2e3b4cda-dec1-462d-95ec-30671d32fc0a",
   "metadata": {
    "tags": []
   },
   "outputs": [
    {
     "name": "stdout",
     "output_type": "stream",
     "text": [
      "1.13.1+cu117\n"
     ]
    }
   ],
   "source": [
    "import time\n",
    "import torch\n",
    "from torch import nn, optim\n",
    "import torch.nn.functional as F\n",
    "\n",
    "import sys\n",
    "sys.path.append(\"..\") \n",
    "import d2lzh_pytorch as d2l\n",
    "\n",
    "\n",
    "device = torch.device('cuda' if torch.cuda.is_available() else 'cpu')\n",
    "\n",
    "print(torch.__version__)"
   ]
  },
  {
   "cell_type": "code",
   "execution_count": 3,
   "id": "87ba9612-9671-4517-802f-f5fb00397be9",
   "metadata": {
    "tags": []
   },
   "outputs": [],
   "source": [
    "class Inception(nn.Module):\n",
    "    \n",
    "    # c1 - c4为每条线路里的层的输出通道数\n",
    "    def __init__(self, in_c, c1, c2, c3, c4):\n",
    "        super(Inception, self).__init__()\n",
    "        # 线路1，单1 x 1卷积层\n",
    "        self.p1_1 = nn.Conv2d(in_c, c1, kernel_size=1)\n",
    "        \n",
    "        # 线路2，1 x 1卷积层后接3 x 3卷积层\n",
    "        self.p2_1 = nn.Conv2d(in_c, c2[0], kernel_size=1)\n",
    "        self.p2_2 = nn.Conv2d(c2[0], c2[1], kernel_size=3, padding=1)\n",
    "        \n",
    "        # 线路3，1 x 1卷积层后接5 x 5卷积层\n",
    "        self.p3_1 = nn.Conv2d(in_c, c3[0], kernel_size=1)\n",
    "        self.p3_2 = nn.Conv2d(c3[0], c3[1], kernel_size=5, padding=2)\n",
    "        \n",
    "        # 线路4，3 x 3最大池化层后接1 x 1卷积层\n",
    "        self.p4_1 = nn.MaxPool2d(kernel_size=3, stride=1, padding=1)\n",
    "        self.p4_2 = nn.Conv2d(in_c, c4, kernel_size=1)\n",
    "\n",
    "    def forward(self, x):\n",
    "        p1 = F.relu(self.p1_1(x))\n",
    "        p2 = F.relu(self.p2_2(F.relu(self.p2_1(x))))\n",
    "        p3 = F.relu(self.p3_2(F.relu(self.p3_1(x))))\n",
    "        p4 = F.relu(self.p4_2(self.p4_1(x)))\n",
    "        return torch.cat((p1, p2, p3, p4), dim=1)  # 在通道维上连结输出\n"
   ]
  },
  {
   "cell_type": "markdown",
   "id": "f31c52e3-f530-4a9f-92a8-0d2b698f9e86",
   "metadata": {},
   "source": [
    "## 5.9.2 GoogLeNet模型\n",
    "\n",
    "GoogLeNet跟VGG一样，在主体卷积部分中使用5个模块（block），每个模块之间使用步幅为2的$3\\times 3$最大池化层来减小输出高宽。第一模块使用一个64通道的$7\\times 7$卷积层。"
   ]
  },
  {
   "cell_type": "code",
   "execution_count": 4,
   "id": "38ebc5ab-cd55-4068-b8fe-0d9ec02e0586",
   "metadata": {
    "tags": []
   },
   "outputs": [],
   "source": [
    "b1 = nn.Sequential(nn.Conv2d(1, 64, kernel_size=7, stride=2, padding=3),\n",
    "                   nn.ReLU(),\n",
    "                   nn.MaxPool2d(kernel_size=3, stride=2, padding=1)\n",
    "                  )"
   ]
  },
  {
   "cell_type": "markdown",
   "id": "9c85486f-97aa-4a45-9bc7-8053067fa391",
   "metadata": {},
   "source": [
    "第二模块使用2个卷积层：首先是64通道的$1\\times 1$卷积层，然后是将通道增大3倍的$3\\times 3$卷积层。它对应Inception块中的第二条线路。"
   ]
  },
  {
   "cell_type": "code",
   "execution_count": 5,
   "id": "bd26cabe-7026-42fd-8db6-5f7aa8eb7893",
   "metadata": {
    "tags": []
   },
   "outputs": [],
   "source": [
    "b2 = nn.Sequential(nn.Conv2d(64, 64, kernel_size=1),\n",
    "                   nn.Conv2d(64, 192, kernel_size=3, padding=1),\n",
    "                   nn.MaxPool2d(kernel_size=3, stride=2, padding=1)\n",
    "                  )"
   ]
  },
  {
   "cell_type": "markdown",
   "id": "34f0bcf4-edf8-41fb-a86d-0ae54d5b637c",
   "metadata": {},
   "source": [
    "第三模块串联2个完整的Inception块。第一个Inception块的输出通道数为$64+128+32+32=256$，其中4条线路的输出通道数比例为$64:128:32:32=2:4:1:1$。其中第二、第三条线路先分别将输入通道数减小至$96/192=1/2$和$16/192=1/12$后，再接上第二层卷积层。第二个Inception块输出通道数增至$128+192+96+64=480$，每条线路的输出通道数之比为$128:192:96:64 = 4:6:3:2$。其中第二、第三条线路先分别将输入通道数减小至$128/256=1/2$和$32/256=1/8$。"
   ]
  },
  {
   "cell_type": "code",
   "execution_count": 6,
   "id": "3ff39036-5ceb-4ce1-884d-881309fb2c94",
   "metadata": {
    "tags": []
   },
   "outputs": [],
   "source": [
    "b3 = nn.Sequential(Inception(192, 64, (96, 128), (16, 32), 32),\n",
    "                   Inception(256, 128, (128, 192), (32, 96), 64),\n",
    "                   nn.MaxPool2d(kernel_size=3, stride=2, padding=1)\n",
    "                  )"
   ]
  },
  {
   "cell_type": "markdown",
   "id": "2323268a-1a25-49d9-863c-833bbca8cd0b",
   "metadata": {},
   "source": [
    "第四模块更加复杂。它串联了5个Inception块，其输出通道数分别是$192+208+48+64=512$、$160+224+64+64=512$、$128+256+64+64=512$、$112+288+64+64=528$和$256+320+128+128=832$。这些线路的通道数分配和第三模块中的类似，首先含$3\\times 3$卷积层的第二条线路输出最多通道，其次是仅含$1\\times 1$卷积层的第一条线路，之后是含$5\\times 5$卷积层的第三条线路和含$3\\times 3$最大池化层的第四条线路。其中第二、第三条线路都会先按比例减小通道数。这些比例在各个Inception块中都略有不同。"
   ]
  },
  {
   "cell_type": "code",
   "execution_count": 7,
   "id": "b2915d24-b2ab-4e32-a919-b088a6698c35",
   "metadata": {
    "tags": []
   },
   "outputs": [],
   "source": [
    "b4 = nn.Sequential(Inception(480, 192, (96, 208), (16, 48), 64),\n",
    "                   Inception(512, 160, (112, 224), (24, 64), 64),\n",
    "                   Inception(512, 128, (128, 256), (24, 64), 64),\n",
    "                   Inception(512, 112, (144, 288), (32, 64), 64),\n",
    "                   Inception(528, 256, (160, 320), (32, 128), 128),\n",
    "                   nn.MaxPool2d(kernel_size=3, stride=2, padding=1)\n",
    "                  )"
   ]
  },
  {
   "cell_type": "markdown",
   "id": "c1116eba-3c6f-4e06-b25c-af6932bc293e",
   "metadata": {},
   "source": [
    "第五模块有输出通道数为$256+320+128+128=832$和$384+384+128+128=1024$的两个Inception块。其中每条线路的通道数的分配思路和第三、第四模块中的一致，只是在具体数值上有所不同。需要注意的是，第五模块的后面紧跟输出层，该模块同NiN一样使用全局平均池化层来将每个通道的高和宽变成1。最后我们将输出变成二维数组后接上一个输出个数为标签类别数的全连接层。"
   ]
  },
  {
   "cell_type": "code",
   "execution_count": 10,
   "id": "8e855964-f143-4e48-8838-796459013e5a",
   "metadata": {
    "tags": []
   },
   "outputs": [],
   "source": [
    "b5 = nn.Sequential(Inception(832, 256, (160, 320), (32, 128), 128),\n",
    "                   Inception(832, 384, (192, 384), (48, 128), 128),\n",
    "                   d2l.GlobalAvgPool2d()\n",
    "                  )"
   ]
  },
  {
   "cell_type": "code",
   "execution_count": 14,
   "id": "c5f098fe-859a-48c0-9528-0e1ca74eb716",
   "metadata": {
    "tags": []
   },
   "outputs": [],
   "source": [
    "# 模型拼接\n",
    "net = nn.Sequential(b1, \n",
    "                    b2, \n",
    "                    b3, \n",
    "                    b4, \n",
    "                    b5, \n",
    "                    d2l.FlattenLayer(), \n",
    "                    nn.Linear(1024, 10)\n",
    "                   )"
   ]
  },
  {
   "cell_type": "code",
   "execution_count": null,
   "id": "c171da46-f032-47dd-a5bb-e8dc9a9049d9",
   "metadata": {},
   "outputs": [],
   "source": [
    "# net "
   ]
  },
  {
   "cell_type": "code",
   "execution_count": 12,
   "id": "2ea65dfa-7ce5-4dc2-adc7-655972377162",
   "metadata": {
    "tags": []
   },
   "outputs": [
    {
     "name": "stdout",
     "output_type": "stream",
     "text": [
      "output shape:  torch.Size([1, 64, 24, 24])\n",
      "output shape:  torch.Size([1, 192, 12, 12])\n",
      "output shape:  torch.Size([1, 480, 6, 6])\n",
      "output shape:  torch.Size([1, 832, 3, 3])\n",
      "output shape:  torch.Size([1, 1024, 1, 1])\n",
      "output shape:  torch.Size([1, 1024])\n",
      "output shape:  torch.Size([1, 10])\n"
     ]
    }
   ],
   "source": [
    "\n",
    "# 简单运算一下\n",
    "X = torch.rand(1, 1, 96, 96)\n",
    "\n",
    "\n",
    "for blk in net.children(): \n",
    "    X = blk(X)\n",
    "    print('output shape: ', X.shape)"
   ]
  },
  {
   "cell_type": "markdown",
   "id": "e8f1c2ab-55f5-4029-b719-281fc4c85cfd",
   "metadata": {},
   "source": [
    "## 5.9.3 获取数据和训练模型\n",
    "\n",
    "我们使用高和宽均为96像素的图像来训练GoogLeNet模型。训练使用的图像依然来自Fashion-MNIST数据集。"
   ]
  },
  {
   "cell_type": "code",
   "execution_count": 16,
   "id": "abc8fa8c-186a-4b31-95e6-a8e6ed636f3d",
   "metadata": {
    "tags": []
   },
   "outputs": [],
   "source": [
    "\n",
    "# 加载数据\n",
    "batch_size = 128\n",
    "rootPath = r\"/mnt/g1t/ai_data/Datasets_on_HHD/FashionMNIST\"\n",
    "\n",
    "train_iter, test_iter = d2l.load_data_fashion_mnist(\n",
    "    batch_size, \n",
    "    resize=96,\n",
    "    root=rootPath)"
   ]
  },
  {
   "cell_type": "code",
   "execution_count": 17,
   "id": "d110b057-8925-4d17-add9-b9a267cba8f9",
   "metadata": {
    "tags": []
   },
   "outputs": [],
   "source": [
    "\n",
    "lr = 0.001\n",
    "num_epochs = 5\n",
    "\n",
    "\n",
    "optimizer = torch.optim.Adam(net.parameters(), lr=lr)"
   ]
  },
  {
   "cell_type": "code",
   "execution_count": 18,
   "id": "90a5e62f-2ad0-4841-9d08-4af66c3b5f97",
   "metadata": {
    "tags": []
   },
   "outputs": [
    {
     "name": "stdout",
     "output_type": "stream",
     "text": [
      "training on  cuda\n",
      "epoch 1, loss 0.9311, train acc 0.641, test acc 0.806, time 25.2 sec\n",
      "epoch 2, loss 0.4160, train acc 0.846, test acc 0.856, time 24.5 sec\n",
      "epoch 3, loss 0.3397, train acc 0.873, test acc 0.866, time 24.5 sec\n",
      "epoch 4, loss 0.3020, train acc 0.887, test acc 0.880, time 24.5 sec\n",
      "epoch 5, loss 0.2809, train acc 0.896, test acc 0.891, time 24.5 sec\n"
     ]
    }
   ],
   "source": [
    "\n",
    "# 训练\n",
    "d2l.train_ch5(net, train_iter, test_iter, \n",
    "              batch_size, \n",
    "              optimizer, \n",
    "              device, \n",
    "              num_epochs\n",
    "             )"
   ]
  },
  {
   "cell_type": "markdown",
   "id": "0c2ba6ef-7dd0-4f9b-820d-6b8990433039",
   "metadata": {},
   "source": [
    "## 小结\n",
    "\n",
    "* Inception块相当于一个有4条线路的子网络。它通过不同窗口形状的卷积层和最大池化层来并行抽取信息，并使用$1\\times 1$卷积层减少通道数从而降低模型复杂度。\n",
    "* GoogLeNet将多个设计精细的Inception块和其他层串联起来。其中Inception块的通道数分配之比是在ImageNet数据集上通过大量的实验得来的。\n",
    "* GoogLeNet和它的后继者们一度是ImageNet上最高效的模型之一：在类似的测试精度下，它们的计算复杂度往往更低。"
   ]
  },
  {
   "cell_type": "code",
   "execution_count": 19,
   "id": "79404695-266c-4248-b014-19a1d802784f",
   "metadata": {},
   "outputs": [
    {
     "name": "stdout",
     "output_type": "stream",
     "text": [
      "训练完毕, 模型已保存至当前路径\n"
     ]
    }
   ],
   "source": [
    "# 保存模型\n",
    "import datetime\n",
    "\n",
    "str_time = str(datetime.datetime.now().strftime(\"%Y-%m-%d_%H-%M-%S\"))\n",
    "torch.save(net, 'google_LeNet_%s.pt' % str_time)  # 全保存 39M\n",
    "print(\"训练完毕, 模型已保存至当前路径\")"
   ]
  },
  {
   "cell_type": "raw",
   "id": "0d980629-6a5a-439b-b998-f39e6e6c0e5a",
   "metadata": {},
   "source": [
    "Every 1.0s: nvidia-smi                                                                                                      pc-MS-7D46: Tue Jun 27 03:26:39 2023\n",
    "\n",
    "Tue Jun 27 03:26:39 2023\n",
    "+---------------------------------------------------------------------------------------+\n",
    "| NVIDIA-SMI 530.30.02              Driver Version: 530.30.02    CUDA Version: 12.1     |\n",
    "|-----------------------------------------+----------------------+----------------------+\n",
    "| GPU  Name                  Persistence-M| Bus-Id        Disp.A | Volatile Uncorr. ECC |\n",
    "| Fan  Temp  Perf            Pwr:Usage/Cap|         Memory-Usage | GPU-Util  Compute M. |\n",
    "|                                         |                      |               MIG M. |\n",
    "|=========================================+======================+======================|\n",
    "|   0  NVIDIA GeForce RTX 3070         On | 00000000:01:00.0 Off |                  N/A |\n",
    "| 31%   65C    P2              159W / 220W|   2366MiB /  8192MiB |     96%      Default |\n",
    "|                                         |                      |                  N/A |\n",
    "+-----------------------------------------+----------------------+----------------------+\n",
    "\n",
    "+---------------------------------------------------------------------------------------+\n",
    "| Processes:                                                                            |\n",
    "|  GPU   GI   CI        PID   Type   Process name                            GPU Memory |\n",
    "|        ID   ID                                                             Usage      |\n",
    "|=======================================================================================|\n",
    "|    0   N/A  N/A      1571      G   /usr/lib/xorg/Xorg                           16MiB |\n",
    "|    0   N/A  N/A      1869      G   /usr/bin/gnome-shell                          3MiB |\n",
    "|    0   N/A  N/A     51500      C   .../.virtualenvs/dl-pytorch/bin/python     2342MiB |\n",
    "+---------------------------------------------------------------------------------------+"
   ]
  },
  {
   "cell_type": "code",
   "execution_count": null,
   "id": "6e7057fc-bd26-4624-bbc5-af402a4315ce",
   "metadata": {},
   "outputs": [],
   "source": []
  }
 ],
 "metadata": {
  "kernelspec": {
   "display_name": "Python 3 (ipykernel)",
   "language": "python",
   "name": "python3"
  },
  "language_info": {
   "codemirror_mode": {
    "name": "ipython",
    "version": 3
   },
   "file_extension": ".py",
   "mimetype": "text/x-python",
   "name": "python",
   "nbconvert_exporter": "python",
   "pygments_lexer": "ipython3",
   "version": "3.8.10"
  }
 },
 "nbformat": 4,
 "nbformat_minor": 5
}
