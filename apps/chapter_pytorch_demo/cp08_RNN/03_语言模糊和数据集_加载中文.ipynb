{
 "cells": [
  {
   "cell_type": "code",
   "execution_count": 3,
   "id": "8a212f01-70a5-43c2-ba19-6bc59273923f",
   "metadata": {
    "tags": []
   },
   "outputs": [],
   "source": [
    "import random\n",
    "import torch\n",
    "# from d2l import torch as d2l\n",
    "\n",
    "import sys\n",
    "sys.path.append(\"..\")\n",
    "import d2lzh_pytorch.torch as d2l\n",
    "import d2lzh_pytorch.load_chinese_txt_data as load_chinese"
   ]
  },
  {
   "cell_type": "code",
   "execution_count": 4,
   "id": "786f5cef-8767-458a-b42d-e080cd726ba6",
   "metadata": {
    "tags": []
   },
   "outputs": [
    {
     "name": "stderr",
     "output_type": "stream",
     "text": [
      "Building prefix dict from the default dictionary ...\n",
      "Loading model from cache /tmp/jieba.cache\n",
      "Loading model cost 0.234 seconds.\n",
      "Prefix dict has been built successfully.\n"
     ]
    }
   ],
   "source": [
    "batch_size = 32\n",
    "num_steps = 35\n",
    "\n",
    "# train_iter, vocab = d2l.load_data_time_machine(batch_size, num_steps)\n",
    "\n",
    "txtPath = \"/mnt/g2t/ai_data/txtBook/贾平凹-山本.txt\"\n",
    "stopwords_file = \"/mnt/g2t/ai_data/txtBook/stopwords.txt\"\n",
    "\n",
    "train_iter, vocab = load_chinese.load_data_time_machine(\n",
    "    batch_size, \n",
    "    num_steps,\n",
    "    txtPath,\n",
    "    stopwords_file\n",
    ")"
   ]
  },
  {
   "cell_type": "code",
   "execution_count": 5,
   "id": "6ecd7e62-33ef-4205-b677-40f70c299561",
   "metadata": {
    "tags": []
   },
   "outputs": [
    {
     "name": "stdout",
     "output_type": "stream",
     "text": [
      "conters  =  torch.Size([32, 35])\n",
      "contexts_negatives  =  torch.Size([32, 35])\n"
     ]
    }
   ],
   "source": [
    "names =['conters', 'contexts_negatives', 'masks', 'labels']\n",
    "for batch in train_iter:\n",
    "    for name, data in zip(names, batch):\n",
    "        print(name, ' = ', data.shape)\n",
    "        \n",
    "    break"
   ]
  },
  {
   "cell_type": "code",
   "execution_count": 6,
   "id": "11eec64b-8515-4d0c-a075-50430a95870b",
   "metadata": {
    "tags": []
   },
   "outputs": [
    {
     "data": {
      "text/plain": [
       "[('<unk>', 0),\n",
       " ('说', 1),\n",
       " ('一', 2),\n",
       " ('子', 3),\n",
       " ('人', 4),\n",
       " ('井', 5),\n",
       " ('宗', 6),\n",
       " ('里', 7),\n",
       " ('秀', 8),\n",
       " ('上', 9)]"
      ]
     },
     "execution_count": 6,
     "metadata": {},
     "output_type": "execute_result"
    }
   ],
   "source": [
    "list(vocab.token_to_idx .items())[0:10]"
   ]
  },
  {
   "cell_type": "code",
   "execution_count": null,
   "id": "31b064ca-194e-4329-a3cf-dde9fea1f7fd",
   "metadata": {},
   "outputs": [],
   "source": []
  }
 ],
 "metadata": {
  "kernelspec": {
   "display_name": "Python 3 (ipykernel)",
   "language": "python",
   "name": "python3"
  },
  "language_info": {
   "codemirror_mode": {
    "name": "ipython",
    "version": 3
   },
   "file_extension": ".py",
   "mimetype": "text/x-python",
   "name": "python",
   "nbconvert_exporter": "python",
   "pygments_lexer": "ipython3",
   "version": "3.8.10"
  }
 },
 "nbformat": 4,
 "nbformat_minor": 5
}
