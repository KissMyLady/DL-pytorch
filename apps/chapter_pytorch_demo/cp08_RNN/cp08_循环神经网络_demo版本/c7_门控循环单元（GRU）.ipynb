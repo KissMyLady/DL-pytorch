{
 "cells": [
  {
   "cell_type": "markdown",
   "id": "4bfa48b9-4362-4f6b-a68f-5945cb77c9b1",
   "metadata": {},
   "source": [
    "# 6.7 门控循环单元（GRU）\n",
    "\n",
    "上一节介绍了循环神经网络中的梯度计算方法。我们发现，当时间步数较大或者时间步较小时，循环神经网络的梯度较容易出现衰减或爆炸。虽然裁剪梯度可以应对梯度爆炸，但无法解决梯度衰减的问题。通常由于这个原因，循环神经网络在实际中较难捕捉时间序列中时间步距离较大的依赖关系。\n",
    "\n",
    "门控循环神经网络（gated recurrent neural network）的提出，正是为了更好地捕捉时间序列中时间步距离较大的依赖关系。它通过可以学习的门来控制信息的流动。其中，门控循环单元（gated recurrent unit，GRU）是一种常用的门控循环神经网络 [1, 2]。另一种常用的门控循环神经网络则将在下一节中介绍。"
   ]
  },
  {
   "cell_type": "markdown",
   "id": "d5764df6-d564-4729-bac5-dea4309bccdf",
   "metadata": {},
   "source": [
    "## 6.7.1 门控循环单元\n",
    "\n",
    "下面将介绍门控循环单元的设计。它引入了重置门（reset gate）和更新门（update gate）的概念，从而修改了循环神经网络中隐藏状态的计算方式。"
   ]
  },
  {
   "cell_type": "markdown",
   "id": "d0775633-1475-4448-89d2-5adc8d3dcbc2",
   "metadata": {},
   "source": [
    "### 6.7.1.1 重置门和更新门\n",
    "\n",
    "如图6.4所示，门控循环单元中的重置门和更新门的输入均为当前时间步输入$\\boldsymbol{X}_t$与上一时间步隐藏状态$\\boldsymbol{H}_{t-1}$，输出由激活函数为sigmoid函数的全连接层计算得到。"
   ]
  },
  {
   "cell_type": "markdown",
   "id": "17b424be-a777-47ef-9239-e9207708c3bd",
   "metadata": {},
   "source": [
    "具体来说，假设隐藏单元个数为$h$，给定时间步$t$的小批量输入$\\boldsymbol{X}_t \\in \\mathbb{R}^{n \\times d}$（样本数为$n$，输入个数为$d$）和上一时间步隐藏状态$\\boldsymbol{H}_{t-1} \\in \\mathbb{R}^{n \\times h}$。重置门$\\boldsymbol{R}_t \\in \\mathbb{R}^{n \\times h}$和更新门$\\boldsymbol{Z}_t \\in \\mathbb{R}^{n \\times h}$的计算如下：\n",
    "\n",
    "$$\n",
    "\\begin{aligned}\n",
    "\\boldsymbol{R}_t = \\sigma(\\boldsymbol{X}_t \\boldsymbol{W}_{xr} + \\boldsymbol{H}_{t-1} \\boldsymbol{W}_{hr} + \\boldsymbol{b}_r),\\\\\n",
    "\\boldsymbol{Z}_t = \\sigma(\\boldsymbol{X}_t \\boldsymbol{W}_{xz} + \\boldsymbol{H}_{t-1} \\boldsymbol{W}_{hz} + \\boldsymbol{b}_z),\n",
    "\\end{aligned}\n",
    "$$\n",
    "\n",
    "其中$\\boldsymbol{W}_{xr}, \\boldsymbol{W}_{xz} \\in \\mathbb{R}^{d \\times h}$和$\\boldsymbol{W}_{hr}, \\boldsymbol{W}_{hz} \\in \\mathbb{R}^{h \\times h}$是权重参数，$\\boldsymbol{b}_r, \\boldsymbol{b}_z \\in \\mathbb{R}^{1 \\times h}$是偏差参数。3.8节（多层感知机）节中介绍过，sigmoid函数可以将元素的值变换到0和1之间。因此，重置门$\\boldsymbol{R}_t$和更新门$\\boldsymbol{Z}_t$中每个元素的值域都是$[0, 1]$。"
   ]
  },
  {
   "cell_type": "markdown",
   "id": "8fac3aaa-7568-4350-a5cf-df343605a1be",
   "metadata": {},
   "source": [
    "### 6.7.1.2 候选隐藏状态\n",
    "\n",
    "接下来，门控循环单元将计算候选隐藏状态来辅助稍后的隐藏状态计算。如图6.5所示，我们将当前时间步重置门的输出与上一时间步隐藏状态做按元素乘法（符号为$\\odot$）。如果重置门中元素值接近0，那么意味着重置对应隐藏状态元素为0，即丢弃上一时间步的隐藏状态。如果元素值接近1，那么表示保留上一时间步的隐藏状态。然后，将按元素乘法的结果与当前时间步的输入连结，再通过含激活函数tanh的全连接层计算出候选隐藏状态，其所有元素的值域为$[-1, 1]$。"
   ]
  },
  {
   "cell_type": "markdown",
   "id": "c302ea65-7373-4e15-bc3b-5f4186ace3df",
   "metadata": {},
   "source": [
    "具体来说，时间步$t$的候选隐藏状态$\\tilde{\\boldsymbol{H}}_t \\in \\mathbb{R}^{n \\times h}$的计算为\n",
    "\n",
    "$$\\tilde{\\boldsymbol{H}}_t = \\text{tanh}(\\boldsymbol{X}_t \\boldsymbol{W}_{xh} + \\left(\\boldsymbol{R}_t \\odot \\boldsymbol{H}_{t-1}\\right) \\boldsymbol{W}_{hh} + \\boldsymbol{b}_h),$$\n",
    "\n",
    "其中$\\boldsymbol{W}_{xh} \\in \\mathbb{R}^{d \\times h}$和$\\boldsymbol{W}_{hh} \\in \\mathbb{R}^{h \\times h}$是权重参数，$\\boldsymbol{b}_h \\in \\mathbb{R}^{1 \\times h}$是偏差参数。从上面这个公式可以看出，重置门控制了上一时间步的隐藏状态如何流入当前时间步的候选隐藏状态。而上一时间步的隐藏状态可能包含了时间序列截至上一时间步的全部历史信息。因此，重置门可以用来丢弃与预测无关的历史信息。"
   ]
  },
  {
   "cell_type": "markdown",
   "id": "ed703d56-e270-4201-a414-d3c1ca1f2d82",
   "metadata": {},
   "source": [
    "### 6.7.1.3 隐藏状态\n",
    "\n",
    "最后，时间步$t$的隐藏状态$\\boldsymbol{H}_t \\in \\mathbb{R}^{n \\times h}$的计算使用当前时间步的更新门$\\boldsymbol{Z}_t$来对上一时间步的隐藏状态$\\boldsymbol{H}_{t-1}$和当前时间步的候选隐藏状态$\\tilde{\\boldsymbol{H}}_t$做组合：\n",
    "\n",
    "$$\\boldsymbol{H}_t = \\boldsymbol{Z}_t \\odot \\boldsymbol{H}_{t-1}  + (1 - \\boldsymbol{Z}_t) \\odot \\tilde{\\boldsymbol{H}}_t.$$"
   ]
  },
  {
   "cell_type": "markdown",
   "id": "a3eee8be-d8e4-498d-85cf-124d1387c5f9",
   "metadata": {},
   "source": [
    "值得注意的是，更新门可以控制隐藏状态应该如何被包含当前时间步信息的候选隐藏状态所更新，如图6.6所示。假设更新门在时间步$t'$到$t$（$t' < t$）之间一直近似1。那么，在时间步$t'$到$t$之间的输入信息几乎没有流入时间步$t$的隐藏状态$\\boldsymbol{H}_t$。实际上，这可以看作是较早时刻的隐藏状态$\\boldsymbol{H}_{t'-1}$一直通过时间保存并传递至当前时间步$t$。这个设计可以应对循环神经网络中的梯度衰减问题，并更好地捕捉时间序列中时间步距离较大的依赖关系。\n",
    "\n",
    "我们对门控循环单元的设计稍作总结：\n",
    "\n",
    "* 重置门有助于捕捉时间序列里短期的依赖关系；\n",
    "* 更新门有助于捕捉时间序列里长期的依赖关系。"
   ]
  },
  {
   "cell_type": "markdown",
   "id": "15cc23f8-f17e-41aa-88ef-66a35c73ffbf",
   "metadata": {},
   "source": [
    "## 6.7.2 读取数据集\n",
    "\n",
    "为了实现并展示门控循环单元，下面依然使用周杰伦歌词数据集来训练模型作词。这里除门控循环单元以外的实现已在6.2节（循环神经网络）中介绍过。以下为读取数据集部分。"
   ]
  },
  {
   "cell_type": "code",
   "execution_count": 1,
   "id": "2ac27358-58b3-4910-abd0-05dcb5b2a3a9",
   "metadata": {
    "tags": []
   },
   "outputs": [],
   "source": [
    "import numpy as np\n",
    "import torch\n",
    "from torch import nn, optim\n",
    "import torch.nn.functional as F\n",
    "\n",
    "import sys\n",
    "sys.path.append(\"..\") \n",
    "import d2lzh_pytorch as d2l\n",
    "\n",
    "\n",
    "device = torch.device('cuda' if torch.cuda.is_available() else 'cpu')"
   ]
  },
  {
   "cell_type": "code",
   "execution_count": 2,
   "id": "131c3a61-c69f-4ddd-85cc-41f3a95b8215",
   "metadata": {
    "tags": []
   },
   "outputs": [],
   "source": [
    "\n",
    "(corpus_indices, char_to_idx, idx_to_char, vocab_size) = d2l.load_data_jay_lyrics()"
   ]
  },
  {
   "cell_type": "markdown",
   "id": "39c5e513-463a-40a3-9218-49a1f03f061a",
   "metadata": {},
   "source": [
    "## 6.7.3 从零开始实现\n",
    "\n",
    "我们先介绍如何从零开始实现门控循环单元。\n",
    "\n",
    "### 6.7.3.1 初始化模型参数\n",
    "\n",
    "下面的代码对模型参数进行初始化。超参数`num_hiddens`定义了隐藏单元的个数。"
   ]
  },
  {
   "cell_type": "code",
   "execution_count": 3,
   "id": "0d1958b8-776e-4bef-b4e5-0504aeb60c0e",
   "metadata": {
    "tags": []
   },
   "outputs": [
    {
     "name": "stdout",
     "output_type": "stream",
     "text": [
      "will use cuda\n"
     ]
    }
   ],
   "source": [
    "num_inputs, num_hiddens, num_outputs = vocab_size, 256, vocab_size\n",
    "print('will use', device)\n",
    "\n",
    "\n",
    "def get_params():\n",
    "    \n",
    "    def _one(shape):\n",
    "        ts = torch.tensor(np.random.normal(0, 0.01, size=shape), \n",
    "                          device=device, dtype=torch.float32)\n",
    "        return torch.nn.Parameter(ts, requires_grad=True)\n",
    "    \n",
    "    def _three():\n",
    "        return (_one((num_inputs, num_hiddens)),\n",
    "                _one((num_hiddens, num_hiddens)),\n",
    "                torch.nn.Parameter(torch.zeros(num_hiddens, device=device, \n",
    "                                               dtype=torch.float32), \n",
    "                                   requires_grad=True))\n",
    "\n",
    "    W_xz, W_hz, b_z = _three()  # 更新门参数\n",
    "    W_xr, W_hr, b_r = _three()  # 重置门参数\n",
    "    W_xh, W_hh, b_h = _three()  # 候选隐藏状态参数\n",
    "    \n",
    "    # 输出层参数\n",
    "    W_hq = _one((num_hiddens, num_outputs))\n",
    "    b_q = torch.nn.Parameter(torch.zeros(num_outputs, \n",
    "                                         device=device, \n",
    "                                         dtype=torch.float32\n",
    "                                        ), requires_grad=True)\n",
    "    \n",
    "    return nn.ParameterList([W_xz, W_hz, b_z, \n",
    "                             W_xr, W_hr, b_r, \n",
    "                             W_xh, W_hh, b_h, \n",
    "                             W_hq, b_q])"
   ]
  },
  {
   "cell_type": "markdown",
   "id": "f5395454-cfd9-4e78-89f9-00b9d3d1f5c8",
   "metadata": {},
   "source": [
    "### 6.7.3.2 定义模型\n",
    "\n",
    "下面的代码定义隐藏状态初始化函数`init_gru_state`。同6.4节（循环神经网络的从零开始实现）中定义的`init_rnn_state`函数一样，它返回由一个形状为(批量大小, 隐藏单元个数)的值为0的`Tensor`组成的元组。"
   ]
  },
  {
   "cell_type": "code",
   "execution_count": 4,
   "id": "414c9d59-1919-439e-9685-bcd772913b1b",
   "metadata": {
    "tags": []
   },
   "outputs": [],
   "source": [
    "def init_gru_state(batch_size, num_hiddens, device):\n",
    "    return (torch.zeros((batch_size, num_hiddens), device=device), )"
   ]
  },
  {
   "cell_type": "markdown",
   "id": "6bbd46dd-7f5d-43d6-96a2-a8bc120d8e25",
   "metadata": {},
   "source": [
    "下面根据门控循环单元的计算表达式定义模型。"
   ]
  },
  {
   "cell_type": "code",
   "execution_count": 5,
   "id": "1dc8ceb4-4095-4042-ad48-199166df3639",
   "metadata": {
    "tags": []
   },
   "outputs": [],
   "source": [
    "\n",
    "# GRU实现\n",
    "def gru(inputs, state, params):\n",
    "    \n",
    "    W_xz, W_hz, b_z, \\\n",
    "    W_xr, W_hr, b_r, \\\n",
    "    W_xh, W_hh, b_h, \\\n",
    "    W_hq, b_q = params\n",
    "    \n",
    "    H, = state\n",
    "    outputs = []\n",
    "    \n",
    "    for X in inputs:\n",
    "        Z = torch.sigmoid(torch.matmul(X, W_xz) + torch.matmul(H, W_hz) + b_z)\n",
    "        R = torch.sigmoid(torch.matmul(X, W_xr) + torch.matmul(H, W_hr) + b_r)\n",
    "        H_tilda = torch.tanh(torch.matmul(X, W_xh) + torch.matmul(R * H, W_hh) + b_h)\n",
    "        H = Z * H + (1 - Z) * H_tilda\n",
    "        Y = torch.matmul(H, W_hq) + b_q\n",
    "        outputs.append(Y)\n",
    "        \n",
    "    return outputs, (H,)"
   ]
  },
  {
   "cell_type": "markdown",
   "id": "d9a67f81-3a93-4644-b7ba-eb3bdbd30fa7",
   "metadata": {},
   "source": [
    "### 6.7.3.3 训练模型并创作歌词\n",
    "num_epochs, num_steps, batch_size, lr, clipping_theta = 160, 35, 32, 1e2, 1e-2\n",
    "pred_period, pred_len, prefixes = 40, 50, ['分开', '不分开']\n",
    "我们在训练模型时只使用相邻采样。设置好超参数后，我们将训练模型并根据前缀“分开”和“不分开”分别创作长度为50个字符的一段歌词。"
   ]
  },
  {
   "cell_type": "code",
   "execution_count": 6,
   "id": "46284cab-b921-4955-9c4f-75f8d095a684",
   "metadata": {
    "tags": []
   },
   "outputs": [],
   "source": [
    "num_epochs = 240\n",
    "num_steps = 35\n",
    "batch_size = 32\n",
    "lr = 1e2\n",
    "clipping_theta = 1e-2\n",
    "\n",
    "\n",
    "pred_period = 40\n",
    "pred_len = 50\n",
    "prefixes = ['分开', '不分开']\n",
    "\n",
    "# num_epochs, num_steps, batch_size, lr, clipping_theta = 160, 35, 32, 1e2, 1e-2\n",
    "# pred_period, pred_len, prefixes = 40, 50, ['分开', '不分开']"
   ]
  },
  {
   "cell_type": "markdown",
   "id": "f10803bd-e784-4eb4-98f9-802e56ab40f7",
   "metadata": {},
   "source": [
    "我们每过40个迭代周期便根据当前训练的模型创作一段歌词。"
   ]
  },
  {
   "cell_type": "code",
   "execution_count": 7,
   "id": "90f84a6c-71f2-4de6-a4e0-cb3a134df54f",
   "metadata": {
    "tags": []
   },
   "outputs": [
    {
     "name": "stdout",
     "output_type": "stream",
     "text": [
      "epoch 40, perplexity 150.217321, time 0.10 sec\n",
      " - 分开 我想你的让我 你不的让我 我想你的让我想想想想想你想你想想想想你想你想想想想你想你想想想想你想你想\n",
      " - 不分开 我想你的让我 你不的让我 我想你的让我想想想想想你想你想想想想你想你想想想想你想你想想想想你想你想\n",
      "epoch 80, perplexity 33.464942, time 0.10 sec\n",
      " - 分开 我想要这样 我不要再想 我不要再想 我不能再想 我不能 爱你的美笑 你想开不想 我不要再想 我不要\n",
      " - 不分开 我不要再想 我不要再想 我不能再想 我不能 爱你的美笑 你想开不想 我不要再想 我不要再想 我不能\n",
      "epoch 120, perplexity 6.180920, time 0.10 sec\n",
      " - 分开 一直走 说你在那么 我想就这样牵着你的手不放开 爱可不可以简简单没有 就和你说 我有多难恼 你对在\n",
      " - 不分开 我不要再想 我不 我不 我不要再想你 不知不觉 你已经离开我 不知不觉 我跟了这节奏 后知后觉 又\n",
      "epoch 160, perplexity 1.782432, time 0.10 sec\n",
      " - 分开 一直走中 谁人一碗热粥 配上几斤的牛肉 我说店小二 三两银够不够 景色入秋 漫天黄沙凉过 塞北的客\n",
      " - 不分开 我知不觉 你已经离开我 不知不觉 我跟了这节奏 后知后觉 又过了一个秋 后知后觉 我该好好生活 我\n",
      "epoch 200, perplexity 1.169466, time 0.10 sec\n",
      " - 分开 问弄的 是你是是       所有回 我不要 我说啊的太袋有样 不想太你 你对我球多重要 我后悔没\n",
      " - 不分开 我知好没生 我不要 我已 这样我甜妈 一话是乌鸦抢猜到的窝 它在灌木丛旁邂逅 一只令它心仪的母斑鸠\n",
      "epoch 240, perplexity 1.073429, time 0.10 sec\n",
      " - 分开 问弄的 是你是在发  你在那里出你的叹丽 夕阳第一次遇见的你 Jay Chou  如果我遇见你是一\n",
      " - 不分开 我知好没生活 不知不觉 你已经离开我 不知不觉 我跟了这节奏 后知后觉 后知后觉 迷迷蒙蒙 你给的\n"
     ]
    }
   ],
   "source": [
    "\n",
    "# 训练\n",
    "d2l.train_and_predict_rnn(gru, get_params, init_gru_state, num_hiddens,\n",
    "                          vocab_size, device, corpus_indices, idx_to_char,\n",
    "                          char_to_idx, False, num_epochs, num_steps, lr,\n",
    "                          clipping_theta, batch_size, pred_period, pred_len,\n",
    "                          prefixes)"
   ]
  },
  {
   "cell_type": "markdown",
   "id": "352a6328-d517-410b-b714-9450844735f8",
   "metadata": {},
   "source": [
    "## 小结\n",
    "\n",
    "* 门控循环神经网络可以更好地捕捉时间序列中时间步距离较大的依赖关系。\n",
    "* 门控循环单元引入了门的概念，从而修改了循环神经网络中隐藏状态的计算方式。它包括重置门、更新门、候选隐藏状态和隐藏状态。\n",
    "* 重置门有助于捕捉时间序列里短期的依赖关系。\n",
    "* 更新门有助于捕捉时间序列里长期的依赖关系。"
   ]
  },
  {
   "cell_type": "code",
   "execution_count": null,
   "id": "cb5d6ab7-e3bf-4fa2-92ab-7c06f141a195",
   "metadata": {},
   "outputs": [],
   "source": []
  }
 ],
 "metadata": {
  "kernelspec": {
   "display_name": "Python 3 (ipykernel)",
   "language": "python",
   "name": "python3"
  },
  "language_info": {
   "codemirror_mode": {
    "name": "ipython",
    "version": 3
   },
   "file_extension": ".py",
   "mimetype": "text/x-python",
   "name": "python",
   "nbconvert_exporter": "python",
   "pygments_lexer": "ipython3",
   "version": "3.8.10"
  }
 },
 "nbformat": 4,
 "nbformat_minor": 5
}
