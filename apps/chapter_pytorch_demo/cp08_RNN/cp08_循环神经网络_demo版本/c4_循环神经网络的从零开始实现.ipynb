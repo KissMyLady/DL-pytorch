{
 "cells": [
  {
   "cell_type": "markdown",
   "id": "9d1e8d5d-a590-4b9c-8258-590c83c01935",
   "metadata": {},
   "source": [
    "# 6.4 循环神经网络的从零开始实现\n",
    "\n",
    "在本节中，我们将从零开始实现一个基于字符级循环神经网络的语言模型，并在周杰伦专辑歌词数据集上训练一个模型来进行歌词创作。首先，我们读取周杰伦专辑歌词数据集："
   ]
  },
  {
   "cell_type": "code",
   "execution_count": 16,
   "id": "29a2dcf3-26d7-4f8f-9152-832a92f25fd9",
   "metadata": {
    "tags": []
   },
   "outputs": [],
   "source": [
    "import time\n",
    "import math\n",
    "import numpy as np\n",
    "import torch\n",
    "from torch import nn, optim\n",
    "import torch.nn.functional as F\n",
    "\n",
    "import sys\n",
    "sys.path.append(\"..\") \n",
    "import d2lzh_pytorch as d2l\n",
    "\n",
    "\n",
    "device = torch.device('cuda' if torch.cuda.is_available() else 'cpu')"
   ]
  },
  {
   "cell_type": "code",
   "execution_count": 27,
   "id": "25d1d05c-3c83-409d-80d9-aa295ec7dbfc",
   "metadata": {
    "tags": []
   },
   "outputs": [],
   "source": [
    "\n",
    "(corpus_indices, char_to_idx, idx_to_char, vocab_size) = d2l.load_data_jay_lyrics()"
   ]
  },
  {
   "cell_type": "markdown",
   "id": "98f9bf7f-e083-4a2e-8945-462247e5ac33",
   "metadata": {},
   "source": [
    "## 6.4.1 one-hot向量\n",
    "\n",
    "为了将词表示成向量输入到神经网络，一个简单的办法是使用one-hot向量。假设词典中不同字符的数量为$N$（即词典大小`vocab_size`），每个字符已经同一个从0到$N-1$的连续整数值索引一一对应。如果一个字符的索引是整数$i$, 那么我们创建一个全0的长为$N$的向量，并将其位置为$i$的元素设成1。该向量就是对原字符的one-hot向量。下面分别展示了索引为0和2的one-hot向量，向量长度等于词典大小。\n",
    "> pytorch没有自带one-hot函数(新版好像有了)，下面自己实现一个"
   ]
  },
  {
   "cell_type": "code",
   "execution_count": 33,
   "id": "d55399de-d7c7-4947-aa1c-317103fbeb3d",
   "metadata": {
    "tags": []
   },
   "outputs": [
    {
     "data": {
      "text/plain": [
       "tensor([[1., 0., 0.,  ..., 0., 0., 0.],\n",
       "        [0., 1., 0.,  ..., 0., 0., 0.],\n",
       "        [0., 0., 1.,  ..., 0., 0., 0.],\n",
       "        [0., 0., 0.,  ..., 0., 0., 0.],\n",
       "        [0., 0., 0.,  ..., 0., 0., 0.]])"
      ]
     },
     "execution_count": 33,
     "metadata": {},
     "output_type": "execute_result"
    }
   ],
   "source": [
    "def one_hot(x, n_class, dtype=torch.float32): \n",
    "    # X shape: (batch), output shape: (batch, n_class)\n",
    "    x = x.long()\n",
    "    \n",
    "    res = torch.zeros(x.shape[0], \n",
    "                      n_class, \n",
    "                      dtype=dtype, \n",
    "                      device=x.device\n",
    "                     )\n",
    "\n",
    "    res.scatter_(1, x.view(-1, 1), 1)\n",
    "    return res\n",
    "    \n",
    "    \n",
    "x = torch.tensor([0, 1, 2, 3, 4])\n",
    "one_hot(x, vocab_size)"
   ]
  },
  {
   "cell_type": "markdown",
   "id": "4e338684-6111-460d-8fe1-ec67ef94b496",
   "metadata": {},
   "source": [
    "我们每次采样的小批量的形状是(批量大小, 时间步数)。下面的函数将这样的小批量变换成数个可以输入进网络的形状为(批量大小, 词典大小)的矩阵，矩阵个数等于时间步数。也就是说，时间步$t$的输入为$\\boldsymbol{X}_t \\in \\mathbb{R}^{n \\times d}$，其中$n$为批量大小，$d$为输入个数，即one-hot向量长度（词典大小）。"
   ]
  },
  {
   "cell_type": "code",
   "execution_count": 32,
   "id": "ca760cd2-f58a-4de0-a08e-3a6148c3d1a6",
   "metadata": {
    "tags": []
   },
   "outputs": [
    {
     "name": "stdout",
     "output_type": "stream",
     "text": [
      "X:  tensor([[0, 1, 2, 3, 4],\n",
      "        [5, 6, 7, 8, 9]])\n",
      "X.shape:  torch.Size([2, 5])\n",
      "5 torch.Size([2, 1027])\n"
     ]
    }
   ],
   "source": [
    "\n",
    "def to_onehot(X, n_class):  \n",
    "    # X shape: (batch, seq_len), output: seq_len elements of (batch, n_class)\n",
    "    return [one_hot(X[:, i], n_class) for i in range(X.shape[1])]\n",
    "\n",
    "\n",
    "X = torch.arange(10).view(2, 5)\n",
    "print('X: ', X)\n",
    "print('X.shape: ', X.shape)\n",
    "\n",
    "inputs = to_onehot(X, vocab_size)\n",
    "\n",
    "\n",
    "print(len(inputs), inputs[0].shape)"
   ]
  },
  {
   "cell_type": "markdown",
   "id": "e51245a3-b455-4151-88ca-c46d2814e11f",
   "metadata": {},
   "source": [
    "## 6.4.2 初始化模型参数\n",
    "\n",
    "接下来，我们初始化模型参数。隐藏单元个数 `num_hiddens`是一个超参数。"
   ]
  },
  {
   "cell_type": "code",
   "execution_count": 5,
   "id": "a2ee6006-1d61-4b18-bf3a-8a0d507399cd",
   "metadata": {
    "tags": []
   },
   "outputs": [
    {
     "name": "stdout",
     "output_type": "stream",
     "text": [
      "will use cuda\n"
     ]
    }
   ],
   "source": [
    "num_inputs = vocab_size\n",
    "num_hiddens = 256\n",
    "num_outputs = vocab_size\n",
    "\n",
    "\n",
    "print('will use', device)\n",
    "\n",
    "\n",
    "def get_params():\n",
    "    \n",
    "    def _one(shape):\n",
    "        ts = torch.tensor(np.random.normal(0, 0.01, size=shape), \n",
    "                          device=device, \n",
    "                          dtype=torch.float32\n",
    "                         )\n",
    "        return torch.nn.Parameter(ts, requires_grad=True)\n",
    "\n",
    "    # 隐藏层参数\n",
    "    W_xh = _one((num_inputs, num_hiddens))\n",
    "    W_hh = _one((num_hiddens, num_hiddens))\n",
    "    b_h = torch.nn.Parameter(torch.zeros(num_hiddens, \n",
    "                                         device=device, \n",
    "                                         requires_grad=True))\n",
    "    \n",
    "    # 输出层参数\n",
    "    W_hq = _one((num_hiddens, num_outputs))\n",
    "    b_q = torch.nn.Parameter(torch.zeros(num_outputs, \n",
    "                                         device=device, \n",
    "                                         requires_grad=True))\n",
    "    \n",
    "    return nn.ParameterList([W_xh, W_hh, b_h, W_hq, b_q])"
   ]
  },
  {
   "cell_type": "markdown",
   "id": "1dcceb7a-8024-473c-b1d1-4d768640157b",
   "metadata": {},
   "source": [
    "## 6.4.3 定义模型\n",
    "\n",
    "我们根据循环神经网络的计算表达式实现该模型。首先定义`init_rnn_state`函数来返回初始化的隐藏状态。它返回由一个形状为(批量大小, 隐藏单元个数)的值为0的`NDArray`组成的元组。使用元组是为了更便于处理隐藏状态含有多个`NDArray`的情况。"
   ]
  },
  {
   "cell_type": "code",
   "execution_count": 6,
   "id": "9eafdeed-1c02-4cb0-88e9-260db55a7133",
   "metadata": {
    "tags": []
   },
   "outputs": [],
   "source": [
    "def init_rnn_state(batch_size, num_hiddens, device):\n",
    "    return (torch.zeros((batch_size, num_hiddens), device=device), )"
   ]
  },
  {
   "cell_type": "markdown",
   "id": "4d176438-8939-4bda-b613-6b59b51418e2",
   "metadata": {},
   "source": [
    "下面的`rnn`函数定义了在一个时间步里如何计算隐藏状态和输出。这里的激活函数使用了tanh函数。3.8节（多层感知机）中介绍过，当元素在实数域上均匀分布时，tanh函数值的均值为0。"
   ]
  },
  {
   "cell_type": "code",
   "execution_count": 7,
   "id": "1a9a05d9-6ef2-4ab0-8e39-4a99addab8b7",
   "metadata": {
    "tags": []
   },
   "outputs": [],
   "source": [
    "def rnn(inputs, state, params):\n",
    "    # inputs和outputs皆为num_steps个形状为(batch_size, vocab_size)的矩阵\n",
    "    W_xh, W_hh, b_h, W_hq, b_q = params\n",
    "    H, = state\n",
    "    outputs = []\n",
    "    \n",
    "    for X in inputs:\n",
    "        H = torch.tanh(torch.matmul(X, W_xh) + torch.matmul(H, W_hh) + b_h)\n",
    "        Y = torch.matmul(H, W_hq) + b_q\n",
    "        outputs.append(Y)\n",
    "        pass\n",
    "    \n",
    "    return outputs, (H,)"
   ]
  },
  {
   "cell_type": "markdown",
   "id": "28f834eb-ab95-4c9d-8afb-7f280d7fd140",
   "metadata": {},
   "source": [
    "做个简单的测试来观察输出结果的个数（时间步数），以及第一个时间步的输出层输出的形状和隐藏状态的形状。"
   ]
  },
  {
   "cell_type": "code",
   "execution_count": 8,
   "id": "7eb13d5a-a41b-4005-8610-48c16d6f5cde",
   "metadata": {
    "tags": []
   },
   "outputs": [
    {
     "name": "stdout",
     "output_type": "stream",
     "text": [
      "5 torch.Size([2, 1027]) torch.Size([2, 256])\n"
     ]
    }
   ],
   "source": [
    "state = init_rnn_state(X.shape[0], num_hiddens, device)\n",
    "inputs = to_onehot(X.to(device), vocab_size)\n",
    "params = get_params()\n",
    "outputs, state_new = rnn(inputs, state, params)\n",
    "\n",
    "\n",
    "print(len(outputs), outputs[0].shape, state_new[0].shape) "
   ]
  },
  {
   "cell_type": "markdown",
   "id": "f7011e6e-3064-454b-b019-f282c579356c",
   "metadata": {},
   "source": [
    "## 6.4.4 定义预测函数\n",
    "\n",
    "以下函数基于前缀`prefix`（含有数个字符的字符串）来预测接下来的`num_chars`个字符。这个函数稍显复杂，其中我们将循环神经单元`rnn`设置成了函数参数，这样在后面小节介绍其他循环神经网络时能重复使用这个函数。"
   ]
  },
  {
   "cell_type": "code",
   "execution_count": 9,
   "id": "37ac1503-e3cc-4931-82dd-b5436a1be5c2",
   "metadata": {
    "tags": []
   },
   "outputs": [],
   "source": [
    "# 本函数已保存在d2lzh_pytorch包中方便以后使用\n",
    "def predict_rnn(prefix, num_chars, rnn, params, init_rnn_state,\n",
    "                num_hiddens, vocab_size, device, idx_to_char, char_to_idx):\n",
    "    \n",
    "    state = init_rnn_state(1, num_hiddens, device)\n",
    "    output = [char_to_idx[prefix[0]]]\n",
    "    \n",
    "    for t in range(num_chars + len(prefix) - 1):\n",
    "        # 将上一时间步的输出作为当前时间步的输入\n",
    "        X = to_onehot(torch.tensor([[output[-1]]], device=device), vocab_size)\n",
    "        \n",
    "        # 计算输出和更新隐藏状态\n",
    "        (Y, state) = rnn(X, state, params)\n",
    "        \n",
    "        # 下一个时间步的输入是prefix里的字符或者当前的最佳预测字符\n",
    "        if t < len(prefix) - 1:\n",
    "            output.append(char_to_idx[prefix[t + 1]])\n",
    "        else:\n",
    "            output.append(int(Y[0].argmax(dim=1).item()))\n",
    "            \n",
    "    return ''.join([idx_to_char[i] for i in output])"
   ]
  },
  {
   "cell_type": "markdown",
   "id": "6c448932-64e8-476b-9a76-af2ab4c5d9ba",
   "metadata": {},
   "source": [
    "我们先测试一下`predict_rnn`函数。我们将根据前缀“分开”创作长度为10个字符（不考虑前缀长度）的一段歌词。因为模型参数为随机值，所以预测结果也是随机的。"
   ]
  },
  {
   "cell_type": "code",
   "execution_count": 10,
   "id": "f16dee42-8e35-45f4-81b5-1a9e5888812c",
   "metadata": {
    "tags": []
   },
   "outputs": [
    {
     "data": {
      "text/plain": [
       "'分开禁哈条照假禁哈条照假'"
      ]
     },
     "execution_count": 10,
     "metadata": {},
     "output_type": "execute_result"
    }
   ],
   "source": [
    "predict_rnn('分开', 10, rnn, params, \n",
    "            init_rnn_state, num_hiddens, \n",
    "            vocab_size, device, \n",
    "            idx_to_char, char_to_idx\n",
    "           )"
   ]
  },
  {
   "cell_type": "markdown",
   "id": "21b3bc06-e5e3-4014-bb9b-dcc1b15347d4",
   "metadata": {},
   "source": [
    "## 6.4.5 裁剪梯度\n",
    "\n",
    "循环神经网络中较容易出现梯度衰减或梯度爆炸。我们会在6.6节（通过时间反向传播）中解释原因。为了应对梯度爆炸，我们可以裁剪梯度（clip gradient）。假设我们把所有模型参数梯度的元素拼接成一个向量 $\\boldsymbol{g}$，并设裁剪的阈值是$\\theta$。裁剪后的梯度\n",
    "\n",
    "$$ \\min\\left(\\frac{\\theta}{\\|\\boldsymbol{g}\\|}, 1\\right)\\boldsymbol{g}$$\n",
    "\n",
    "的$L_2$范数不超过$\\theta$。"
   ]
  },
  {
   "cell_type": "code",
   "execution_count": 11,
   "id": "267effa2-a6ef-49a9-9d0d-851dc2ff9489",
   "metadata": {
    "tags": []
   },
   "outputs": [],
   "source": [
    "# 如果不裁剪梯度, 模型将无法正常训练\n",
    "def grad_clipping(params, theta, device):\n",
    "    norm = torch.tensor([0.0], device=device)\n",
    "    \n",
    "    for param in params:\n",
    "        norm += (param.grad.data ** 2).sum()\n",
    "        \n",
    "    norm = norm.sqrt().item()\n",
    "    if norm > theta:\n",
    "        for param in params:\n",
    "            param.grad.data *= (theta / norm)"
   ]
  },
  {
   "cell_type": "markdown",
   "id": "d2ad9a1a-1401-4284-ab58-8d3f2b2b3e0e",
   "metadata": {},
   "source": [
    "## 6.4.6 困惑度\n",
    "\n",
    "我们通常使用困惑度（perplexity）来评价语言模型的好坏。回忆一下3.4节（softmax回归）中交叉熵损失函数的定义。困惑度是对交叉熵损失函数做指数运算后得到的值。特别地，\n",
    "\n",
    "* 最佳情况下，模型总是把标签类别的概率预测为1，此时困惑度为1；\n",
    "* 最坏情况下，模型总是把标签类别的概率预测为0，此时困惑度为正无穷；\n",
    "* 基线情况下，模型总是预测所有类别的概率都相同，此时困惑度为类别个数。\n",
    "\n",
    "显然，任何一个有效模型的困惑度必须小于类别个数。在本例中，困惑度必须小于词典大小`vocab_size`。"
   ]
  },
  {
   "cell_type": "markdown",
   "id": "3344e020-dbbc-4919-aa98-9db99abc49ea",
   "metadata": {},
   "source": [
    "## 6.4.7 定义模型训练函数\n",
    "\n",
    "跟之前章节的模型训练函数相比，这里的模型训练函数有以下几点不同：\n",
    "\n",
    "1. 使用困惑度评价模型。\n",
    "2. 在迭代模型参数前裁剪梯度。\n",
    "3. 对时序数据采用不同采样方法将导致隐藏状态初始化的不同。相关讨论可参考6.3节（语言模型数据集（周杰伦专辑歌词））。\n",
    "\n",
    "另外，考虑到后面将介绍的其他循环神经网络，为了更通用，这里的函数实现更长一些。"
   ]
  },
  {
   "cell_type": "code",
   "execution_count": 12,
   "id": "4d57ad24-13e2-4c1c-a34a-d382bbc203bf",
   "metadata": {
    "tags": []
   },
   "outputs": [],
   "source": [
    "# 本函数已保存在d2lzh_pytorch包中方便以后使用\n",
    "def train_and_predict_rnn(rnn, get_params, init_rnn_state, num_hiddens,\n",
    "                          vocab_size, device, corpus_indices, idx_to_char,\n",
    "                          char_to_idx, is_random_iter, num_epochs, num_steps,\n",
    "                          lr, clipping_theta, batch_size, pred_period,\n",
    "                          pred_len, prefixes):\n",
    "    if is_random_iter:\n",
    "        data_iter_fn = d2l.data_iter_random\n",
    "    else:\n",
    "        data_iter_fn = d2l.data_iter_consecutive\n",
    "        \n",
    "    params = get_params()\n",
    "    loss = nn.CrossEntropyLoss()\n",
    "\n",
    "    for epoch in range(num_epochs):\n",
    "        if not is_random_iter:  \n",
    "            # 如使用相邻采样，在epoch开始时初始化隐藏状态\n",
    "            state = init_rnn_state(batch_size, num_hiddens, device)\n",
    "            \n",
    "        l_sum, n, start = 0.0, 0, time.time()\n",
    "        data_iter = data_iter_fn(corpus_indices, batch_size, num_steps, device)\n",
    "        \n",
    "        for X, Y in data_iter:\n",
    "            # 如使用随机采样，在每个小批量更新前初始化隐藏状态\n",
    "            if is_random_iter:  \n",
    "                state = init_rnn_state(batch_size, num_hiddens, device)\n",
    "\n",
    "            else:  \n",
    "                # 否则需要使用detach函数从计算图分离隐藏状态, 这是为了\n",
    "                # 使模型参数的梯度计算只依赖一次迭代读取的小批量序列(防止梯度计算开销太大)\n",
    "                for s in state:\n",
    "                    s.detach_()\n",
    "            \n",
    "            inputs = to_onehot(X, vocab_size)\n",
    "            \n",
    "            # outputs有num_steps个形状为(batch_size, vocab_size)的矩阵\n",
    "            (outputs, state) = rnn(inputs, state, params)\n",
    "            \n",
    "            # 拼接之后形状为(num_steps * batch_size, vocab_size)\n",
    "            outputs = torch.cat(outputs, dim=0)\n",
    "            \n",
    "            # Y的形状是(batch_size, num_steps)，转置后再变成长度为\n",
    "            # batch * num_steps 的向量，这样跟输出的行一一对应\n",
    "            y = torch.transpose(Y, 0, 1).contiguous().view(-1)\n",
    "            \n",
    "            # 使用交叉熵损失计算平均分类误差\n",
    "            l = loss(outputs, y.long())\n",
    "            \n",
    "            # 梯度清0\n",
    "            if params[0].grad is not None:\n",
    "                for param in params:\n",
    "                    param.grad.data.zero_()\n",
    "                    \n",
    "            l.backward()\n",
    "            \n",
    "            # 裁剪梯度, 必要\n",
    "            grad_clipping(params, clipping_theta, device)\n",
    "            \n",
    "            d2l.sgd(params, lr, 1)  # 因为误差已经取过均值，梯度不用再做平均\n",
    "            l_sum += l.item() * y.shape[0]\n",
    "            n += y.shape[0]\n",
    "\n",
    "        if (epoch + 1) % pred_period == 0:\n",
    "            print('epoch %d, perplexity %f, time %.2f sec' % (\n",
    "                epoch + 1, math.exp(l_sum / n), time.time() - start))\n",
    "            \n",
    "            for prefix in prefixes:\n",
    "                print(' -', predict_rnn(prefix, pred_len, rnn, params, init_rnn_state,\n",
    "                    num_hiddens, vocab_size, device, idx_to_char, char_to_idx))"
   ]
  },
  {
   "cell_type": "markdown",
   "id": "a8a56f3f-f49e-477b-8d99-209ad8b86177",
   "metadata": {},
   "source": [
    "## 6.4.8 训练模型并创作歌词\n",
    "\n",
    "现在我们可以训练模型了。首先，设置模型超参数。我们将根据前缀“分开”和“不分开”分别创作长度为50个字符（不考虑前缀长度）的一段歌词。我们每过50个迭代周期便根据当前训练的模型创作一段歌词。"
   ]
  },
  {
   "cell_type": "code",
   "execution_count": 13,
   "id": "44b34165-b2c6-4603-883e-bc8744485861",
   "metadata": {
    "tags": []
   },
   "outputs": [],
   "source": [
    "num_epochs, num_steps, batch_size, lr, clipping_theta = 250, 35, 32, 1e2, 1e-2\n",
    "pred_period, pred_len, prefixes = 50, 50, ['分开', '不分开']"
   ]
  },
  {
   "cell_type": "markdown",
   "id": "91be278d-14b7-4882-9615-7760f2ddc4a7",
   "metadata": {},
   "source": [
    "下面采用随机采样训练模型并创作歌词。"
   ]
  },
  {
   "cell_type": "code",
   "execution_count": 14,
   "id": "d1f46ef3-5ab7-4019-8929-fa15b7fb80e6",
   "metadata": {
    "tags": []
   },
   "outputs": [
    {
     "name": "stdout",
     "output_type": "stream",
     "text": [
      "epoch 50, perplexity 69.569621, time 0.04 sec\n",
      " - 分开 我不要再想 我不能这 你小的让我疯狂的可爱女人的透  我不 我不要再 我有的让我 我的可爱女人 透\n",
      " - 不分开 我想想这 你小了外  我不能  你我的让我 我的可爱女人 透坏的让我疯狂的可爱女人的透  我不 我\n",
      "epoch 100, perplexity 9.685865, time 0.04 sec\n",
      " - 分开 我有你的可爱在人 什么的让我疯狂的可爱女人 坏坏的让我疯狂的可爱女人 坏坏的让我疯狂的可爱女人 坏\n",
      " - 不分开吗 我有你的生写在西元前 深埋在美索不达米亚平 我不能再想 我不能再想 我不 我不 我不要再想你 不\n",
      "epoch 150, perplexity 2.819977, time 0.04 sec\n",
      " - 分开 一颗两说三在的母斑鸠 包括一阵饿 谁在它美说 这人什么奇 不窝横 有 店里伦 一句箱毛三的 像什直\n",
      " - 不分开吗 我该你的爱写在西元前 深埋在美索不达米亚平原 几十个世字后出土发现 泥板上的字迹依然清晰可见 我\n",
      "epoch 200, perplexity 1.599013, time 0.04 sec\n",
      " - 分开 我该开好生活 又作 是你开的玩笑 想通 却又再考倒我 说散 你想很久了吧? 我的认真败给黑色幽默 \n",
      " - 不分开期简单单没有伤害 你 靠着我的肩膀 你 在我胸口睡著 像这样的生活 我爱你 你爱我 开不了口 周杰伦\n",
      "epoch 250, perplexity 1.288243, time 0.04 sec\n",
      " - 分开 沙亮心双的棍边 我默好够 静知走痛 染人夜功 你去种痛 恨一场痛 不敢去  不的梦实 喜欢盘容 全\n",
      " - 不分开期 然后将过去 慢慢温习 让我将上你 那场悲剧 走你了美演溪大有 鳅入开午 你对心空 染红中空 你给\n"
     ]
    }
   ],
   "source": [
    "\n",
    "# 训练, 并创作歌词\n",
    "train_and_predict_rnn(rnn, get_params, init_rnn_state, num_hiddens,\n",
    "                      vocab_size, device, corpus_indices, idx_to_char,\n",
    "                      char_to_idx, True, num_epochs, num_steps, lr,\n",
    "                      clipping_theta, batch_size, pred_period, pred_len,\n",
    "                      prefixes)"
   ]
  },
  {
   "cell_type": "markdown",
   "id": "51d7927a-9d56-4ea7-9efa-603f3133fee2",
   "metadata": {},
   "source": [
    "接下来采用相邻采样训练模型并创作歌词。"
   ]
  },
  {
   "cell_type": "code",
   "execution_count": 15,
   "id": "cb406dfe-1052-4083-9e59-5c995edd7b31",
   "metadata": {
    "tags": []
   },
   "outputs": [
    {
     "name": "stdout",
     "output_type": "stream",
     "text": [
      "epoch 50, perplexity 61.714126, time 0.04 sec\n",
      " - 分开 我想要这 快果我有 我想一场 如果我有 我想一场 如果我有 我想一场 如果我有 我想一场 如果我有\n",
      " - 不分开 我想要这 快果我有 我想一场 如果我有 我想一场 如果我有 我想一场 如果我有 我想一场 如果我有\n",
      "epoch 100, perplexity 7.480526, time 0.04 sec\n",
      " - 分开 我不能 说不眼 看什我有我的你像一个 W地的风 一吹的甜热 银制茶烛 全暖了空屋 白色蜡烛 温暖了\n",
      " - 不分开柳 你成经离开我 不知不觉 我已经这节奏 我该好好生活 我知了好生活 我爱好好生活 我爱好好生活 我\n",
      "epoch 150, perplexity 2.105423, time 0.04 sec\n",
      " - 分开 我想就这样 我不要再想 我不 我不 我不能再想你 爱情来的太快就像龙卷风 不能承受我的无处可躲 我\n",
      " - 不分开觉 你 经离你口棒车 我 那和你看棒球 我 想和你看棒球 想这样没担忧 唱着歌 一直走 我想就这样牵\n",
      "epoch 200, perplexity 1.317097, time 0.04 sec\n",
      " - 分开 我想啊这爱你再提样 决才送到 你却这在别人怀抱 就是开不了口让她知道 我一定会呵护著你 也逗你笑 \n",
      " - 不分开觉 你 经离你笑 每天不觉 说红夜一 你想没空 你都没 连一句珍重 也有苦衷 也不想送 寒风中 废墟\n",
      "epoch 250, perplexity 1.157699, time 0.04 sec\n",
      " - 分开 我候么 说怎么那什么我不别 担不知 不 却的太热 随别去哪 是谁说从演人占卜 她是下午三点阳光射进\n",
      " - 不分开觉 你已经离开我 不知不觉 我跟了这节奏 后知后觉 又过了一个秋 后知后觉 我该好好生活 我该好好生\n"
     ]
    }
   ],
   "source": [
    "train_and_predict_rnn(rnn, get_params, init_rnn_state, num_hiddens,\n",
    "                      vocab_size, device, corpus_indices, idx_to_char,\n",
    "                      char_to_idx, False, num_epochs, num_steps, lr,\n",
    "                      clipping_theta, batch_size, pred_period, pred_len,\n",
    "                      prefixes)"
   ]
  },
  {
   "cell_type": "markdown",
   "id": "827b2da0-fe6a-4784-80c7-20badd9e7a10",
   "metadata": {},
   "source": [
    "## 小结\n",
    "\n",
    "* 可以用基于字符级循环神经网络的语言模型来生成文本序列，例如创作歌词。\n",
    "* 当训练循环神经网络时，为了应对梯度爆炸，可以裁剪梯度。\n",
    "* 困惑度是对交叉熵损失函数做指数运算后得到的值。"
   ]
  },
  {
   "cell_type": "code",
   "execution_count": null,
   "id": "780e834b-3efa-49ca-b78c-ed0256df149f",
   "metadata": {},
   "outputs": [],
   "source": []
  }
 ],
 "metadata": {
  "kernelspec": {
   "display_name": "Python 3 (ipykernel)",
   "language": "python",
   "name": "python3"
  },
  "language_info": {
   "codemirror_mode": {
    "name": "ipython",
    "version": 3
   },
   "file_extension": ".py",
   "mimetype": "text/x-python",
   "name": "python",
   "nbconvert_exporter": "python",
   "pygments_lexer": "ipython3",
   "version": "3.8.10"
  }
 },
 "nbformat": 4,
 "nbformat_minor": 5
}
