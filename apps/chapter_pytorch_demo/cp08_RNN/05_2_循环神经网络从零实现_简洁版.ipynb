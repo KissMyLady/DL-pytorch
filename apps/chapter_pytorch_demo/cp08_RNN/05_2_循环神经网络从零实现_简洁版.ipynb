{
 "cells": [
  {
   "cell_type": "code",
   "execution_count": 1,
   "id": "8a4835ab-2a9d-41d9-afd3-aa138ac34fe8",
   "metadata": {
    "tags": []
   },
   "outputs": [],
   "source": [
    "import torch\n",
    "import os\n",
    "from torch import nn\n",
    "from torch.nn import functional as F\n",
    "# from d2l import torch as d2l\n",
    "\n",
    "import sys\n",
    "sys.path.append(\"..\")\n",
    "import d2lzh_pytorch.torch as d2l\n",
    "\n",
    "# 数据加载\n",
    "from d2lzh_pytorch.nlp.load_data.load_time_machine import load_data_time_machine\n",
    "\n",
    "# 模型加载\n",
    "from d2lzh_pytorch.nlp.model.RNN_model_scratch import get_RNNModelScratch\n",
    "\n",
    "# 训练加载, 预测加载\n",
    "from d2lzh_pytorch.nlp.train.train_ch8 import train_ch8, predict_ch8"
   ]
  },
  {
   "cell_type": "code",
   "execution_count": 2,
   "id": "9188f0aa-edd3-4eee-88de-097fe2428830",
   "metadata": {
    "tags": []
   },
   "outputs": [
    {
     "name": "stderr",
     "output_type": "stream",
     "text": [
      "Building prefix dict from the default dictionary ...\n",
      "Loading model from cache /tmp/jieba.cache\n",
      "Loading model cost 0.311 seconds.\n",
      "Prefix dict has been built successfully.\n"
     ]
    },
    {
     "name": "stdout",
     "output_type": "stream",
     "text": [
      "load vocabulary success. len(vocab): 3577\n"
     ]
    }
   ],
   "source": [
    "batch_size = 32\n",
    "num_steps = 35\n",
    "\n",
    "# BASE: /mnt/g1t/ai_data/Datasets_on_HHD/NLP/text_data\n",
    "BASE_PATH = \"/mnt/g1t/ai_data/Datasets_on_HHD/NLP/text_data\"\n",
    "\n",
    "# 加载\n",
    "txtPath = os.path.join(BASE_PATH, \"贾平凹-山本.txt\")\n",
    "stopwords_file = os.path.join(BASE_PATH, \"stopwords.txt\")\n",
    "\n",
    "# 返回封装的数据\n",
    "train_iter, vocab = load_data_time_machine(batch_size, num_steps, txtPath, stopwords_file)"
   ]
  },
  {
   "cell_type": "code",
   "execution_count": 3,
   "id": "1bb35ba9-77d3-441b-bfef-b867e407f2cc",
   "metadata": {
    "tags": []
   },
   "outputs": [],
   "source": [
    "\n",
    "\n",
    "net = get_RNNModelScratch(vocab)"
   ]
  },
  {
   "cell_type": "code",
   "execution_count": 4,
   "id": "bf081427-6b63-4e0f-adb9-07421441b6d8",
   "metadata": {
    "tags": []
   },
   "outputs": [
    {
     "data": {
      "text/plain": [
       "<d2lzh_pytorch.nlp.model.RNN_model_scratch.RNNModelScratch at 0x7fabeeeca4f0>"
      ]
     },
     "execution_count": 4,
     "metadata": {},
     "output_type": "execute_result"
    }
   ],
   "source": [
    "net"
   ]
  },
  {
   "cell_type": "code",
   "execution_count": null,
   "id": "7807e087-4bce-4dc8-bda1-6ba5cfb9ca8e",
   "metadata": {},
   "outputs": [],
   "source": []
  }
 ],
 "metadata": {
  "kernelspec": {
   "display_name": "Python 3 (ipykernel)",
   "language": "python",
   "name": "python3"
  },
  "language_info": {
   "codemirror_mode": {
    "name": "ipython",
    "version": 3
   },
   "file_extension": ".py",
   "mimetype": "text/x-python",
   "name": "python",
   "nbconvert_exporter": "python",
   "pygments_lexer": "ipython3",
   "version": "3.8.10"
  }
 },
 "nbformat": 4,
 "nbformat_minor": 5
}
