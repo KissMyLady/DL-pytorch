{
 "cells": [
  {
   "cell_type": "code",
   "execution_count": 1,
   "id": "765a9c39-af95-437a-92b1-bc68046e0703",
   "metadata": {
    "tags": []
   },
   "outputs": [],
   "source": [
    "import numpy as np\n",
    "import torch\n",
    "from torch import nn, optim\n",
    "import torch.nn.functional as F\n",
    "\n",
    "import sys\n",
    "sys.path.append(\"..\") \n",
    "import d2lzh_pytorch as d2l\n",
    "\n",
    "\n",
    "device = torch.device('cuda' if torch.cuda.is_available() else 'cpu')"
   ]
  },
  {
   "cell_type": "code",
   "execution_count": 2,
   "id": "c78c301b-45d7-438f-8eb6-2893fda0f740",
   "metadata": {
    "tags": []
   },
   "outputs": [],
   "source": [
    "\n",
    "# 加载数据\n",
    "\n",
    "(corpus_indices, \n",
    " char_to_idx, \n",
    " idx_to_char, \n",
    " vocab_size) = d2l.load_data_jay_lyrics()\n",
    "\n",
    "\n",
    "num_inputs = vocab_size\n",
    "num_hiddens = 256\n",
    "num_outputs = vocab_size"
   ]
  },
  {
   "cell_type": "code",
   "execution_count": 3,
   "id": "c59a7d53-378c-4b7b-b14e-d01c28025125",
   "metadata": {
    "tags": []
   },
   "outputs": [],
   "source": [
    "\n",
    "# 参数配置\n",
    "\n",
    "num_epochs = 240\n",
    "num_steps = 35\n",
    "batch_size = 32\n",
    "lr = 1e2\n",
    "clipping_theta = 1e-2\n",
    "\n",
    "\n",
    "pred_period = 40\n",
    "pred_len = 50\n",
    "prefixes = ['分开', '不分开']"
   ]
  },
  {
   "cell_type": "code",
   "execution_count": 4,
   "id": "a9f0ce5e-2d08-4013-9fc2-0345e9e0d6ff",
   "metadata": {
    "tags": []
   },
   "outputs": [],
   "source": [
    "\n",
    "# GRU\n",
    "gru_layer = nn.GRU(input_size=vocab_size, hidden_size=num_hiddens)\n",
    "\n",
    "\n",
    "# 模型\n",
    "model = d2l.RNNModel(gru_layer, vocab_size).to(device)"
   ]
  },
  {
   "cell_type": "code",
   "execution_count": 6,
   "id": "0025f305-5aab-44f6-acc7-b5e7665d922c",
   "metadata": {
    "tags": []
   },
   "outputs": [
    {
     "name": "stdout",
     "output_type": "stream",
     "text": [
      "epoch 40, perplexity inf, time 0.02 sec\n",
      " - 分开始移惚惚惚惚惚惚惚惚惚惚惚惚惚惚惚惚惚惚惚惚惚惚惚惚惚惚惚惚惚惚惚惚惚惚惚惚惚惚惚惚惚惚惚惚惚惚惚惚\n",
      " - 不分开眼睛邻居土刻垂箱箱箱箱箱箱箱箱箱箱箱箱箱箱箱箱箱箱箱箱箱箱箱箱箱箱箱箱箱箱箱箱箱箱箱箱箱箱箱箱箱箱箱\n",
      "epoch 80, perplexity inf, time 0.02 sec\n",
      " - 分开始移伦伦布箱螂箱弥伦伦箱螂弥箱刻芜芜芜芜芜芜芜芜子子她经中笑常子功子子子子她经口写入子注萨入子注托活\n",
      " - 不分开眼睛音脉萨脉箱螂箱螂箱螂箱螂箱螂箱螂箱螂箱箱螂箱螂箱螂箱螂箱螂箱螂箱箱螂箱螂箱螂箱螂箱螂箱螂箱箱螂箱\n",
      "epoch 120, perplexity inf, time 0.02 sec\n",
      " - 分开始移游刺螂箱螂箱蛛游游游游缝缝缝缝缝缝缝缝缝缝缝缝缝缝缝缝缝缝缝缝缝缝缝缝缝缝缝缝缝缝缝缝缝缝缝缝缝\n",
      " - 不分开眼睛奇桌缝缝缝缝缝箱缝箱箱箱箱箱箱箱箱箱箱箱箱箱箱箱箱箱箱箱箱箱箱箱箱箱箱箱箱箱箱箱箱箱箱箱箱箱箱箱\n",
      "epoch 160, perplexity inf, time 0.02 sec\n",
      " - 分开始乡情迷蛛怎么生活闭型字羞芜芜缝芜芜芜芜歉子子子子了很久哭泣生活闭红日裂子子子子子子子子子子子子子子\n",
      " - 不分开球习惯缝缝缝箱箱箱缝箱沼箱箱箱箱箱箱箱箱箱箱箱箱箱箱箱箱箱箱箱箱箱箱箱箱箱箱箱箱箱箱箱箱箱箱箱箱箱箱\n",
      "epoch 200, perplexity inf, time 0.02 sec\n",
      " - 分开始移游优螂歉芜芜芜芜芜芜布箱布布布布布布布透运经猜透是蝙伦里轻比透是童萨琳是狼如蜘蛛逗子样经猜译游游\n",
      " - 不分开球习惯缝缝缝缝箱缝箱箱螂箱箱歉箱螂缝箱缝缝箱螂箱箱缝箱箱螂箱箱缝箱箱螂箱箱缝箱箱螂箱箱缝箱箱螂箱箱缝\n",
      "epoch 240, perplexity inf, time 0.02 sec\n",
      " - 分开始移游优译箱螂箱弥子子译子注歉缝伦缝下午三点勉缝歉歉歉歉缝箱螂箱歉歉歉歉歉歉歉歉歉歉歉歉歉歉歉歉歉歉\n",
      " - 不分开球习惯缝缝缝箱箱箱螂箱螂箱箱箱箱箱箱箱箱箱箱箱箱箱箱箱箱箱箱箱箱箱箱箱箱箱箱箱箱箱箱箱箱箱箱箱箱箱箱\n"
     ]
    }
   ],
   "source": [
    "\n",
    "# 训练\n",
    "d2l.train_and_predict_rnn_pytorch(model, num_hiddens, vocab_size, device,\n",
    "                                  corpus_indices, idx_to_char, char_to_idx,\n",
    "                                  num_epochs, num_steps, \n",
    "                                  lr, clipping_theta,batch_size, \n",
    "                                  pred_period, \n",
    "                                  pred_len, \n",
    "                                  prefixes)"
   ]
  },
  {
   "cell_type": "markdown",
   "id": "db63f4dd-4301-4fa0-9998-d7cc731c8b2c",
   "metadata": {},
   "source": [
    "## 小结\n",
    "\n",
    "* 门控循环神经网络可以更好地捕捉时间序列中时间步距离较大的依赖关系。\n",
    "* 门控循环单元引入了门的概念，从而修改了循环神经网络中隐藏状态的计算方式。它包括重置门、更新门、候选隐藏状态和隐藏状态。\n",
    "* 重置门有助于捕捉时间序列里短期的依赖关系。\n",
    "* 更新门有助于捕捉时间序列里长期的依赖关系。"
   ]
  },
  {
   "cell_type": "code",
   "execution_count": null,
   "id": "cc2f419c-a71b-4af5-a010-4b3846d8875f",
   "metadata": {},
   "outputs": [],
   "source": []
  }
 ],
 "metadata": {
  "kernelspec": {
   "display_name": "Python 3 (ipykernel)",
   "language": "python",
   "name": "python3"
  },
  "language_info": {
   "codemirror_mode": {
    "name": "ipython",
    "version": 3
   },
   "file_extension": ".py",
   "mimetype": "text/x-python",
   "name": "python",
   "nbconvert_exporter": "python",
   "pygments_lexer": "ipython3",
   "version": "3.8.10"
  }
 },
 "nbformat": 4,
 "nbformat_minor": 5
}
