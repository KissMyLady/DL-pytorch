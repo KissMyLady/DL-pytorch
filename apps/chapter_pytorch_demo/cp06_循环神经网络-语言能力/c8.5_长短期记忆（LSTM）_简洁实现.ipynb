{
 "cells": [
  {
   "cell_type": "code",
   "execution_count": 1,
   "id": "05f7fad7-694a-40cc-a127-0ee2ff0bf55e",
   "metadata": {
    "tags": []
   },
   "outputs": [],
   "source": [
    "import numpy as np\n",
    "import torch\n",
    "from torch import nn, optim\n",
    "import torch.nn.functional as F\n",
    "\n",
    "import sys\n",
    "sys.path.append(\"..\") \n",
    "import d2lzh_pytorch as d2l\n",
    "\n",
    "\n",
    "device = torch.device('cuda' if torch.cuda.is_available() else 'cpu')"
   ]
  },
  {
   "cell_type": "code",
   "execution_count": 2,
   "id": "57b3c48a-765d-4eeb-b64f-b4c31cf000ac",
   "metadata": {
    "tags": []
   },
   "outputs": [],
   "source": [
    "\n",
    "# 加载歌词数据\n",
    "\n",
    "(corpus_indices, \n",
    " char_to_idx, \n",
    " idx_to_char, \n",
    " vocab_size) = d2l.load_data_jay_lyrics()\n",
    "\n",
    "\n",
    "num_inputs = vocab_size\n",
    "num_hiddens = 256\n",
    "num_outputs = vocab_size"
   ]
  },
  {
   "cell_type": "code",
   "execution_count": 3,
   "id": "272d4bec-84fd-4654-afbe-93edf33b2560",
   "metadata": {
    "tags": []
   },
   "outputs": [],
   "source": [
    "\n",
    "# 参数配置\n",
    "\n",
    "num_epochs = 160\n",
    "num_steps = 35\n",
    "batch_size = 32\n",
    "lr = 1e2\n",
    "clipping_theta = 1e-2\n",
    "\n",
    "\n",
    "pred_period = 40\n",
    "pred_len = 50\n",
    "prefixes = ['分开', '不分开']"
   ]
  },
  {
   "cell_type": "code",
   "execution_count": 4,
   "id": "1831919e-5649-47dc-947a-5eb445086c76",
   "metadata": {
    "tags": []
   },
   "outputs": [],
   "source": [
    "\n",
    "# 长短期记忆\n",
    "lstm_layer = nn.LSTM(input_size=vocab_size, hidden_size=num_hiddens)\n",
    "\n",
    "\n",
    "# 模型\n",
    "model = d2l.RNNModel(lstm_layer, vocab_size)"
   ]
  },
  {
   "cell_type": "code",
   "execution_count": 5,
   "id": "bbb59c2e-a4a5-422b-ad87-61b5f535cf34",
   "metadata": {
    "tags": []
   },
   "outputs": [
    {
     "name": "stdout",
     "output_type": "stream",
     "text": [
      "epoch 40, perplexity 8.448260000644001335441205049E+457497, time 0.02 sec\n",
      " - 分开弥弥弥弥弥弥弥弥弥弥弥弥弥弥弥弥弥弥弥弥弥弥弥弥弥弥弥弥弥弥弥弥弥弥弥弥弥弥弥弥弥弥弥弥弥弥弥弥弥弥\n",
      " - 不分开弥弥弥弥弥弥弥弥弥弥弥弥弥弥弥弥弥弥弥弥弥弥弥弥弥弥弥弥弥弥弥弥弥弥弥弥弥弥弥弥弥弥弥弥弥弥弥弥弥弥\n",
      "epoch 80, perplexity 8.978769825019023873265235867E+660764, time 0.02 sec\n",
      " - 分开垂垂垂垂垂垂垂垂垂垂垂垂垂垂垂垂垂垂垂垂垂垂垂垂垂垂垂垂垂垂垂垂垂垂垂垂垂垂垂垂垂垂垂垂垂垂垂垂垂垂\n",
      " - 不分开垂垂垂垂垂垂垂垂垂垂垂垂垂垂垂垂垂垂垂垂垂垂垂垂垂垂垂垂垂垂垂垂垂垂垂垂垂垂垂垂垂垂垂垂垂垂垂垂垂垂\n",
      "epoch 120, perplexity 1.796622987950926302377814373E+662206, time 0.02 sec\n",
      " - 分开                                                  \n",
      " - 不分开                                                  \n",
      "epoch 160, perplexity 2.489187241047119870666853498E+584110, time 0.02 sec\n",
      " - 分开                                                  \n",
      " - 不分开                                                  \n"
     ]
    }
   ],
   "source": [
    "\n",
    "# 训练\n",
    "d2l.train_and_predict_rnn_pytorch(model, num_hiddens, vocab_size, device,\n",
    "                                  corpus_indices, idx_to_char, char_to_idx,\n",
    "                                  num_epochs, num_steps, \n",
    "                                  lr, clipping_theta,batch_size, \n",
    "                                  pred_period, \n",
    "                                  pred_len, \n",
    "                                  prefixes)"
   ]
  },
  {
   "cell_type": "markdown",
   "id": "03c22db4-2bfa-4fc2-b306-03528f7dfa78",
   "metadata": {},
   "source": [
    "## 小结\n",
    "\n",
    "* 长短期记忆的隐藏层输出包括隐藏状态和记忆细胞。只有隐藏状态会传递到输出层。\n",
    "* 长短期记忆的输入门、遗忘门和输出门可以控制信息的流动。\n",
    "* 长短期记忆可以应对循环神经网络中的梯度衰减问题，并更好地捕捉时间序列中时间步距离较大的依赖关系。"
   ]
  },
  {
   "cell_type": "code",
   "execution_count": null,
   "id": "5e62ebf6-28c2-4398-8b10-5a6cba2959ab",
   "metadata": {},
   "outputs": [],
   "source": [
    "import math\n",
    "from decimal import Decimal\n",
    "\n"
   ]
  },
  {
   "cell_type": "code",
   "execution_count": null,
   "id": "a7b75e8b-30f3-41c4-aa42-d5f34e9d972a",
   "metadata": {
    "tags": []
   },
   "outputs": [],
   "source": [
    "math.exp(1548159.46875)"
   ]
  },
  {
   "cell_type": "code",
   "execution_count": null,
   "id": "003de8f6-555e-472c-8644-176dd7491a04",
   "metadata": {
    "tags": []
   },
   "outputs": [],
   "source": [
    "result = Decimal(1749397.078125).exp()\n",
    "\n",
    "\n",
    "print(result)\n",
    "print('%s' % result)"
   ]
  },
  {
   "cell_type": "code",
   "execution_count": null,
   "id": "8aec4747-6f90-4e5d-8089-7c1bc5efbd79",
   "metadata": {
    "tags": []
   },
   "outputs": [],
   "source": [
    "type(result)"
   ]
  },
  {
   "cell_type": "code",
   "execution_count": null,
   "id": "e99544d2-aeb1-4a17-aec3-82dd623fdb13",
   "metadata": {},
   "outputs": [],
   "source": []
  }
 ],
 "metadata": {
  "kernelspec": {
   "display_name": "Python 3 (ipykernel)",
   "language": "python",
   "name": "python3"
  },
  "language_info": {
   "codemirror_mode": {
    "name": "ipython",
    "version": 3
   },
   "file_extension": ".py",
   "mimetype": "text/x-python",
   "name": "python",
   "nbconvert_exporter": "python",
   "pygments_lexer": "ipython3",
   "version": "3.8.10"
  }
 },
 "nbformat": 4,
 "nbformat_minor": 5
}
