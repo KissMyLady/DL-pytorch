{
 "cells": [
  {
   "cell_type": "markdown",
   "id": "8e9eeba1-3251-4835-896d-f2c2e2f135db",
   "metadata": {},
   "source": [
    "# 词的相似性和类比任务\n",
    "\n",
    ":label:`sec_synonyms`\n",
    "\n",
    "在 :numref:`sec_word2vec_pretraining`中，我们在一个小的数据集上训练了一个word2vec模型，并使用它为一个输入词寻找语义相似的词。实际上，在大型语料库上预先训练的词向量可以应用于下游的自然语言处理任务，这将在后面的 :numref:`chap_nlp_app`中讨论。为了直观地演示大型语料库中预训练词向量的语义，让我们将预训练词向量应用到词的相似性和类比任务中。"
   ]
  },
  {
   "cell_type": "code",
   "execution_count": 1,
   "id": "07ff7a78-7af9-45e8-b9b1-dcb93c95260f",
   "metadata": {
    "tags": []
   },
   "outputs": [],
   "source": [
    "import os\n",
    "import torch\n",
    "from torch import nn\n",
    "# from d2l import torch as d2l\n",
    "\n",
    "import sys\n",
    "sys.path.append(\"..\")\n",
    "import d2lzh_pytorch.torch as d2l"
   ]
  },
  {
   "cell_type": "markdown",
   "id": "34066c61-67fc-4733-a3cd-33a35c9125f3",
   "metadata": {},
   "source": [
    "## 加载预训练词向量\n",
    "\n",
    "以下列出维度为50、100和300的预训练GloVe嵌入，可从[GloVe网站](https://nlp.stanford.edu/projects/glove/)下载。预训练的fastText嵌入有多种语言。这里我们使用可以从[fastText网站](https://fasttext.cc/)下载300维度的英文版本（“wiki.en”）。\n"
   ]
  },
  {
   "cell_type": "code",
   "execution_count": 2,
   "id": "ab31feca-77c2-46ff-9f02-9b7d9eff6a15",
   "metadata": {
    "tags": []
   },
   "outputs": [],
   "source": [
    "#@save\n",
    "d2l.DATA_HUB['glove.6b.50d'] = (d2l.DATA_URL + 'glove.6B.50d.zip',\n",
    "                                '0b8703943ccdb6eb788e6f091b8946e82231bc4d')\n",
    "\n",
    "#@save\n",
    "d2l.DATA_HUB['glove.6b.100d'] = (d2l.DATA_URL + 'glove.6B.100d.zip',\n",
    "                                 'cd43bfb07e44e6f27cbcc7bc9ae3d80284fdaf5a')\n",
    "\n",
    "#@save\n",
    "d2l.DATA_HUB['glove.42b.300d'] = (d2l.DATA_URL + 'glove.42B.300d.zip',\n",
    "                                  'b5116e234e9eb9076672cfeabf5469f3eec904fa')\n",
    "\n",
    "#@save\n",
    "d2l.DATA_HUB['wiki.en'] = (d2l.DATA_URL + 'wiki.en.zip',\n",
    "                           'c1816da3821ae9f43899be655002f6c723e91b88')"
   ]
  },
  {
   "cell_type": "code",
   "execution_count": 1,
   "id": "2b0e1bc6-d92a-4a4c-ad47-2884f8fe3f1a",
   "metadata": {
    "tags": []
   },
   "outputs": [],
   "source": [
    "# d2l.DATA_HUB"
   ]
  },
  {
   "cell_type": "markdown",
   "id": "61b8a46c-2ba0-4d18-aff8-dcfe6e32c58d",
   "metadata": {},
   "source": [
    "为了加载这些预训练的GloVe和fastText嵌入，我们定义了以下`TokenEmbedding`类。\n"
   ]
  },
  {
   "cell_type": "code",
   "execution_count": 4,
   "id": "c562dc3a-0d33-4c91-a544-04c403ab43f6",
   "metadata": {
    "tags": []
   },
   "outputs": [],
   "source": [
    "#@save\n",
    "class TokenEmbedding:\n",
    "    \"\"\"GloVe嵌入\"\"\"\n",
    "    def __init__(self, embedding_name):\n",
    "        self.idx_to_token, self.idx_to_vec = self._load_embedding(embedding_name)\n",
    "        self.unknown_idx = 0\n",
    "        self.token_to_idx = {token: idx for idx, token in\n",
    "                             enumerate(self.idx_to_token)}\n",
    "\n",
    "    def _load_embedding(self, embedding_name):\n",
    "        idx_to_token, idx_to_vec = ['<unk>'], []\n",
    "        data_dir = d2l.download_extract(embedding_name)\n",
    "        # GloVe网站：https://nlp.stanford.edu/projects/glove/\n",
    "        # fastText网站：https://fasttext.cc/\n",
    "        with open(os.path.join(data_dir, 'vec.txt'), 'r') as f:\n",
    "            for line in f:\n",
    "                elems = line.rstrip().split(' ')\n",
    "                token, elems = elems[0], [float(elem) for elem in elems[1:]]\n",
    "                # 跳过标题信息，例如fastText中的首行\n",
    "                if len(elems) > 1:\n",
    "                    idx_to_token.append(token)\n",
    "                    idx_to_vec.append(elems)\n",
    "        idx_to_vec = [[0] * len(idx_to_vec[0])] + idx_to_vec\n",
    "        return idx_to_token, torch.tensor(idx_to_vec)\n",
    "\n",
    "    def __getitem__(self, tokens):\n",
    "        indices = [self.token_to_idx.get(token, self.unknown_idx)\n",
    "                   for token in tokens]\n",
    "        vecs = self.idx_to_vec[torch.tensor(indices)]\n",
    "        return vecs\n",
    "\n",
    "    def __len__(self):\n",
    "        return len(self.idx_to_token)"
   ]
  },
  {
   "cell_type": "markdown",
   "id": "ae3e4445-0b19-45ae-87c7-109257be173f",
   "metadata": {},
   "source": [
    "下面我们加载50维GloVe嵌入（在维基百科的子集上预训练）。创建`TokenEmbedding`实例时，如果尚未下载指定的嵌入文件，则必须下载该文件。\n"
   ]
  },
  {
   "cell_type": "code",
   "execution_count": 5,
   "id": "730be7f1-4833-498f-9715-d233aaa945d5",
   "metadata": {
    "tags": []
   },
   "outputs": [],
   "source": [
    "glove_load = TokenEmbedding('glove.6b.50d')\n",
    "                             \n",
    "                             \n",
    "# glove_wikien =  TokenEmbedding('wiki.en')"
   ]
  },
  {
   "cell_type": "markdown",
   "id": "253895c0-8641-4ef6-85eb-41e1379c6674",
   "metadata": {},
   "source": [
    "输出词表大小。词表包含400000个词（词元）和一个特殊的未知词元。\n"
   ]
  },
  {
   "cell_type": "code",
   "execution_count": 6,
   "id": "bd3fb814-3c73-4412-a497-9ddac5212139",
   "metadata": {
    "tags": []
   },
   "outputs": [
    {
     "data": {
      "text/plain": [
       "400001"
      ]
     },
     "execution_count": 6,
     "metadata": {},
     "output_type": "execute_result"
    }
   ],
   "source": [
    "len(glove_load)"
   ]
  },
  {
   "cell_type": "code",
   "execution_count": 8,
   "id": "6c3f26b3-14ae-4529-9303-56592a009a01",
   "metadata": {
    "tags": []
   },
   "outputs": [
    {
     "name": "stdout",
     "output_type": "stream",
     "text": [
      "<unk> ('<unk>', 0)\n",
      "the ('the', 1)\n",
      ", (',', 2)\n",
      ". ('.', 3)\n",
      "of ('of', 4)\n",
      "to ('to', 5)\n",
      "and ('and', 6)\n",
      "in ('in', 7)\n",
      "a ('a', 8)\n",
      "\" ('\"', 9)\n",
      "'s (\"'s\", 10)\n",
      "for ('for', 11)\n",
      "- ('-', 12)\n",
      "that ('that', 13)\n",
      "on ('on', 14)\n"
     ]
    }
   ],
   "source": [
    "\n",
    "count = 0\n",
    "for x,y in zip(glove_load.idx_to_token, glove_load.token_to_idx.items()):\n",
    "    \n",
    "    print(x, y)\n",
    "    count += 1\n",
    "    \n",
    "    if count >= 15:\n",
    "        break"
   ]
  },
  {
   "cell_type": "code",
   "execution_count": 9,
   "id": "e11aa049-0c7d-47d6-a0be-c7817f58e33a",
   "metadata": {
    "tags": []
   },
   "outputs": [
    {
     "data": {
      "text/plain": [
       "400001"
      ]
     },
     "execution_count": 9,
     "metadata": {},
     "output_type": "execute_result"
    }
   ],
   "source": [
    "len(glove_load.idx_to_token)"
   ]
  },
  {
   "cell_type": "markdown",
   "id": "c5d096f0-6635-4792-aca5-3963b46e9333",
   "metadata": {},
   "source": [
    "我们可以得到词表中一个单词的索引，反之亦然。\n"
   ]
  },
  {
   "cell_type": "code",
   "execution_count": 12,
   "id": "afc50b7c-e1d9-4909-83c4-54ce3f9945b3",
   "metadata": {
    "tags": []
   },
   "outputs": [
    {
     "data": {
      "text/plain": [
       "3367"
      ]
     },
     "execution_count": 12,
     "metadata": {},
     "output_type": "execute_result"
    }
   ],
   "source": [
    "glove_load.token_to_idx['beautiful']"
   ]
  },
  {
   "cell_type": "code",
   "execution_count": 13,
   "id": "6edfc6bf-4b9d-48f4-ba6e-b6448dbbf6ee",
   "metadata": {
    "tags": []
   },
   "outputs": [
    {
     "data": {
      "text/plain": [
       "'beautiful'"
      ]
     },
     "execution_count": 13,
     "metadata": {},
     "output_type": "execute_result"
    }
   ],
   "source": [
    "glove_load.idx_to_token[3367]"
   ]
  },
  {
   "cell_type": "markdown",
   "id": "d3a38461-cb28-499a-821e-5c133e479f8e",
   "metadata": {},
   "source": [
    "## 应用预训练词向量\n",
    "\n",
    "使用加载的GloVe向量，我们将通过下面的词相似性和类比任务中来展示词向量的语义。\n"
   ]
  },
  {
   "cell_type": "markdown",
   "id": "6e71343d-9580-4cf4-b946-51a6c4b2672a",
   "metadata": {},
   "source": [
    "### 词相似度\n",
    "\n",
    "与 :numref:`subsec_apply-word-embed`类似，为了根据词向量之间的余弦相似性为输入词查找语义相似的词，我们实现了以下`knn`（$k$近邻）函数。"
   ]
  },
  {
   "cell_type": "code",
   "execution_count": 14,
   "id": "7be5fdae-2dd0-4681-ba30-095be94faea6",
   "metadata": {
    "tags": []
   },
   "outputs": [],
   "source": [
    "def knn(W, x, k):\n",
    "    # 增加1e-9以获得数值稳定性\n",
    "    cos = torch.mv(W, x.reshape(-1,)) / (\n",
    "        torch.sqrt(torch.sum(W * W, axis=1) + 1e-9) *\n",
    "        torch.sqrt((x * x).sum()))\n",
    "    _, topk = torch.topk(cos, k=k)\n",
    "    return topk, [cos[int(i)] for i in topk]"
   ]
  },
  {
   "cell_type": "markdown",
   "id": "86da24d8-f94e-4c98-9f4d-d810e2e52489",
   "metadata": {},
   "source": [
    "然后，我们使用`TokenEmbedding`的实例`embed`中预训练好的词向量来搜索相似的词。\n"
   ]
  },
  {
   "cell_type": "code",
   "execution_count": 15,
   "id": "b2ebdb28-3420-4a8b-88b8-7b79ddb9a316",
   "metadata": {
    "tags": []
   },
   "outputs": [],
   "source": [
    "def get_similar_tokens(query_token, k, embed):\n",
    "    topk, cos = knn(embed.idx_to_vec, embed[[query_token]], k + 1)\n",
    "    for i, c in zip(topk[1:], cos[1:]):  # 排除输入词\n",
    "        print(f'{embed.idx_to_token[int(i)]}：cosine相似度={float(c):.3f}')"
   ]
  },
  {
   "cell_type": "markdown",
   "id": "e76e3858-b24e-4258-9228-1a06e3f53eb1",
   "metadata": {},
   "source": [
    "`glove_6b50d`中预训练词向量的词表包含400000个词和一个特殊的未知词元。排除输入词和未知词元后，我们在词表中找到与“chip”一词语义最相似的三个词。\n"
   ]
  },
  {
   "cell_type": "code",
   "execution_count": 16,
   "id": "01ff2689-467f-49dd-8dab-009bb6c7bd60",
   "metadata": {
    "tags": []
   },
   "outputs": [
    {
     "name": "stdout",
     "output_type": "stream",
     "text": [
      "chips：cosine相似度=0.856\n",
      "intel：cosine相似度=0.749\n",
      "electronics：cosine相似度=0.749\n",
      "semiconductor：cosine相似度=0.731\n",
      "maker：cosine相似度=0.716\n",
      "computer：cosine相似度=0.708\n",
      "microprocessor：cosine相似度=0.707\n",
      "makers：cosine相似度=0.703\n",
      "micro：cosine相似度=0.701\n",
      "manufacturing：cosine相似度=0.691\n"
     ]
    }
   ],
   "source": [
    "get_similar_tokens('chip', 10, glove_load)"
   ]
  },
  {
   "cell_type": "markdown",
   "id": "7cbec3da-14db-4f89-bfba-57adad6b9a2b",
   "metadata": {},
   "source": [
    "下面输出与“baby”和“beautiful”相似的词。\n"
   ]
  },
  {
   "cell_type": "code",
   "execution_count": 17,
   "id": "42d38182-cb88-4596-bca7-c27ee30e9eeb",
   "metadata": {
    "tags": []
   },
   "outputs": [
    {
     "name": "stdout",
     "output_type": "stream",
     "text": [
      "babies：cosine相似度=0.839\n",
      "boy：cosine相似度=0.800\n",
      "girl：cosine相似度=0.792\n",
      "newborn：cosine相似度=0.778\n",
      "pregnant：cosine相似度=0.765\n",
      "mom：cosine相似度=0.762\n",
      "child：cosine相似度=0.759\n",
      "toddler：cosine相似度=0.756\n",
      "mother：cosine相似度=0.750\n",
      "cat：cosine相似度=0.746\n",
      "infant：cosine相似度=0.741\n",
      "dog：cosine相似度=0.740\n",
      "pet：cosine相似度=0.739\n",
      "children：cosine相似度=0.731\n",
      "dying：cosine相似度=0.725\n"
     ]
    }
   ],
   "source": [
    "get_similar_tokens('baby', 15, glove_load)"
   ]
  },
  {
   "cell_type": "code",
   "execution_count": 18,
   "id": "a1591472-f8be-4a5a-aa8c-63c3f28dc23d",
   "metadata": {
    "tags": []
   },
   "outputs": [
    {
     "name": "stdout",
     "output_type": "stream",
     "text": [
      "lovely：cosine相似度=0.921\n",
      "gorgeous：cosine相似度=0.893\n",
      "wonderful：cosine相似度=0.830\n",
      "charming：cosine相似度=0.825\n",
      "beauty：cosine相似度=0.801\n",
      "elegant：cosine相似度=0.774\n",
      "looks：cosine相似度=0.758\n",
      "love：cosine相似度=0.736\n",
      "graceful：cosine相似度=0.735\n",
      "magnificent：cosine相似度=0.735\n",
      "splendid：cosine相似度=0.734\n",
      "scenery：cosine相似度=0.730\n",
      "touches：cosine相似度=0.730\n",
      "famous：cosine相似度=0.721\n",
      "enchanting：cosine相似度=0.721\n"
     ]
    }
   ],
   "source": [
    "get_similar_tokens('beautiful', 15, glove_load)"
   ]
  },
  {
   "cell_type": "markdown",
   "id": "4d843652-8289-4386-b4bd-7292988d2c1a",
   "metadata": {},
   "source": [
    "### 词类比\n",
    "\n",
    "除了找到相似的词，我们还可以将词向量应用到词类比任务中。\n",
    "例如，“man” : “woman” :: “son” : “daughter”是一个词的类比。\n",
    "“man”是对“woman”的类比，“son”是对“daughter”的类比。\n",
    "具体来说，词类比任务可以定义为：\n",
    "对于单词类比$a : b :: c : d$，给出前三个词$a$、$b$和$c$，找到$d$。\n",
    "用$\\text{vec}(w)$表示词$w$的向量，\n",
    "为了完成这个类比，我们将找到一个词，\n",
    "其向量与$\\text{vec}(c)+\\text{vec}(b)-\\text{vec}(a)$的结果最相似。\n"
   ]
  },
  {
   "cell_type": "code",
   "execution_count": 19,
   "id": "2237a6de-2470-4aab-afa3-5a7d65e50fe7",
   "metadata": {
    "tags": []
   },
   "outputs": [],
   "source": [
    "def get_analogy(token_a, token_b, token_c, embed):\n",
    "    vecs = embed[[token_a, token_b, token_c]]\n",
    "    x = vecs[1] - vecs[0] + vecs[2]\n",
    "    topk, cos = knn(embed.idx_to_vec, x, 1)\n",
    "    return embed.idx_to_token[int(topk[0])]  # 删除未知词"
   ]
  },
  {
   "cell_type": "markdown",
   "id": "03307541-3884-4a90-b65d-52cfe8af9d3b",
   "metadata": {},
   "source": [
    "让我们使用加载的词向量来验证“male-female”类比。\n"
   ]
  },
  {
   "cell_type": "code",
   "execution_count": 20,
   "id": "4c8fce15-1ad6-4728-ab49-bc7a2f4fe6ba",
   "metadata": {
    "tags": []
   },
   "outputs": [
    {
     "data": {
      "text/plain": [
       "'daughter'"
      ]
     },
     "execution_count": 20,
     "metadata": {},
     "output_type": "execute_result"
    }
   ],
   "source": [
    "get_analogy('man', 'woman', 'son', glove_load)"
   ]
  },
  {
   "cell_type": "markdown",
   "id": "32c20e88-a6a1-4e8d-818a-307f287af987",
   "metadata": {},
   "source": [
    "下面完成一个“首都-国家”的类比：\n",
    "“beijing” : “china” :: “tokyo” : “japan”。\n",
    "这说明了预训练词向量中的语义。\n"
   ]
  },
  {
   "cell_type": "code",
   "execution_count": 21,
   "id": "4d9dfa5f-2ba4-44ff-8272-090f2b23d737",
   "metadata": {
    "tags": []
   },
   "outputs": [
    {
     "data": {
      "text/plain": [
       "'japan'"
      ]
     },
     "execution_count": 21,
     "metadata": {},
     "output_type": "execute_result"
    }
   ],
   "source": [
    "get_analogy('beijing', 'china', 'tokyo', glove_load)"
   ]
  },
  {
   "cell_type": "markdown",
   "id": "3fcc8642-5193-4c2a-8311-3fcdde7388ec",
   "metadata": {},
   "source": [
    "另外，对于“bad” : “worst” :: “big” : “biggest”等“形容词-形容词最高级”的比喻，预训练词向量可以捕捉到句法信息。\n"
   ]
  },
  {
   "cell_type": "code",
   "execution_count": 22,
   "id": "2a4c8093-cc79-42e1-a858-636c25977039",
   "metadata": {
    "tags": []
   },
   "outputs": [
    {
     "data": {
      "text/plain": [
       "'biggest'"
      ]
     },
     "execution_count": 22,
     "metadata": {},
     "output_type": "execute_result"
    }
   ],
   "source": [
    "get_analogy('bad', 'worst', 'big', glove_load)"
   ]
  },
  {
   "cell_type": "markdown",
   "id": "fc60384f-8e9c-48b6-8964-3c06708cc367",
   "metadata": {},
   "source": [
    "为了演示在预训练词向量中捕捉到的过去式概念，我们可以使用“现在式-过去式”的类比来测试句法：“do” : “did” :: “go” : “went”。\n"
   ]
  },
  {
   "cell_type": "code",
   "execution_count": 23,
   "id": "7aa73101-7cf5-4e73-9dde-5b270c5a494f",
   "metadata": {
    "tags": []
   },
   "outputs": [
    {
     "data": {
      "text/plain": [
       "'went'"
      ]
     },
     "execution_count": 23,
     "metadata": {},
     "output_type": "execute_result"
    }
   ],
   "source": [
    "get_analogy('do', 'did', 'go', glove_load)"
   ]
  },
  {
   "cell_type": "markdown",
   "id": "0ed7d1ec-6942-4b12-a89e-25136bddbf46",
   "metadata": {},
   "source": [
    "## 小结\n",
    "\n",
    "* 在实践中，在大型语料库上预先练的词向量可以应用于下游的自然语言处理任务。\n",
    "* 预训练的词向量可以应用于词的相似性和类比任务。"
   ]
  },
  {
   "cell_type": "code",
   "execution_count": null,
   "id": "04cd1b10-c34c-4ce1-8a35-d7a5349b2799",
   "metadata": {},
   "outputs": [],
   "source": []
  }
 ],
 "metadata": {
  "kernelspec": {
   "display_name": "Python 3 (ipykernel)",
   "language": "python",
   "name": "python3"
  },
  "language_info": {
   "codemirror_mode": {
    "name": "ipython",
    "version": 3
   },
   "file_extension": ".py",
   "mimetype": "text/x-python",
   "name": "python",
   "nbconvert_exporter": "python",
   "pygments_lexer": "ipython3",
   "version": "3.8.10"
  }
 },
 "nbformat": 4,
 "nbformat_minor": 5
}
