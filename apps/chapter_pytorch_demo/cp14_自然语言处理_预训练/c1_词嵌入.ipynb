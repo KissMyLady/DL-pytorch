{
 "cells": [
  {
   "cell_type": "markdown",
   "id": "62e7b162-b235-43f6-b352-b172f55bffc1",
   "metadata": {},
   "source": [
    "# 词嵌入（word2vec）\n",
    ":label:`sec_word2vec`\n",
    "\n",
    "自然语言是用来表达人脑思维的复杂系统。\n",
    "在这个系统中，词是意义的基本单元。顾名思义，\n",
    "*词向量*是用于表示单词意义的向量，\n",
    "并且还可以被认为是单词的特征向量或表示。\n",
    "将单词映射到实向量的技术称为*词嵌入*。\n",
    "近年来，词嵌入逐渐成为自然语言处理的基础知识。"
   ]
  },
  {
   "cell_type": "code",
   "execution_count": null,
   "id": "74d16d42-20f0-4316-a543-f2c29a6bd389",
   "metadata": {},
   "outputs": [],
   "source": []
  }
 ],
 "metadata": {
  "kernelspec": {
   "display_name": "Python 3 (ipykernel)",
   "language": "python",
   "name": "python3"
  },
  "language_info": {
   "codemirror_mode": {
    "name": "ipython",
    "version": 3
   },
   "file_extension": ".py",
   "mimetype": "text/x-python",
   "name": "python",
   "nbconvert_exporter": "python",
   "pygments_lexer": "ipython3",
   "version": "3.8.10"
  }
 },
 "nbformat": 4,
 "nbformat_minor": 5
}
