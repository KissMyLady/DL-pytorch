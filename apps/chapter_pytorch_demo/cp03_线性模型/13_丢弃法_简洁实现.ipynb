{
 "cells": [
  {
   "cell_type": "markdown",
   "id": "cef30970-487f-42ee-85fa-16bfa107607a",
   "metadata": {},
   "source": [
    "## 3.13.3 简洁实现\n",
    "\n",
    "在PyTorch中，我们只需要在全连接层后添加`Dropout`层并指定丢弃概率。在训练模型时，`Dropout`层将以指定的丢弃概率随机丢弃上一层的输出元素；在测试模型时（即`model.eval()`后），`Dropout`层并不发挥作用。"
   ]
  },
  {
   "cell_type": "code",
   "execution_count": 25,
   "id": "ea3b6fc8-8c4d-49b2-8c3a-24e13d5dd5f5",
   "metadata": {
    "tags": []
   },
   "outputs": [],
   "source": [
    "%matplotlib inline\n",
    "import torch\n",
    "import torch.nn as nn\n",
    "import numpy as np\n",
    "import sys\n",
    "\n",
    "sys.path.append(\"..\") \n",
    "import d2lzh_pytorch as d2l"
   ]
  },
  {
   "cell_type": "code",
   "execution_count": 26,
   "id": "efdaf304-3746-4100-b670-5119f665e414",
   "metadata": {
    "tags": []
   },
   "outputs": [],
   "source": [
    "drop_prob1 = 0.2\n",
    "drop_prob2 = 0.5\n",
    "\n",
    "\n",
    "num_inputs= 784\n",
    "num_hiddens1 = 256\n",
    "num_hiddens2 = 256\n",
    "num_outputs = 10\n",
    "\n",
    "\n",
    "W1 = torch.tensor(np.random.normal(0, 0.01, size=(num_inputs, num_hiddens1)), \n",
    "                  dtype=torch.float, \n",
    "                  requires_grad=True\n",
    "                 )\n",
    "b1 = torch.zeros(num_hiddens1, \n",
    "                 requires_grad=True\n",
    "                )\n",
    "\n",
    "\n",
    "W2 = torch.tensor(np.random.normal(0, 0.01, size=(num_hiddens1, num_hiddens2)), \n",
    "                  dtype=torch.float, \n",
    "                  requires_grad=True\n",
    "                 )\n",
    "b2 = torch.zeros(num_hiddens2, requires_grad=True)\n",
    "\n",
    "\n",
    "W3 = torch.tensor(np.random.normal(0, 0.01, size=(num_hiddens2, num_outputs)), \n",
    "                  dtype=torch.float, \n",
    "                  requires_grad=True\n",
    "                 )\n",
    "\n",
    "b3 = torch.zeros(num_outputs, \n",
    "                 requires_grad=True\n",
    "                )\n",
    "\n",
    "\n",
    "params = [W1, b1, W2, b2, W3, b3]"
   ]
  },
  {
   "cell_type": "code",
   "execution_count": 27,
   "id": "7f778406-0e45-4901-9d90-55fdde9b127b",
   "metadata": {
    "tags": []
   },
   "outputs": [],
   "source": [
    "batch_size = 256\n",
    "\n",
    "\n",
    "loss = torch.nn.CrossEntropyLoss()\n",
    "\n",
    "train_iter, test_iter = d2l.load_data_fashion_mnist(batch_size)"
   ]
  },
  {
   "cell_type": "code",
   "execution_count": 28,
   "id": "8a45b6e2-a03a-4df0-af8d-c2b54f2ea9b8",
   "metadata": {
    "tags": []
   },
   "outputs": [],
   "source": [
    "drop_prob1 = 0.2\n",
    "drop_prob2 = 0.5\n",
    "\n",
    "\n",
    "num_inputs= 784\n",
    "num_hiddens1 = 256\n",
    "num_hiddens2 = 256\n",
    "num_outputs = 10\n",
    "\n",
    "\n",
    "net = nn.Sequential(d2l.FlattenLayer(),\n",
    "                    nn.Linear(num_inputs, num_hiddens1),\n",
    "                    nn.ReLU(),\n",
    "                    nn.Dropout(drop_prob1),\n",
    "                    nn.Linear(num_hiddens1, num_hiddens2), \n",
    "                    nn.ReLU(),\n",
    "                    nn.Dropout(drop_prob2),\n",
    "                    nn.Linear(num_hiddens2, 10)\n",
    "                   )"
   ]
  },
  {
   "cell_type": "code",
   "execution_count": 29,
   "id": "cfa26086-08e9-4af0-89c0-957b41950684",
   "metadata": {
    "tags": []
   },
   "outputs": [],
   "source": [
    "\n",
    "# 定义学习方式\n",
    "optimizer = torch.optim.SGD(net.parameters(), lr=0.5)"
   ]
  },
  {
   "cell_type": "code",
   "execution_count": 30,
   "id": "03d188f2-3359-4f0a-9411-2a63c0599b70",
   "metadata": {
    "tags": []
   },
   "outputs": [
    {
     "name": "stdout",
     "output_type": "stream",
     "text": [
      "epoch 1, loss 0.0035, train acc 0.664, test acc 0.804\n",
      "epoch 2, loss 0.0021, train acc 0.804, test acc 0.802\n",
      "epoch 3, loss 0.0018, train acc 0.831, test acc 0.840\n",
      "epoch 4, loss 0.0017, train acc 0.845, test acc 0.819\n",
      "epoch 5, loss 0.0016, train acc 0.850, test acc 0.855\n",
      "epoch 6, loss 0.0015, train acc 0.859, test acc 0.854\n",
      "epoch 7, loss 0.0015, train acc 0.863, test acc 0.833\n",
      "epoch 8, loss 0.0014, train acc 0.868, test acc 0.852\n",
      "epoch 9, loss 0.0014, train acc 0.873, test acc 0.848\n",
      "epoch 10, loss 0.0013, train acc 0.876, test acc 0.858\n"
     ]
    }
   ],
   "source": [
    "# 训练\n",
    "d2l.train_ch3(net, train_iter, test_iter, \n",
    "              loss, num_epochs, batch_size, \n",
    "              None, None, optimizer\n",
    "             )"
   ]
  },
  {
   "cell_type": "markdown",
   "id": "3966764f-17d8-4eaf-a8e9-8bbdf321d775",
   "metadata": {},
   "source": [
    "## 小结\n",
    "\n",
    "* 我们可以通过使用丢弃法应对过拟合。\n",
    "* 丢弃法只在训练模型时使用。"
   ]
  },
  {
   "cell_type": "code",
   "execution_count": null,
   "id": "cc68bdf4-78ea-411f-8dd9-3059f9e9d367",
   "metadata": {},
   "outputs": [],
   "source": []
  }
 ],
 "metadata": {
  "kernelspec": {
   "display_name": "Python 3 (ipykernel)",
   "language": "python",
   "name": "python3"
  },
  "language_info": {
   "codemirror_mode": {
    "name": "ipython",
    "version": 3
   },
   "file_extension": ".py",
   "mimetype": "text/x-python",
   "name": "python",
   "nbconvert_exporter": "python",
   "pygments_lexer": "ipython3",
   "version": "3.8.10"
  }
 },
 "nbformat": 4,
 "nbformat_minor": 5
}
