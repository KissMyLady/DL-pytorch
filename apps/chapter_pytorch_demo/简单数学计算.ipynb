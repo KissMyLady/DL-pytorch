{
 "cells": [
  {
   "cell_type": "markdown",
   "id": "0a722cb3-5934-439c-ac20-b6facf585089",
   "metadata": {},
   "source": [
    "# 简单数学计算"
   ]
  },
  {
   "cell_type": "code",
   "execution_count": 1,
   "id": "a0c31cd3-0602-40b9-956b-cc92b7588f67",
   "metadata": {
    "tags": []
   },
   "outputs": [
    {
     "data": {
      "text/plain": [
       "637"
      ]
     },
     "execution_count": 1,
     "metadata": {},
     "output_type": "execute_result"
    }
   ],
   "source": [
    "419 + 143 + 75"
   ]
  },
  {
   "cell_type": "code",
   "execution_count": 2,
   "id": "8a819d6c-c947-4241-8c1b-8d972a75390c",
   "metadata": {
    "tags": []
   },
   "outputs": [
    {
     "data": {
      "text/plain": [
       "31.85"
      ]
     },
     "execution_count": 2,
     "metadata": {},
     "output_type": "execute_result"
    }
   ],
   "source": [
    "637 * 0.05"
   ]
  },
  {
   "cell_type": "code",
   "execution_count": 3,
   "id": "30e23076-d413-4155-a69c-c3763fc13152",
   "metadata": {
    "tags": []
   },
   "outputs": [
    {
     "data": {
      "text/plain": [
       "40.85"
      ]
     },
     "execution_count": 3,
     "metadata": {},
     "output_type": "execute_result"
    }
   ],
   "source": [
    "31.85 + 9"
   ]
  },
  {
   "cell_type": "code",
   "execution_count": 1,
   "id": "9511980a-b25e-4b9c-87eb-81a4fd0b4b59",
   "metadata": {},
   "outputs": [
    {
     "data": {
      "text/plain": [
       "17400"
      ]
     },
     "execution_count": 1,
     "metadata": {},
     "output_type": "execute_result"
    }
   ],
   "source": [
    "300*58"
   ]
  },
  {
   "cell_type": "code",
   "execution_count": 2,
   "id": "1cd74c27-b1d1-43be-a5fb-c317e663fbc4",
   "metadata": {
    "tags": []
   },
   "outputs": [
    {
     "data": {
      "text/plain": [
       "16.9921875"
      ]
     },
     "execution_count": 2,
     "metadata": {},
     "output_type": "execute_result"
    }
   ],
   "source": [
    "17400 / 1024"
   ]
  },
  {
   "cell_type": "code",
   "execution_count": null,
   "id": "a6e6db92-6060-499b-bb62-81a9fda6cbaa",
   "metadata": {},
   "outputs": [],
   "source": []
  }
 ],
 "metadata": {
  "kernelspec": {
   "display_name": "Python 3 (ipykernel)",
   "language": "python",
   "name": "python3"
  },
  "language_info": {
   "codemirror_mode": {
    "name": "ipython",
    "version": 3
   },
   "file_extension": ".py",
   "mimetype": "text/x-python",
   "name": "python",
   "nbconvert_exporter": "python",
   "pygments_lexer": "ipython3",
   "version": "3.10.13"
  }
 },
 "nbformat": 4,
 "nbformat_minor": 5
}
