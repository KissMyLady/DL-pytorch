{
 "cells": [
  {
   "cell_type": "code",
   "execution_count": 1,
   "id": "ed64340e-316a-4984-8a3c-52e41f5b0b40",
   "metadata": {
    "tags": []
   },
   "outputs": [
    {
     "name": "stdout",
     "output_type": "stream",
     "text": [
      "文件系统        容量  已用  可用 已用% 挂载点\n",
      "udev             16G     0   16G    0% /dev\n",
      "tmpfs           3.2G  4.5M  3.2G    1% /run\n",
      "/dev/nvme0n1p4  339G  160G  163G   50% /\n",
      "tmpfs            16G     0   16G    0% /dev/shm\n",
      "tmpfs           5.0M  4.0K  5.0M    1% /run/lock\n",
      "tmpfs            16G     0   16G    0% /sys/fs/cgroup\n",
      "/dev/loop0      128K  128K     0  100% /snap/bare/5\n",
      "/dev/loop2       92M   92M     0  100% /snap/gtk-common-themes/1535\n",
      "/dev/loop1       55M   55M     0  100% /snap/core18/1880\n",
      "/dev/loop3       46M   46M     0  100% /snap/snap-store/638\n",
      "/dev/loop4      968M  968M     0  100% /snap/intellij-idea-community/409\n",
      "/dev/loop5       50M   50M     0  100% /snap/snap-store/467\n",
      "/dev/loop7       56M   56M     0  100% /snap/core18/2697\n",
      "/dev/loop8       63M   63M     0  100% /snap/gtk-common-themes/1506\n",
      "/dev/loop6      603M  603M     0  100% /snap/pycharm-community/315\n",
      "/dev/loop9       50M   50M     0  100% /snap/snapd/18357\n",
      "/dev/loop13      64M   64M     0  100% /snap/core20/1822\n",
      "/dev/loop12     244M  244M     0  100% /snap/code/119\n",
      "/dev/loop11     219M  219M     0  100% /snap/gnome-3-34-1804/77\n",
      "/dev/loop10     256M  256M     0  100% /snap/gnome-3-34-1804/36\n",
      "/dev/loop14     117M  117M     0  100% /snap/core/14784\n",
      "/dev/nvme0n1p1  300M   31M  269M   11% /boot/efi\n",
      "/dev/sda2       916G  510G  360G   59% /mnt/g2t\n",
      "/dev/sdd1       932G  387G  546G   42% /mnt/aiguo\n",
      "/dev/sdc2       932G  262G  670G   29% /mnt/g1t\n",
      "tmpfs           3.2G   16K  3.2G    1% /run/user/1000\n"
     ]
    }
   ],
   "source": [
    "!df -h"
   ]
  },
  {
   "cell_type": "code",
   "execution_count": 22,
   "id": "d2375add-8b32-4868-99e8-e2b0d166b48b",
   "metadata": {},
   "outputs": [
    {
     "data": {
      "text/plain": [
       "540"
      ]
     },
     "execution_count": 22,
     "metadata": {},
     "output_type": "execute_result"
    }
   ],
   "source": [
    "# 油价计算\n",
    "\n",
    "100+250+190\n"
   ]
  },
  {
   "cell_type": "code",
   "execution_count": 26,
   "id": "b3f346c9-ec89-4d68-b8f7-30d8ba526a62",
   "metadata": {
    "tags": []
   },
   "outputs": [
    {
     "name": "stdout",
     "output_type": "stream",
     "text": [
      "花费:  340 元\n",
      "公里数:  425 公里\n"
     ]
    }
   ],
   "source": [
    "print('花费: ', 540 - 200 , '元')\n",
    "\n",
    "print(\"公里数: \", 425, '公里')\n",
    "\n",
    "price = 340\n",
    "\n",
    "kilometer = 425"
   ]
  },
  {
   "cell_type": "code",
   "execution_count": 28,
   "id": "b62dab85-c89c-43c0-a158-a52dc29e108c",
   "metadata": {
    "tags": []
   },
   "outputs": [
    {
     "name": "stdout",
     "output_type": "stream",
     "text": [
      "元/公里 0.8\n",
      "公里/元 1.25\n"
     ]
    }
   ],
   "source": [
    "print('元/公里', price / kilometer)\n",
    "\n",
    "\n",
    "print('公里/元', 425 / 340)"
   ]
  },
  {
   "cell_type": "code",
   "execution_count": 2,
   "id": "849d5cd0-ca90-4284-bf04-d665a9e31fc4",
   "metadata": {},
   "outputs": [
    {
     "data": {
      "text/plain": [
       "0.65536"
      ]
     },
     "execution_count": 2,
     "metadata": {},
     "output_type": "execute_result"
    }
   ],
   "source": [
    "16384   / 25000"
   ]
  },
  {
   "cell_type": "code",
   "execution_count": 1,
   "id": "5133f9e2-b906-46c4-a544-c4e7736bea07",
   "metadata": {},
   "outputs": [
    {
     "data": {
      "text/plain": [
       "3948"
      ]
     },
     "execution_count": 1,
     "metadata": {},
     "output_type": "execute_result"
    }
   ],
   "source": [
    "282 * 14"
   ]
  },
  {
   "cell_type": "code",
   "execution_count": 1,
   "id": "22d29d3e-acfc-4c5f-8241-f941852d3dda",
   "metadata": {},
   "outputs": [
    {
     "data": {
      "text/plain": [
       "116.693359375"
      ]
     },
     "execution_count": 1,
     "metadata": {},
     "output_type": "execute_result"
    }
   ],
   "source": [
    "119494 / 1024"
   ]
  },
  {
   "cell_type": "code",
   "execution_count": 2,
   "id": "4f3e0a93-f57e-4fdb-9b8f-61c473243d8b",
   "metadata": {
    "tags": []
   },
   "outputs": [
    {
     "data": {
      "text/plain": [
       "24.1611328125"
      ]
     },
     "execution_count": 2,
     "metadata": {},
     "output_type": "execute_result"
    }
   ],
   "source": [
    "24741 / 1024"
   ]
  },
  {
   "cell_type": "code",
   "execution_count": 3,
   "id": "f623d0b9-ae6c-4d1f-9db2-efcdcd194780",
   "metadata": {
    "tags": []
   },
   "outputs": [
    {
     "data": {
      "text/plain": [
       "58.099609375"
      ]
     },
     "execution_count": 3,
     "metadata": {},
     "output_type": "execute_result"
    }
   ],
   "source": [
    "59494 / 1024"
   ]
  },
  {
   "cell_type": "code",
   "execution_count": 4,
   "id": "2ac134c4-418d-4418-a69b-e61ef85ad027",
   "metadata": {
    "tags": []
   },
   "outputs": [
    {
     "data": {
      "text/plain": [
       "51200"
      ]
     },
     "execution_count": 4,
     "metadata": {},
     "output_type": "execute_result"
    }
   ],
   "source": [
    "1024 * 50"
   ]
  },
  {
   "cell_type": "code",
   "execution_count": 6,
   "id": "4ffb8b20-e5e9-4952-adb9-727c93429cb5",
   "metadata": {
    "tags": []
   },
   "outputs": [
    {
     "data": {
      "text/plain": [
       "71680"
      ]
     },
     "execution_count": 6,
     "metadata": {},
     "output_type": "execute_result"
    }
   ],
   "source": [
    "1024 * 70"
   ]
  },
  {
   "cell_type": "code",
   "execution_count": null,
   "id": "5d8b81b4-c24f-42ad-8646-de0f30ff788b",
   "metadata": {},
   "outputs": [],
   "source": []
  }
 ],
 "metadata": {
  "kernelspec": {
   "display_name": "Python 3 (ipykernel)",
   "language": "python",
   "name": "python3"
  },
  "language_info": {
   "codemirror_mode": {
    "name": "ipython",
    "version": 3
   },
   "file_extension": ".py",
   "mimetype": "text/x-python",
   "name": "python",
   "nbconvert_exporter": "python",
   "pygments_lexer": "ipython3",
   "version": "3.8.10"
  }
 },
 "nbformat": 4,
 "nbformat_minor": 5
}
