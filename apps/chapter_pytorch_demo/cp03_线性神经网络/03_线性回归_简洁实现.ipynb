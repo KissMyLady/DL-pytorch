{
 "cells": [
  {
   "cell_type": "markdown",
   "id": "ec6d6b3c-f1b6-4a96-998a-d072d313233a",
   "metadata": {},
   "source": [
    "# 线性回归的简洁实现\n",
    "`sec_linear_concise`\n",
    "\n",
    "在过去的几年里，出于对深度学习强烈的兴趣，\n",
    "许多公司、学者和业余爱好者开发了各种成熟的开源框架。\n",
    "这些框架可以自动化基于梯度的学习算法中重复性的工作。\n",
    "在 `sec_linear_scratch`中，我们只运用了：\n",
    "（1）通过张量来进行数据存储和线性代数；\n",
    "（2）通过自动微分来计算梯度。\n",
    "实际上，由于数据迭代器、损失函数、优化器和神经网络层很常用，\n",
    "现代深度学习库也为我们实现了这些组件。\n",
    "\n",
    "本节将介绍如何(**通过使用深度学习框架来简洁地实现**)\n",
    "`sec_linear_scratch`中的(**线性回归模型**)。\n"
   ]
  },
  {
   "cell_type": "markdown",
   "id": "21ad6681-b656-40d5-8776-fa10e005bf65",
   "metadata": {},
   "source": [
    "\n",
    "## 生成数据集\n",
    "\n",
    "与 `sec_linear_scratch`中类似，我们首先[**生成数据集**]。\n"
   ]
  },
  {
   "cell_type": "code",
   "execution_count": 2,
   "id": "52c0c7f6-b0b3-435c-b9e9-c0d9fa08f1fe",
   "metadata": {
    "tags": []
   },
   "outputs": [
    {
     "name": "stdout",
     "output_type": "stream",
     "text": [
      "1.13.1+cu117\n"
     ]
    }
   ],
   "source": [
    "import numpy as np\n",
    "import torch\n",
    "from torch.utils import data\n",
    "\n",
    "# from d2l import torch as d2l\n",
    "\n",
    "import sys\n",
    "sys.path.append(\"..\")\n",
    "import d2lzh_pytorch.torch as d2l\n",
    "\n",
    "print(torch.__version__)"
   ]
  },
  {
   "cell_type": "code",
   "execution_count": 3,
   "id": "2fcacd80-2e66-4664-a231-85d7f4d73bc7",
   "metadata": {
    "tags": []
   },
   "outputs": [],
   "source": [
    "true_w = torch.tensor([2, -3.4])\n",
    "true_b = 4.2\n",
    "\n",
    "\n",
    "features, labels = d2l.synthetic_data(true_w, true_b, 1000)"
   ]
  },
  {
   "cell_type": "markdown",
   "id": "08159521-2708-4dd6-9e4f-e765f26789d5",
   "metadata": {},
   "source": [
    "## 读取数据集\n",
    "\n",
    "我们可以[**调用框架中现有的API来读取数据**]。\n",
    "我们将`features`和`labels`作为API的参数传递，并通过数据迭代器指定`batch_size`。\n",
    "此外，布尔值`is_train`表示是否希望数据迭代器对象在每个迭代周期内打乱数据。\n"
   ]
  },
  {
   "cell_type": "code",
   "execution_count": 4,
   "id": "89e5d67d-f637-41db-8e92-a4ee2a258864",
   "metadata": {
    "tags": []
   },
   "outputs": [],
   "source": [
    "# save\n",
    "def load_array(data_arrays, batch_size, is_train=True):\n",
    "    \"\"\"构造一个PyTorch数据迭代器\"\"\"\n",
    "    dataset = data.TensorDataset(*data_arrays)\n",
    "    \n",
    "    next_data = data.DataLoader(dataset, \n",
    "                                batch_size, \n",
    "                                shuffle=is_train)\n",
    "    return next_data"
   ]
  },
  {
   "cell_type": "code",
   "execution_count": 5,
   "id": "d0e11f10-63f7-4bd7-b978-7d7f57099d0d",
   "metadata": {
    "tags": []
   },
   "outputs": [],
   "source": [
    "batch_size = 10\n",
    "\n",
    "\n",
    "# 每次加载 batch_size 个数据返回\n",
    "data_iter = load_array((features, labels), batch_size)"
   ]
  },
  {
   "cell_type": "markdown",
   "id": "de77d2c5-c031-4770-b02b-0f9e2a7d0f0c",
   "metadata": {
    "tags": []
   },
   "source": [
    "使用`data_iter`的方式与我们在 `sec_linear_scratch`中使用`data_iter`函数的方式相同。为了验证是否正常工作，让我们读取并打印第一个小批量样本。\n",
    "与 `sec_linear_scratch`不同，这里我们使用`iter`构造Python迭代器，并使用`next`从迭代器中获取第一项。\n"
   ]
  },
  {
   "cell_type": "code",
   "execution_count": 6,
   "id": "f1c75019-1a6e-4dbb-9495-8e9e995f1d0e",
   "metadata": {
    "tags": []
   },
   "outputs": [
    {
     "data": {
      "text/plain": [
       "[tensor([[ 0.6454,  0.7847],\n",
       "         [-0.5568, -0.2846],\n",
       "         [ 1.3845, -0.8687],\n",
       "         [ 0.4266,  1.0144],\n",
       "         [-0.6296, -0.8667],\n",
       "         [-0.7453, -0.6412],\n",
       "         [ 0.6922, -0.3130],\n",
       "         [ 0.1010,  0.0903],\n",
       "         [-0.6598, -0.9361],\n",
       "         [ 1.5221,  1.3957]]),\n",
       " tensor([[2.7974],\n",
       "         [4.0466],\n",
       "         [9.9241],\n",
       "         [1.5981],\n",
       "         [5.8940],\n",
       "         [4.8926],\n",
       "         [6.6355],\n",
       "         [4.1031],\n",
       "         [6.0589],\n",
       "         [2.4883]])]"
      ]
     },
     "execution_count": 6,
     "metadata": {},
     "output_type": "execute_result"
    }
   ],
   "source": [
    "next(iter(data_iter))"
   ]
  },
  {
   "cell_type": "markdown",
   "id": "a539eada-c46e-4403-a27b-707b3417e938",
   "metadata": {},
   "source": [
    "## 定义模型\n",
    "\n",
    "当我们在 `sec_linear_scratch`中实现线性回归时，\n",
    "我们明确定义了模型参数变量，并编写了计算的代码，这样通过基本的线性代数运算得到输出。\n",
    "但是，如果模型变得更加复杂，且当我们几乎每天都需要实现模型时，自然会想简化这个过程。\n",
    "这种情况类似于为自己的博客从零开始编写网页。\n",
    "做一两次是有益的，但如果每个新博客就需要工程师花一个月的时间重新开始编写网页，那并不高效。\n",
    "\n",
    "对于标准深度学习模型，我们可以[**使用框架的预定义好的层**]。这使我们只需关注使用哪些层来构造模型，而不必关注层的实现细节。\n",
    "我们首先定义一个模型变量`net`，它是一个`Sequential`类的实例。\n",
    "`Sequential`类将多个层串联在一起。\n",
    "当给定输入数据时，`Sequential`实例将数据传入到第一层，\n",
    "然后将第一层的输出作为第二层的输入，以此类推。\n",
    "在下面的例子中，我们的模型只包含一个层，因此实际上不需要`Sequential`。\n",
    "但是由于以后几乎所有的模型都是多层的，在这里使用`Sequential`会让你熟悉“标准的流水线”。\n",
    "\n",
    "回顾 `fig_single_neuron`中的单层网络架构，\n",
    "这一单层被称为*全连接层*（fully-connected layer），\n",
    "因为它的每一个输入都通过矩阵-向量乘法得到它的每个输出。\n"
   ]
  },
  {
   "cell_type": "markdown",
   "id": "eb955ab9-6d24-4541-9355-e009a596dcd4",
   "metadata": {},
   "source": [
    "在PyTorch中，全连接层在`Linear`类中定义。\n",
    "值得注意的是，我们将两个参数传递到`nn.Linear`中。\n",
    "第一个指定输入特征形状，即2，第二个指定输出特征形状，输出特征形状为单个标量，因此为1。\n"
   ]
  },
  {
   "cell_type": "code",
   "execution_count": 7,
   "id": "9cbc3d09-58eb-47a2-a46b-ea11ecd6727c",
   "metadata": {
    "tags": []
   },
   "outputs": [],
   "source": [
    "# nn是神经网络的缩写\n",
    "from torch import nn\n",
    "\n",
    "net = nn.Sequential(\n",
    "    nn.Linear(2, 1)\n",
    ")"
   ]
  },
  {
   "cell_type": "markdown",
   "id": "7a6e11a8-f00e-4a2e-aa66-3e893c648cb6",
   "metadata": {},
   "source": [
    "## (**初始化模型参数**)\n",
    "\n",
    "在使用`net`之前，我们需要初始化模型参数。\n",
    "如在线性回归模型中的权重和偏置。\n",
    "深度学习框架通常有预定义的方法来初始化参数。\n",
    "在这里，我们指定每个权重参数应该从均值为0、标准差为0.01的正态分布中随机采样，\n",
    "偏置参数将初始化为零。\n"
   ]
  },
  {
   "cell_type": "markdown",
   "id": "fa6a61be-3e0c-423a-96f4-2d445619b585",
   "metadata": {},
   "source": [
    "正如我们在构造`nn.Linear`时指定输入和输出尺寸一样，\n",
    "现在我们能直接访问参数以设定它们的初始值。\n",
    "我们通过`net[0]`选择网络中的第一个图层，\n",
    "然后使用`weight.data`和`bias.data`方法访问参数。\n",
    "我们还可以使用替换方法`normal_`和`fill_`来重写参数值。\n"
   ]
  },
  {
   "cell_type": "code",
   "execution_count": 8,
   "id": "23e5897a-da1e-4690-8f8e-ee01d57fc3db",
   "metadata": {
    "tags": []
   },
   "outputs": [
    {
     "data": {
      "text/plain": [
       "tensor([0.])"
      ]
     },
     "execution_count": 8,
     "metadata": {},
     "output_type": "execute_result"
    }
   ],
   "source": [
    "net[0].weight.data.normal_(0, 0.01)\n",
    "\n",
    "net[0].bias.data.fill_(0)"
   ]
  },
  {
   "cell_type": "code",
   "execution_count": 9,
   "id": "1c6b928e-5d0a-4388-870e-f19976278865",
   "metadata": {
    "tags": []
   },
   "outputs": [
    {
     "data": {
      "text/plain": [
       "OrderedDict([('0.weight', tensor([[0.0085, 0.0084]])),\n",
       "             ('0.bias', tensor([0.]))])"
      ]
     },
     "execution_count": 9,
     "metadata": {},
     "output_type": "execute_result"
    }
   ],
   "source": [
    "net.state_dict()"
   ]
  },
  {
   "cell_type": "code",
   "execution_count": 10,
   "id": "fa5fc568-41b9-4b7d-bf1b-9ae5cf616322",
   "metadata": {
    "tags": []
   },
   "outputs": [],
   "source": [
    "# 初始化方式二\n",
    "\n",
    "\n",
    "for layer in net:\n",
    "    if isinstance(layer, nn.Linear):\n",
    "        layer.weight.data.normal_(0, 0.01)\n",
    "        layer.bias.data.normal_(0, 0.01)"
   ]
  },
  {
   "cell_type": "code",
   "execution_count": 11,
   "id": "bde16085-5325-4a2c-9ff3-f10657874707",
   "metadata": {
    "tags": []
   },
   "outputs": [
    {
     "data": {
      "text/plain": [
       "OrderedDict([('0.weight', tensor([[-0.0038, -0.0075]])),\n",
       "             ('0.bias', tensor([-0.0007]))])"
      ]
     },
     "execution_count": 11,
     "metadata": {},
     "output_type": "execute_result"
    }
   ],
   "source": [
    "net.state_dict()"
   ]
  },
  {
   "cell_type": "code",
   "execution_count": 12,
   "id": "04706cb7-c3c2-42ab-afc6-a6865b4a6c72",
   "metadata": {
    "tags": []
   },
   "outputs": [
    {
     "name": "stderr",
     "output_type": "stream",
     "text": [
      "/tmp/ipykernel_37214/765407801.py:12: UserWarning: nn.init.xavier_uniform is now deprecated in favor of nn.init.xavier_uniform_.\n",
      "  init.xavier_uniform(net[0].weight)\n"
     ]
    },
    {
     "data": {
      "text/plain": [
       "Parameter containing:\n",
       "tensor([[ 0.9857, -0.3063]], requires_grad=True)"
      ]
     },
     "execution_count": 12,
     "metadata": {},
     "output_type": "execute_result"
    }
   ],
   "source": [
    "# 初始化方式 三\n",
    "from torch.nn import init\n",
    "\n",
    "\"\"\"\n",
    "初始化参考: https://blog.csdn.net/weixin_30695195/article/details/97092880\n",
    "\n",
    "这种非常流行的初始化方式叫 Xavier，方法来源于 2010 年的一篇论文\n",
    "Understanding the difficulty of training deep feedforward neural networks，\n",
    "其通过数学的推到，证明了这种初始化方式可以使得每一层的输出方差是尽可能相等的。\n",
    "\"\"\"\n",
    "# 这就是上面我们讲过的 Xavier 初始化方法，PyTorch 直接内置了其实现\n",
    "init.xavier_uniform(net[0].weight) \n",
    "\n",
    "#这就直接修改了net1[0].weight的值"
   ]
  },
  {
   "cell_type": "markdown",
   "id": "8278a13d-33da-4ea4-8681-2663244efdea",
   "metadata": {},
   "source": [
    "## 定义损失函数\n",
    "\n",
    "[**计算均方误差使用的是`MSELoss`类，也称为平方$L_2$范数**]。\n",
    "默认情况下，它返回所有样本损失的平均值。\n"
   ]
  },
  {
   "cell_type": "code",
   "execution_count": 13,
   "id": "7d991cfa-c742-4922-ac92-6b5ac820d78b",
   "metadata": {
    "tags": []
   },
   "outputs": [],
   "source": [
    "loss = nn.MSELoss()"
   ]
  },
  {
   "cell_type": "markdown",
   "id": "22af314d-cc77-4a1f-a920-748ad472346b",
   "metadata": {},
   "source": [
    "## 定义优化算法\n",
    "\n",
    "小批量随机梯度下降算法是一种优化神经网络的标准工具，\n",
    "PyTorch在`optim`模块中实现了该算法的许多变种。\n",
    "当我们(**实例化一个`SGD`实例**)时，我们要指定优化的参数\n",
    "（可通过`net.parameters()`从我们的模型中获得）以及优化算法所需的超参数字典。\n",
    "小批量随机梯度下降只需要设置`lr`值，这里设置为0.03。\n"
   ]
  },
  {
   "cell_type": "code",
   "execution_count": 15,
   "id": "c3d74b6f-1108-45cd-bc48-267f4fe8bfb3",
   "metadata": {
    "tags": []
   },
   "outputs": [],
   "source": [
    "\n",
    "trainer = torch.optim.SGD(net.parameters(), lr=0.03)\n"
   ]
  },
  {
   "cell_type": "markdown",
   "id": "41ef4a6d-1379-4d6a-9a8e-6cab256b89bd",
   "metadata": {},
   "source": [
    "## 训练\n",
    "\n",
    "通过深度学习框架的高级API来实现我们的模型只需要相对较少的代码。\n",
    "我们不必单独分配参数、不必定义我们的损失函数，也不必手动实现小批量随机梯度下降。\n",
    "当我们需要更复杂的模型时，高级API的优势将大大增加。\n",
    "当我们有了所有的基本组件，[**训练过程代码与我们从零开始实现时所做的非常相似**]。\n",
    "\n",
    "回顾一下：在每个迭代周期里，我们将完整遍历一次数据集（`train_data`），\n",
    "不停地从中获取一个小批量的输入和相应的标签。\n",
    "对于每一个小批量，我们会进行以下步骤:\n",
    "\n",
    "* 通过调用`net(X)`生成预测并计算损失`l`（前向传播）。\n",
    "* 通过进行反向传播来计算梯度。\n",
    "* 通过调用优化器来更新模型参数。\n",
    "\n",
    "为了更好的衡量训练效果，我们计算每个迭代周期后的损失，并打印它来监控训练过程。\n"
   ]
  },
  {
   "cell_type": "code",
   "execution_count": 16,
   "id": "a07dc541-de79-4e7e-9c18-b8105646de23",
   "metadata": {
    "tags": []
   },
   "outputs": [
    {
     "name": "stdout",
     "output_type": "stream",
     "text": [
      "epoch 1, loss 0.000287\n",
      "epoch 2, loss 0.000103\n",
      "epoch 3, loss 0.000103\n"
     ]
    }
   ],
   "source": [
    "num_epochs = 3\n",
    "\n",
    "\n",
    "for epoch in range(num_epochs):\n",
    "    \n",
    "    for X, y in data_iter:\n",
    "        l = loss(net(X) ,y)\n",
    "        trainer.zero_grad()\n",
    "        l.backward()\n",
    "        trainer.step()\n",
    "    l = loss(net(features), labels)\n",
    "    \n",
    "    print(f'epoch {epoch + 1}, loss {l:f}')"
   ]
  },
  {
   "cell_type": "markdown",
   "id": "a7665ab8-4646-4db9-a7ec-59de3317c3b0",
   "metadata": {},
   "source": [
    "下面我们[**比较生成数据集的真实参数和通过有限数据训练获得的模型参数**]。\n",
    "要访问参数，我们首先从`net`访问所需的层，然后读取该层的权重和偏置。\n",
    "正如在从零开始实现中一样，我们估计得到的参数与生成数据的真实参数非常接近。\n"
   ]
  },
  {
   "cell_type": "code",
   "execution_count": 17,
   "id": "3f3d6980-7e90-4353-b34f-28ca4129fc88",
   "metadata": {
    "tags": []
   },
   "outputs": [
    {
     "name": "stdout",
     "output_type": "stream",
     "text": [
      "w的估计误差： tensor([7.3922e-04, 7.1049e-05])\n",
      "b的估计误差： tensor([0.0003])\n"
     ]
    }
   ],
   "source": [
    "w = net[0].weight.data\n",
    "print('w的估计误差：', true_w - w.reshape(true_w.shape))\n",
    "\n",
    "\n",
    "b = net[0].bias.data\n",
    "print('b的估计误差：', true_b - b)"
   ]
  },
  {
   "cell_type": "markdown",
   "id": "394bba9e-47de-4f15-a6d6-9de4efd7971f",
   "metadata": {},
   "source": [
    "## 小结\n",
    "\n",
    "* 我们可以使用PyTorch的高级API更简洁地实现模型。\n",
    "* 在PyTorch中，`data`模块提供了数据处理工具，`nn`模块定义了大量的神经网络层和常见损失函数。\n",
    "* 我们可以通过`_`结尾的方法将参数替换，从而初始化参数。\n"
   ]
  },
  {
   "cell_type": "code",
   "execution_count": null,
   "id": "9407db5b-0ba9-4018-8dc4-4e1683c27e9f",
   "metadata": {},
   "outputs": [],
   "source": []
  }
 ],
 "metadata": {
  "kernelspec": {
   "display_name": "Python 3 (ipykernel)",
   "language": "python",
   "name": "python3"
  },
  "language_info": {
   "codemirror_mode": {
    "name": "ipython",
    "version": 3
   },
   "file_extension": ".py",
   "mimetype": "text/x-python",
   "name": "python",
   "nbconvert_exporter": "python",
   "pygments_lexer": "ipython3",
   "version": "3.8.10"
  }
 },
 "nbformat": 4,
 "nbformat_minor": 5
}
