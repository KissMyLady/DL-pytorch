{
 "cells": [
  {
   "cell_type": "code",
   "execution_count": 1,
   "id": "230c3e60-79dc-4ac1-a47c-0c7fa9613605",
   "metadata": {
    "tags": []
   },
   "outputs": [],
   "source": [
    "import torch\n",
    "from torch import nn\n",
    "# from d2l import torch as d2l\n",
    "\n",
    "import sys\n",
    "sys.path.append(\"..\")\n",
    "\n",
    "\n",
    "from d2lzh_pytorch.cnn.model.softmax_net import get_Linear_net\n",
    "from d2lzh_pytorch.cnn.train.train_ch3 import train_ch3\n",
    "from d2lzh_pytorch.cnn.load_data.load_mnist import load_data_fashion_mnist\n",
    "\n",
    "\n",
    "# device = torch.device('cuda' if torch.cuda.is_available() else 'cpu')"
   ]
  },
  {
   "cell_type": "code",
   "execution_count": 2,
   "id": "f4cb7056-d728-4398-a3ee-f00a0464379a",
   "metadata": {
    "tags": []
   },
   "outputs": [
    {
     "name": "stdout",
     "output_type": "stream",
     "text": [
      "read Fashion-MNIST Dataset consume time 0.06 s\n"
     ]
    }
   ],
   "source": [
    "\n",
    "batch_size = 256\n",
    "\n",
    "train_iter, test_iter = load_data_fashion_mnist(batch_size)"
   ]
  },
  {
   "cell_type": "code",
   "execution_count": 3,
   "id": "92b6c1c6-40fa-432c-b219-666664fdbe5e",
   "metadata": {
    "tags": []
   },
   "outputs": [],
   "source": [
    "net = get_Linear_net()"
   ]
  },
  {
   "cell_type": "code",
   "execution_count": 4,
   "id": "54e14226-b801-4f47-9b69-6fff9045b68f",
   "metadata": {
    "tags": []
   },
   "outputs": [
    {
     "data": {
      "text/plain": [
       "Sequential(\n",
       "  (0): Flatten(start_dim=1, end_dim=-1)\n",
       "  (1): Linear(in_features=784, out_features=10, bias=True)\n",
       ")"
      ]
     },
     "execution_count": 4,
     "metadata": {},
     "output_type": "execute_result"
    }
   ],
   "source": [
    "net"
   ]
  },
  {
   "cell_type": "code",
   "execution_count": 7,
   "id": "5be9f8b2-3db9-4ec0-93d0-fe63432bf6b8",
   "metadata": {
    "tags": []
   },
   "outputs": [
    {
     "name": "stdout",
     "output_type": "stream",
     "text": [
      "=================================================================\n",
      "Layer (type:depth-idx)                   Param #\n",
      "=================================================================\n",
      "├─Flatten: 1-1                           --\n",
      "├─Linear: 1-2                            7,850\n",
      "=================================================================\n",
      "Total params: 7,850\n",
      "Trainable params: 7,850\n",
      "Non-trainable params: 0\n",
      "=================================================================\n"
     ]
    },
    {
     "data": {
      "text/plain": [
       "=================================================================\n",
       "Layer (type:depth-idx)                   Param #\n",
       "=================================================================\n",
       "├─Flatten: 1-1                           --\n",
       "├─Linear: 1-2                            7,850\n",
       "=================================================================\n",
       "Total params: 7,850\n",
       "Trainable params: 7,850\n",
       "Non-trainable params: 0\n",
       "================================================================="
      ]
     },
     "execution_count": 7,
     "metadata": {},
     "output_type": "execute_result"
    }
   ],
   "source": [
    "from torchsummary import summary\n",
    "\n",
    "summary(net)"
   ]
  },
  {
   "cell_type": "code",
   "execution_count": 7,
   "id": "864d1853-d766-43d9-8b7f-df1afe667700",
   "metadata": {
    "tags": []
   },
   "outputs": [
    {
     "name": "stdout",
     "output_type": "stream",
     "text": [
      "epoch 1, loss 92.3964, train acc 0.686, test acc 0.813\n",
      "epoch 2, loss 49.0816, train acc 0.760, test acc 0.793\n",
      "epoch 3, loss 43.6351, train acc 0.774, test acc 0.816\n",
      "epoch 4, loss 43.8622, train acc 0.777, test acc 0.814\n",
      "epoch 5, loss 39.9485, train acc 0.785, test acc 0.830\n",
      "epoch 6, loss 38.6821, train acc 0.785, test acc 0.837\n",
      "epoch 7, loss 40.0524, train acc 0.786, test acc 0.816\n",
      "epoch 8, loss 36.1294, train acc 0.797, test acc 0.827\n",
      "epoch 9, loss 38.4453, train acc 0.791, test acc 0.833\n",
      "epoch 10, loss 38.2592, train acc 0.795, test acc 0.786\n"
     ]
    }
   ],
   "source": [
    "# 开始训练\n",
    "\n",
    "\n",
    "num_epochs = 10\n",
    "\n",
    "loss = nn.CrossEntropyLoss(reduction='none')\n",
    "trainer = torch.optim.SGD(net.parameters(), lr=0.1)\n",
    "\n",
    "\n",
    "\n",
    "train_ch3(net=net, \n",
    "          train_iter=train_iter, \n",
    "          test_iter=test_iter, \n",
    "          loss=loss, \n",
    "          num_epochs=num_epochs, \n",
    "          batch_size=batch_size,\n",
    "          params=None, \n",
    "          lr=None, \n",
    "          optimizer=trainer)\n"
   ]
  },
  {
   "cell_type": "code",
   "execution_count": 8,
   "id": "ab516ed3-c414-457e-83c6-0356bcea7db7",
   "metadata": {},
   "outputs": [
    {
     "name": "stdout",
     "output_type": "stream",
     "text": [
      "训练完毕, 模型 softmax_MNIST_classifier_2023-07-01_17-54-43.pt 已保存至当前路径\n",
      "模型大小是: 0.03 M\n"
     ]
    }
   ],
   "source": [
    "# 保存模型\n",
    "net = net.to(\"cpu\")\n",
    "\n",
    "import datetime\n",
    "import os\n",
    "str_time = str(datetime.datetime.now().strftime(\"%Y-%m-%d_%H-%M-%S\"))\n",
    "save_path = 'softmax_MNIST_classifier_%s.pt' % str_time\n",
    "torch.save(net, save_path)  # 全保存\n",
    "print(\"训练完毕, 模型 %s 已保存至当前路径\" % save_path)\n",
    "print(\"模型大小是: %0.2f M\" % (os.path.getsize(save_path) / 1024 /1024))"
   ]
  },
  {
   "cell_type": "code",
   "execution_count": null,
   "id": "9ec51b39-0540-48d0-98f2-e4e315ee95ea",
   "metadata": {},
   "outputs": [],
   "source": []
  }
 ],
 "metadata": {
  "kernelspec": {
   "display_name": "Python 3 (ipykernel)",
   "language": "python",
   "name": "python3"
  },
  "language_info": {
   "codemirror_mode": {
    "name": "ipython",
    "version": 3
   },
   "file_extension": ".py",
   "mimetype": "text/x-python",
   "name": "python",
   "nbconvert_exporter": "python",
   "pygments_lexer": "ipython3",
   "version": "3.8.10"
  }
 },
 "nbformat": 4,
 "nbformat_minor": 5
}
