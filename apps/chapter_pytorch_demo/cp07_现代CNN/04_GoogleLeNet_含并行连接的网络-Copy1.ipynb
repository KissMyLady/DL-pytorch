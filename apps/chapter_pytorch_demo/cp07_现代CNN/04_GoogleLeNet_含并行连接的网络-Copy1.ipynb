{
 "cells": [
  {
   "cell_type": "code",
   "execution_count": 1,
   "id": "5def3ac0-a59a-4599-a26f-635cf58d63dd",
   "metadata": {
    "tags": []
   },
   "outputs": [
    {
     "name": "stdout",
     "output_type": "stream",
     "text": [
      "1.13.1+cu117\n"
     ]
    }
   ],
   "source": [
    "# from d2l import torch as d2l\n",
    "import torch\n",
    "from torch import nn\n",
    "from torch.nn import functional as F\n",
    "\n",
    "import sys\n",
    "sys.path.append(\"..\")\n",
    "# import d2lzh_pytorch.torch as d2l\n",
    "\n",
    "from d2lzh_pytorch.cnn.model.google_leNet_mode import get_google_leNet_mode\n",
    "\n",
    "from d2lzh_pytorch.cnn.load_data.load_mnist import load_data_fashion_mnist\n",
    "\n",
    "from d2lzh_pytorch.cnn.train.train_ch6 import train_ch6\n",
    "\n",
    "from d2lzh_pytorch.myUtils import try_gpu\n",
    "\n",
    "print(torch.__version__)"
   ]
  },
  {
   "cell_type": "code",
   "execution_count": 2,
   "id": "77fb34a2-6c67-40c5-a31e-3cda15aee003",
   "metadata": {
    "tags": []
   },
   "outputs": [],
   "source": [
    "\n",
    "# NiN 网络\n",
    "\n",
    "net = get_google_leNet_mode()"
   ]
  },
  {
   "cell_type": "code",
   "execution_count": 6,
   "id": "019fbe7a-1f64-41c6-86a4-2f303eaecd99",
   "metadata": {
    "tags": []
   },
   "outputs": [],
   "source": [
    "# net"
   ]
  },
  {
   "cell_type": "code",
   "execution_count": 3,
   "id": "4dadfbed-37cb-4154-a0f0-5542b5cdb208",
   "metadata": {},
   "outputs": [
    {
     "name": "stdout",
     "output_type": "stream",
     "text": [
      "read Fashion-MNIST Dataset consume time 0.04 s\n"
     ]
    }
   ],
   "source": [
    "# 加载数据\n",
    "batch_size = 128\n",
    "\n",
    "train_iter, test_iter = load_data_fashion_mnist(batch_size,\n",
    "                                                resize=96)"
   ]
  },
  {
   "cell_type": "code",
   "execution_count": null,
   "id": "cef84734-a2f4-4a8b-80a0-62a651bac013",
   "metadata": {},
   "outputs": [],
   "source": [
    "#@tab all\n",
    "\n",
    "lr = 0.1\n",
    "num_epochs = 10\n",
    "batch_size = 128\n",
    "\n",
    "\n",
    "# 开始训练\n",
    "train_ch6(net,\n",
    "          train_iter, \n",
    "          test_iter, \n",
    "          num_epochs, \n",
    "          lr, \n",
    "          try_gpu()\n",
    "         )"
   ]
  },
  {
   "cell_type": "code",
   "execution_count": null,
   "id": "bae9b982-0ba5-4f04-97d0-fabbdcad20d6",
   "metadata": {},
   "outputs": [],
   "source": []
  }
 ],
 "metadata": {
  "kernelspec": {
   "display_name": "Python 3 (ipykernel)",
   "language": "python",
   "name": "python3"
  },
  "language_info": {
   "codemirror_mode": {
    "name": "ipython",
    "version": 3
   },
   "file_extension": ".py",
   "mimetype": "text/x-python",
   "name": "python",
   "nbconvert_exporter": "python",
   "pygments_lexer": "ipython3",
   "version": "3.8.10"
  }
 },
 "nbformat": 4,
 "nbformat_minor": 5
}
