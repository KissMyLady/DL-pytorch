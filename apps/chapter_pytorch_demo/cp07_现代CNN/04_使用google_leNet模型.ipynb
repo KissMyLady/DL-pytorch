{
 "cells": [
  {
   "cell_type": "code",
   "execution_count": 1,
   "id": "b9fc9bfb-84f7-4eec-b913-ed15ffa66a27",
   "metadata": {
    "tags": []
   },
   "outputs": [
    {
     "name": "stdout",
     "output_type": "stream",
     "text": [
      "1.13.1+cu117\n"
     ]
    }
   ],
   "source": [
    "import time\n",
    "import torch\n",
    "from torch import nn, optim\n",
    "import torch.nn.functional as F\n",
    "\n",
    "import sys\n",
    "sys.path.append(\"..\")\n",
    "import d2lzh_pytorch.torch as d2l\n",
    "from d2lzh_pytorch.utils import FlattenLayer\n",
    "from d2lzh_pytorch.utils import train_ch5\n",
    "from d2lzh_pytorch.CNN.google_leNet_mode import get_google_leNet_mode\n",
    "\n",
    "\n",
    "device = torch.device('cuda' if torch.cuda.is_available() else 'cpu')\n",
    "\n",
    "print(torch.__version__)"
   ]
  },
  {
   "cell_type": "code",
   "execution_count": 2,
   "id": "1ab6451f-c51e-42ac-bade-e6e52d2b10c8",
   "metadata": {
    "tags": []
   },
   "outputs": [],
   "source": [
    "# 数据加载\n",
    "\n",
    "batch_size = 256\n",
    "#rootPath = r\"/mnt/g1t/ai_data/Datasets_on_HHD/FashionMNIST\"\n",
    "#train_iter, test_iter = d2l.load_data_fashion_mnist(batch_size, root=rootPath)\n",
    "\n",
    "rootPath = r\"/mnt/g1t/ai_data/Datasets_on_HHD/FashionMNIST\"\n",
    "train_iter, test_iter = d2l.load_data_fashion_mnist(batch_size, \n",
    "                                                    resize=69,\n",
    "                                                    root =rootPath \n",
    "                                                   )"
   ]
  },
  {
   "cell_type": "code",
   "execution_count": null,
   "id": "f62dfa1c-361e-4ca1-a1f8-c990740bee00",
   "metadata": {},
   "outputs": [],
   "source": [
    "# 加载已训练好的模型\n",
    "m_name = \"google_leNet_2023-06-27_13-44-44.pt\"  # 7.8M\n",
    "\n",
    "google_LeNet = torch.load(m_name)"
   ]
  },
  {
   "cell_type": "code",
   "execution_count": null,
   "id": "fbfb4651-6d6e-461f-a0a6-b00fa4078d55",
   "metadata": {},
   "outputs": [],
   "source": [
    "next(VGG.parameters()).device"
   ]
  },
  {
   "cell_type": "code",
   "execution_count": 5,
   "id": "cfcfc58a-dcc3-49a0-a322-e7ec4b0dd5ed",
   "metadata": {
    "tags": []
   },
   "outputs": [],
   "source": [
    "def predict_ch3(net, test_iter, n=6):  #@save\n",
    "    \"\"\"预测标签（定义见第3章）\"\"\"\n",
    "    \n",
    "    err = 0\n",
    "    succ = 0\n",
    "    \n",
    "    for X, y in test_iter:\n",
    "    \n",
    "        trues = d2l.get_fashion_mnist_labels(y)\n",
    "        preds = d2l.get_fashion_mnist_labels(net(X).argmax(axis=1))  # 计算结果, 预测结果\n",
    "        titles = [true +'\\n' + pred for true, pred in zip(trues, preds)]\n",
    "\n",
    "        X_resized = F.interpolate(X[0: n], size=(28, 28), mode='nearest')\n",
    "        # print(X_resized.shape)   # 输出：torch.Size([6, 1, 28, 28])\n",
    "        \n",
    "        for true, pred in zip(trues, preds):\n",
    "            \n",
    "            if true != pred:\n",
    "                # print(\"判断错误: 标签是:%s \\t 计算为:%s\" % (true, pred))\n",
    "                err += 1\n",
    "            else:\n",
    "                succ += 1\n",
    "                pass\n",
    "        # d2l.show_images(X_resized.reshape((n, 28, 28)), 1, n, titles=titles[0:n])\n",
    "        # break\n",
    "        pass\n",
    "    \n",
    "    succ_per = succ / (succ + err)\n",
    "    print(\"正确 %s, 错误: %s, 正确率: %s\" % (succ, err, succ_per))"
   ]
  },
  {
   "cell_type": "code",
   "execution_count": 7,
   "id": "7d377ee1-b7cd-45d3-b789-64d54c71a7b9",
   "metadata": {
    "tags": []
   },
   "outputs": [
    {
     "name": "stdout",
     "output_type": "stream",
     "text": [
      "正确 7194, 错误: 2806, 正确率: 0.7194\n"
     ]
    }
   ],
   "source": [
    "test_n = 6\n",
    "\n",
    "\n",
    "predict_ch3(google_LeNet,\n",
    "            test_iter,\n",
    "            n=test_n)"
   ]
  },
  {
   "cell_type": "code",
   "execution_count": null,
   "id": "c7c209d0-68c4-4725-9316-f9967f157184",
   "metadata": {},
   "outputs": [],
   "source": []
  }
 ],
 "metadata": {
  "kernelspec": {
   "display_name": "Python 3 (ipykernel)",
   "language": "python",
   "name": "python3"
  },
  "language_info": {
   "codemirror_mode": {
    "name": "ipython",
    "version": 3
   },
   "file_extension": ".py",
   "mimetype": "text/x-python",
   "name": "python",
   "nbconvert_exporter": "python",
   "pygments_lexer": "ipython3",
   "version": "3.8.10"
  }
 },
 "nbformat": 4,
 "nbformat_minor": 5
}
