{
 "cells": [
  {
   "cell_type": "code",
   "execution_count": 1,
   "id": "5def3ac0-a59a-4599-a26f-635cf58d63dd",
   "metadata": {
    "tags": []
   },
   "outputs": [
    {
     "name": "stderr",
     "output_type": "stream",
     "text": [
      "/home/mylady/anaconda3/envs/d2l_pytorch/lib/python3.10/site-packages/torchvision/io/image.py:13: UserWarning: Failed to load image Python extension: '/home/mylady/anaconda3/envs/d2l_pytorch/lib/python3.10/site-packages/torchvision/image.so: undefined symbol: _ZN3c1017RegisterOperatorsD1Ev'If you don't plan on using image functionality from `torchvision.io`, you can ignore this warning. Otherwise, there might be something wrong with your environment. Did you have `libjpeg` or `libpng` installed before building `torchvision` from source?\n",
      "  warn(\n",
      "/home/mylady/.local/lib/python3.10/site-packages/tqdm/auto.py:21: TqdmWarning: IProgress not found. Please update jupyter and ipywidgets. See https://ipywidgets.readthedocs.io/en/stable/user_install.html\n",
      "  from .autonotebook import tqdm as notebook_tqdm\n",
      "/home/mylady/anaconda3/envs/d2l_pytorch/lib/python3.10/site-packages/transformers/utils/generic.py:441: UserWarning: torch.utils._pytree._register_pytree_node is deprecated. Please use torch.utils._pytree.register_pytree_node instead.\n",
      "  _torch_pytree._register_pytree_node(\n"
     ]
    },
    {
     "name": "stdout",
     "output_type": "stream",
     "text": [
      "2.2.2+cu121\n"
     ]
    }
   ],
   "source": [
    "# from d2l import torch as d2l\n",
    "import torch\n",
    "from torch import nn\n",
    "from torch.nn import functional as F\n",
    "\n",
    "import sys\n",
    "sys.path.append(\"..\")\n",
    "# import d2lzh_pytorch.torch as d2l\n",
    "\n",
    "from d2lzh_pytorch.cnn.model.NiN_mode import get_NiN_mode\n",
    "\n",
    "from d2lzh_pytorch.cnn.load_data.load_mnist import load_data_fashion_mnist\n",
    "\n",
    "from d2lzh_pytorch.cnn.train.train_ch6 import train_ch6\n",
    "\n",
    "from d2lzh_pytorch.myUtils import try_gpu\n",
    "\n",
    "print(torch.__version__)"
   ]
  },
  {
   "cell_type": "code",
   "execution_count": 2,
   "id": "77fb34a2-6c67-40c5-a31e-3cda15aee003",
   "metadata": {
    "tags": []
   },
   "outputs": [],
   "source": [
    "\n",
    "# NiN 网络\n",
    "\n",
    "net = get_NiN_mode()"
   ]
  },
  {
   "cell_type": "code",
   "execution_count": 6,
   "id": "019fbe7a-1f64-41c6-86a4-2f303eaecd99",
   "metadata": {
    "tags": []
   },
   "outputs": [],
   "source": [
    "# net"
   ]
  },
  {
   "cell_type": "code",
   "execution_count": 3,
   "id": "4dadfbed-37cb-4154-a0f0-5542b5cdb208",
   "metadata": {},
   "outputs": [
    {
     "name": "stdout",
     "output_type": "stream",
     "text": [
      "read Fashion-MNIST Dataset consume time 0.04 s\n"
     ]
    }
   ],
   "source": [
    "# 加载数据\n",
    "batch_size = 128\n",
    "\n",
    "# train_iter, test_iter = load_data_fashion_mnist(batch_size, resize=224)\n",
    "train_iter, test_iter = load_data_fashion_mnist(\n",
    "    batch_size, \n",
    "    root=\"/home/mylady/ai_data/d2l_data/FashionMNIST\",\n",
    "    resize=224,\n",
    "    download=True\n",
    ")"
   ]
  },
  {
   "cell_type": "code",
   "execution_count": null,
   "id": "cef84734-a2f4-4a8b-80a0-62a651bac013",
   "metadata": {},
   "outputs": [],
   "source": [
    "#@tab all\n",
    "\n",
    "lr = 0.1\n",
    "num_epochs = 10\n",
    "batch_size = 128\n",
    "\n",
    "\n",
    "# 开始训练\n",
    "train_ch6(net,\n",
    "          train_iter, \n",
    "          test_iter, \n",
    "          num_epochs, \n",
    "          lr, \n",
    "          try_gpu()\n",
    "         )"
   ]
  },
  {
   "cell_type": "code",
   "execution_count": null,
   "id": "bae9b982-0ba5-4f04-97d0-fabbdcad20d6",
   "metadata": {},
   "outputs": [],
   "source": []
  }
 ],
 "metadata": {
  "kernelspec": {
   "display_name": "Python 3 (ipykernel)",
   "language": "python",
   "name": "python3"
  },
  "language_info": {
   "codemirror_mode": {
    "name": "ipython",
    "version": 3
   },
   "file_extension": ".py",
   "mimetype": "text/x-python",
   "name": "python",
   "nbconvert_exporter": "python",
   "pygments_lexer": "ipython3",
   "version": "3.10.13"
  }
 },
 "nbformat": 4,
 "nbformat_minor": 5
}
