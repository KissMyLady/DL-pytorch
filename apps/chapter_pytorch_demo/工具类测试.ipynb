{
 "cells": [
  {
   "cell_type": "code",
   "execution_count": 1,
   "id": "9afc39ba-b1b5-47d8-b517-da7791f8cf05",
   "metadata": {
    "tags": []
   },
   "outputs": [],
   "source": [
    "\n",
    "import sys\n",
    "sys.path.append(\".\")\n",
    "import d2lzh_pytorch.torch as d2l\n",
    "\n",
    "import time"
   ]
  },
  {
   "cell_type": "code",
   "execution_count": 2,
   "id": "e631ad5e-0020-43c7-b378-a98814022a72",
   "metadata": {
    "tags": []
   },
   "outputs": [
    {
     "name": "stdout",
     "output_type": "stream",
     "text": [
      ".\n",
      ".\n",
      ".\n",
      ".\n",
      ".\n",
      "['1.0011', '2.0024', '3.0037', '4.0049', '5.0061']\n"
     ]
    }
   ],
   "source": [
    "timer = d2l.Timer()\n",
    "\n",
    "\n",
    "\n",
    "for i in range(5):\n",
    "    time.sleep(1)\n",
    "    \n",
    "    timer.stop()\n",
    "    print('.')\n",
    "    pass\n",
    "\n",
    "\n",
    "print(timer)\n"
   ]
  },
  {
   "cell_type": "code",
   "execution_count": 3,
   "id": "a5a620c0-0c40-4135-876a-8216876ec355",
   "metadata": {},
   "outputs": [
    {
     "name": "stdout",
     "output_type": "stream",
     "text": [
      "  5.0061\n"
     ]
    }
   ],
   "source": [
    "print(timer.final_time())"
   ]
  },
  {
   "cell_type": "code",
   "execution_count": 4,
   "id": "aa5eb6ad-cc60-4f4c-8de4-d7d81f1e459e",
   "metadata": {},
   "outputs": [
    {
     "name": "stdout",
     "output_type": "stream",
     "text": [
      "['1.0013', '1.0013', '1.0013', '1.0012']\n"
     ]
    }
   ],
   "source": [
    "\n",
    "# 区间时段计算\n",
    "print(timer.interval_consume())"
   ]
  },
  {
   "cell_type": "code",
   "execution_count": 1,
   "id": "933f5e77-fa47-4a47-b213-6f89370947a2",
   "metadata": {
    "tags": []
   },
   "outputs": [
    {
     "name": "stdout",
     "output_type": "stream",
     "text": [
      "2.0\n",
      "cuda:0\n"
     ]
    }
   ],
   "source": [
    "import torch\n",
    "print(2.0)\n",
    "device = torch.device(\"cuda:0\" if torch.cuda.is_available() else \"cpu\")\n",
    "# Assume that we are on a CUDA machine, then this should print a CUDA device:\n",
    "print(device)"
   ]
  },
  {
   "cell_type": "code",
   "execution_count": 2,
   "id": "7c92e079-7048-4f2f-a916-7d46fd32836a",
   "metadata": {
    "tags": []
   },
   "outputs": [
    {
     "name": "stdout",
     "output_type": "stream",
     "text": [
      "tensor([2.1000], device='cuda:0')\n"
     ]
    }
   ],
   "source": [
    "x = torch.Tensor([2.1])\n",
    "xx = x.cuda()\n",
    "print(xx)\n"
   ]
  },
  {
   "cell_type": "code",
   "execution_count": 3,
   "id": "87226715-aa1a-4ccf-ab3f-844cee132e78",
   "metadata": {
    "tags": []
   },
   "outputs": [
    {
     "name": "stdout",
     "output_type": "stream",
     "text": [
      "cudann is True\n"
     ]
    }
   ],
   "source": [
    "\n",
    "# CUDNN TEST\n",
    "from torch.backends import cudnn\n",
    "\n",
    "print('cudann is ' + str(cudnn.is_acceptable(xx)))"
   ]
  },
  {
   "cell_type": "code",
   "execution_count": null,
   "id": "5a5e363a-d2bd-41f3-b620-d74695868388",
   "metadata": {},
   "outputs": [],
   "source": []
  }
 ],
 "metadata": {
  "kernelspec": {
   "display_name": "Python 3 (ipykernel)",
   "language": "python",
   "name": "python3"
  },
  "language_info": {
   "codemirror_mode": {
    "name": "ipython",
    "version": 3
   },
   "file_extension": ".py",
   "mimetype": "text/x-python",
   "name": "python",
   "nbconvert_exporter": "python",
   "pygments_lexer": "ipython3",
   "version": "3.8.10"
  }
 },
 "nbformat": 4,
 "nbformat_minor": 5
}
