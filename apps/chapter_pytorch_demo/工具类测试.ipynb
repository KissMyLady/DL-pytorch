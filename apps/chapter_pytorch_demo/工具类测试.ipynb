{
 "cells": [
  {
   "cell_type": "code",
   "execution_count": 1,
   "id": "9afc39ba-b1b5-47d8-b517-da7791f8cf05",
   "metadata": {
    "tags": []
   },
   "outputs": [
    {
     "name": "stderr",
     "output_type": "stream",
     "text": [
      "/home/mylady/anaconda3/envs/d2l_pytorch/lib/python3.10/site-packages/tqdm/auto.py:21: TqdmWarning: IProgress not found. Please update jupyter and ipywidgets. See https://ipywidgets.readthedocs.io/en/stable/user_install.html\n",
      "  from .autonotebook import tqdm as notebook_tqdm\n"
     ]
    }
   ],
   "source": [
    "\n",
    "import sys\n",
    "sys.path.append(\".\")\n",
    "# import d2lzh_pytorch.torch as d2l\n",
    "\n",
    "from d2lzh_pytorch.myUtils import Timer\n",
    "\n",
    "import time"
   ]
  },
  {
   "cell_type": "code",
   "execution_count": 2,
   "id": "e631ad5e-0020-43c7-b378-a98814022a72",
   "metadata": {
    "tags": []
   },
   "outputs": [
    {
     "name": "stdout",
     "output_type": "stream",
     "text": [
      "当前轮询耗时: 1.00\n",
      ".\n",
      "当前轮询耗时: 1.00\n",
      ".\n",
      "当前轮询耗时: 1.00\n",
      ".\n",
      "当前轮询耗时: 1.00\n",
      ".\n",
      "当前轮询耗时: 1.00\n",
      ".\n",
      "['1.0011', '1.0015', '1.0023', '1.0011', '1.0022']\n",
      "总共耗时: 5.01\n"
     ]
    }
   ],
   "source": [
    "timer = Timer()\n",
    "\n",
    "\n",
    "\n",
    "for i in range(5):\n",
    "    timer.start()\n",
    "    time.sleep(1)\n",
    "    \n",
    "    res_time = timer.stop()\n",
    "    \n",
    "    print(\"当前轮询耗时: %.2f\" % res_time)\n",
    "    print('.')\n",
    "    \n",
    "    pass\n",
    "\n",
    "\n",
    "print(timer)\n",
    "print(\"总共耗时: %.2f\" % timer.sum())"
   ]
  },
  {
   "cell_type": "code",
   "execution_count": 3,
   "id": "a5a620c0-0c40-4135-876a-8216876ec355",
   "metadata": {},
   "outputs": [
    {
     "name": "stdout",
     "output_type": "stream",
     "text": [
      "  1.0022\n"
     ]
    }
   ],
   "source": [
    "print(timer.final_time())"
   ]
  },
  {
   "cell_type": "code",
   "execution_count": 4,
   "id": "aa5eb6ad-cc60-4f4c-8de4-d7d81f1e459e",
   "metadata": {},
   "outputs": [
    {
     "name": "stdout",
     "output_type": "stream",
     "text": [
      "['0.0004', '0.0008', '-0.0012', '0.0012']\n"
     ]
    }
   ],
   "source": [
    "\n",
    "# 区间时段计算\n",
    "print(timer.interval_consume())"
   ]
  },
  {
   "cell_type": "code",
   "execution_count": 5,
   "id": "933f5e77-fa47-4a47-b213-6f89370947a2",
   "metadata": {
    "tags": []
   },
   "outputs": [
    {
     "name": "stdout",
     "output_type": "stream",
     "text": [
      "2.0\n",
      "cpu\n"
     ]
    }
   ],
   "source": [
    "import torch\n",
    "print(2.0)\n",
    "device = torch.device(\"cuda:0\" if torch.cuda.is_available() else \"cpu\")\n",
    "# Assume that we are on a CUDA machine, then this should print a CUDA device:\n",
    "print(device)"
   ]
  },
  {
   "cell_type": "code",
   "execution_count": 6,
   "id": "7c92e079-7048-4f2f-a916-7d46fd32836a",
   "metadata": {
    "tags": []
   },
   "outputs": [
    {
     "ename": "RuntimeError",
     "evalue": "Found no NVIDIA driver on your system. Please check that you have an NVIDIA GPU and installed a driver from http://www.nvidia.com/Download/index.aspx",
     "output_type": "error",
     "traceback": [
      "\u001b[0;31m---------------------------------------------------------------------------\u001b[0m",
      "\u001b[0;31mRuntimeError\u001b[0m                              Traceback (most recent call last)",
      "Cell \u001b[0;32mIn[6], line 2\u001b[0m\n\u001b[1;32m      1\u001b[0m x \u001b[38;5;241m=\u001b[39m torch\u001b[38;5;241m.\u001b[39mTensor([\u001b[38;5;241m2.1\u001b[39m])\n\u001b[0;32m----> 2\u001b[0m xx \u001b[38;5;241m=\u001b[39m \u001b[43mx\u001b[49m\u001b[38;5;241;43m.\u001b[39;49m\u001b[43mcuda\u001b[49m\u001b[43m(\u001b[49m\u001b[43m)\u001b[49m\n\u001b[1;32m      3\u001b[0m \u001b[38;5;28mprint\u001b[39m(xx)\n",
      "File \u001b[0;32m~/anaconda3/envs/d2l_pytorch/lib/python3.10/site-packages/torch/cuda/__init__.py:298\u001b[0m, in \u001b[0;36m_lazy_init\u001b[0;34m()\u001b[0m\n\u001b[1;32m    296\u001b[0m \u001b[38;5;28;01mif\u001b[39;00m \u001b[38;5;124m\"\u001b[39m\u001b[38;5;124mCUDA_MODULE_LOADING\u001b[39m\u001b[38;5;124m\"\u001b[39m \u001b[38;5;129;01mnot\u001b[39;00m \u001b[38;5;129;01min\u001b[39;00m os\u001b[38;5;241m.\u001b[39menviron:\n\u001b[1;32m    297\u001b[0m     os\u001b[38;5;241m.\u001b[39menviron[\u001b[38;5;124m\"\u001b[39m\u001b[38;5;124mCUDA_MODULE_LOADING\u001b[39m\u001b[38;5;124m\"\u001b[39m] \u001b[38;5;241m=\u001b[39m \u001b[38;5;124m\"\u001b[39m\u001b[38;5;124mLAZY\u001b[39m\u001b[38;5;124m\"\u001b[39m\n\u001b[0;32m--> 298\u001b[0m \u001b[43mtorch\u001b[49m\u001b[38;5;241;43m.\u001b[39;49m\u001b[43m_C\u001b[49m\u001b[38;5;241;43m.\u001b[39;49m\u001b[43m_cuda_init\u001b[49m\u001b[43m(\u001b[49m\u001b[43m)\u001b[49m\n\u001b[1;32m    299\u001b[0m \u001b[38;5;66;03m# Some of the queued calls may reentrantly call _lazy_init();\u001b[39;00m\n\u001b[1;32m    300\u001b[0m \u001b[38;5;66;03m# we need to just return without initializing in that case.\u001b[39;00m\n\u001b[1;32m    301\u001b[0m \u001b[38;5;66;03m# However, we must not let any *other* threads in!\u001b[39;00m\n\u001b[1;32m    302\u001b[0m _tls\u001b[38;5;241m.\u001b[39mis_initializing \u001b[38;5;241m=\u001b[39m \u001b[38;5;28;01mTrue\u001b[39;00m\n",
      "\u001b[0;31mRuntimeError\u001b[0m: Found no NVIDIA driver on your system. Please check that you have an NVIDIA GPU and installed a driver from http://www.nvidia.com/Download/index.aspx"
     ]
    }
   ],
   "source": [
    "x = torch.Tensor([2.1])\n",
    "xx = x.cuda()\n",
    "print(xx)\n"
   ]
  },
  {
   "cell_type": "code",
   "execution_count": null,
   "id": "87226715-aa1a-4ccf-ab3f-844cee132e78",
   "metadata": {
    "tags": []
   },
   "outputs": [],
   "source": [
    "\n",
    "# CUDNN TEST\n",
    "from torch.backends import cudnn\n",
    "\n",
    "print('cudann is ' + str(cudnn.is_acceptable(xx)))"
   ]
  },
  {
   "cell_type": "code",
   "execution_count": null,
   "id": "5a5e363a-d2bd-41f3-b620-d74695868388",
   "metadata": {},
   "outputs": [],
   "source": []
  }
 ],
 "metadata": {
  "kernelspec": {
   "display_name": "Python 3 (ipykernel)",
   "language": "python",
   "name": "python3"
  },
  "language_info": {
   "codemirror_mode": {
    "name": "ipython",
    "version": 3
   },
   "file_extension": ".py",
   "mimetype": "text/x-python",
   "name": "python",
   "nbconvert_exporter": "python",
   "pygments_lexer": "ipython3",
   "version": "3.10.13"
  }
 },
 "nbformat": 4,
 "nbformat_minor": 5
}
