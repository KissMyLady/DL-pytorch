{
 "cells": [
  {
   "cell_type": "code",
   "execution_count": 1,
   "id": "9afc39ba-b1b5-47d8-b517-da7791f8cf05",
   "metadata": {
    "tags": []
   },
   "outputs": [],
   "source": [
    "\n",
    "import sys\n",
    "sys.path.append(\".\")\n",
    "import d2lzh_pytorch.torch as d2l\n",
    "\n",
    "import time"
   ]
  },
  {
   "cell_type": "code",
   "execution_count": 2,
   "id": "e631ad5e-0020-43c7-b378-a98814022a72",
   "metadata": {
    "tags": []
   },
   "outputs": [
    {
     "name": "stdout",
     "output_type": "stream",
     "text": [
      ".\n",
      ".\n",
      ".\n",
      ".\n",
      ".\n",
      "['1.0011', '2.0024', '3.0037', '4.0044', '5.0057']\n"
     ]
    }
   ],
   "source": [
    "timer = d2l.Timer()\n",
    "\n",
    "\n",
    "\n",
    "for i in range(5):\n",
    "    time.sleep(1)\n",
    "    \n",
    "    timer.stop()\n",
    "    print('.')\n",
    "    pass\n",
    "\n",
    "\n",
    "print(timer)\n"
   ]
  },
  {
   "cell_type": "code",
   "execution_count": 3,
   "id": "a5a620c0-0c40-4135-876a-8216876ec355",
   "metadata": {},
   "outputs": [
    {
     "name": "stdout",
     "output_type": "stream",
     "text": [
      "  5.0057\n"
     ]
    }
   ],
   "source": [
    "print(timer.final_time())"
   ]
  },
  {
   "cell_type": "code",
   "execution_count": 4,
   "id": "aa5eb6ad-cc60-4f4c-8de4-d7d81f1e459e",
   "metadata": {},
   "outputs": [
    {
     "name": "stdout",
     "output_type": "stream",
     "text": [
      "['1.0013', '1.0013', '1.0007', '1.0014']\n"
     ]
    }
   ],
   "source": [
    "\n",
    "# 区间时段计算\n",
    "print(timer.interval_consume())"
   ]
  },
  {
   "cell_type": "code",
   "execution_count": null,
   "id": "37734214-4632-4347-a64f-9f8bb2322370",
   "metadata": {},
   "outputs": [],
   "source": [
    "# 4Tb 1  1111\n",
    "                + 208\n",
    "# 2Tb 1  903   \n",
    "                + 79\n",
    "# 1Tb 1  824   \n",
    "                + 264\n",
    "# 无  1  560    "
   ]
  },
  {
   "cell_type": "code",
   "execution_count": 2,
   "id": "324df3f5-52f4-4460-9232-ac7980603c58",
   "metadata": {
    "tags": []
   },
   "outputs": [
    {
     "data": {
      "text/plain": [
       "79"
      ]
     },
     "execution_count": 2,
     "metadata": {},
     "output_type": "execute_result"
    }
   ],
   "source": [
    "# 4TB 1 200万   1070\n",
    "                     + 207\n",
    "# 2TB 1 200万   863  \n",
    "                     + 80   \n",
    "# 1TB 1 200万   783  \n",
    "                     + 264\n",
    "# 无 1  200万   519  "
   ]
  },
  {
   "cell_type": "code",
   "execution_count": 9,
   "id": "a19fd573-86dd-4452-935d-059a59841ee6",
   "metadata": {
    "tags": []
   },
   "outputs": [
    {
     "data": {
      "text/plain": [
       "344"
      ]
     },
     "execution_count": 9,
     "metadata": {},
     "output_type": "execute_result"
    }
   ],
   "source": [
    "# 1T 硬盘  264元\n",
    "t1 = 264\n",
    "\n",
    "# 2T 硬盘  344元\n",
    "t2 = 264 + 80\n",
    "\n",
    " \n",
    "# 4T 硬盘 551元\n",
    "t4 = 264 + 80 + 207\n"
   ]
  },
  {
   "cell_type": "code",
   "execution_count": null,
   "id": "a7b99e6a-fb4d-4fb1-aaab-dab25a309032",
   "metadata": {},
   "outputs": [],
   "source": []
  }
 ],
 "metadata": {
  "kernelspec": {
   "display_name": "Python 3 (ipykernel)",
   "language": "python",
   "name": "python3"
  },
  "language_info": {
   "codemirror_mode": {
    "name": "ipython",
    "version": 3
   },
   "file_extension": ".py",
   "mimetype": "text/x-python",
   "name": "python",
   "nbconvert_exporter": "python",
   "pygments_lexer": "ipython3",
   "version": "3.8.10"
  }
 },
 "nbformat": 4,
 "nbformat_minor": 5
}
