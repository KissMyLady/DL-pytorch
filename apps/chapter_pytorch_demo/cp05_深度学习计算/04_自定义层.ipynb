{
 "cells": [
  {
   "cell_type": "markdown",
   "id": "8b27d69c-356d-4421-a984-854f8365b373",
   "metadata": {},
   "source": [
    "# 自定义层\n",
    "\n",
    "深度学习成功背后的一个因素是神经网络的灵活性：\n",
    "我们可以用创造性的方式组合不同的层，从而设计出适用于各种任务的架构。\n",
    "例如，研究人员发明了专门用于处理图像、文本、序列数据和执行动态规划的层。\n",
    "有时我们会遇到或要自己发明一个现在在深度学习框架中还不存在的层。\n",
    "在这些情况下，必须构建自定义层。本节将展示如何构建自定义层。"
   ]
  },
  {
   "cell_type": "markdown",
   "id": "21c828b8-b2be-4f77-9fe2-475ed7c18fd8",
   "metadata": {},
   "source": [
    "## 不带参数的层\n",
    "\n",
    "首先，我们(**构造一个没有任何参数的自定义层**)。\n",
    "回忆一下在 :numref:`sec_model_construction`对块的介绍，\n",
    "这应该看起来很眼熟。\n",
    "下面的`CenteredLayer`类要从其输入中减去均值。\n",
    "要构建它，我们只需继承基础层类并实现前向传播功能。"
   ]
  },
  {
   "cell_type": "code",
   "execution_count": 1,
   "id": "aa8cfb51-ba31-409d-a065-ba4cc097eeb1",
   "metadata": {
    "tags": []
   },
   "outputs": [
    {
     "name": "stdout",
     "output_type": "stream",
     "text": [
      "1.13.1+cu117\n"
     ]
    }
   ],
   "source": [
    "import torch\n",
    "import torch.nn.functional as F\n",
    "from torch import nn\n",
    "\n",
    "\n",
    "print(torch.__version__)"
   ]
  },
  {
   "cell_type": "code",
   "execution_count": 2,
   "id": "6bdd7b92-f0fe-4798-8d98-782a8cbfd96c",
   "metadata": {
    "tags": []
   },
   "outputs": [],
   "source": [
    "class CenteredLayer(nn.Module):\n",
    "    \n",
    "    def __init__(self):\n",
    "        super().__init__()\n",
    "\n",
    "    def forward(self, X):\n",
    "        y1 = X - X.mean()\n",
    "        return y1"
   ]
  },
  {
   "cell_type": "markdown",
   "id": "9d3caacc-1088-4102-8cdc-c31c5ca10fdd",
   "metadata": {},
   "source": [
    "让我们向该层提供一些数据，验证它是否能按预期工作。\n"
   ]
  },
  {
   "cell_type": "code",
   "execution_count": 19,
   "id": "e7960d49-fda1-4a6a-bbc9-a0806147eeec",
   "metadata": {
    "tags": []
   },
   "outputs": [
    {
     "name": "stdout",
     "output_type": "stream",
     "text": [
      "tensor([1., 2., 3., 4., 5.])\n",
      "计算结果:  tensor([-2., -1.,  0.,  1.,  2.])\n"
     ]
    }
   ],
   "source": [
    "layer = CenteredLayer()\n",
    "\n",
    "X = torch.FloatTensor([1, 2, 3, 4, 5])\n",
    "print(X)\n",
    "\n",
    "print('计算结果: ', layer(X))"
   ]
  },
  {
   "cell_type": "markdown",
   "id": "67a0a3e9-91b5-4574-ae71-5b069750e80e",
   "metadata": {},
   "source": [
    "现在，我们可以[**将层作为组件合并到更复杂的模型中**]。\n"
   ]
  },
  {
   "cell_type": "code",
   "execution_count": 5,
   "id": "243c0c8b-af08-4541-83c6-8de660192e69",
   "metadata": {
    "tags": []
   },
   "outputs": [],
   "source": [
    "net = nn.Sequential(\n",
    "    nn.Linear(8, 128), \n",
    "    CenteredLayer()\n",
    ")"
   ]
  },
  {
   "cell_type": "code",
   "execution_count": 6,
   "id": "b0c6d991-b097-48ad-8195-5cf654f52d8e",
   "metadata": {
    "tags": []
   },
   "outputs": [
    {
     "data": {
      "text/plain": [
       "Sequential(\n",
       "  (0): Linear(in_features=8, out_features=128, bias=True)\n",
       "  (1): CenteredLayer()\n",
       ")"
      ]
     },
     "execution_count": 6,
     "metadata": {},
     "output_type": "execute_result"
    }
   ],
   "source": [
    "# 这里使用自定义, 初始化初始化网络\n",
    "def init_normal(m):\n",
    "    if type(m) == nn.Linear:\n",
    "        nn.init.normal_(m.weight, mean=0, std=1)\n",
    "        nn.init.zeros_(m.bias)\n",
    "\n",
    "\n",
    "net.apply(init_normal)"
   ]
  },
  {
   "cell_type": "markdown",
   "id": "945ef798-fccb-45a4-9c7c-0ae22ca0e3fc",
   "metadata": {},
   "source": [
    "作为额外的健全性检查，我们可以在向该网络发送随机数据后，检查均值是否为0。\n",
    "由于我们处理的是浮点数，因为存储精度的原因，我们仍然可能会看到一个非常小的非零数。\n"
   ]
  },
  {
   "cell_type": "code",
   "execution_count": 7,
   "id": "579226c1-e7ca-44a2-9c58-8a0b291d7c42",
   "metadata": {
    "tags": []
   },
   "outputs": [
    {
     "data": {
      "text/plain": [
       "tensor([[0.7861, 0.8148, 0.5295, 0.8833, 0.3692, 0.2868, 0.1620, 0.3579],\n",
       "        [0.2347, 0.1419, 0.9300, 0.4804, 0.3373, 0.5486, 0.3061, 0.2491],\n",
       "        [0.8915, 0.8216, 0.8106, 0.1906, 0.4331, 0.9964, 0.6802, 0.1719],\n",
       "        [0.3417, 0.9091, 0.5275, 0.7543, 0.5729, 0.5596, 0.9659, 0.3932]])"
      ]
     },
     "execution_count": 7,
     "metadata": {},
     "output_type": "execute_result"
    }
   ],
   "source": [
    "X2 = torch.rand(4, 8)\n",
    "\n",
    "X2"
   ]
  },
  {
   "cell_type": "code",
   "execution_count": 8,
   "id": "8e971ee8-9c7d-4240-b9fc-eb9c93415b5c",
   "metadata": {
    "tags": []
   },
   "outputs": [
    {
     "name": "stdout",
     "output_type": "stream",
     "text": [
      "torch.Size([4, 128])\n"
     ]
    },
    {
     "data": {
      "text/plain": [
       "tensor(-6.7521e-09, grad_fn=<MeanBackward0>)"
      ]
     },
     "execution_count": 8,
     "metadata": {},
     "output_type": "execute_result"
    }
   ],
   "source": [
    "Y = net(X2)\n",
    "print(Y.shape)\n",
    "\n",
    "Y.mean()"
   ]
  },
  {
   "cell_type": "markdown",
   "id": "4644f9e1-1d66-48fa-a045-88552e40bb05",
   "metadata": {},
   "source": [
    "## [**带参数的层**]\n",
    "\n",
    "以上我们知道了如何定义简单的层，下面我们继续定义具有参数的层，\n",
    "这些参数可以通过训练进行调整。\n",
    "我们可以使用内置函数来创建参数，这些函数提供一些基本的管理功能。\n",
    "比如管理访问、初始化、共享、保存和加载模型参数。\n",
    "这样做的好处之一是：我们不需要为每个自定义层编写自定义的序列化程序。\n",
    "\n",
    "现在，让我们实现自定义版本的全连接层。\n",
    "回想一下，该层需要两个参数，一个用于表示权重，另一个用于表示偏置项。\n",
    "在此实现中，我们使用修正线性单元作为激活函数。\n",
    "该层需要输入参数：`in_units`和`units`，分别表示输入数和输出数。\n"
   ]
  },
  {
   "cell_type": "code",
   "execution_count": 20,
   "id": "a014a822-a89c-4397-b555-cb04d866f592",
   "metadata": {
    "tags": []
   },
   "outputs": [],
   "source": [
    "class MyLinear(nn.Module):\n",
    "    \n",
    "    def __init__(self, in_units, units):\n",
    "        super().__init__()\n",
    "        self.weight = nn.Parameter(torch.randn(in_units, units))\n",
    "        self.bias = nn.Parameter(torch.randn(units,))\n",
    "        \n",
    "    def forward(self, X):\n",
    "        linear = torch.matmul(X, self.weight.data) + self.bias.data\n",
    "        y_hat = F.relu(linear)\n",
    "        return y_hat\n",
    "\n",
    "\n",
    "\"\"\"\n",
    "具体来说，这个神经网络结构包含一个自定义的线性层MyLinear，该层接受输入X，并输出通过矩阵乘法和偏置加法计算得到的结果。\n",
    "\n",
    "在这个代码中，为了初始化权重和偏差，我们使用了nn.Parameter函数来创建权重和偏差参数。\n",
    "\n",
    "这表示这些参数将会被优化器更新以最小化损失函数。在forward方法中，我们首先使用torch.matmul函数计算输入X和权重之间的点积，\n",
    "然后添加偏置项。接着我们使用激活函数ReLU将线性变换的结果进行非线性变换，从而得到最终的输出y_hat。\n",
    "\"\"\""
   ]
  },
  {
   "cell_type": "markdown",
   "id": "32a253bb-c967-4571-9432-c2dc5acc6282",
   "metadata": {},
   "source": [
    "接下来，我们实例化`MyLinear`类并访问其模型参数。\n"
   ]
  },
  {
   "cell_type": "code",
   "execution_count": 10,
   "id": "d116df27-d436-4ed0-aec4-ec14c2de778d",
   "metadata": {
    "tags": []
   },
   "outputs": [
    {
     "data": {
      "text/plain": [
       "Parameter containing:\n",
       "tensor([[ 0.3959, -1.4989, -0.2543],\n",
       "        [ 0.1180, -0.7197, -0.2281],\n",
       "        [-0.4724, -0.2381, -1.3180],\n",
       "        [ 0.2456,  0.2017, -0.8422],\n",
       "        [-1.1730,  0.6457, -1.1515]], requires_grad=True)"
      ]
     },
     "execution_count": 10,
     "metadata": {},
     "output_type": "execute_result"
    }
   ],
   "source": [
    "linear = MyLinear(5, 3)\n",
    "linear.weight"
   ]
  },
  {
   "cell_type": "code",
   "execution_count": 11,
   "id": "69f28cfb-ce7f-4de6-843e-f412d08d8a71",
   "metadata": {
    "tags": []
   },
   "outputs": [
    {
     "data": {
      "text/plain": [
       "OrderedDict([('weight',\n",
       "              tensor([[ 0.3959, -1.4989, -0.2543],\n",
       "                      [ 0.1180, -0.7197, -0.2281],\n",
       "                      [-0.4724, -0.2381, -1.3180],\n",
       "                      [ 0.2456,  0.2017, -0.8422],\n",
       "                      [-1.1730,  0.6457, -1.1515]])),\n",
       "             ('bias', tensor([-0.4140, -1.2611, -0.6674]))])"
      ]
     },
     "execution_count": 11,
     "metadata": {},
     "output_type": "execute_result"
    }
   ],
   "source": [
    "linear.state_dict()"
   ]
  },
  {
   "cell_type": "markdown",
   "id": "6f65c4de-6747-4302-bf64-8833db5d4199",
   "metadata": {},
   "source": [
    "我们可以[**使用自定义层直接执行前向传播计算**]。\n"
   ]
  },
  {
   "cell_type": "code",
   "execution_count": 12,
   "id": "8dd143f3-22e5-4132-8219-77505a3e0a90",
   "metadata": {
    "tags": []
   },
   "outputs": [
    {
     "data": {
      "text/plain": [
       "tensor([[0.1488, 0.3675, 0.2915, 0.1620, 0.4365],\n",
       "        [0.9768, 0.2524, 0.7773, 0.3810, 0.4306]])"
      ]
     },
     "execution_count": 12,
     "metadata": {},
     "output_type": "execute_result"
    }
   ],
   "source": [
    "X3 = torch.rand(2, 5)\n",
    "\n",
    "X3"
   ]
  },
  {
   "cell_type": "code",
   "execution_count": 13,
   "id": "8f818dcc-b3d2-446e-8471-407a6411b407",
   "metadata": {
    "tags": []
   },
   "outputs": [
    {
     "data": {
      "text/plain": [
       "tensor([[0., 0., 0.],\n",
       "        [0., 0., 0.]])"
      ]
     },
     "execution_count": 13,
     "metadata": {},
     "output_type": "execute_result"
    }
   ],
   "source": [
    "\n",
    "# \n",
    "linear(X3)"
   ]
  },
  {
   "cell_type": "markdown",
   "id": "fa2d6690-f310-4b9f-9308-82fc4c262929",
   "metadata": {},
   "source": [
    "我们还可以(**使用自定义层构建模型**)，就像使用内置的全连接层一样使用自定义层。\n"
   ]
  },
  {
   "cell_type": "code",
   "execution_count": 14,
   "id": "0700abc8-ee18-41bf-8b2b-15334a67a008",
   "metadata": {
    "tags": []
   },
   "outputs": [],
   "source": [
    "net = nn.Sequential(\n",
    "    MyLinear(64, 8), \n",
    "    MyLinear(8, 1)\n",
    ")"
   ]
  },
  {
   "cell_type": "code",
   "execution_count": 16,
   "id": "51f0728f-89ef-4a72-8a37-da70c4723088",
   "metadata": {
    "tags": []
   },
   "outputs": [
    {
     "data": {
      "text/plain": [
       "tensor([[ 4.5336],\n",
       "        [ 6.6808],\n",
       "        [ 0.0000],\n",
       "        [ 3.2334],\n",
       "        [12.7250],\n",
       "        [11.2090],\n",
       "        [ 1.4799],\n",
       "        [ 7.1822],\n",
       "        [ 5.7899],\n",
       "        [ 1.1124]])"
      ]
     },
     "execution_count": 16,
     "metadata": {},
     "output_type": "execute_result"
    }
   ],
   "source": [
    "X4 = torch.rand(size=(10, 64))\n",
    "\n",
    "# 计算\n",
    "y_hat = net(X4)\n",
    "y_hat"
   ]
  },
  {
   "cell_type": "markdown",
   "id": "fc5989eb-68dd-47d8-b16f-8159d6f14b42",
   "metadata": {},
   "source": [
    "## 小结\n",
    "\n",
    "* 我们可以通过基本层类设计自定义层。这允许我们定义灵活的新层，其行为与深度学习框架中的任何现有层不同。\n",
    "* 在自定义层定义完成后，我们就可以在任意环境和网络架构中调用该自定义层。\n",
    "* 层可以有局部参数，这些参数可以通过内置函数创建。"
   ]
  },
  {
   "cell_type": "code",
   "execution_count": null,
   "id": "b0befdb4-6057-4b72-9d83-ec15776d0755",
   "metadata": {},
   "outputs": [],
   "source": []
  }
 ],
 "metadata": {
  "kernelspec": {
   "display_name": "Python 3 (ipykernel)",
   "language": "python",
   "name": "python3"
  },
  "language_info": {
   "codemirror_mode": {
    "name": "ipython",
    "version": 3
   },
   "file_extension": ".py",
   "mimetype": "text/x-python",
   "name": "python",
   "nbconvert_exporter": "python",
   "pygments_lexer": "ipython3",
   "version": "3.8.10"
  }
 },
 "nbformat": 4,
 "nbformat_minor": 5
}
