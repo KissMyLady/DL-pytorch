{
 "cells": [
  {
   "cell_type": "code",
   "execution_count": 1,
   "id": "70df8b90-d791-4738-8ec8-5b38e692cdc4",
   "metadata": {
    "tags": []
   },
   "outputs": [],
   "source": [
    "import torch\n",
    "from datasets import load_dataset\n",
    "from datasets import load_from_disk\n",
    "\n",
    "# from d2l import torch as d2l\n",
    "\n",
    "\n",
    "device = torch.device('cuda' if torch.cuda.is_available() else 'cpu')"
   ]
  },
  {
   "cell_type": "code",
   "execution_count": 2,
   "id": "0d9b4748-e618-49f4-814c-6fdc02512eb9",
   "metadata": {
    "tags": []
   },
   "outputs": [],
   "source": [
    "# 定义数据集\n",
    "class Dataset(torch.utils.data.Dataset):\n",
    "    \n",
    "    def __init__(self, split):\n",
    "        # dataset = load_dataset('lansinuote/ChnSentiCorp', keep_in_memory=True)\n",
    "        dataset = load_from_disk('./data/ChnSentiCorp')\n",
    "        \n",
    "        print(dataset)\n",
    "        def f(data):\n",
    "            return len(data['text']) > 30\n",
    "        self.dataset = dataset.filter(f)\n",
    "\n",
    "    def __len__(self):\n",
    "        return len(self.dataset)\n",
    "\n",
    "    def __getitem__(self, i):\n",
    "        text = self.dataset[i]['text']\n",
    "        return text"
   ]
  },
  {
   "cell_type": "code",
   "execution_count": 3,
   "id": "cd4f6103-b189-4e37-91e7-3ca9398d6228",
   "metadata": {
    "tags": []
   },
   "outputs": [
    {
     "name": "stderr",
     "output_type": "stream",
     "text": [
      "Loading cached processed dataset at /home/mylady/code/python/DL-pytorch/apps/huggingface/data/ChnSentiCorp/validation/cache-cf45964edee402a8.arrow\n",
      "Loading cached processed dataset at /home/mylady/code/python/DL-pytorch/apps/huggingface/data/ChnSentiCorp/test/cache-c6f7400aef16ddba.arrow\n",
      "Loading cached processed dataset at /home/mylady/code/python/DL-pytorch/apps/huggingface/data/ChnSentiCorp/train/cache-478819d08c52879a.arrow\n"
     ]
    },
    {
     "name": "stdout",
     "output_type": "stream",
     "text": [
      "DatasetDict({\n",
      "    validation: Dataset({\n",
      "        features: ['text', 'label'],\n",
      "        num_rows: 1200\n",
      "    })\n",
      "    test: Dataset({\n",
      "        features: ['text', 'label'],\n",
      "        num_rows: 1200\n",
      "    })\n",
      "    train: Dataset({\n",
      "        features: ['text', 'label'],\n",
      "        num_rows: 9600\n",
      "    })\n",
      "})\n"
     ]
    },
    {
     "data": {
      "text/plain": [
       "3"
      ]
     },
     "execution_count": 3,
     "metadata": {},
     "output_type": "execute_result"
    }
   ],
   "source": [
    "dataset = Dataset('train')\n",
    "len(dataset) # , dataset[0]"
   ]
  },
  {
   "cell_type": "code",
   "execution_count": 4,
   "id": "2da91b69-baf4-4dbe-9c19-aceaa45b6c9c",
   "metadata": {},
   "outputs": [
    {
     "name": "stdout",
     "output_type": "stream",
     "text": [
      "BertTokenizer(name_or_path='bert-base-chinese', vocab_size=21128, model_max_length=512, is_fast=False, padding_side='right', truncation_side='right', special_tokens={'unk_token': '[UNK]', 'sep_token': '[SEP]', 'pad_token': '[PAD]', 'cls_token': '[CLS]', 'mask_token': '[MASK]'})\n"
     ]
    },
    {
     "name": "stderr",
     "output_type": "stream",
     "text": [
      "Some weights of the model checkpoint at bert-base-chinese were not used when initializing BertModel: ['cls.predictions.bias', 'cls.seq_relationship.bias', 'cls.predictions.transform.dense.weight', 'cls.predictions.transform.LayerNorm.bias', 'cls.seq_relationship.weight', 'cls.predictions.transform.LayerNorm.weight', 'cls.predictions.decoder.weight', 'cls.predictions.transform.dense.bias']\n",
      "- This IS expected if you are initializing BertModel from the checkpoint of a model trained on another task or with another architecture (e.g. initializing a BertForSequenceClassification model from a BertForPreTraining model).\n",
      "- This IS NOT expected if you are initializing BertModel from the checkpoint of a model that you expect to be exactly identical (initializing a BertForSequenceClassification model from a BertForSequenceClassification model).\n"
     ]
    },
    {
     "name": "stdout",
     "output_type": "stream",
     "text": [
      "bert 预训练模型加载完毕..\n"
     ]
    }
   ],
   "source": [
    "from transformers import BertTokenizer\n",
    "from transformers import BertModel\n",
    "\n",
    "\n",
    "# 加载字典和分词工具\n",
    "token = BertTokenizer.from_pretrained('bert-base-chinese')\n",
    "\n",
    "print(token)\n",
    "\n",
    "\n",
    "# 加载预训练模型\n",
    "bert = BertModel.from_pretrained('bert-base-chinese').to(device)\n",
    "\n",
    "print('bert 预训练模型加载完毕..')"
   ]
  },
  {
   "cell_type": "code",
   "execution_count": null,
   "id": "201d3fa6-7195-419c-9506-36d6226be0bb",
   "metadata": {
    "tags": []
   },
   "outputs": [],
   "source": [
    "\n",
    "def write_data():\n",
    "    count = 0\n",
    "\n",
    "    # 写入到文件\n",
    "    with open('token_word.txt', 'w', encoding='utf-8') as f:\n",
    "        for item in token.get_vocab():\n",
    "            f.write(item)\n",
    "            count += 1\n",
    "    pass"
   ]
  },
  {
   "cell_type": "code",
   "execution_count": 5,
   "id": "a68a67a7-66c6-4a2f-81dc-a94e2a5fe56d",
   "metadata": {
    "tags": []
   },
   "outputs": [],
   "source": [
    "def collate_fn(data):\n",
    "    \n",
    "    # print(data)\n",
    "    # print('data长度: ', len(data))\n",
    "    # 编码\n",
    "    data = token.batch_encode_plus(batch_text_or_text_pairs=data,\n",
    "                                   truncation=True,\n",
    "                                   padding='max_length',\n",
    "                                   max_length=30,\n",
    "                                   return_tensors='pt',\n",
    "                                   return_length=True)\n",
    "\n",
    "    # print('编码后的data打印: ', data.keys())\n",
    "    \n",
    "    # input_ids:编码之后的数字\n",
    "    # attention_mask:是补零的位置是0,其他位置是1\n",
    "    input_ids = data['input_ids']\n",
    "    attention_mask = data['attention_mask']\n",
    "    token_type_ids = data['token_type_ids']\n",
    "\n",
    "    # 把第15个词固定替换为mask\n",
    "    # print('第15个词: %s' % input_ids[:, 15])\n",
    "    \n",
    "    # 这里直接使用了编码后的数据作为真实预测值\n",
    "    labels = input_ids[:, 15].reshape(-1).clone()\n",
    "    input_ids[:, 15] = token.get_vocab()[token.mask_token]\n",
    "\n",
    "    # print(data['length'], data['length'].max())\n",
    "\n",
    "    return input_ids, attention_mask, token_type_ids, labels"
   ]
  },
  {
   "cell_type": "markdown",
   "id": "a1050958-e408-47c1-bb00-f5c366b9f558",
   "metadata": {},
   "source": [
    "## 数据加载器"
   ]
  },
  {
   "cell_type": "code",
   "execution_count": 6,
   "id": "97f4f90b-3933-44b3-8114-5426d4af7160",
   "metadata": {
    "tags": []
   },
   "outputs": [
    {
     "name": "stdout",
     "output_type": "stream",
     "text": [
      "574\n",
      "[CLS] 价 廉 物 美 价 廉 物 美 价 廉 物 美 价 廉 [MASK] 美 价 廉 物 美 价 廉 物 美 价 廉 物 美 [SEP]\n",
      "物\n",
      "torch.Size([16, 30]) torch.Size([16, 30]) torch.Size([16, 30]) torch.Size([16])\n",
      "\n",
      "574\n",
      "[CLS] 虽 然 很 喜 欢 这 本 书 ， 但 是 还 是 有 [MASK] 小 失 望 的 。 。 。 不 知 道 是 不 是 [SEP]\n",
      "点\n",
      "torch.Size([16, 30]) torch.Size([16, 30]) torch.Size([16, 30]) torch.Size([16])\n",
      "\n",
      "574\n",
      "[CLS] 价 格 要 是 能 再 低 点 就 更 好 了 ！ 京 [MASK] 应 该 多 搞 特 价 活 动! 快 递 的 服 [SEP]\n",
      "东\n",
      "torch.Size([16, 30]) torch.Size([16, 30]) torch.Size([16, 30]) torch.Size([16])\n",
      "\n"
     ]
    }
   ],
   "source": [
    "# 数据加载器\n",
    "loader = torch.utils.data.DataLoader(dataset=dataset['train'],\n",
    "                                     batch_size=16,\n",
    "                                     collate_fn=collate_fn,\n",
    "                                     shuffle=True,\n",
    "                                     drop_last=True\n",
    "                                    )\n",
    "\n",
    "\n",
    "for i, (input_ids, attention_mask, token_type_ids, labels) in enumerate(loader):\n",
    "    print(len(loader))\n",
    "    print(token.decode(input_ids[0]))\n",
    "    print(token.decode(labels[0]))\n",
    "    print(input_ids.shape, attention_mask.shape, token_type_ids.shape, labels.shape)\n",
    "    print(\"\")\n",
    "    \n",
    "    if i >= 2:\n",
    "        break"
   ]
  },
  {
   "cell_type": "code",
   "execution_count": 38,
   "id": "ba934b71-78b8-42cc-b785-d4aee022a4dd",
   "metadata": {
    "tags": []
   },
   "outputs": [
    {
     "data": {
      "text/plain": [
       "574"
      ]
     },
     "execution_count": 38,
     "metadata": {},
     "output_type": "execute_result"
    }
   ],
   "source": [
    "len(loader)"
   ]
  },
  {
   "cell_type": "markdown",
   "id": "e280df8b-ee2e-43a5-b520-988f910200e8",
   "metadata": {},
   "source": [
    "## 加载预训练模型"
   ]
  },
  {
   "cell_type": "code",
   "execution_count": 7,
   "id": "7cc54602-0d1d-4196-afe8-e722bd450e01",
   "metadata": {
    "tags": []
   },
   "outputs": [],
   "source": [
    "\n",
    "# 不训练,不需要计算梯度\n",
    "for param in bert.parameters():\n",
    "    param.requires_grad_(False)\n",
    "\n",
    "\n",
    "def test_1():\n",
    "    # 模型试算\n",
    "    out = bert(input_ids=input_ids,\n",
    "               attention_mask=attention_mask,\n",
    "               token_type_ids=token_type_ids\n",
    "               )\n",
    "\n",
    "    out.last_hidden_state.shape"
   ]
  },
  {
   "cell_type": "markdown",
   "id": "ff667c16-9b46-4c71-9917-c4710b807862",
   "metadata": {},
   "source": [
    "## 定义下游任务模型"
   ]
  },
  {
   "cell_type": "code",
   "execution_count": 8,
   "id": "1fba2358-342d-4216-987f-3dc874137baf",
   "metadata": {
    "tags": []
   },
   "outputs": [
    {
     "data": {
      "text/plain": [
       "Model(\n",
       "  (decoder): Linear(in_features=768, out_features=21128, bias=True)\n",
       ")"
      ]
     },
     "execution_count": 8,
     "metadata": {},
     "output_type": "execute_result"
    }
   ],
   "source": [
    "\n",
    "# 定义下游任务模型\n",
    "class Model(torch.nn.Module):\n",
    "    \n",
    "    def __init__(self):\n",
    "        super().__init__()\n",
    "        self.decoder = torch.nn.Linear(768, token.vocab_size, bias=False)\n",
    "        self.decoder.bias = torch.nn.Parameter(torch.zeros(token.vocab_size))\n",
    "\n",
    "    def forward(self, input_ids, attention_mask, token_type_ids):\n",
    "        # pretrained = pretrained.to(device)\n",
    "        with torch.no_grad():\n",
    "            out = bert(input_ids=input_ids,\n",
    "                      attention_mask=attention_mask,\n",
    "                      token_type_ids=token_type_ids)\n",
    "            pass\n",
    "        \n",
    "        out = self.decoder(out.last_hidden_state[:, 15])\n",
    "        return out\n",
    "\n",
    "\n",
    "model = Model()\n",
    "\n",
    "\n",
    "#model(input_ids=input_ids,\n",
    "#      attention_mask=attention_mask,\n",
    "#      token_type_ids=token_type_ids\n",
    "#     ).shape\n",
    "\n",
    "\n",
    "# 模型转移到GPU上\n",
    "model.to(device)"
   ]
  },
  {
   "cell_type": "code",
   "execution_count": 9,
   "id": "4c93a2c8-e36e-4fbd-a011-5f485658bb7e",
   "metadata": {
    "tags": []
   },
   "outputs": [
    {
     "data": {
      "text/plain": [
       "device(type='cuda', index=0)"
      ]
     },
     "execution_count": 9,
     "metadata": {},
     "output_type": "execute_result"
    }
   ],
   "source": [
    "list(model.parameters())[0].device"
   ]
  },
  {
   "cell_type": "markdown",
   "id": "499cc25f-639e-4a0d-8626-3d82c227da68",
   "metadata": {},
   "source": [
    "## 训练"
   ]
  },
  {
   "cell_type": "code",
   "execution_count": 10,
   "id": "302defe2-b811-4d22-9fa4-20e659597477",
   "metadata": {
    "tags": []
   },
   "outputs": [
    {
     "name": "stdout",
     "output_type": "stream",
     "text": [
      "training on  cuda\n"
     ]
    },
    {
     "name": "stderr",
     "output_type": "stream",
     "text": [
      "/home/mylady/.virtualenvs/dl-pytorch/lib/python3.8/site-packages/transformers/optimization.py:391: FutureWarning: This implementation of AdamW is deprecated and will be removed in a future version. Use the PyTorch implementation torch.optim.AdamW instead, or set `no_deprecation_warning=True` to disable this warning\n",
      "  warnings.warn(\n"
     ]
    }
   ],
   "source": [
    "from transformers import AdamW\n",
    "\n",
    "\n",
    "# 训练\n",
    "optimizer = AdamW(model.parameters(), lr=5e-4)\n",
    "\n",
    "# 损失函数\n",
    "loss = torch.nn.CrossEntropyLoss()\n",
    "\n",
    "model.train()\n",
    "\n",
    "\n",
    "print(\"training on \", device)"
   ]
  },
  {
   "cell_type": "code",
   "execution_count": 11,
   "id": "0806ae15-3701-4fad-bc89-56e919cdb40a",
   "metadata": {
    "tags": []
   },
   "outputs": [],
   "source": [
    "\n",
    "def train_full_int_blank():\n",
    "    for i, (input_ids, attention_mask, token_type_ids, labels) in enumerate(loader):\n",
    "        # print('labels', labels)\n",
    "        # labels tensor([2523, 1962, ....,  6817, 1962])\n",
    "\n",
    "        input_ids = input_ids.to(device)\n",
    "        attention_mask = attention_mask.to(device)\n",
    "        token_type_ids = token_type_ids.to(device)\n",
    "        labels = labels.to(device)\n",
    "\n",
    "        out = model(input_ids=input_ids,\n",
    "                    attention_mask=attention_mask,\n",
    "                    token_type_ids=token_type_ids\n",
    "                   )\n",
    "        \n",
    "        l = loss(out, labels)\n",
    "        optimizer.zero_grad()\n",
    "        l.backward()\n",
    "        optimizer.step()\n",
    "\n",
    "        if i % 200 == 0:\n",
    "            out = out.cpu()\n",
    "            labels = labels.cpu()\n",
    "            out = out.argmax(dim=1)\n",
    "            accuracy = (out == labels).sum().item() / len(labels)\n",
    "\n",
    "            print('训练批次: %s 当前第 %s 轮训练 loss: %s acc: %s' % \\\n",
    "                  (epoch, i, l.item(), accuracy))"
   ]
  },
  {
   "cell_type": "code",
   "execution_count": 12,
   "id": "019ddcca-0880-4ecf-a00e-e5895423ca1a",
   "metadata": {
    "tags": []
   },
   "outputs": [
    {
     "name": "stdout",
     "output_type": "stream",
     "text": [
      "训练批次: 0 当前第 0 轮训练 loss: 10.15749740600586 acc: 0.0\n",
      "训练批次: 0 当前第 200 轮训练 loss: 5.76514196395874 acc: 0.1875\n",
      "训练批次: 0 当前第 400 轮训练 loss: 4.217146873474121 acc: 0.4375\n",
      "训练批次: 1 当前第 0 轮训练 loss: 1.9062347412109375 acc: 0.6875\n",
      "训练批次: 1 当前第 200 轮训练 loss: 1.8172128200531006 acc: 0.5625\n",
      "训练批次: 1 当前第 400 轮训练 loss: 1.8344106674194336 acc: 0.6875\n",
      "训练批次: 2 当前第 0 轮训练 loss: 1.0104882717132568 acc: 0.875\n",
      "训练批次: 2 当前第 200 轮训练 loss: 1.824883222579956 acc: 0.75\n",
      "训练批次: 2 当前第 400 轮训练 loss: 0.5277410745620728 acc: 0.9375\n",
      "训练批次: 3 当前第 0 轮训练 loss: 0.5519086718559265 acc: 0.9375\n",
      "训练批次: 3 当前第 200 轮训练 loss: 0.6763061881065369 acc: 0.8125\n",
      "训练批次: 3 当前第 400 轮训练 loss: 0.5538439750671387 acc: 0.875\n",
      "训练批次: 4 当前第 0 轮训练 loss: 0.35573217272758484 acc: 0.9375\n",
      "训练批次: 4 当前第 200 轮训练 loss: 0.34219175577163696 acc: 0.9375\n",
      "训练批次: 4 当前第 400 轮训练 loss: 0.3749438226222992 acc: 1.0\n"
     ]
    }
   ],
   "source": [
    "\n",
    "epoch = 5\n",
    "\n",
    "for epoch in range(epoch):\n",
    "    train_full_int_blank()\n",
    "    pass"
   ]
  },
  {
   "cell_type": "markdown",
   "id": "0ea90d73-a897-44f4-86df-560692380a83",
   "metadata": {},
   "source": [
    "## 模型保存"
   ]
  },
  {
   "cell_type": "code",
   "execution_count": null,
   "id": "118bc64b-796e-4fe3-ab7a-0b39922ca65e",
   "metadata": {
    "tags": []
   },
   "outputs": [],
   "source": [
    "# 保存\n",
    "\n",
    "model_save_path = 'chinese_full_vacant_mission_2023_4_10.pt'\n",
    "# torch.save(model.state_dict(),  model_save_path)  # 推荐的文件后缀名是pt或pth\n"
   ]
  },
  {
   "cell_type": "code",
   "execution_count": null,
   "id": "3e3c5e10-b672-4b13-a16b-02e7f85a368b",
   "metadata": {},
   "outputs": [],
   "source": [
    "\n",
    "# 加载\n",
    "# 加载保存的模型\n",
    "model = Model()\n",
    "model.load_state_dict(torch.load(model_save_path))"
   ]
  },
  {
   "cell_type": "code",
   "execution_count": 40,
   "id": "e53e2c70-3986-48b0-be80-85c1ed76ba52",
   "metadata": {
    "tags": []
   },
   "outputs": [],
   "source": [
    "# 加载测试数据集\n",
    "loader_test = torch.utils.data.DataLoader(dataset=dataset['train'],\n",
    "                                          batch_size=32,\n",
    "                                          collate_fn=collate_fn,\n",
    "                                          shuffle=True,\n",
    "                                          drop_last=True)"
   ]
  },
  {
   "cell_type": "code",
   "execution_count": 41,
   "id": "471367ea-5612-46cf-96d6-6e36c5aadad3",
   "metadata": {},
   "outputs": [],
   "source": [
    "#测试\n",
    "def test_calculate(stop_num, loader_test=loader_test):\n",
    "    \n",
    "    model.eval()\n",
    "    correct = 0\n",
    "    total = 0\n",
    "    \n",
    "    for i, (input_ids, attention_mask, token_type_ids, labels) in enumerate(loader_test):\n",
    "        if i >= stop_num:\n",
    "            break\n",
    "        with torch.no_grad():\n",
    "            input_ids = input_ids.to(device)\n",
    "            attention_mask = attention_mask.to(device)\n",
    "            token_type_ids = token_type_ids.to(device)\n",
    "            labels = labels.to(device)\n",
    "            out = model(input_ids=input_ids,\n",
    "                        attention_mask=attention_mask,\n",
    "                        token_type_ids=token_type_ids)\n",
    "            pass\n",
    "    \n",
    "        out = out.cpu()\n",
    "        labels = labels.cpu()\n",
    "        out = out.argmax(dim=1)\n",
    "        accuracy = (out == labels).sum().item() / len(labels)\n",
    "        \n",
    "        correct += accuracy\n",
    "        total += 1\n",
    "        \n",
    "        y = token.decode(labels[0])\n",
    "        y_hat = token.decode(out[0])\n",
    "        \n",
    "        if y != y_hat:\n",
    "            print('序: %s 输入内容: %s' % (i, token.decode(input_ids[0])))\n",
    "            print('[ERROR] label: %s, \\t y_hat: %s' %(y, y_hat))\n",
    "            print(\"\")\n",
    "        else:\n",
    "            pass\n",
    "\n",
    "    print('total: %s acc: %.2f' % (total, correct / total))\n",
    "    pass"
   ]
  },
  {
   "cell_type": "code",
   "execution_count": 42,
   "id": "87ab28fa-0f54-4897-908f-4aace314550c",
   "metadata": {
    "tags": []
   },
   "outputs": [
    {
     "name": "stdout",
     "output_type": "stream",
     "text": [
      "序: 31 输入内容: [CLS] 我 不 是 个 偏 激 的 人 ， 所 以 我 喜 欢 [MASK] 各 种 各 样 的 书 。 韩 寒 和 郭 敬 明 [SEP]\n",
      "[ERROR] label: 都, \t y_hat: 看\n",
      "\n",
      "序: 61 输入内容: [CLS] 《 不 一 样 的 卡 梅 拉 》 的 确 不 一 样 [MASK] 家 里 那 么 多 图 书 ， 儿 子 偏 偏 对 [SEP]\n",
      "[ERROR] label: ！, \t y_hat: ，\n",
      "\n",
      "序: 75 输入内容: [CLS] 驱 动 盘 只 有 [UNK] 的 驱 动 ， [UNK] 装 成 [UNK] [MASK] 相 信 99 % 的 人 不 会 用 。 笔 记 本 [SEP]\n",
      "[ERROR] label: 我, \t y_hat: ，\n",
      "\n",
      "序: 82 输入内容: [CLS] 镜 面 设 计 容 易 留 指 纹 ， 降 价 速 度 [MASK] 快 ， 从 订 货 到 收 货 100 元 没 了 ， [SEP]\n",
      "[ERROR] label: 太, \t y_hat: 很\n",
      "\n",
      "序: 127 输入内容: [CLS] 入 住 这 个 酒 店 ， 应 该 算 是 被 携 程 [MASK] 误 导 了 ， 把 它 放 在 了 第 一 选 择 [SEP]\n",
      "[ERROR] label: 给, \t y_hat: 的\n",
      "\n",
      "序: 146 输入内容: [CLS] 见 这 么 多 人 买 ， 也 买 了 一 本 感 觉 [MASK] 内 容 十 分 空 洞 ， 实 质 性 东 西 不 [SEP]\n",
      "[ERROR] label: ，, \t y_hat: 是\n",
      "\n",
      "序: 147 输入内容: [CLS] cpu 的 使 用 较 大 ， 不 知 道 寿 命 如 何 [MASK] 显 示 屏 中 间 的 华 硕 标 志 非 常 热 [SEP]\n",
      "[ERROR] label: ？, \t y_hat: ，\n",
      "\n",
      "序: 150 输入内容: [CLS] 使 用 效 果 很 好 ， 噪 音 不 大 ， 手 托 [MASK] 不 热 ， 屏 幕 是 2008 年 的 三 星 屏 ， [SEP]\n",
      "[ERROR] label: 处, \t y_hat: 也\n",
      "\n",
      "序: 159 输入内容: [CLS] 总 体 来 说 还 不 错 ， 完 美 屏 ， 配 置 [MASK] 好 ， 加 了 个 [UNK] 内 存 ， 工 作 用 足 [SEP]\n",
      "[ERROR] label: 挺, \t y_hat: 很\n",
      "\n",
      "序: 185 输入内容: [CLS] 国 产 的 本 能 做 到 这 样 ， 心 满 意 足 [MASK] 大 方 ， 好 看 ， 老 婆 也 很 喜 欢 以 [SEP]\n",
      "[ERROR] label: 了, \t y_hat: ，\n",
      "\n",
      "序: 189 输入内容: [CLS] 各 方 面 都 不 错 ， 性 价 比 也 比 较 高 [MASK] 就 是 有 些 房 间 内 设 施 要 打 电 话 [SEP]\n",
      "[ERROR] label: 。, \t y_hat: ，\n",
      "\n",
      "序: 193 输入内容: [CLS] 我 认 为 ， 这 本 书 很 值 得 品 位 一 番 [MASK] 通 过 阅 读 ， 首 先 ， 我 们 在 以 后 [SEP]\n",
      "[ERROR] label: ，, \t y_hat: 。\n",
      "\n",
      "total: 200 acc: 0.95\n"
     ]
    }
   ],
   "source": [
    "# 预测\n",
    "test_calculate(200)"
   ]
  },
  {
   "cell_type": "code",
   "execution_count": null,
   "id": "41571f99-fd1f-4a7c-8191-c14eadaf89ff",
   "metadata": {},
   "outputs": [],
   "source": []
  }
 ],
 "metadata": {
  "kernelspec": {
   "display_name": "Python 3 (ipykernel)",
   "language": "python",
   "name": "python3"
  },
  "language_info": {
   "codemirror_mode": {
    "name": "ipython",
    "version": 3
   },
   "file_extension": ".py",
   "mimetype": "text/x-python",
   "name": "python",
   "nbconvert_exporter": "python",
   "pygments_lexer": "ipython3",
   "version": "3.8.10"
  }
 },
 "nbformat": 4,
 "nbformat_minor": 5
}
