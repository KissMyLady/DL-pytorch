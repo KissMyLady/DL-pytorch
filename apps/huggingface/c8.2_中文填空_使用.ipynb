{
 "cells": [
  {
   "cell_type": "code",
   "execution_count": 1,
   "id": "70df8b90-d791-4738-8ec8-5b38e692cdc4",
   "metadata": {
    "tags": []
   },
   "outputs": [],
   "source": [
    "import torch\n",
    "from datasets import load_dataset\n",
    "from datasets import load_from_disk\n",
    "\n",
    "# from d2l import torch as d2l\n",
    "\n",
    "\n",
    "device = torch.device('cuda' if torch.cuda.is_available() else 'cpu')"
   ]
  },
  {
   "cell_type": "code",
   "execution_count": 2,
   "id": "0d9b4748-e618-49f4-814c-6fdc02512eb9",
   "metadata": {
    "tags": []
   },
   "outputs": [],
   "source": [
    "# 定义数据集\n",
    "class Dataset(torch.utils.data.Dataset):\n",
    "    \n",
    "    def __init__(self, split):\n",
    "        # dataset = load_dataset('lansinuote/ChnSentiCorp', keep_in_memory=True)\n",
    "        dataset = load_from_disk('./data/ChnSentiCorp')\n",
    "        \n",
    "        def f(data):\n",
    "            return len(data['text']) > 30\n",
    "        \n",
    "        self.dataset = dataset.filter(f)\n",
    "\n",
    "    def __len__(self):\n",
    "        return len(self.dataset)\n",
    "\n",
    "    def __getitem__(self, i):\n",
    "        text = self.dataset[i]['text']\n",
    "        return text"
   ]
  },
  {
   "cell_type": "code",
   "execution_count": 3,
   "id": "cd4f6103-b189-4e37-91e7-3ca9398d6228",
   "metadata": {
    "tags": []
   },
   "outputs": [
    {
     "name": "stderr",
     "output_type": "stream",
     "text": [
      "Loading cached processed dataset at /home/mylady/code/python/DL-pytorch/apps/huggingface/data/ChnSentiCorp/validation/cache-cf45964edee402a8.arrow\n",
      "Loading cached processed dataset at /home/mylady/code/python/DL-pytorch/apps/huggingface/data/ChnSentiCorp/test/cache-c6f7400aef16ddba.arrow\n",
      "Loading cached processed dataset at /home/mylady/code/python/DL-pytorch/apps/huggingface/data/ChnSentiCorp/train/cache-478819d08c52879a.arrow\n"
     ]
    },
    {
     "data": {
      "text/plain": [
       "3"
      ]
     },
     "execution_count": 3,
     "metadata": {},
     "output_type": "execute_result"
    }
   ],
   "source": [
    "dataset = Dataset('train')\n",
    "\n",
    "len(dataset) # , dataset[0]"
   ]
  },
  {
   "cell_type": "code",
   "execution_count": 4,
   "id": "2da91b69-baf4-4dbe-9c19-aceaa45b6c9c",
   "metadata": {
    "tags": []
   },
   "outputs": [
    {
     "name": "stdout",
     "output_type": "stream",
     "text": [
      "BertTokenizer(name_or_path='bert-base-chinese', vocab_size=21128, model_max_length=512, is_fast=False, padding_side='right', truncation_side='right', special_tokens={'unk_token': '[UNK]', 'sep_token': '[SEP]', 'pad_token': '[PAD]', 'cls_token': '[CLS]', 'mask_token': '[MASK]'})\n"
     ]
    },
    {
     "name": "stderr",
     "output_type": "stream",
     "text": [
      "Some weights of the model checkpoint at bert-base-chinese were not used when initializing BertModel: ['cls.predictions.bias', 'cls.predictions.decoder.weight', 'cls.predictions.transform.LayerNorm.weight', 'cls.seq_relationship.weight', 'cls.seq_relationship.bias', 'cls.predictions.transform.dense.weight', 'cls.predictions.transform.LayerNorm.bias', 'cls.predictions.transform.dense.bias']\n",
      "- This IS expected if you are initializing BertModel from the checkpoint of a model trained on another task or with another architecture (e.g. initializing a BertForSequenceClassification model from a BertForPreTraining model).\n",
      "- This IS NOT expected if you are initializing BertModel from the checkpoint of a model that you expect to be exactly identical (initializing a BertForSequenceClassification model from a BertForSequenceClassification model).\n"
     ]
    }
   ],
   "source": [
    "from transformers import BertTokenizer\n",
    "from transformers import BertModel\n",
    "\n",
    "\n",
    "# 加载字典和分词工具\n",
    "token = BertTokenizer.from_pretrained('bert-base-chinese')\n",
    "\n",
    "print(token)\n",
    "\n",
    "\n",
    "# 加载预训练模型\n",
    "bert = BertModel.from_pretrained('bert-base-chinese').to(device)\n",
    "\n",
    "print('加载完毕..')"
   ]
  },
  {
   "cell_type": "code",
   "execution_count": 5,
   "id": "a68a67a7-66c6-4a2f-81dc-a94e2a5fe56d",
   "metadata": {
    "tags": []
   },
   "outputs": [],
   "source": [
    "def collate_fn(data):\n",
    "    \n",
    "    # print(data)\n",
    "    # print('data长度: ', len(data))\n",
    "    # 编码\n",
    "    data = token.batch_encode_plus(batch_text_or_text_pairs=data,\n",
    "                                   truncation=True,\n",
    "                                   padding='max_length',\n",
    "                                   max_length=30,\n",
    "                                   return_tensors='pt',\n",
    "                                   return_length=True)\n",
    "\n",
    "    # print('编码后的data打印: ', data.keys())\n",
    "    \n",
    "    # input_ids:编码之后的数字\n",
    "    # attention_mask:是补零的位置是0,其他位置是1\n",
    "    input_ids = data['input_ids']\n",
    "    attention_mask = data['attention_mask']\n",
    "    token_type_ids = data['token_type_ids']\n",
    "\n",
    "    # 把第15个词固定替换为mask\n",
    "    # print('第15个词: %s' % input_ids[:, 15])\n",
    "    \n",
    "    # 这里直接使用了编码后的数据作为真实预测值\n",
    "    labels = input_ids[:, 15].reshape(-1).clone()\n",
    "    input_ids[:, 15] = token.get_vocab()[token.mask_token]\n",
    "\n",
    "    # print(data['length'], data['length'].max())\n",
    "\n",
    "    return input_ids, attention_mask, token_type_ids, labels"
   ]
  },
  {
   "cell_type": "markdown",
   "id": "a1050958-e408-47c1-bb00-f5c366b9f558",
   "metadata": {},
   "source": [
    "## 数据加载器"
   ]
  },
  {
   "cell_type": "code",
   "execution_count": 6,
   "id": "97f4f90b-3933-44b3-8114-5426d4af7160",
   "metadata": {
    "tags": []
   },
   "outputs": [
    {
     "name": "stdout",
     "output_type": "stream",
     "text": [
      "当前loader数据量:  574\n",
      "解码input_ids:  [CLS] 开 箱 即 发 现 [UNK] 口 一 个 是 坏 的 ， 触 [MASK] 板 左 键 也 是 坏 的 ， 惠 普 的 质 量 [SEP]\n",
      "labels:  摸\n",
      "参数打印:  torch.Size([16, 30]) torch.Size([16, 30]) torch.Size([16, 30]) torch.Size([16])\n",
      "\n",
      "当前loader数据量:  574\n",
      "解码input_ids:  [CLS] 外 观 很 炫 ， 同 事 们 看 了 都 很 羡 慕 [MASK] 性 能 还 不 错 的 ， 单 从 配 置 来 看 [SEP]\n",
      "labels:  ！\n",
      "参数打印:  torch.Size([16, 30]) torch.Size([16, 30]) torch.Size([16, 30]) torch.Size([16])\n",
      "\n"
     ]
    }
   ],
   "source": [
    "# 数据加载器\n",
    "loader = torch.utils.data.DataLoader(dataset=dataset['train'],\n",
    "                                     batch_size=16,\n",
    "                                     collate_fn=collate_fn,\n",
    "                                     shuffle=True,\n",
    "                                     drop_last=True\n",
    "                                    )\n",
    "\n",
    "\n",
    "for i, (input_ids, attention_mask, token_type_ids, labels) in enumerate(loader):\n",
    "    print('当前loader数据量: ', len(loader))\n",
    "    print('解码input_ids: ', token.decode(input_ids[0]))\n",
    "    print('labels: ', token.decode(labels[0]))\n",
    "    print('参数打印: ', input_ids.shape, attention_mask.shape, token_type_ids.shape, labels.shape)\n",
    "    print(\"\")\n",
    "    if i >= 1:\n",
    "        break"
   ]
  },
  {
   "cell_type": "markdown",
   "id": "ff667c16-9b46-4c71-9917-c4710b807862",
   "metadata": {},
   "source": [
    "## 定义下游任务模型"
   ]
  },
  {
   "cell_type": "code",
   "execution_count": 7,
   "id": "1fba2358-342d-4216-987f-3dc874137baf",
   "metadata": {
    "tags": []
   },
   "outputs": [],
   "source": [
    "# 定义下游任务模型\n",
    "class Model(torch.nn.Module):\n",
    "    \n",
    "    def __init__(self):\n",
    "        super().__init__()\n",
    "        self.decoder = torch.nn.Linear(768, token.vocab_size, bias=False)\n",
    "        self.bias = torch.nn.Parameter(torch.zeros(token.vocab_size))\n",
    "        self.decoder.bias = self.bias\n",
    "\n",
    "    def forward(self, input_ids, attention_mask, token_type_ids):\n",
    "        # pretrained = pretrained.to(device)\n",
    "        with torch.no_grad():\n",
    "            out = bert(input_ids=input_ids,\n",
    "                       attention_mask=attention_mask,\n",
    "                       token_type_ids=token_type_ids)\n",
    "            pass\n",
    "        \n",
    "        out = self.decoder(out.last_hidden_state[:, 15])\n",
    "        return out\n"
   ]
  },
  {
   "cell_type": "code",
   "execution_count": 8,
   "id": "47ea0523-9971-462d-ad40-429cf032f406",
   "metadata": {
    "tags": []
   },
   "outputs": [
    {
     "data": {
      "text/plain": [
       "Model(\n",
       "  (decoder): Linear(in_features=768, out_features=21128, bias=True)\n",
       ")"
      ]
     },
     "execution_count": 8,
     "metadata": {},
     "output_type": "execute_result"
    }
   ],
   "source": [
    "\n",
    "# 加载保存的模型\n",
    "model_save_path = 'chinese_full_vacant_mission_2023_4_10.pt'\n",
    "model = Model()\n",
    "model.load_state_dict(torch.load(model_save_path))\n",
    "\n",
    "# 模型转移到GPU上\n",
    "model.to(device)\n",
    "\n",
    "# list(model.parameters())[0].device  # device(type='cuda', index=0)"
   ]
  },
  {
   "cell_type": "markdown",
   "id": "0ea90d73-a897-44f4-86df-560692380a83",
   "metadata": {},
   "source": [
    "## 模型测试"
   ]
  },
  {
   "cell_type": "code",
   "execution_count": 18,
   "id": "471367ea-5612-46cf-96d6-6e36c5aadad3",
   "metadata": {
    "tags": []
   },
   "outputs": [],
   "source": [
    "#测试\n",
    "def test_calculate(stop_num=20):\n",
    "    \n",
    "    model.eval()\n",
    "    correct = 0\n",
    "    total = 0\n",
    "\n",
    "    loader_test = torch.utils.data.DataLoader(dataset=dataset['test'],\n",
    "                                              batch_size=32,\n",
    "                                              collate_fn=collate_fn,\n",
    "                                              shuffle=True,\n",
    "                                              drop_last=True)\n",
    "    for i, (input_ids, \n",
    "            attention_mask, \n",
    "            token_type_ids, labels) in enumerate(loader_test):\n",
    "        if i >= stop_num:\n",
    "            break\n",
    "\n",
    "        with torch.no_grad():\n",
    "            input_ids = input_ids.to(device)\n",
    "            attention_mask = attention_mask.to(device)\n",
    "            token_type_ids = token_type_ids.to(device)\n",
    "            labels = labels.to(device)\n",
    "            \n",
    "            out = model(input_ids=input_ids,\n",
    "                        attention_mask=attention_mask,\n",
    "                        token_type_ids=token_type_ids)\n",
    "            pass\n",
    "        \n",
    "        out = out.cpu()\n",
    "        labels = labels.cpu()\n",
    "        out = out.argmax(dim=1)\n",
    "        accuracy = (out == labels).sum().item() / len(labels)\n",
    "        \n",
    "        correct += accuracy\n",
    "        total += 1\n",
    "        \n",
    "        y = token.decode(labels[0])\n",
    "        y_hat = token.decode(out[0])\n",
    "        \n",
    "        if y != y_hat:\n",
    "            print('序: %s 输入内容: %s' % (i, token.decode(input_ids[0])))\n",
    "            print('[ERROR] label: %s, \\t y_hat: %s' %(y, y_hat))\n",
    "            print(\"\")\n",
    "        else:\n",
    "            pass\n",
    "        \n",
    "    print('total: %s acc: %.2f' % (total, correct / total))\n",
    "    pass"
   ]
  },
  {
   "cell_type": "code",
   "execution_count": 19,
   "id": "87ab28fa-0f54-4897-908f-4aace314550c",
   "metadata": {
    "tags": []
   },
   "outputs": [
    {
     "name": "stdout",
     "output_type": "stream",
     "text": [
      "序: 0 输入内容: [CLS] 第 一 次 买 的 拉 拉 升 职 记 ， 三 天 到 [MASK] （ 我 住 北 京 三 环 边 上 ） ， 还 比 [SEP]\n",
      "[ERROR] label: 货, \t y_hat: 了\n",
      "\n",
      "序: 2 输入内容: [CLS] 书 已 收 到 ， 貌 似 觉 得 字 有 点 小 ， [MASK] ， 可 惜 了 书 里 的 内 容 几 乎 和 网 [SEP]\n",
      "[ERROR] label: 哎, \t y_hat: 但\n",
      "\n",
      "序: 5 输入内容: [CLS] 转 轴 设 计 不 好 ， 合 上 屏 幕 后 后 面 [MASK] 隙 很 大 ， 手 一 抓 就 变 形 了 ， 只 [SEP]\n",
      "[ERROR] label: 缝, \t y_hat: 间\n",
      "\n",
      "序: 7 输入内容: [CLS] 酒 店 房 间 很 大 ， 这 是 最 大 的 优 点 [MASK] 设 施 不 是 很 新 ， 楼 道 的 空 调 太 [SEP]\n",
      "[ERROR] label: 。, \t y_hat: ，\n",
      "\n",
      "序: 13 输入内容: [CLS] ： 配 置 不 错 ， 奔 腾 双 核 感 觉 也 不 [MASK] ~ 价 格 合 适 不 足 ： 装 系 统 比 较 [SEP]\n",
      "[ERROR] label: 差, \t y_hat: 错\n",
      "\n",
      "序: 17 输入内容: [CLS] 性 价 比 非 常 好 的 一 款 ， 推 荐 购 买 [MASK] 自 己 又 添 了 一 根 [UNK] 的 条 子 ， 用 [SEP]\n",
      "[ERROR] label: ！, \t y_hat: ，\n",
      "\n",
      "序: 18 输入内容: [CLS] 原 本 在 网 上 订 了 两 个 套 房 ， 入 住 [MASK] ， 携 程 还 给 我 打 电 话 问 是 否 只 [SEP]\n",
      "[ERROR] label: 后, \t y_hat: 了\n",
      "\n",
      "序: 20 输入内容: [CLS] 没 买 的 就 不 用 买 了 ， 到 新 浪 网 上 [MASK] 书 频 道 看 一 眼 足 够 了 。 毕 大 夫 [SEP]\n",
      "[ERROR] label: 读, \t y_hat: 的\n",
      "\n",
      "序: 22 输入内容: [CLS] 买 之 前 也 没 见 过 这 本 书, 听 他 们 [MASK] 的 天 花 乱 坠, 翻 了 几 页 就 够 了 [SEP]\n",
      "[ERROR] label: 说, \t y_hat: 看\n",
      "\n",
      "序: 24 输入内容: [CLS] 为 孩 子 订 购 的 此 书, 但 我 却 先 于 [MASK] 子 去 阅 读 了. 这 部 小 说, 如 果 [SEP]\n",
      "[ERROR] label: 孩, \t y_hat: 儿\n",
      "\n",
      "序: 28 输入内容: [CLS] 池 莉 是 我 很 喜 欢 ， 很 喜 欢 的 作 家 [MASK] 任 何 一 个 人 对 子 女 的 赞 美 都 出 [SEP]\n",
      "[ERROR] label: 。, \t y_hat: ，\n",
      "\n",
      "序: 30 输入内容: [CLS] 外 观 精 美 ， 价 格 便 宜 ， 4299 买 的 [MASK] 带 包 以 及 杀 毒 软 件 和 鼠 标 ， 自 [SEP]\n",
      "[ERROR] label: ，, \t y_hat: 自\n",
      "\n",
      "total: 35 acc: 0.68\n"
     ]
    }
   ],
   "source": [
    "# 预测\n",
    "test_calculate(stop_num=50)"
   ]
  },
  {
   "cell_type": "code",
   "execution_count": null,
   "id": "41571f99-fd1f-4a7c-8191-c14eadaf89ff",
   "metadata": {},
   "outputs": [],
   "source": []
  }
 ],
 "metadata": {
  "kernelspec": {
   "display_name": "Python 3 (ipykernel)",
   "language": "python",
   "name": "python3"
  },
  "language_info": {
   "codemirror_mode": {
    "name": "ipython",
    "version": 3
   },
   "file_extension": ".py",
   "mimetype": "text/x-python",
   "name": "python",
   "nbconvert_exporter": "python",
   "pygments_lexer": "ipython3",
   "version": "3.8.10"
  }
 },
 "nbformat": 4,
 "nbformat_minor": 5
}
