{
 "cells": [
  {
   "cell_type": "code",
   "execution_count": 1,
   "id": "2982aab0-d9f5-480f-b2b7-856225bdc4f2",
   "metadata": {
    "tags": []
   },
   "outputs": [
    {
     "data": {
      "text/plain": [
       "'3.8.10 (default, Nov 14 2022, 12:59:47) \\n[GCC 9.4.0]'"
      ]
     },
     "execution_count": 1,
     "metadata": {},
     "output_type": "execute_result"
    }
   ],
   "source": [
    "#环境\n",
    "#python=3.6\n",
    "\n",
    "import sys\n",
    "\n",
    "sys.version"
   ]
  },
  {
   "cell_type": "code",
   "execution_count": 2,
   "id": "89eef227-5cf2-4e5f-b925-8c3ae70c40f8",
   "metadata": {
    "tags": []
   },
   "outputs": [
    {
     "data": {
      "text/plain": [
       "('1.13.1+cu117', '0.14.1+cu117', '0.13.1+cu117')"
      ]
     },
     "execution_count": 2,
     "metadata": {},
     "output_type": "execute_result"
    }
   ],
   "source": [
    "#安装torch,简单起见,避免环境问题,并且计算量不大,使用cpu运行本套代码.\n",
    "#后面章节会介绍使用cuda计算的方法.\n",
    "\n",
    "#pip install torch==1.10.1+cpu torchvision==0.11.2+cpu torchaudio==0.10.1 -f https://download.pytorch.org/whl/cpu/torch_stable.html\n",
    "\n",
    "import torch\n",
    "import torchvision\n",
    "import torchaudio\n",
    "\n",
    "torch.__version__, torchvision.__version__, torchaudio.__version__"
   ]
  },
  {
   "cell_type": "code",
   "execution_count": 4,
   "id": "6a279b7c-40d7-4174-889a-624b21f50c95",
   "metadata": {
    "tags": []
   },
   "outputs": [
    {
     "data": {
      "text/plain": [
       "'4.27.4'"
      ]
     },
     "execution_count": 4,
     "metadata": {},
     "output_type": "execute_result"
    }
   ],
   "source": [
    "#安装transformers\n",
    "#pip安装\n",
    "#pip install transformers==4.18.0\n",
    "\n",
    "#conda安装(不推荐)\n",
    "#conda install -c huggingface transformers\n",
    "\n",
    "import transformers\n",
    "\n",
    "transformers.__version__"
   ]
  },
  {
   "cell_type": "code",
   "execution_count": 5,
   "id": "5d86699d-f820-481d-987b-c7cb588ab226",
   "metadata": {
    "tags": []
   },
   "outputs": [
    {
     "data": {
      "text/plain": [
       "'2.10.1'"
      ]
     },
     "execution_count": 5,
     "metadata": {},
     "output_type": "execute_result"
    }
   ],
   "source": [
    "#安装datasets\n",
    "# pip安装\n",
    "# pip install datasets==2.4.0\n",
    "\n",
    "#conda安装(不推荐)\n",
    "#conda install -c huggingface -c conda-forge datasets\n",
    "\n",
    "import datasets\n",
    "\n",
    "\n",
    "\n",
    "datasets.__version__\n",
    "\n",
    "# datasets.__doc__"
   ]
  },
  {
   "cell_type": "code",
   "execution_count": 7,
   "id": "2b9b5fe6-e4b4-4260-a66a-bb02b6ceafc8",
   "metadata": {
    "tags": []
   },
   "outputs": [
    {
     "data": {
      "text/plain": [
       "'0.14.1'"
      ]
     },
     "execution_count": 7,
     "metadata": {},
     "output_type": "execute_result"
    }
   ],
   "source": [
    "#安装torchtext\n",
    "#pip install torchtext==0.11.2\n",
    "\n",
    "import torchtext\n",
    "\n",
    "torchtext.__version__"
   ]
  },
  {
   "cell_type": "code",
   "execution_count": null,
   "id": "89439824-8934-4129-82ea-63a36c2a655d",
   "metadata": {},
   "outputs": [],
   "source": []
  }
 ],
 "metadata": {
  "kernelspec": {
   "display_name": "Python 3 (ipykernel)",
   "language": "python",
   "name": "python3"
  },
  "language_info": {
   "codemirror_mode": {
    "name": "ipython",
    "version": 3
   },
   "file_extension": ".py",
   "mimetype": "text/x-python",
   "name": "python",
   "nbconvert_exporter": "python",
   "pygments_lexer": "ipython3",
   "version": "3.8.10"
  }
 },
 "nbformat": 4,
 "nbformat_minor": 5
}
