{
 "cells": [
  {
   "cell_type": "code",
   "execution_count": 1,
   "id": "d05aa3c9-b77a-475d-b891-55dd7cfdf3d3",
   "metadata": {
    "tags": []
   },
   "outputs": [],
   "source": [
    "import torch\n",
    "from datasets import load_dataset\n",
    "from datasets import load_from_disk\n",
    "\n",
    "\n",
    "device = torch.device('cuda' if torch.cuda.is_available() else 'cpu')"
   ]
  },
  {
   "cell_type": "code",
   "execution_count": 2,
   "id": "8db6b18a-32fd-4dc5-b490-496300c488fb",
   "metadata": {
    "tags": []
   },
   "outputs": [],
   "source": [
    "\n",
    "# 定义数据集\n",
    "class Dataset(torch.utils.data.Dataset):\n",
    "    \n",
    "    def __init__(self, split):\n",
    "        # self.dataset = load_dataset('lansinuote/ChnSentiCorp', split=split)\n",
    "        self.dataset = load_from_disk('./data/ChnSentiCorp')['%s' % split]\n",
    "        print(self.dataset['text'][0])\n",
    "        print(self.dataset['label'][0])\n",
    "        # self.dataset = load_from_disk('./data/ChnSentiCorp')\n",
    "        # print(self.dataset)\n",
    "        # self.dataset = datasets.fetch_openml('./data/ChnSentiCorp', split=split)\n",
    "        \n",
    "    def __len__(self):\n",
    "        return len(self.dataset)\n",
    "\n",
    "    def __getitem__(self, i):\n",
    "        text = self.dataset['text'][i]\n",
    "        label = self.dataset['label'][i]\n",
    "        return text, label"
   ]
  },
  {
   "cell_type": "code",
   "execution_count": 3,
   "id": "94f8de82-6e74-491c-b022-5d0e9e836d63",
   "metadata": {
    "tags": []
   },
   "outputs": [
    {
     "name": "stdout",
     "output_type": "stream",
     "text": [
      "选择珠江花园的原因就是方便，有电动扶梯直接到达海边，周围餐馆、食廊、商场、超市、摊位一应俱全。酒店装修一般，但还算整洁。 泳池在大堂的屋顶，因此很小，不过女儿倒是喜欢。 包的早餐是西式的，还算丰富。 服务吗，一般\n",
      "1\n",
      "9600\n",
      "i: 0, label: 1 选择珠江花园的原因就是方便，有电动扶梯直接到达海边，周围餐馆、食廊、商场、超市、摊位一应俱全。酒店装修一般，但还算整洁。 泳池在大堂的屋顶，因此很小，不过女儿倒是喜欢。 包的早餐是西式的，还算丰富。 服务吗，一般\n",
      "i: 1, label: 1 15.4寸笔记本的键盘确实爽，基本跟台式机差不多了，蛮喜欢数字小键盘，输数字特方便，样子也很美观，做工也相当不错\n",
      "i: 2, label: 0 房间太小。其他的都一般。。。。。。。。。\n",
      "i: 3, label: 0 1.接电源没有几分钟,电源适配器热的不行. 2.摄像头用不起来. 3.机盖的钢琴漆，手不能摸，一摸一个印. 4.硬盘分区不好办.\n",
      "i: 4, label: 1 今天才知道这书还有第6卷,真有点郁闷:为什么同一套书有两种版本呢?当当网是不是该跟出版社商量商量,单独出个第6卷,让我们的孩子不会有所遗憾。\n",
      "i: 5, label: 0 机器背面似乎被撕了张什么标签，残胶还在。但是又看不出是什么标签不见了，该有的都在，怪\n",
      "i: 6, label: 0 呵呵，虽然表皮看上去不错很精致，但是我还是能看得出来是盗的。但是里面的内容真的不错，我妈爱看，我自己也学着找一些穴位。\n",
      "i: 7, label: 0 这本书实在是太烂了,以前听浙大的老师说这本书怎么怎么不对,哪些地方都是误导的还不相信,终于买了一本看一下,发现真是~~~无语,这种书都写得出来\n",
      "i: 8, label: 1 地理位置佳，在市中心。酒店服务好、早餐品种丰富。我住的商务数码房电脑宽带速度满意,房间还算干净，离湖南路小吃街近。\n",
      "i: 9, label: 1 5.1期间在这住的，位置还可以，在市委市政府附近，要去商业区和步行街得打车，屋里有蚊子，虽然空间挺大，晚上熄灯后把窗帘拉上简直是伸手不见五指，很适合睡觉，但是会被该死的蚊子吵醒！打死了两只，第二天早上还是发现又没打死的，卫生间挺大，但是设备很老旧。\n"
     ]
    }
   ],
   "source": [
    "\n",
    "# 打印数据\n",
    "dataset = Dataset('train') #['train']\n",
    "\n",
    "print(len(dataset))\n",
    "\n",
    "\n",
    "for i in range(10):\n",
    "    print('i: %s, label: %s %s' % (i, dataset[i][1],  dataset[i][0]))"
   ]
  },
  {
   "cell_type": "markdown",
   "id": "b9741a49-f59b-4867-bcf3-62025a70c23e",
   "metadata": {},
   "source": [
    "## 加载模型"
   ]
  },
  {
   "cell_type": "code",
   "execution_count": 4,
   "id": "a539e0d1-57ba-4470-80b3-9afb0904861c",
   "metadata": {
    "tags": []
   },
   "outputs": [
    {
     "name": "stdout",
     "output_type": "stream",
     "text": [
      "token:  BertTokenizer(name_or_path='bert-base-chinese', vocab_size=21128, model_max_length=512, is_fast=False, padding_side='right', truncation_side='right', special_tokens={'unk_token': '[UNK]', 'sep_token': '[SEP]', 'pad_token': '[PAD]', 'cls_token': '[CLS]', 'mask_token': '[MASK]'})\n"
     ]
    },
    {
     "name": "stderr",
     "output_type": "stream",
     "text": [
      "Some weights of the model checkpoint at bert-base-chinese were not used when initializing BertModel: ['cls.predictions.decoder.weight', 'cls.predictions.transform.dense.bias', 'cls.predictions.bias', 'cls.seq_relationship.weight', 'cls.predictions.transform.dense.weight', 'cls.predictions.transform.LayerNorm.weight', 'cls.predictions.transform.LayerNorm.bias', 'cls.seq_relationship.bias']\n",
      "- This IS expected if you are initializing BertModel from the checkpoint of a model trained on another task or with another architecture (e.g. initializing a BertForSequenceClassification model from a BertForPreTraining model).\n",
      "- This IS NOT expected if you are initializing BertModel from the checkpoint of a model that you expect to be exactly identical (initializing a BertForSequenceClassification model from a BertForSequenceClassification model).\n"
     ]
    }
   ],
   "source": [
    "from transformers import BertTokenizer\n",
    "from transformers import BertModel\n",
    "\n",
    "\n",
    "# 加载字典和分词工具\n",
    "token = BertTokenizer.from_pretrained('bert-base-chinese')\n",
    "print('token: ', token)\n",
    "\n",
    "\n",
    "# 加载预训练模型\n",
    "pretrained = BertModel.from_pretrained('bert-base-chinese').to(device)"
   ]
  },
  {
   "cell_type": "markdown",
   "id": "bbc2674c-afd3-49dc-8efa-f0a7c43b214c",
   "metadata": {},
   "source": [
    "### 定义 collate_fn 方法"
   ]
  },
  {
   "cell_type": "code",
   "execution_count": 5,
   "id": "44d7da3f-5202-4d6f-9e89-e98b1e6048d3",
   "metadata": {
    "tags": []
   },
   "outputs": [],
   "source": [
    "def collate_fn(data):\n",
    "    sents =  [i[0] for i in data] # 猫 ...  16个  shape: [16, 500]\n",
    "    labels = [i[1] for i in data] # 和 ...   16个\n",
    "\n",
    "    # 编码\n",
    "    data = token.batch_encode_plus(batch_text_or_text_pairs=sents,\n",
    "                                   truncation=True,\n",
    "                                   padding='max_length',\n",
    "                                   max_length=500,\n",
    "                                   return_tensors='pt',\n",
    "                                   return_length=True\n",
    "                                  )\n",
    "\n",
    "    input_ids = data['input_ids']\n",
    "    attention_mask = data['attention_mask']\n",
    "    token_type_ids = data['token_type_ids']\n",
    "    \n",
    "    return input_ids, attention_mask, token_type_ids, labels"
   ]
  },
  {
   "cell_type": "markdown",
   "id": "5797c595-bc4f-4ce8-a768-dfdaea9b08b6",
   "metadata": {},
   "source": [
    "## 数据加载器"
   ]
  },
  {
   "cell_type": "code",
   "execution_count": 6,
   "id": "24347ac8-ffcf-40a4-ab4e-5bfcf71e4d23",
   "metadata": {
    "tags": []
   },
   "outputs": [
    {
     "name": "stdout",
     "output_type": "stream",
     "text": [
      "0 torch.Size([16, 500]) torch.Size([16, 500]) torch.Size([16, 500]) [0, 1, 1, 0, 0, 1, 0, 1, 1, 1, 0, 1, 1, 1, 0, 1]\n",
      "1 torch.Size([16, 500]) torch.Size([16, 500]) torch.Size([16, 500]) [0, 1, 1, 0, 1, 0, 0, 0, 0, 0, 0, 1, 1, 1, 0, 0]\n",
      "2 torch.Size([16, 500]) torch.Size([16, 500]) torch.Size([16, 500]) [0, 0, 1, 0, 1, 1, 1, 1, 1, 1, 1, 0, 1, 1, 1, 0]\n",
      "600\n"
     ]
    }
   ],
   "source": [
    "\n",
    "# 数据加载器\n",
    "loader = torch.utils.data.DataLoader(dataset=dataset,\n",
    "                                     batch_size=16,\n",
    "                                     collate_fn=collate_fn,\n",
    "                                     shuffle=True,\n",
    "                                     drop_last=True)\n",
    "\n",
    "\n",
    "for i, values in enumerate(loader):\n",
    "    input_ids, attention_mask, token_type_ids, labels = values\n",
    "    # print(i, values)\n",
    "    print(i, input_ids.shape, \n",
    "          attention_mask.shape, \n",
    "          token_type_ids.shape, \n",
    "          labels\n",
    "         )\n",
    "    if i >= 2:\n",
    "        break\n",
    "    \n",
    "\n",
    "print(len(loader))"
   ]
  },
  {
   "cell_type": "markdown",
   "id": "6e6fe6a5-fbb4-4622-8859-cc660c82eab3",
   "metadata": {},
   "source": [
    "## 模型定义"
   ]
  },
  {
   "cell_type": "code",
   "execution_count": 7,
   "id": "eea38d54-2c3d-47b8-b16b-afe02201f9b8",
   "metadata": {
    "tags": []
   },
   "outputs": [],
   "source": [
    "# 定义下游任务模型\n",
    "class Model(torch.nn.Module):\n",
    "    \n",
    "    def __init__(self):\n",
    "        super().__init__()\n",
    "        self.fc = torch.nn.Linear(768, 2)\n",
    "\n",
    "    def forward(self, input_ids, attention_mask, token_type_ids):\n",
    "        with torch.no_grad():\n",
    "            out = pretrained(input_ids=input_ids,\n",
    "                             attention_mask=attention_mask,\n",
    "                             token_type_ids=token_type_ids)\n",
    "            pass\n",
    "        out = self.fc(out.last_hidden_state[:, 0])\n",
    "        out = out.softmax(dim=1)\n",
    "        return out"
   ]
  },
  {
   "cell_type": "markdown",
   "id": "ac7c21da-e8a3-4fa1-a92a-7f1d12253d05",
   "metadata": {},
   "source": [
    "### 模型保存"
   ]
  },
  {
   "cell_type": "code",
   "execution_count": 8,
   "id": "17a98b2b-c8f2-4ab9-a9e0-e9716ec84c55",
   "metadata": {
    "tags": []
   },
   "outputs": [],
   "source": [
    "# 保存\n",
    "\n",
    "\n",
    "model_save_path = 'chinese_class_mission_2023_4_20.pt'\n",
    "# torch.save(model.state_dict(),  model_save_path)  # 推荐的文件后缀名是pt或pth"
   ]
  },
  {
   "cell_type": "markdown",
   "id": "14c4bed3-a1f4-4565-bdf7-ba2100919957",
   "metadata": {},
   "source": [
    "### 加载计算好的模型"
   ]
  },
  {
   "cell_type": "code",
   "execution_count": 9,
   "id": "aced74cc-9e9d-4f62-ac1a-0b6a12191762",
   "metadata": {
    "tags": []
   },
   "outputs": [],
   "source": [
    "# 加载保存的模型\n",
    "\n",
    "model = Model()\n",
    "\n",
    "\n",
    "model.load_state_dict(torch.load('chinese_class_mission_2023_4_20.pt'))\n",
    "\n",
    "\n",
    "# 转移到 GPU 上计算\n",
    "model = model.to(device)"
   ]
  },
  {
   "cell_type": "code",
   "execution_count": 10,
   "id": "f88ea207-8690-4be0-be5c-36a8cbbfd407",
   "metadata": {
    "tags": []
   },
   "outputs": [],
   "source": [
    "# 封装检测类\n",
    "\n",
    "def str_felling_detect(model, str_sents):\n",
    "    \n",
    "\n",
    "    out = token.encode_plus(str_sents,\n",
    "                            truncation=True,# 当句子长度大于max_length时,截断\n",
    "                            padding='max_length', # 一律补pad到 max_length长度\n",
    "                            add_special_tokens=True,\n",
    "                            max_length=500,\n",
    "                            return_tensors=None,\n",
    "                            return_token_type_ids=True,\n",
    "                            return_attention_mask=True,\n",
    "                            return_special_tokens_mask=True,\n",
    "                            return_length=True\n",
    "                           )\n",
    "    \n",
    "    input_ids = torch.tensor([out['input_ids']]).to(device)\n",
    "    attention_mask = torch.tensor([out['attention_mask']]).to(device)\n",
    "    token_type_ids = torch.tensor([out['token_type_ids']]).to(device)\n",
    "\n",
    "    out_test = model(input_ids=input_ids,\n",
    "                     attention_mask=attention_mask,                 \n",
    "                     token_type_ids=token_type_ids\n",
    "                    )\n",
    "    # print(out_test)\n",
    "    cp_res = out_test.cpu()\n",
    "    y_heat = out_test.argmax(dim=1).cpu().item()  # <class 'int'>\n",
    "    return cp_res, y_heat"
   ]
  },
  {
   "cell_type": "code",
   "execution_count": 11,
   "id": "78fc88aa-eec5-4e42-b020-a2e195dfc4e0",
   "metadata": {
    "tags": []
   },
   "outputs": [
    {
     "name": "stdout",
     "output_type": "stream",
     "text": [
      "tensor([[0.9790, 0.0210]], grad_fn=<ToCopyBackward0>) 0\n"
     ]
    }
   ],
   "source": [
    "\n",
    "str_1 = '一直抄作业虽然短期来说能节省时间成本，但总归是要期末考试的'\n",
    "str_2 = '你说得对，但是他们在1999年发明了世界上第一款gpu，并在今天用它培养出了chatgpt，而我们在2000年全面禁止了游戏机的研发，生产和销售，并在今天痛斥他们封锁我们'\n",
    "\n",
    "cp_res, y_heat = str_felling_detect(model, str_2)\n",
    "\n",
    "print(cp_res, y_heat)"
   ]
  },
  {
   "cell_type": "code",
   "execution_count": 12,
   "id": "ef3d53eb-76be-4320-ac00-f61ae815ca4e",
   "metadata": {
    "tags": []
   },
   "outputs": [
    {
     "name": "stdout",
     "output_type": "stream",
     "text": [
      "这个宾馆比较陈旧了，特价的房间也很一般。总体来说一般\n",
      "1\n",
      "数据大小:  1200\n"
     ]
    }
   ],
   "source": [
    "test_dataset = Dataset('test') #['train']\n",
    "\n",
    "print('数据大小: ', len(test_dataset))"
   ]
  },
  {
   "cell_type": "code",
   "execution_count": 13,
   "id": "732fbd2c-2f31-477c-bcc7-13f3406199be",
   "metadata": {
    "tags": []
   },
   "outputs": [
    {
     "name": "stdout",
     "output_type": "stream",
     "text": [
      "idx: 4, label: 1 : y_had: 0, data: 今天才知道这书还有第6卷,真有点郁闷:为什么同一套书有两种版本呢?当当网是不是该跟出版社商量商量,单独出个第6卷,让我们的孩子不会有所遗憾。 原因: tensor([[0.7795, 0.2205]], grad_fn=<ToCopyBackward0>) \n",
      "\n",
      "idx: 26, label: 0 : y_had: 1, data: 跟住招待所没什么太大区别。 绝对不会再住第2次的酒店！ 原因: tensor([[0.0537, 0.9463]], grad_fn=<ToCopyBackward0>) \n",
      "\n",
      "idx: 50, label: 0 : y_had: 1, data: 卡梅拉是之勇敢的小鸡简单而执着我喜欢哦~同事的小宝宝也很喜欢~还有我将给我男朋友听的也很投入~ 原因: tensor([[0.0103, 0.9897]], grad_fn=<ToCopyBackward0>) \n",
      "\n",
      "idx: 51, label: 1 : y_had: 0, data: 酒店环境很好，商务中心很热情．免费接送机服务很好．房间设施尚可，但浴室条件稍差，没有吹风机，热水也要早７：３０时以后才有．而且总说线路繁忙不能刷卡，房费要付现金，不太理解． 原因: tensor([[0.5671, 0.4329]], grad_fn=<ToCopyBackward0>) \n",
      "\n",
      "idx: 52, label: 1 : y_had: 0, data: 感觉非常奇怪,这套书我明明都写了两次评论了,可我的当当始终提醒我对这套书写评论!晕啊!这是套很好的书,也不用我写几次评论吧! 原因: tensor([[0.9274, 0.0726]], grad_fn=<ToCopyBackward0>) \n",
      "\n",
      "idx: 57, label: 0 : y_had: 1, data: 非常容易看，一共也没几页，《庄子》的原文就占了53页，排版又稀疏，所以轻松搞定。给我的感觉是借着庄子的名声做文章，确实浅显。庄子讲了很多故事和寓言，这种原创性难能可贵，但于丹的这本书就没什么新意了。我没有听过她的讲座，也许加上体态语会生动引人，反正光看文字，可有比她强的作品。 原因: tensor([[0.1356, 0.8644]], grad_fn=<ToCopyBackward0>) \n",
      "\n",
      "idx: 69, label: 1 : y_had: 0, data: 系统换XP后会更好用点。微软为什么一定要让生产商强制安装vista这种自以为很cool的大块头呢？如果能有包就更好了！ 原因: tensor([[0.8301, 0.1699]], grad_fn=<ToCopyBackward0>) \n",
      "\n",
      "idx: 77, label: 0 : y_had: 1, data: 酒店空调有问题!蚊子太多!简直无法入睡!!!服务员的态度还不错的! 原因: tensor([[0.4951, 0.5049]], grad_fn=<ToCopyBackward0>) \n",
      "\n",
      "idx: 78, label: 0 : y_had: 1, data: 刚开机没一会 就很热了机子 作为10寸便携小本 还是厚了点 还是重了点 因为电池的缘故吧 因为蓄电时间的提升 忍了~ 原因: tensor([[0.1680, 0.8320]], grad_fn=<ToCopyBackward0>) \n",
      "\n",
      "idx: 91, label: 1 : y_had: 0, data: 原以为Windows Vista 家庭普通版的软件很难用的，兼容性差，谁知一上手还是很好用，原来想装得东西都装上了，出乎意料之外。 原因: tensor([[0.5840, 0.4160]], grad_fn=<ToCopyBackward0>) \n",
      "\n",
      "idx: 94, label: 1 : y_had: 0, data: 不错，帮朋友选的，朋友比较满意，就是USB接口少了，而且全是在左边，图片有误 原因: tensor([[0.7447, 0.2553]], grad_fn=<ToCopyBackward0>) \n",
      "\n",
      "idx: 95, label: 0 : y_had: 1, data: 住过这么多酒店，从来没有住过这么小旧脏老臭的“大床房”！一进门就被一股臭味熏了出来，开了一天的窗户也不见减少多少。洗手间又小又脏，恶心死了！我和老公从进门开始，就只能一个在床上，一个才有站在地上的空间！ 唯一的好处：地点不错，下楼就是商业街，很热闹，晚上还有小吃，就在楼下，距大相国寺和山陕甘会馆也不远，走路即可。不过，对小吃的期望值千万不要太高，以免有上当受骗的感觉。价格姑且不论，卫生是实在没有办法入眼的。 原因: tensor([[0.1744, 0.8256]], grad_fn=<ToCopyBackward0>) \n",
      "\n",
      "idx: 98, label: 1 : y_had: 0, data: 酒店很大，服务太差，Ａ楼房间也老，下次再也不住了。环境很好，打高尔夫的或许可以忍忍吧。 原因: tensor([[0.9230, 0.0770]], grad_fn=<ToCopyBackward0>) \n",
      "\n",
      "idx: 109, label: 0 : y_had: 1, data: 商品没问题！就是京东预定说是1-6天发货，可实际等了10天左右！其实等等也没关系，可是你京东6天发不了货，就别写1-6天可以发货！希望以后可以改进！ 原因: tensor([[0.3966, 0.6034]], grad_fn=<ToCopyBackward0>) \n",
      "\n",
      "idx: 113, label: 1 : y_had: 0, data: 我住过南京所有的五星酒店,选来选去还是这家(曾经的香格里拉).无论是硬件设施还是服务,都很无可挑剔...如果说缺点,就是房价很贵了,呵呵,但愿携程能谈下更优惠的房价啊. 原因: tensor([[0.6193, 0.3807]], grad_fn=<ToCopyBackward0>) \n",
      "\n",
      "idx: 114, label: 0 : y_had: 1, data: 于丹的，讲教还可以吧译注的当然是比较不上大师们的了。比较适合学生吧，做人做事的道理。 原因: tensor([[0.4170, 0.5830]], grad_fn=<ToCopyBackward0>) \n",
      "\n",
      "idx: 117, label: 1 : y_had: 0, data: CBD中心,周围没什么店铺,说5星有点勉强.不知道为什么卫生间没有电吹风 原因: tensor([[0.7629, 0.2371]], grad_fn=<ToCopyBackward0>) \n",
      "\n",
      "idx: 144, label: 1 : y_had: 0, data: 看评论有的说书太小，不值;有的嫌大带起来不方便,个人量了下尺寸:书横宽14厘米，竖长16厘米，厚1.4厘米书的封面和内里排版都很喜欢,纸张效果感觉和美丽英文系列的一样,没办法，个人喜欢视觉效果， 呵呵看了两篇，冰心先生的翻译真的很棒像有位读者评论的，里面有错别字，这到是真的，如60篇,应该是?空?贝壳,但文章里是?宝?贝壳,不过不影响阅读,自己都能明白，估计是校对的不仔细 原因: tensor([[0.7911, 0.2089]], grad_fn=<ToCopyBackward0>) \n",
      "\n",
      "idx: 145, label: 1 : y_had: 0, data: 对于次级债的解说，可以参考如下网站：http://abeautifulmind.blog.hexun.com/27697932_d.html 原因: tensor([[0.6002, 0.3998]], grad_fn=<ToCopyBackward0>) \n",
      "\n",
      "idx: 163, label: 0 : y_had: 1, data: 之前看到过铺天盖地的赞扬,自己就将信半疑的去买了，打开看,从引子就看市喜欢上它了，还有拉拉,小人物式的描写很贴近我们平常的工作和生活状态,书中的一些章节不仅具有参考意义更有学习意义! 原因: tensor([[0.0178, 0.9822]], grad_fn=<ToCopyBackward0>) \n",
      "\n",
      "idx: 165, label: 1 : y_had: 0, data: 服务:整体勉强有4星级水平 问题:硬件水平偏低,房间隔音效果差,门薄墙薄,结账时间偏长,早餐质量偏低,不过在该地段,也没有比这家更好地宾馆供选择. 原因: tensor([[0.5442, 0.4558]], grad_fn=<ToCopyBackward0>) \n",
      "\n",
      "idx: 167, label: 0 : y_had: 1, data: 说实话,环境很不好,在老火车站旁边,虽然新的火车站启用了,不会吵闹了,可是我不明白为什么装修还没到位,根本比不上大城市的3星级酒店,而且通过携程定的房间真的不怎么地,我再次通过携程定了厦门的酒店,如果真的像大多数网友说的,携程定房虽然便宜点,可房间是酒店有差级的话,绝对不相信携程了!!! 补充点评 2008年2月19日 ： 原因: tensor([[0.4431, 0.5569]], grad_fn=<ToCopyBackward0>) \n",
      "\n",
      "idx: 171, label: 1 : y_had: 0, data: 房子还好，地理位置也还不错，但是不值得这样的价位。同样的水平，徐汇区的华亭宾馆才600多元，这里却要1000元。 原因: tensor([[0.8358, 0.1642]], grad_fn=<ToCopyBackward0>) \n",
      "\n",
      "idx: 174, label: 1 : y_had: 0, data: 以前在京东买过一个as5530的机器3999元。也是780g的主板，用起来还可以。这次给表妹挑机器，本来用不了什么独立显卡的，后来想象还是不错的，最起码看接等离子看高清不会卡了。这款机器就算价格便宜量又足了。 另外，这个机器没有摄像头（麦克风不知道有没有，机器拿到后忘了试了），可能许多朋友感到不舒服，对我来说正好。给读书的小妹妹用，本来就要限制她用QQ聊天，没了摄像头更是省的什么视频对话了。 原因: tensor([[0.8420, 0.1580]], grad_fn=<ToCopyBackward0>) \n",
      "\n",
      "idx: 175, label: 0 : y_had: 1, data: 比BC6的不足就是没有蓝牙。虽然BC6要贵些，不过看到京东卖到断货就知道群众的眼睛是雪亮的呵呵。 原因: tensor([[0.4305, 0.5695]], grad_fn=<ToCopyBackward0>) \n",
      "\n",
      "idx: 178, label: 0 : y_had: 1, data: 女人，尤其是女孩，心思细密，敏感浪漫，更容易好高务远，一想天开。这本书就是让女人懂得要脚踏实地，不要心高手低，也不要以为爱情会是幸福生活的全部。总的来说还不错，但我更喜欢《女人的幸福与什么有关》，感觉更贴合中国女人的实际。 原因: tensor([[0.0421, 0.9579]], grad_fn=<ToCopyBackward0>) \n",
      "\n",
      "idx: 193, label: 1 : y_had: 0, data: 代朋友买的，他非常喜欢，原来买的不小心掉在了公共汽车上，又买了一本 原因: tensor([[0.9176, 0.0824]], grad_fn=<ToCopyBackward0>) \n",
      "\n",
      "idx: 200, label: 0 : y_had: 1, data: 这本书虽然内容不多，但是插图很大，很生动和形象，里面的故事都是小孩子碰到过的事情，并且很有启发性，我女儿看了以后很喜欢，而且碰到术中类似的事情，她会说“大卫，不可以”，呵呵，看来是受到潜移默化的影响了，总的来说，个人感觉这本书不错，难怪是获过大奖的书。 原因: tensor([[0.0260, 0.9740]], grad_fn=<ToCopyBackward0>) \n",
      "\n",
      "idx: 202, label: 0 : y_had: 1, data: 职场如战场在这部小说里被阐述的淋漓尽致，拉拉工作勤奋如老黄牛，但性格却更似倔牛；王伟虽正直但有些过分天真；何好德思维敏锐、眼光独到却高深莫测；李斯特崇尚中庸，不喜做决定，却不失为一个温和而颇具慧眼识材的上司；柯必得天生的管家，却过于苛刻；岱西虽过分偏执但且不择手段却不得不佩服她的勇气的执着；TONY林在生意经上不似五伟有经验，却八面玲珑，关键能牢牢掌控自己的下属；约翰常虽做为颇为阴险，处处与王伟做对，但也是聪慧之人；李文龙表面温和却城府深、心机重，但却不影响他在DB的人际关系，因为他知道何为重何为轻，关键时刻也愿帮该帮的人一把；黄宏技术过硬，却人际关系始终无法处理妥当，且居小心眼；玫瑰经验老道但却有失光明。还有帕米拉、周亮、杰森、海伦、王蔷、罗杰、齐浩天等等，这些人个个性格鲜明，都有自己的独到之处。观完本书引人深思，故事鲜活具实用价值，无论是职场新人或才老将都能受益匪浅。 原因: tensor([[0.0242, 0.9758]], grad_fn=<ToCopyBackward0>) \n",
      "\n",
      "idx: 205, label: 1 : y_had: 0, data: 另外说一句，书中的故事也适合给低段儿童朗读 原因: tensor([[0.5691, 0.4309]], grad_fn=<ToCopyBackward0>) \n",
      "\n",
      "idx: 211, label: 1 : y_had: 0, data: 名头特别响亮，不过设施可不怎么样，尤其是单人大床房，居然没有安静的房间。 入住后只好更换为双人间。 原因: tensor([[0.9445, 0.0555]], grad_fn=<ToCopyBackward0>) \n",
      "\n",
      "idx: 222, label: 0 : y_had: 1, data: 我的孩子很喜欢。绘画精美，精彩。合适1岁多的小宝宝理解。我的孩子看到小熊生日的时候就哼生日歌；看到小猩猩笑别人尿床的时候，会学着小猩猩捂着嘴笑；看到小兔子因为掉了雪糕，张大嘴巴哭的时候，会笑；看到小河马的大嘴巴，会很喜欢地摸摸。。。这样有趣的阅读时刻数不胜数。这套书不错。不过阅读的过程中，孩子并不是能马上理解的，需要爸爸妈妈耐心地一遍又一遍地讲。呵呵。。。 原因: tensor([[0.0071, 0.9929]], grad_fn=<ToCopyBackward0>) \n",
      "\n",
      "idx: 229, label: 0 : y_had: 1, data: 因为看书评写的很诱人～觉得自己也是二十出头的年纪了 也应该学习下如何经营自己的未来了……但是，买回来 很失望。内容很空洞～写的太浮于表面。里面给女孩子的一些忠告，举的例子 没什么新颖之处，也不够深刻书的质量也不好，像廉价的言情小说身边还有人想买，就直接送给她看了 原因: tensor([[0.4025, 0.5975]], grad_fn=<ToCopyBackward0>) \n",
      "\n",
      "idx: 246, label: 1 : y_had: 0, data: 早餐品种太少，交通还算便利，服务态度不怎么样，问酒店买的地图竟然就是旧的别的客房拿的 原因: tensor([[0.9829, 0.0171]], grad_fn=<ToCopyBackward0>) \n",
      "\n",
      "idx: 262, label: 0 : y_had: 1, data: 酒店外观相对气派,但房间确实很简陋,设施陈旧,卫生一般,最多就是个90年代未的水平。不过大庆宾馆较少，找了一遍发现也的确再没有什么宾馆了。 原因: tensor([[0.3928, 0.6072]], grad_fn=<ToCopyBackward0>) \n",
      "\n",
      "idx: 263, label: 0 : y_had: 1, data: 看携程上大家的点评不错，就订了间阳面220的房间，慕名前往。 结果大失所望，灯光昏暗，空间极其狭小，床垫质量恶劣，房间还伴着一股霉味。 原预计住上个把星期的，结果住了一晚就退房了。 其实原本想着也就将就了，也许皇城根上这个地段这个价格就只能是这种水平了。 但转机是在入住后第二天早上，我出宾馆在新街口大街上溜达， 没走两分钟就发现一家连锁宾馆——欣燕都总店。 看门脸不错就进去看了看房，顿时喜欢得不得了。 房间设计简约而时尚，宽敞明亮，床也很舒服，同样有宽带。正是我喜欢的类型。 赶紧回护国寺宾馆，上携程查了查，单人间的才200，套间竟然才240。超值！！ 同样的地段，更优越的条件，更低廉的价格。 二话不说，立马下新订单，退房，拖着行李就搬去了欣燕都。 而且欣燕都交通更便利，就在新街口大街上，门口就是公车站、出租车站。 斜对面是新街口超市，新街口百货，而周围同样是典型的北京胡同。 提醒一点，携程协议上\"欣燕都\"是没宽带的，但实际现在\"欣燕都\"是有的。 说了这么多，该如何选择，大家应该很清楚了吧。（感觉自己像枪手似的，呵呵） 另外，也希望护国寺宾馆能向竞争对手学习，好好改善改善。 原因: tensor([[0.1067, 0.8933]], grad_fn=<ToCopyBackward0>) \n",
      "\n",
      "idx: 265, label: 1 : y_had: 0, data: 是绝佳的购物首选酒店,楼下就是连卡佛和海港城，但乘搭地铁就需步行10分钟。 房间设施和装潢都显陈旧，入住的是吸烟楼层，异味很重，如果没有烟瘾的话，务必交代预定非吸烟楼层。 自助餐的水准的确挺差，和200元的收费不符。 原因: tensor([[0.7662, 0.2338]], grad_fn=<ToCopyBackward0>) \n",
      "\n",
      "idx: 266, label: 0 : y_had: 1, data: 群众的眼睛是雪亮的，这个店的服务确实奇差，可能随着溪口旅游的迅速发展，这些宾馆有些暴发户的心态吧，不知道什么是服务。早餐时，一大群服务员在入口处，就是没有一个人理你，没有餐具，非要用很大的声音，才会有一点反应，过来就要餐券，一看也没有什么吃的，干脆把餐券撕了不吃。 对于我这样小时候生活在山里的人来说，溪口没什么值得来的特别价值，交通不便，从机场只能打的而且等了30分钟才有出租车，在溪口本地多半都是震耳欲聋的火三轮作为基本交通工具，稍晚一点从蒋介石母亲墓道回来就没有车（下午5点过）。 我不是来旅游的，我看那些来旅游的好像以官员居多（不晓得是共产党还是国民党的），来这里可能是想向介石学习怎样两面三刀摆平军阀的本事。 这个宾馆确实没什么优点，倒是出门左边的新豪门酒店吃饭不错，干净清爽，本地人也很多在这里吃饭。 千万不要到溪边的饭店去吃啊，同一个菜，在一个菜谱上有两个或三个价格，你点的时候如油焖笋（18元），结帐时就是红烧笋（25元）了，你点芋艿排骨（25元），结帐时就使芋艿排骨煲（35元）了。领教了，这些溪口邻居除了把老蒋的阴险狡诈传承了下来，好像没别的了。 补充点评 2007年4月8日 ： 我选的服务1分，怎么成了2分？ 原因: tensor([[0.4571, 0.5429]], grad_fn=<ToCopyBackward0>) \n",
      "\n",
      "idx: 270, label: 0 : y_had: 1, data: 其实我也是曾经在官网上追文看的一员，心急如焚地等待过。当时很挺纪南方。考完试后在当当网急急地定了书来看。看到深夜里，最后只想说，我靠。。。故事看到最后只觉得厌烦，觉得简直是没事找事的一对人。男主有些时候很混也就算了，大家也已经习惯小言中的男人这幅德行了。可女主，唉，简直是不堪回首。足可登上匪我思存作品最讨厌的女主宝座。。文字没有以前精致不说，煽情也没有着力点。我唯一感动了一下的还是那个暗恋纪南方的小姑娘。她从侧面证明了纪南方不算很浑蛋的同时，让我回忆起了佳期如梦1。也不过就是一两年前的事，那时，我曾经真心实意地感动过。当然，文章中有一些细节还是不错的。但细节无法构架起一整个故事。只能说，颇为失望。现在只有我爱黑社会系列的短篇可以看看了。 原因: tensor([[0.1888, 0.8112]], grad_fn=<ToCopyBackward0>) \n",
      "\n",
      "idx: 288, label: 1 : y_had: 0, data: 装修简洁实用，但电源插口少，要配个接线器为好。另外浴缸的hot龙头请配图示，第一次来的一定弄很久。酒店lobby太大，早餐要历经磨难 原因: tensor([[0.8694, 0.1306]], grad_fn=<ToCopyBackward0>) \n",
      "\n",
      "idx: 292, label: 0 : y_had: 1, data: 这本书我是买来送给爸妈，听说很简单易学，所以给妈妈看，让他们了解一些基本的健身之道，这样我们在外面工作也会比较安心。妈妈正在学，听她说还不错。 原因: tensor([[0.1620, 0.8380]], grad_fn=<ToCopyBackward0>) \n",
      "\n",
      "idx: 298, label: 1 : y_had: 0, data: 通过携程预定该酒店保留到晚上6点的。但是下午3点多接到携程电话，居然说我给酒店打电话取消我的房间，问我有没有这回事。简直很气人！ 后来到酒店办理入住时，问了前台有没有这回事。他们居然回答的很干脆，有这个事情。酒店也太不负责了，为了自己的入住率就随意取消客人的预定。一点都不配万丽的作风和职业道德。 另外，该酒店不能用民生银行信用卡做预授权，只能用中国银行和交通银行。这点很不方便的，请大家以后入住的时候请注意了。 原因: tensor([[0.9560, 0.0440]], grad_fn=<ToCopyBackward0>) \n",
      "\n",
      "idx: 327, label: 0 : y_had: 1, data: 这本书适合三岁-5岁小孩子看，我儿子已经从会听，到会看，现在可以绘声绘色的讲给我听了，不错 原因: tensor([[0.0349, 0.9651]], grad_fn=<ToCopyBackward0>) \n",
      "\n",
      "idx: 336, label: 1 : y_had: 0, data: 新的风格还是蛮精致的，掩盖了房间狭小的天生不足，但是有些细节尚不周到，比如那个烧水的电壶，塑料味道很重，恐怕是不合格产品. 原因: tensor([[0.7903, 0.2097]], grad_fn=<ToCopyBackward0>) \n",
      "\n",
      "idx: 338, label: 0 : y_had: 1, data: 第一次在当当网上买书，很方便，很实惠！孩子一收到书,就爱不释手地读起来，是一套好书，在开心快乐地儿童故事中让孩子学会做一个有个性、有爱心、乐于助人的孩子。 原因: tensor([[0.0102, 0.9898]], grad_fn=<ToCopyBackward0>) \n",
      "\n",
      "idx: 362, label: 0 : y_had: 1, data: 见这么多人买，也买了一本感觉，内容十分空洞，实质性东西不多有点后悔，不应该盲目跟风由于第一次在当当买书本着试验的态度，感觉速度不错，下单3天内就到货了总体感觉比卓越慢一点点，但快递服务态度好一点点唯一好的就是免快递费 原因: tensor([[0.2945, 0.7055]], grad_fn=<ToCopyBackward0>) \n",
      "\n",
      "idx: 364, label: 1 : y_had: 0, data: 性比价相当高的一个本本，万恶的v系统啊。。。。。。。。。。。。。。。。。。。。。。。。。。。。 原因: tensor([[0.8383, 0.1617]], grad_fn=<ToCopyBackward0>) \n",
      "\n",
      "idx: 367, label: 0 : y_had: 1, data: 基本上没有缺点，因为他的缺点是所有笔记本的缺点：为什么还不能升级其中的硬件以便做到永远不过时呢？（基本上是一种梦想） 原因: tensor([[0.4990, 0.5010]], grad_fn=<ToCopyBackward0>) \n",
      "\n",
      "idx: 390, label: 1 : y_had: 0, data: 入住的时候礼宾在哪里?房间里的花盆特别象90年代初期的田园花盆,极为难看.更可怕的是入住的时候门口不管客人,照常做大范围清洁. 原因: tensor([[0.9932, 0.0068]], grad_fn=<ToCopyBackward0>) \n",
      "\n",
      "idx: 399, label: 0 : y_had: 1, data: 超喜欢张爱玲，购齐了全集，还有《千疮百孔的爱》，买这本书只是为了爱玲多一些了解。有些失望。莫名的悲哀，想像中爱玲应该是金枝玉叶，虽饱受风尘之苦，却也是冰清玉洁，不想竟也碰到胡兰成这样，恶俗的混世魔王。记得看过一本和坤的书，人家虽是大贪官，却也对妻子冯氏，有情有意，有始有终，另生一种敬佩。爱玲最后也是漂泊半生，郁郁而终。生不逢时啊！ 原因: tensor([[0.2728, 0.7272]], grad_fn=<ToCopyBackward0>) \n",
      "\n",
      "idx: 400, label: 0 : y_had: 1, data: 随着孩子的长大，这本书居然成了孩子的最爱（1岁7个月），连着2个多月，睡前必要这本书。孩子最喜欢的就是最后一页，有时候讲着讲着，就一下子翻到最后，当我说大卫的妈妈说“我爱你的时候”，宝贝女儿也抬头等我说“我爱你” 原因: tensor([[0.0905, 0.9095]], grad_fn=<ToCopyBackward0>) \n",
      "\n",
      "idx: 406, label: 0 : y_had: 1, data: 看了之后发现差距，但是如果重新选择的话，我还是不会变，路还是要自己走，踏实的走，此书没有想象的好~ 原因: tensor([[0.2888, 0.7112]], grad_fn=<ToCopyBackward0>) \n",
      "\n",
      "idx: 407, label: 0 : y_had: 1, data: 定的豪华大床房，发现房间超小，而且隔音很不好，房间上个网，居然老是一掉一掉的，半夜1点多居然还有个人自称是长沙公安局的打进我同事的房间电话来，说出了我同事的姓名，身份证号码什么的，然后问我同事要他家里人的联系方式什么的，典型的骗子~~~不知道这些信息是怎么泄露出去的，太怀疑这家酒店了，所以第2天马上就换到合一国际大酒店去了，那边以前还是携程的协议酒店，现在不是了，不过才230左右，比这边好多了~~下次去，还是直接去合一住的好，交通也好，也繁华~~~ 原因: tensor([[0.3589, 0.6411]], grad_fn=<ToCopyBackward0>) \n",
      "\n",
      "idx: 413, label: 1 : y_had: 0, data: 柏杨耗心力的佳作，只是书的质量一般，盼能改进。 原因: tensor([[0.5257, 0.4743]], grad_fn=<ToCopyBackward0>) \n",
      "\n",
      "idx: 414, label: 1 : y_had: 0, data: 看的是电子版，实体书拿到手了，特来评分。 原因: tensor([[0.6279, 0.3721]], grad_fn=<ToCopyBackward0>) \n",
      "\n",
      "idx: 419, label: 0 : y_had: 1, data: E5400质量不错不会装系统的朋友,一定要注意,linux不好弄,尽量买一个带windows 原因: tensor([[0.1597, 0.8403]], grad_fn=<ToCopyBackward0>) \n",
      "\n",
      "idx: 431, label: 1 : y_had: 0, data: 酒店的地理位置非常棒,住的高级商务间.感觉房间非常小.门童和服务生都非常热情.还有免费的水果.地毯和装修有些陈旧~ 原因: tensor([[0.7616, 0.2384]], grad_fn=<ToCopyBackward0>) \n",
      "\n",
      "idx: 432, label: 1 : y_had: 0, data: 因为屏幕是16：9，所以玩游戏或是浏览网页时，字体都超小，看得费劲 原因: tensor([[0.9628, 0.0372]], grad_fn=<ToCopyBackward0>) \n",
      "\n",
      "idx: 447, label: 1 : y_had: 0, data: 酒店位置非常的好，客人每次都要点名入住。 只是不知道为什么每次前台都为了吸烟区和非吸烟区和你捣糨糊，即便你预定时已经强调而且也得到了确认，前台也要试探着给你换成吸烟区做无烟处理，真真被打败了！ 原因: tensor([[0.8034, 0.1966]], grad_fn=<ToCopyBackward0>) \n",
      "\n",
      "idx: 461, label: 0 : y_had: 1, data: 有些失望，没有想象中的好。比较适合幼儿园的孩子阅读。但对于小学生不是太好。 原因: tensor([[0.2406, 0.7594]], grad_fn=<ToCopyBackward0>) \n",
      "\n",
      "idx: 488, label: 1 : y_had: 0, data: 轻巧，电池强劲，键盘尺寸够大，打字不吃力，cpu性能够用，WLAN性能不错，摄像头比较垃圾 原因: tensor([[0.6559, 0.3441]], grad_fn=<ToCopyBackward0>) \n",
      "\n",
      "idx: 493, label: 0 : y_had: 1, data: 于丹《论语》心得(易中天作序强力推荐)首先我觉得易中天并非真想给于丹的这部书作序，从那篇文章中丝毫感觉不出他对这部书有什么赞叹，仅仅是不好推脱才写的吧，毕竟是同一节目起家的。其次是本书的内容表面上是写论语心得，而内容仅仅是拿论语做引子，讲一些无关痛痒的话，还有不怎么符合主题的小故事穿插其中。有点挂羊头卖狗肉的嫌疑。在做节目的时候于丹发挥的不错，这是她的教授生涯必备的本领吧，能旁征博引，把论语发挥的足够吸引人，但是真正拿到这本书去推敲的话，实在经不起琢磨，大家可以细细品味一下，反正好多的故事我在网上看过，主题意旨大体知道吧，可是于丹同志的论语心得似乎与主题相差甚远。但是有一点是肯定的，她让论语平民化，让更多的人去关注它，这一点与百家讲坛的宗旨是一致的。既然是“心得”，无可厚非，我也不是说非要把论语一句一句的翻译，搞成晦涩的专业论文，这样跟百姓是没法沟通的，所以论语心得浅显易懂，还是贴近大众的，最大的成就可能就在这里吧。教授有时是会忽悠人的，大家批判的接受吧。 原因: tensor([[0.0756, 0.9244]], grad_fn=<ToCopyBackward0>) \n",
      "\n",
      "idx: 537, label: 1 : y_had: 0, data: 这本书最大的优点是所有的儿歌都很顺口，不是很长，一般读一两遍都可以背下来了，毕竟给宝宝念儿歌，一边念还要一边拿着书很不现实嘛；还有就是这些儿歌都有一定的教育意义，听得多了对宝宝的行为习惯还是有一定好处的。而这本书的缺点就是纸质不怎么好，被我宝宝（半岁）抓在手里一下就撕烂了，唉。 原因: tensor([[0.6261, 0.3739]], grad_fn=<ToCopyBackward0>) \n",
      "\n",
      "idx: 551, label: 0 : y_had: 1, data: 买之前看到评价中有人讲刚拿到的本本键盘出现问题，总想是个别现象，于是就买了。很不幸，拿到的也是键盘有问题的本本，联系dell售后换了键盘。京东根本不理，购物不愉快！08年10月生产的。 原因: tensor([[0.2090, 0.7910]], grad_fn=<ToCopyBackward0>) \n",
      "\n",
      "idx: 563, label: 0 : y_had: 1, data: 本人语文水平有限，不知道“勾通”和“沟通”是否通用，看到有几处用的前者，有时又用后者。故事写得很一般，至少在我看完“浮沉”以后，这个故事就显得没那么精彩，吸引人了。无非就是一个女孩子利用一个个机会往上提升的故事。人物写得不够饱满，给人印象不深刻，故事也没什么起伏的情节，比较平淡，很多人生活中都是这样过来的。也许跟我本身工作有关吧，书里的情节、故事、场景都太熟悉了，没新意，对这本书就是喜欢不起来。对职场新人有一定作用。 原因: tensor([[0.1776, 0.8224]], grad_fn=<ToCopyBackward0>) \n",
      "\n",
      "idx: 565, label: 0 : y_had: 1, data: 散热技术，防滚架，金属铰链，关盖卡扣，合金机身，就连thinkpad的小红帽都抄袭，变成了小蓝帽， 原因: tensor([[0.1090, 0.8910]], grad_fn=<ToCopyBackward0>) \n",
      "\n",
      "idx: 579, label: 0 : y_had: 1, data: 《不一样的卡梅拉》的确不一样！家里那么多图书，儿子偏偏对它情有独钟。没事就把它从书架上拿下来一个人静静地翻阅。要不就问我：“我是卡梅拉，妈妈你是谁？”让我和他一起扮演书中的故事，一遍又一遍的，不厌其烦。可见，这本书已深深地印刻在他幼小的心灵中了。这就是一本不一样的好书！ 原因: tensor([[0.0037, 0.9963]], grad_fn=<ToCopyBackward0>) \n",
      "\n",
      "idx: 582, label: 0 : y_had: 1, data: 刚在当当网订购这套书时，就跟儿子说我给他订了一套书，里面有小汽车，还有很多好听的有事，儿子非常高兴，这本书到了后，儿子非常喜欢，特别是对轱辘轱辘转这本书格外喜欢，在里面找金虫子乐此不疲，晚上到不肯睡觉。 原因: tensor([[0.1576, 0.8424]], grad_fn=<ToCopyBackward0>) \n",
      "\n",
      "idx: 586, label: 0 : y_had: 1, data: 太现实了，感觉应该要有点心机，把金钱看得很重这点很不好。人应该活的单纯些，并非有钱有势就算成功了，在生活中，最重要的是学会怎样乐观的生活 原因: tensor([[0.2418, 0.7582]], grad_fn=<ToCopyBackward0>) \n",
      "\n",
      "idx: 595, label: 1 : y_had: 0, data: MP3文件太大，本想放在手机里常常听听，但无法选择段落，每次都得从头开始，不大方便哦！再就是，随书的光碟很易损坏，可否将MP3文件放在网上，购书者凭书的序列号或别的什么上网下载，就避免来回寄书的麻烦了哦！ 原因: tensor([[0.6943, 0.3057]], grad_fn=<ToCopyBackward0>) \n",
      "\n",
      "idx: 601, label: 0 : y_had: 1, data: 大家都说平湖君悦酒店床铺太小，很不幸我中招了，我是预订完了之后才看到大家评价的。这家酒店的内部设施偏老，早餐不好吃，房间有点小，设施还算全，卫生间也很旧！ 补充点评 2008年6月3日 ： 我建议大家在平湖多走走，比君悦酒店性价比高的宾馆多得是！ 原因: tensor([[0.0748, 0.9252]], grad_fn=<ToCopyBackward0>) \n",
      "\n",
      "idx: 604, label: 0 : y_had: 1, data: 儿子自己拿着这几册书，看着看着就会大笑。这可以说是第一本令他那么开心的书藉。 原因: tensor([[0.1416, 0.8584]], grad_fn=<ToCopyBackward0>) \n",
      "\n",
      "idx: 605, label: 1 : y_had: 0, data: 门面太小,房间也小,连出租车司机都不熟悉, 有待改进哦 原因: tensor([[0.6110, 0.3890]], grad_fn=<ToCopyBackward0>) \n",
      "\n",
      "idx: 608, label: 0 : y_had: 1, data: 胡兰成看似有情，实则无情。胡兰成处处留情，用情不深。书中不光写了胡与张的爱情，同样写了胡从小的生活感受。此书宣传过于大量渲染胡与张的爱情，书中更多是一些别的东西。文笔细腻柔和，挺适合中学生阅读提高作文水平的。个人认为，偏重喜好情节取胜作品的读者，还是别浪费时间了。 原因: tensor([[0.1900, 0.8100]], grad_fn=<ToCopyBackward0>) \n",
      "\n",
      "idx: 612, label: 0 : y_had: 1, data: 不敢说这本书写得不好，但这实在是一本看了让人不舒服的书，不知道真实的心理咨询师的生活是否天天在经历着这些令人难受的事情，并且女主人公的身世也设计得很古怪且缺乏真实性。很早就读毕医生的散文，小说也读过几本，但这本书是我不太喜欢的一本，身边一些爱书的朋友们读过之后也有同感。 原因: tensor([[0.4616, 0.5384]], grad_fn=<ToCopyBackward0>) \n",
      "\n",
      "idx: 614, label: 0 : y_had: 1, data: 这不是一本完全无用的书，多少还是能得到些启发。章节较小，公车上打发时间不错~ 原因: tensor([[0.0875, 0.9125]], grad_fn=<ToCopyBackward0>) \n",
      "\n",
      "idx: 631, label: 0 : y_had: 1, data: 给外甥买了好几套动画片，他最喜欢这一套，而且百看不厌。一张碟子能看几个小时。不断重复的放，他看了还是一直笑。 原因: tensor([[0.1650, 0.8350]], grad_fn=<ToCopyBackward0>) \n",
      "\n",
      "idx: 634, label: 0 : y_had: 1, data: 1、大床房其实是一个很小的房； 2、新装修的房其实一点都不新，看起来挺旧的。 补充点评 2008年5月23日 ： 我入住的是新装修的豪华房 原因: tensor([[0.1747, 0.8253]], grad_fn=<ToCopyBackward0>) \n",
      "\n",
      "idx: 642, label: 1 : y_had: 0, data: 用过的所有笔记本中只有thikpad的温度是我可以接受的，连续使用10个小时以后键盘表面温度和开始一样 原因: tensor([[0.9057, 0.0943]], grad_fn=<ToCopyBackward0>) \n",
      "\n",
      "idx: 645, label: 0 : y_had: 1, data: 住了特价的房间，实在是差的没法说了，房间小得完全出乎意料，像个剩余的角落留出来的空间弄了这么一个房间。还有停车场，实在不方便，而且地下三层，而且非常的陈旧，去停车场的电梯怕怕。第一次遇到这么差的停车场。 下次不再去，永远也不去。 宾馆反馈 2008年8月4日 ： 尊敬的客人您好，首先感谢您对酒店的评价，对于您在酒店的遭遇我们深表歉意，酒店除了特价大床房之外还有其他多种房型可供您选择，对于停车如您遇到困难可向前台与酒店安保部门联系，我们会第一时间为您解决。我们还是希望您能再次光临，在下次入住之时会给您一个不一样的感觉！ 原因: tensor([[0.1614, 0.8386]], grad_fn=<ToCopyBackward0>) \n",
      "\n",
      "idx: 646, label: 1 : y_had: 0, data: 京东办事效率很高，速度很快，头天下午的订单，第二天上午就受到货了，不过京东客服假期休假却播放无人等候录音，导致浪费很多电话费。 原因: tensor([[0.9847, 0.0153]], grad_fn=<ToCopyBackward0>) \n",
      "\n",
      "idx: 666, label: 0 : y_had: 1, data: 这位姐姐对这本书几近痴迷。我不好这一口，没有耐心看它。纯粹表扬一下这次送书的效率和质量。起码书的品相不错，好过我前两次购书。希望以后能保持。 原因: tensor([[0.2618, 0.7382]], grad_fn=<ToCopyBackward0>) \n",
      "\n",
      "idx: 668, label: 1 : y_had: 0, data: 投诉内容： 2009-5-22收到一张发票号码：02840189(上面写着订单号：4491950）金额为：8591元，但是实际上4月9号订单号：4491950 金额应该是：11808元，这样的财务水准是不是有点问题？？？？？？？？？？现在汇款（货款）金额与发票金额不符财务没用办法入账？？？？？？？？？？？？？ 原因: tensor([[0.9939, 0.0061]], grad_fn=<ToCopyBackward0>) \n",
      "\n",
      "idx: 695, label: 1 : y_had: 0, data: 房间还可以（我住的是二十一层），但空调不太好--温度不好调节以及噪音不小，淋浴水量也不是很大。另外就是酒店电梯太少了，只有两部可以用。每次都要等好长时间才能等到电梯。下次估计不会再住了 原因: tensor([[0.7475, 0.2525]], grad_fn=<ToCopyBackward0>) \n",
      "\n",
      "idx: 704, label: 1 : y_had: 0, data: 福建山水大酒店 1、看来升4★还是有道理的，服务不错（专人接待和洗衣能比较及时地送达）； 2、早餐的皮蛋瘦肉粥不错（尽管第三天早上的有点糊味）； 3、二楼的餐饮值得推荐（招待客户时）； 4、设备比较齐备，有棋牌室，尽管没去打麻将，看了看环境还可以； 5、地理位置不错，窗户对面居然就是－洲际酒店，但打车比洲际方便很多； 6、房间上网速度不错，有600KB/s的样子； 7、不足嘛： A、福州酒店好像都是一样的问题－－房间购大，但厕所比较小，尤其是马桶的Size……； B、二楼的餐饮无商务套餐，结果比较浪费（按单人50元餐饮计算），已提过此建议，不知是否会改进； C、房间窗户隔音效果比较差。我住在16楼，第一天刮小台风，窗户震了一夜。第二天白天和第三天白天，楼下某车警报器发癫似的直冲云霄……好在房间有个小音响，开到3/4格音量放着摇滚，感觉居然还不错…… D、明显存在的问题：8号中午一点多结账时，结果结账的地方才1个人（而且还在忙着统计“对账单”），同一个柜台的接待处却有3个人，而此时并无Check in的客人，但接待的3人“无动于衷”……（为赶回来看奥运会开幕式，只好要求她们加快或来一个人来帮忙） 结果又遇到刷卡有问题。我还没急，结账的那位却风风火火只会把卡左刷右刷的刷了n次（完全无视系统的“报错提醒”）我再三提醒看“请看看是什么错误信息”，才知道是余额不足。只好分别回房间和到商务中心，共转帐二次，结果还是刷卡错误－－回来后问银行柜台咨询才知道是：因为短时间内刷卡太频繁，银行保护把卡锁了…… 其实：中午时间本来就是Check Out人比较多的时候（从我开始结账到结账完毕，共有四位客人在Check out，却无人Check in），前台人员配备明显不合理；如果结账的那位女同志仔细一点，发现刷卡有问题时多看下提示，就不会耽误客人如此多的时间，而且不会导致锁卡（好彩为看开幕式归心似箭，提前了1个小时CheckOut，否则……）； 出现问题时，请冷静点处理，居然比我还急（尤其是她那说话的声音又高又尖又快），如果我也象她那么样急一下，不吵架才怪…… 当然，酒店的服务从始至终，包括最后处理卡问题时知道换另外一位接待来处理，服务态度还是可以接受的，总体上此酒店还是值得推荐的，希望能百尺竿头更进一步。 最后，携程的价格比我在前台听的某价格贵了少许，虽然我接受了此价差入住了，但携程还请加油！ 原因: tensor([[0.7414, 0.2586]], grad_fn=<ToCopyBackward0>) \n",
      "\n",
      "idx: 717, label: 1 : y_had: 0, data: 外观旧,停车场小,乱,还另外收钱,不过酒店还干净. 原因: tensor([[0.9700, 0.0300]], grad_fn=<ToCopyBackward0>) \n",
      "\n",
      "idx: 723, label: 0 : y_had: 1, data: Vista系统还是感觉不好用，换XP非常麻烦，对电脑不是很了解的推荐不要自己安装，本人研究了半天才终于换成XP，非常有成就感。 原因: tensor([[0.1484, 0.8516]], grad_fn=<ToCopyBackward0>) \n",
      "\n",
      "idx: 735, label: 1 : y_had: 0, data: 没有桑拿设备,理由是正在维修,但真正的原因是不赚钱. 原因: tensor([[0.9885, 0.0115]], grad_fn=<ToCopyBackward0>) \n",
      "\n",
      "idx: 736, label: 0 : y_had: 1, data: 刚住过这里，感觉不好，房间味道太大，一股子霉味，房间各种设施都很陈旧，我所预订的大床间，却没有宽带，只能一个住在双人标间。因为去的时候较晚，所以有点饿，结果在房间找了半天，只找了一个空荡荡的摆设冰箱。这么老的酒店还不装修一下，估计不会有回头客。好的一点是环境不错，但在海南，像这种花园式的宾馆还是不少的，并不构成特色。如果有人到洋浦来，建议住在海景花园宾馆，四星级设计，在房间门口的走廊上就面向大海，整个是个花园式布局。如果要洗浴，可以打个三轮车去干充（音译），只有几公里的路程。价格也很公道，238元大床间。 原因: tensor([[0.0243, 0.9757]], grad_fn=<ToCopyBackward0>) \n",
      "\n",
      "idx: 743, label: 0 : y_had: 1, data: 价格在长春属于高价，但房间环境和服务完全不够。房间里柜门油漆剥落。下午6点半找不到西餐厅，服务人员告诉我可能下班了，下班？六点半？前台小姐把等着check-in的客人晾着，自己接电话，还一脸的冷漠看着客人。找有的服务人员问路，被很牛的告知：“这不该我管”。完全不具备一个所谓对外宾馆的起码形象。给我的感觉就是“你们烦死了，没有你们这些要来住店的人，我们该有多清闲呀！” 宾馆反馈 2007年10月19日 ： 尊敬的宾客您好： 首先对您在入住期间遇到的不快表示最诚挚的歉意，同时也非常感谢您能够提出我们服务接待中的不足，也是对我们接待工作的最大支持，我们将全力改进，并加强员工的培训来提高服务质量，以最优质的服务来迎接到馆的每一位宾客。为通过此事进一步教育员工，提高服务意识和服务质量，有针对性的开展部门岗位培训，我们真诚地希望，如您方便，请您告知我们您当时入住时的详细情况，如入住时间、谁接待等（如不知道具体接待人员姓名，可描述一下在什么位置，如总台入住登记处还是收银处、穿什么颜色制服等），我们将不胜感激。并希望您能一如既往的支持和关注我们，我们全体员工欢迎您的再次光临！ 原因: tensor([[0.3060, 0.6940]], grad_fn=<ToCopyBackward0>) \n",
      "\n",
      "idx: 748, label: 0 : y_had: 1, data: 虽然作者花了很多篇幅，但看了以后有点失望，感觉钱白花了。书里面实际上大部分都是个人抒情，小女人的自怜自爱。可爱倒是可爱，但是实用性上，我觉得不如《求医不如求己》。实际上《31岁》这本书，为数不多的精华思想，都来自于这本《求医》。《求医》内容之丰富，逻辑之严谨，行文之流畅有趣，学识之渊博，阐述之客观，是这本书所不能及的。如果有《求医》，这本书，可以不用买了。 原因: tensor([[0.0225, 0.9775]], grad_fn=<ToCopyBackward0>) \n",
      "\n",
      "idx: 753, label: 0 : y_had: 1, data: 1、如果附送正版操作系统就好了； 2、如果内置摄像头及耳麦就更完美了，哪怕多花一百大洋也值啊。 原因: tensor([[0.1133, 0.8867]], grad_fn=<ToCopyBackward0>) \n",
      "\n",
      "idx: 754, label: 1 : y_had: 0, data: 发热量没有网上说的恐怖，当然，前提是不要长时间游戏！CPU够了，等便宜了换个p8600的。 原因: tensor([[0.6659, 0.3341]], grad_fn=<ToCopyBackward0>) \n",
      "\n",
      "idx: 765, label: 1 : y_had: 0, data: 这家酒店感觉达不到五星，应该处在四星的水平。客房勉强还可以，但早餐做的不好，品种也少，跟同事住这里，基本上是吃了几口就走了。 原因: tensor([[0.9444, 0.0556]], grad_fn=<ToCopyBackward0>) \n",
      "\n",
      "idx: 770, label: 1 : y_had: 0, data: 我买的是￥15，现在已经￥12了，降得好快！俺没赶上！:( 原因: tensor([[0.6947, 0.3053]], grad_fn=<ToCopyBackward0>) \n",
      "\n",
      "idx: 792, label: 1 : y_had: 0, data: 定单5216523与6月3号要求处理补发赠品.现在已经20号了,仍然未补发.这服务也\"太到位\"了吧,买了东西就甩手不管了?难道这就是京东一惯的\"作风\"?现在都出了大礼包了.要求给一个满意的结果.不要一拖再拖!!!(而且我们拿到手就发现键盘问题,已经拿去修了.才买几天啊?)这些结果都让人都郁闷!!! 原因: tensor([[0.9875, 0.0125]], grad_fn=<ToCopyBackward0>) \n",
      "\n",
      "idx: 797, label: 0 : y_had: 1, data: 其他没什么，就是房价便宜。很老的星级宾馆了，愧对4星的标准了。 补充点评 2008年5月31日 ： 不过在安庆也就这家好一点，其他的要么很远，要么更差。 原因: tensor([[0.2866, 0.7134]], grad_fn=<ToCopyBackward0>) \n",
      "\n",
      "idx: 798, label: 1 : y_had: 0, data: 分区时出现拒绝访问，怎么分都不行，请求帮助！ 送的1G内存条，怎么安装呢？应该不能自己擅自安装吧 原因: tensor([[0.9871, 0.0129]], grad_fn=<ToCopyBackward0>) \n",
      "\n",
      "idx: 800, label: 1 : y_had: 0, data: 非常好的酒店,除了前台的服务态度. 房间设施非常好,飞利浦的液晶彩电,还有电脑备用. 只是,可能因为是通过携程预定而非直接预定的原因,房间的位置非常差. 原因: tensor([[0.6314, 0.3686]], grad_fn=<ToCopyBackward0>) \n",
      "\n",
      "idx: 803, label: 1 : y_had: 0, data: 入住没什么问题，前台把握安排在23楼， 那里可真是馊臭，一出电梯非常难闻。进了房间里面还是有这个味道。 就快要吐出来了。 实在是忍无可忍，打电话给总台，要求换房。 后来换到39楼。 服务生说是23，24楼市公寓楼，有人在做饭的。 晕！！！ 也说明酒店不重视携程的客户。 如果是他们酒店ACCOR的会员的话，肯定不会安排在23楼。 还有个奇怪的问题是， 为什么携程总是没有早餐的？ 什么酒店都没有， 感觉是携程吃了我们的早餐。 原因: tensor([[0.8433, 0.1567]], grad_fn=<ToCopyBackward0>) \n",
      "\n",
      "idx: 808, label: 1 : y_had: 0, data: 周四中午下的订单，周五一早就收到货了，下午拿去电脑城装系统80元，再加了根1G的内存条200元，所有人都说“值”！！ 只是，我的手脚比较重，不知道经摔不经摔？？ 原因: tensor([[0.5581, 0.4419]], grad_fn=<ToCopyBackward0>) \n",
      "\n",
      "idx: 810, label: 1 : y_had: 0, data: 我正在写这本书的心得，勘误和疑点，有兴趣的朋友可以访问我的网站，交流切磋。www.smallstonesoft.com 原因: tensor([[0.5759, 0.4241]], grad_fn=<ToCopyBackward0>) \n",
      "\n",
      "idx: 822, label: 1 : y_had: 0, data: 对孩子而言，他们只要喜欢里面的图画就很不错了，别想到要去通过此本真正教会他们单词，这是不现实的。 原因: tensor([[0.9512, 0.0488]], grad_fn=<ToCopyBackward0>) \n",
      "\n",
      "idx: 824, label: 0 : y_had: 1, data: 我很遗憾。我是收到当当网的推荐书EMAIL而购买此书的。没想到里面充斥着广告和作者的自我标榜。我很遗憾没能看到我原本期待的作者一步步走来的真实经历，也遗憾于我欣赏的当当网会将这样的书作为推荐书带给读者。 原因: tensor([[0.4021, 0.5979]], grad_fn=<ToCopyBackward0>) \n",
      "\n",
      "idx: 830, label: 0 : y_had: 1, data: 刚住过这里，感觉不好，房间味道太大，一股子霉味，房间各种设施都很陈旧，我所预订的大床间，却没有宽带，只能一个住在双人标间。因为去的时候较晚，所以有点饿，结果在房间找了半天，只找了一个空荡荡的摆设冰箱。这么老的酒店还不装修一下，估计不会有回头客。好的一点是环境不错，但在海南，像这种花园式的宾馆还是不少的，并不构成特色。如果有人到洋浦来，建议住在海景花园宾馆，四星级设计，在房间门口的走廊上就面向大海，整个是个花园式布局。如果要洗浴，可以打个三轮车去干充（音译），只有几公里的路程。价格也很公道，238元大床间。 原因: tensor([[0.0243, 0.9757]], grad_fn=<ToCopyBackward0>) \n",
      "\n",
      "idx: 838, label: 0 : y_had: 1, data: 这本书我是买来送给爸妈，听说很简单易学，所以给妈妈看，让他们了解一些基本的健身之道，这样我们在外面工作也会比较安心。妈妈正在学，听她说还不错。 原因: tensor([[0.1620, 0.8380]], grad_fn=<ToCopyBackward0>) \n",
      "\n",
      "idx: 840, label: 1 : y_had: 0, data: 房间面积太大，导致小功率空调制冷制热效果差，另外床与电视相距较远，观看起来相对比较费劲。 原因: tensor([[0.9846, 0.0154]], grad_fn=<ToCopyBackward0>) \n",
      "\n",
      "idx: 847, label: 1 : y_had: 0, data: 要专业来讨论，理论依据有点弱，要当小说看，又看不下去，很多问题很分散，没有聚集，主题也不是太明显，最后看完了好像整本书就一个目的：要真金白银才是真正货币。个人主观感受：主要问题就是各章节主题不清楚，也没有什么针对性。另外，既然是通俗小说，各机构、人物都应该有个合理的介绍，结果就是突然一棒子出来了，有时候搞得不清不楚的。不过仍然可算是可翻第二遍的书。 原因: tensor([[0.5891, 0.4109]], grad_fn=<ToCopyBackward0>) \n",
      "\n",
      "idx: 859, label: 1 : y_had: 0, data: 外观，键盘，性能和电池都挺不错，但就是进不了系统，郁闷啊。硬盘嘎吱响，怀疑有问题。虽然楼上有人讲F9导入系统可以解决问题，但验货的时候可不知道，京东的售后也没提这个方法，直接换货了，还是换个新的保险 原因: tensor([[0.9426, 0.0574]], grad_fn=<ToCopyBackward0>) \n",
      "\n",
      "idx: 882, label: 0 : y_had: 1, data: 6芯电池太重了了。。虽然续航时间长，但是未必所有的用户都会需要这么长时间，可以考虑提供3芯和6芯的一个选择 原因: tensor([[0.4407, 0.5593]], grad_fn=<ToCopyBackward0>) \n",
      "\n",
      "idx: 887, label: 1 : y_had: 0, data: 质量做工都不是很差，大家说的音箱问题没有仔细测试，再则音箱本来就是笔记本的弱项，能出声就行了，没有太高要求。 外形比较中庸，适合要求普通的人，想最求个性可以绕道了。 电池待机还没测试。应该很普通吧。 原因: tensor([[0.5815, 0.4185]], grad_fn=<ToCopyBackward0>) \n",
      "\n",
      "idx: 910, label: 0 : y_had: 1, data: 如果要求较高，就不要住这里。--经济房很小，床较硬，夜晚有锅炉声音的干扰。标准间较大，但墙面陈旧，地毯斑驳，卫生间简陋，洗完淋浴后水流四处，下一个人可以直接洗盆池了。前台不负责任，没有保留预订的房间，携程与之交涉后，才勉强换房。总体态度冷淡。房间外部环境不错，但问题是，若是来旅游，你有多少时间来享受它的乌语花香呢？ 补充点评 2008年8月1日 ： 从酒店出去打车有好一段路要走，交通不算太方便。 原因: tensor([[0.4944, 0.5056]], grad_fn=<ToCopyBackward0>) \n",
      "\n",
      "idx: 916, label: 0 : y_had: 1, data: 这几天旅行中也在看《杜拉拉升职记》，的确是值得推荐的职场读物。虽然是虚拟的，但很多skill是可以在实际生活中运用，既是不完全运用，也可以做参考和借鉴。看完之后，觉得比较受用。 原因: tensor([[0.0204, 0.9796]], grad_fn=<ToCopyBackward0>) \n",
      "\n",
      "idx: 920, label: 1 : y_had: 0, data: 我本来一直很喜欢的，可是这次有几个问题想说说：一是酒店门口的服务生太冷漠，形同虚设，我到酒店那天早上下雨，东西很多，打车去的时候他们居然站在那里一动不动，连伸手拉一下车门都没有。如果想要小费我想你做了别人肯定会给你。建议改进，至少可以帮客人拿一下东西吧。二是酒店前台通知不及时，我那天入住的时候说是住两晚上，可是前台服务员只要我压了500元的押金，后来没有通知我，第二天我回酒店就发现门打不开了，打电话问了才告诉我说是押金不够，显然服务一点都不人性化，希望能改进。 另外，酒店的行李寄存服务很好，环境也很好，总的来说都很理想，就是希望能改进上面两个问题，做的更好，那样客人会更加喜欢你们宾馆。 期待你们的改进和回复。 宾馆反馈 2008年6月17日 ： 尊敬的携程会员：感谢您们对我们宾馆一直的关注和支持！针对您所反映的问题，我们管理层非常的重视。立即由相关部门结合实际展开调查和核实，同时借鉴您的合理化建议并采取一些有效的整改。从而对您的善意的提醒再次表示感谢！同时也十分感谢携程网提供了这样一个好的平台，希望诸位会员空闲之时多多给我们宾馆提出建议和评价。我们将以真诚的服务态度欢迎诸位的光临！ 原因: tensor([[0.5728, 0.4272]], grad_fn=<ToCopyBackward0>) \n",
      "\n",
      "idx: 928, label: 0 : y_had: 1, data: 很一般啊，没有想象中的好，内容有些肤浅，没什么特别的，特别是关于中医养生的部分，有点失望，不过版面印刷质量还是可以的，文字大小看起来也很舒服，仅此而已！ 原因: tensor([[0.4349, 0.5651]], grad_fn=<ToCopyBackward0>) \n",
      "\n",
      "idx: 945, label: 1 : y_had: 0, data: 还可以,促销399,价钱不错.不过酒店躲在新工房后面,确实是一个疮疤 原因: tensor([[0.9677, 0.0323]], grad_fn=<ToCopyBackward0>) \n",
      "\n",
      "idx: 952, label: 1 : y_had: 0, data: 买来送人的，没有拆包，也不知道到底怎么样？不过京东的东西，我信得过！ 原因: tensor([[0.6119, 0.3881]], grad_fn=<ToCopyBackward0>) \n",
      "\n",
      "idx: 977, label: 1 : y_had: 0, data: 其实里面的那些明星跟这本书没什么关联，很是肤浅地在去付读者，有点小上当的感觉吧，有用的那些内容不知道都是怎么拼到的，虽然也学到很多常识，却很是缺乏实际实践性 原因: tensor([[0.9730, 0.0270]], grad_fn=<ToCopyBackward0>) \n",
      "\n",
      "idx: 982, label: 0 : y_had: 1, data: 轻松的了解了职场状况，容易产生共鸣，处理问题的方式和技巧值得学习，故事感人。 原因: tensor([[0.0180, 0.9820]], grad_fn=<ToCopyBackward0>) \n",
      "\n",
      "idx: 987, label: 1 : y_had: 0, data: 在当当上买了那么多书，这是第一次有写。书评的冲动。实在觉得作者说的太好了，不推荐出来，自己都觉得过意不去。书里有很多经验都值得细细回味，特别关于课外阅读那部分让我共鸣不已，并且特地拿给我爸看。在孩子教育上，他外公就是主张不要花那么多时间进行课外阅读，把课本读好读精就行了，我虽说觉得他不对，但理论上不能说服，这下可有后援了哈哈！！ 原因: tensor([[0.5247, 0.4753]], grad_fn=<ToCopyBackward0>) \n",
      "\n",
      "idx: 1004, label: 1 : y_had: 0, data: 总台小姐凌晨0：30打电话询问房卡之事，惊扰本人美梦，使我一夜未眠，区区小事，为何不能次日早晨与我联系，服务欠周到，尚需改进 原因: tensor([[0.9957, 0.0043]], grad_fn=<ToCopyBackward0>) \n",
      "\n",
      "idx: 1009, label: 1 : y_had: 0, data: 物流速度太慢了,物流速度太慢了,物流速度太慢了,物流速度太慢了,物流速度太慢了,物流速度太慢了,物流速度太慢了,物流速度太慢了,物流速度太慢了,物流速度太慢了,物流速度太慢了,物流速度太慢了,物流速度太慢了,物流速度太慢了,物流速度太慢了,物流速度太慢了,物流速度太慢了,物流速度太慢了,物流速度太慢了,物流速度太慢了,物流速度太慢了, 原因: tensor([[0.7386, 0.2614]], grad_fn=<ToCopyBackward0>) \n",
      "\n",
      "idx: 1010, label: 0 : y_had: 1, data: 设施陈旧,卫生差.感觉:四星的大门,二星的客房,没有服务(住了两晚,没见服务员来打扫) 补充点评 2007年8月16日 ： 价高质次 原因: tensor([[0.0435, 0.9565]], grad_fn=<ToCopyBackward0>) \n",
      "\n",
      "idx: 1030, label: 0 : y_had: 1, data: 标准大床间,面积较小.宽带每天20元(其他连锁店一般免费).床垫上只有很薄的床单有很硌的感觉.服务生年龄一般都很大,老油条服务,较差.步行到世纪公园站约5分钟. 如果参观上海新展览中心而入住该店,性价比刚刚及格. 原因: tensor([[0.0865, 0.9135]], grad_fn=<ToCopyBackward0>) \n",
      "\n",
      "idx: 1035, label: 0 : y_had: 1, data: 这位姐姐对这本书几近痴迷。我不好这一口，没有耐心看它。纯粹表扬一下这次送书的效率和质量。起码书的品相不错，好过我前两次购书。希望以后能保持。 原因: tensor([[0.2618, 0.7382]], grad_fn=<ToCopyBackward0>) \n",
      "\n",
      "idx: 1038, label: 0 : y_had: 1, data: 地方真是偏,连出租车司机都找了N久啊 房间到是很大啊 里面的设施台陈旧了啊 一住进去就有骚扰电话跟踪而来,真是强啊! 免费注册 网站导航 宾馆索引 服务说明 关于携程 诚聘英才 代理合作 广告业务 联系我们 Copyright1999-2008, ctrip.com. al 原因: tensor([[0.3527, 0.6473]], grad_fn=<ToCopyBackward0>) \n",
      "\n",
      "idx: 1045, label: 0 : y_had: 1, data: 电池续航时间好像没有达到宣传的9.5小时，跟联想s10比，外形稍稍大一些重一些。 原因: tensor([[0.2322, 0.7678]], grad_fn=<ToCopyBackward0>) \n",
      "\n",
      "idx: 1060, label: 1 : y_had: 0, data: 环境非常好，服务非常好，交通不方便，价格有点贵 原因: tensor([[0.6075, 0.3925]], grad_fn=<ToCopyBackward0>) \n",
      "\n",
      "idx: 1070, label: 0 : y_had: 1, data: 用了2周下来，觉得带来带去还是太重，3斤也是实打实的分量啊，屏幕是lcd的，看多了很累的 原因: tensor([[0.4917, 0.5083]], grad_fn=<ToCopyBackward0>) \n",
      "\n",
      "idx: 1073, label: 1 : y_had: 0, data: 用了几天，结果系统崩溃了，到同方检测，发现30％坏道，已经退回换货了，不知道换来的如何 原因: tensor([[0.9923, 0.0077]], grad_fn=<ToCopyBackward0>) \n",
      "\n",
      "idx: 1099, label: 1 : y_had: 0, data: 酒店是比较老的四星，设施都比较陈旧，房间也很小，健康秤还是坏的，总体感觉一般，但价格还是按照新四星来的，所以感觉不是很值。 原因: tensor([[0.7836, 0.2164]], grad_fn=<ToCopyBackward0>) \n",
      "\n",
      "idx: 1105, label: 0 : y_had: 1, data: 在胡同里，不过还算好找。房价便宜，酒店设施简单，但还比较干净，离北京火车站很近，步行都可以。出胡同口就有小吃店，如果要离火车站近，可以选这。 补充点评 2008年4月21日 ： 之前给的点评错误，因为看错宾馆名字。北京东方和平宾馆这家酒店给我感觉不好，虽然地段好，就靠王府井大街，但退房速度慢，房间隔音不好，有味道，看上去不干净。下次不会去了。 原因: tensor([[0.4421, 0.5579]], grad_fn=<ToCopyBackward0>) \n",
      "\n",
      "idx: 1118, label: 1 : y_had: 0, data: 情节设计很能抓住孩子，6岁的孩子不仅让大人讲了又讲，还自己主动讲给好朋友听。绘画效果也还可以接受。孩子在无意间浏览了各个时期风格迥异的名画。美中不足的就是一套书中不同本的情节设计没什么差别，只是名画的年代或风格不同。遗憾的是为什么没有中国人的精美绘本，从创意、文字到绘画，好作品都是外来的，文化品位也是外来的，下一代都喝洋奶了，本民族的养分谁来继承？？！！！ 原因: tensor([[0.6535, 0.3465]], grad_fn=<ToCopyBackward0>) \n",
      "\n",
      "idx: 1135, label: 0 : y_had: 1, data: 很时尚风趣的文风，有谈笑间樯橹灰飞烟灭的气势，虽然只看完了第一部，但爱不释手的感觉已经越来越强烈。 原因: tensor([[0.0284, 0.9716]], grad_fn=<ToCopyBackward0>) \n",
      "\n",
      "idx: 1141, label: 0 : y_had: 1, data: 这本书没有想象中好，书的中心意思用两句话就可以概括“只要孩子愿意，父母每天都要陪孩子亲子阅读，而且亲子阅读越早越好”“父母要给孩子树立阅读的榜样！”。 原因: tensor([[0.0766, 0.9234]], grad_fn=<ToCopyBackward0>) \n",
      "\n",
      "idx: 1180, label: 1 : y_had: 0, data: 这款机子，我没发现任何值得说好的地方！等待我不停的投诉吧！。。。（下面的评价不让多写字，写了很多发不了） 原因: tensor([[0.9445, 0.0555]], grad_fn=<ToCopyBackward0>) \n",
      "\n",
      "idx: 1190, label: 0 : y_had: 1, data: 房间味道好重，本来都是去住华天世纪的，他们生意太好，没有房间了，丽晶的房间感觉象好久没人住了，霉味好大，住了两天，人都快晕了，如果再去柳州肯定不住这家了。 宾馆反馈 2008年8月1日 ： 对您提出的意见我们已进行了改进。酒店设有无烟楼层，也推出了奢华新装的商务行政客房，一定不会让您失望！ 原因: tensor([[0.0383, 0.9617]], grad_fn=<ToCopyBackward0>) \n",
      "\n",
      "idx: 1193, label: 1 : y_had: 0, data: 不过，对于一些阴谋论调，将信将疑，网上一搜，大家议论纷纷，我想写的最详尽的当属天涯的这篇了吧http://cache.tianya.cn/publicforum/content/develop/1/140524.shtml学术争鸣是好事，不过回头想想，这本书的确有点小说版的正史 原因: tensor([[0.9010, 0.0990]], grad_fn=<ToCopyBackward0>) \n",
      "\n",
      "idx: 1197, label: 0 : y_had: 1, data: 周二中午就收到顺丰送来的本本，非常不错哦，只有一个小疑问，不是说led屏的背光在全黑状态下是关闭的，但我还是能够看到屏幕下方白色的漏光，让我感觉是不是联想忽悠我们啊？还是我记错了？呵呵 原因: tensor([[0.1996, 0.8004]], grad_fn=<ToCopyBackward0>) \n",
      "\n",
      "acc: 0.8842\n"
     ]
    }
   ],
   "source": [
    "\n",
    "\n",
    "count_acc = 0\n",
    "for i in range(len(test_dataset)):\n",
    "    \n",
    "    label = dataset[i][1]\n",
    "    data_str = dataset[i][0]\n",
    "    \n",
    "    cp_res, y_heat = str_felling_detect(model, data_str)\n",
    "  \n",
    "    if y_heat != label:\n",
    "        # print('error :', cp_res)\n",
    "        print('idx: %s, label: %s : y_had: %s, data: %s 原因: %s \\n' % \\\n",
    "          (i, label, y_heat, data_str, cp_res))\n",
    "        pass\n",
    "    else:\n",
    "        count_acc += 1\n",
    "        \n",
    "    if i % 100 == 0:\n",
    "        # print('i: ', i)\n",
    "        pass\n",
    "        \n",
    "\n",
    "print('acc: %2.4f' % (count_acc / len(test_dataset)))"
   ]
  },
  {
   "cell_type": "raw",
   "id": "f9ef7bc6-fd0c-4724-a2d0-ad496bcfe441",
   "metadata": {},
   "source": []
  },
  {
   "cell_type": "code",
   "execution_count": null,
   "id": "98ffc0e8-7ef5-47ce-bf4a-3a9407bd26e3",
   "metadata": {},
   "outputs": [],
   "source": []
  }
 ],
 "metadata": {
  "kernelspec": {
   "display_name": "Python 3 (ipykernel)",
   "language": "python",
   "name": "python3"
  },
  "language_info": {
   "codemirror_mode": {
    "name": "ipython",
    "version": 3
   },
   "file_extension": ".py",
   "mimetype": "text/x-python",
   "name": "python",
   "nbconvert_exporter": "python",
   "pygments_lexer": "ipython3",
   "version": "3.8.10"
  }
 },
 "nbformat": 4,
 "nbformat_minor": 5
}
