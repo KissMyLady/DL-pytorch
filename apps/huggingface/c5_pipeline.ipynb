{
 "cells": [
  {
   "cell_type": "code",
   "execution_count": 1,
   "id": "97a4c689-599e-47fc-83c5-46b40a0f8b51",
   "metadata": {
    "tags": []
   },
   "outputs": [],
   "source": [
    "from transformers import pipeline\n"
   ]
  },
  {
   "cell_type": "markdown",
   "id": "48ad93af-8f7f-4329-ab9e-1dfe4818d8cc",
   "metadata": {},
   "source": [
    "## 文本分类"
   ]
  },
  {
   "cell_type": "code",
   "execution_count": 2,
   "id": "87098d71-c404-4461-bf52-be8e2f13bb13",
   "metadata": {
    "tags": []
   },
   "outputs": [
    {
     "name": "stderr",
     "output_type": "stream",
     "text": [
      "No model was supplied, defaulted to distilbert-base-uncased-finetuned-sst-2-english and revision af0f99b (https://huggingface.co/distilbert-base-uncased-finetuned-sst-2-english).\n",
      "Using a pipeline without specifying a model name and revision in production is not recommended.\n"
     ]
    },
    {
     "name": "stdout",
     "output_type": "stream",
     "text": [
      "{'label': 'NEGATIVE', 'score': 0.9991129040718079}\n",
      "{'label': 'POSITIVE', 'score': 0.9998656511306763}\n"
     ]
    }
   ],
   "source": [
    "\n",
    "# 文本分类\n",
    "classifier = pipeline(\"sentiment-analysis\")\n",
    "\n",
    "result = classifier(\"I hate you\")[0]\n",
    "print(result)\n",
    "\n",
    "result = classifier(\"I love you\")[0]\n",
    "print(result)"
   ]
  },
  {
   "cell_type": "markdown",
   "id": "4db2318a-8b03-4d62-9a9b-08032e967e3a",
   "metadata": {},
   "source": [
    "## 阅读理解"
   ]
  },
  {
   "cell_type": "code",
   "execution_count": 3,
   "id": "0756230d-3102-4ee2-931a-3a8fe3acd714",
   "metadata": {
    "tags": []
   },
   "outputs": [
    {
     "name": "stderr",
     "output_type": "stream",
     "text": [
      "No model was supplied, defaulted to distilbert-base-cased-distilled-squad and revision 626af31 (https://huggingface.co/distilbert-base-cased-distilled-squad).\n",
      "Using a pipeline without specifying a model name and revision in production is not recommended.\n"
     ]
    },
    {
     "name": "stdout",
     "output_type": "stream",
     "text": [
      "{'score': 0.6177283525466919, 'start': 34, 'end': 95, 'answer': 'the task of extracting an answer from a text given a question'}\n",
      "{'score': 0.5152308940887451, 'start': 148, 'end': 161, 'answer': 'SQuAD dataset'}\n"
     ]
    }
   ],
   "source": [
    "\n",
    "# 阅读理解\n",
    "question_answerer = pipeline(\"question-answering\")\n",
    "\n",
    "context = r\"\"\"\n",
    "Extractive Question Answering is the task of extracting an answer from a text given a question. An example of a \n",
    "question answering dataset is the SQuAD dataset, which is entirely based on that task. If you would like to fine-tune \n",
    "a model on a SQuAD task, you may leverage the examples/pytorch/question-answering/run_squad.py script.\n",
    "\"\"\"\n",
    "\n",
    "result = question_answerer(question=\"What is extractive question answering?\",\n",
    "                           context=context)\n",
    "print(result)\n",
    "\n",
    "result = question_answerer(\n",
    "    question=\"What is a good example of a question answering dataset?\",\n",
    "    context=context)\n",
    "\n",
    "print(result)"
   ]
  },
  {
   "cell_type": "markdown",
   "id": "793b61da-1624-4bf2-bd8e-85a01e2b7a8e",
   "metadata": {},
   "source": [
    "## 完形填空"
   ]
  },
  {
   "cell_type": "code",
   "execution_count": 4,
   "id": "b6a41c9d-ab4b-4b56-891e-224a5faaa9f0",
   "metadata": {
    "tags": []
   },
   "outputs": [
    {
     "name": "stderr",
     "output_type": "stream",
     "text": [
      "No model was supplied, defaulted to distilroberta-base and revision ec58a5b (https://huggingface.co/distilroberta-base).\n",
      "Using a pipeline without specifying a model name and revision in production is not recommended.\n"
     ]
    },
    {
     "data": {
      "text/plain": [
       "[{'score': 0.17927497625350952,\n",
       "  'token': 3944,\n",
       "  'token_str': ' tool',\n",
       "  'sequence': 'HuggingFace is creating a tool that the community uses to solve NLP tasks.'},\n",
       " {'score': 0.11349403858184814,\n",
       "  'token': 7208,\n",
       "  'token_str': ' framework',\n",
       "  'sequence': 'HuggingFace is creating a framework that the community uses to solve NLP tasks.'},\n",
       " {'score': 0.05243556201457977,\n",
       "  'token': 5560,\n",
       "  'token_str': ' library',\n",
       "  'sequence': 'HuggingFace is creating a library that the community uses to solve NLP tasks.'},\n",
       " {'score': 0.03493537753820419,\n",
       "  'token': 8503,\n",
       "  'token_str': ' database',\n",
       "  'sequence': 'HuggingFace is creating a database that the community uses to solve NLP tasks.'},\n",
       " {'score': 0.02860264666378498,\n",
       "  'token': 17715,\n",
       "  'token_str': ' prototype',\n",
       "  'sequence': 'HuggingFace is creating a prototype that the community uses to solve NLP tasks.'}]"
      ]
     },
     "execution_count": 4,
     "metadata": {},
     "output_type": "execute_result"
    }
   ],
   "source": [
    "# 完形填空\n",
    "unmasker = pipeline(\"fill-mask\")\n",
    "\n",
    "from pprint import pprint\n",
    "\n",
    "sentence = 'HuggingFace is creating a <mask> that the community uses to solve NLP tasks.'\n",
    "\n",
    "unmasker(sentence)"
   ]
  },
  {
   "cell_type": "markdown",
   "id": "da420a78-fe84-459c-a6e7-a564d33811b9",
   "metadata": {
    "tags": []
   },
   "source": [
    "## 文本生成"
   ]
  },
  {
   "cell_type": "code",
   "execution_count": 5,
   "id": "2f1370bc-14b0-4ee8-84f5-3b4d13b5369b",
   "metadata": {
    "tags": []
   },
   "outputs": [
    {
     "name": "stderr",
     "output_type": "stream",
     "text": [
      "No model was supplied, defaulted to gpt2 and revision 6c0e608 (https://huggingface.co/gpt2).\n",
      "Using a pipeline without specifying a model name and revision in production is not recommended.\n",
      "/home/mylady/.virtualenvs/dl-pytorch/lib/python3.8/site-packages/transformers/generation/utils.py:1201: UserWarning: You have modified the pretrained model configuration to control generation. This is a deprecated strategy to control generation and will be removed soon, in a future version. Please use a generation configuration file (see https://huggingface.co/docs/transformers/main_classes/text_generation)\n",
      "  warnings.warn(\n",
      "Setting `pad_token_id` to `eos_token_id`:50256 for open-end generation.\n"
     ]
    },
    {
     "data": {
      "text/plain": [
       "[{'generated_text': 'As far as I am concerned, I will be the first to admit that I am not a fan of the idea of a \"free market.\" I think that the idea of a free market is a bit of a stretch. I think that the idea'}]"
      ]
     },
     "execution_count": 5,
     "metadata": {},
     "output_type": "execute_result"
    }
   ],
   "source": [
    "# 文本生成\n",
    "text_generator = pipeline(\"text-generation\")\n",
    "\n",
    "text_generator(\"As far as I am concerned, I will\",\n",
    "               max_length=50,\n",
    "               do_sample=False)"
   ]
  },
  {
   "cell_type": "markdown",
   "id": "1fc2354e-5a04-4508-9d58-7097c572f81d",
   "metadata": {},
   "source": [
    "## 命名实体识别"
   ]
  },
  {
   "cell_type": "code",
   "execution_count": 6,
   "id": "45f6e192-7a6a-4fb1-a33e-5dba0367ef3f",
   "metadata": {
    "tags": []
   },
   "outputs": [
    {
     "name": "stderr",
     "output_type": "stream",
     "text": [
      "No model was supplied, defaulted to dbmdz/bert-large-cased-finetuned-conll03-english and revision f2482bf (https://huggingface.co/dbmdz/bert-large-cased-finetuned-conll03-english).\n",
      "Using a pipeline without specifying a model name and revision in production is not recommended.\n"
     ]
    },
    {
     "name": "stdout",
     "output_type": "stream",
     "text": [
      "{'entity': 'I-ORG', 'score': 0.99957865, 'index': 1, 'word': 'Hu', 'start': 0, 'end': 2}\n",
      "{'entity': 'I-ORG', 'score': 0.9909764, 'index': 2, 'word': '##gging', 'start': 2, 'end': 7}\n",
      "{'entity': 'I-ORG', 'score': 0.9982224, 'index': 3, 'word': 'Face', 'start': 8, 'end': 12}\n",
      "{'entity': 'I-ORG', 'score': 0.9994879, 'index': 4, 'word': 'Inc', 'start': 13, 'end': 16}\n",
      "{'entity': 'I-LOC', 'score': 0.9994344, 'index': 11, 'word': 'New', 'start': 40, 'end': 43}\n",
      "{'entity': 'I-LOC', 'score': 0.99931955, 'index': 12, 'word': 'York', 'start': 44, 'end': 48}\n",
      "{'entity': 'I-LOC', 'score': 0.9993794, 'index': 13, 'word': 'City', 'start': 49, 'end': 53}\n",
      "{'entity': 'I-LOC', 'score': 0.98625815, 'index': 19, 'word': 'D', 'start': 79, 'end': 80}\n",
      "{'entity': 'I-LOC', 'score': 0.95142686, 'index': 20, 'word': '##UM', 'start': 80, 'end': 82}\n",
      "{'entity': 'I-LOC', 'score': 0.93365884, 'index': 21, 'word': '##BO', 'start': 82, 'end': 84}\n",
      "{'entity': 'I-LOC', 'score': 0.9761654, 'index': 28, 'word': 'Manhattan', 'start': 114, 'end': 123}\n",
      "{'entity': 'I-LOC', 'score': 0.9914629, 'index': 29, 'word': 'Bridge', 'start': 124, 'end': 130}\n"
     ]
    }
   ],
   "source": [
    "ner_pipe = pipeline(\"ner\")\n",
    "\n",
    "sequence = \"\"\"Hugging Face Inc. is a company based in New York City. Its headquarters are in DUMBO,\n",
    "therefore very close to the Manhattan Bridge which is visible from the window.\"\"\"\n",
    "\n",
    "\n",
    "for entity in ner_pipe(sequence):\n",
    "    print(entity)"
   ]
  },
  {
   "cell_type": "markdown",
   "id": "aec78eb2-e000-472a-96a4-93b31ab40922",
   "metadata": {},
   "source": [
    "## 文本总结"
   ]
  },
  {
   "cell_type": "code",
   "execution_count": 7,
   "id": "5d90e82c-1024-4442-97a5-624f99e8076d",
   "metadata": {
    "tags": []
   },
   "outputs": [
    {
     "name": "stderr",
     "output_type": "stream",
     "text": [
      "No model was supplied, defaulted to sshleifer/distilbart-cnn-12-6 and revision a4f8f3e (https://huggingface.co/sshleifer/distilbart-cnn-12-6).\n",
      "Using a pipeline without specifying a model name and revision in production is not recommended.\n"
     ]
    },
    {
     "data": {
      "application/vnd.jupyter.widget-view+json": {
       "model_id": "622bb30d0a0143e58956150b40761fbf",
       "version_major": 2,
       "version_minor": 0
      },
      "text/plain": [
       "Downloading (…)olve/main/vocab.json:   0%|          | 0.00/899k [00:00<?, ?B/s]"
      ]
     },
     "metadata": {},
     "output_type": "display_data"
    },
    {
     "data": {
      "text/plain": [
       "[{'summary_text': ' Liana Barrientos, 39, is charged with two counts of \"offering a false instrument for filing in the first degree\" In total, she has been married 10 times, with nine of her marriages occurring between 1999 and 2002 . At one time, she was married to eight men at once, prosecutors say .'}]"
      ]
     },
     "execution_count": 7,
     "metadata": {},
     "output_type": "execute_result"
    }
   ],
   "source": [
    "\n",
    "# 文本总结\n",
    "summarizer = pipeline(\"summarization\")\n",
    "\n",
    "\n",
    "ARTICLE = \"\"\" New York (CNN)When Liana Barrientos was 23 years old, she got married in Westchester County, New York.\n",
    "A year later, she got married again in Westchester County, but to a different man and without divorcing her first husband.\n",
    "Only 18 days after that marriage, she got hitched yet again. Then, Barrientos declared \"I do\" five more times, sometimes only within two weeks of each other.\n",
    "In 2010, she married once more, this time in the Bronx. In an application for a marriage license, she stated it was her \"first and only\" marriage.\n",
    "Barrientos, now 39, is facing two criminal counts of \"offering a false instrument for filing in the first degree,\" referring to her false statements on the\n",
    "2010 marriage license application, according to court documents.\n",
    "Prosecutors said the marriages were part of an immigration scam.\n",
    "On Friday, she pleaded not guilty at State Supreme Court in the Bronx, according to her attorney, Christopher Wright, who declined to comment further.\n",
    "After leaving court, Barrientos was arrested and charged with theft of service and criminal trespass for allegedly sneaking into the New York subway through an emergency exit, said Detective\n",
    "Annette Markowski, a police spokeswoman. In total, Barrientos has been married 10 times, with nine of her marriages occurring between 1999 and 2002.\n",
    "All occurred either in Westchester County, Long Island, New Jersey or the Bronx. She is believed to still be married to four men, and at one time, she was married to eight men at once, prosecutors say.\n",
    "Prosecutors said the immigration scam involved some of her husbands, who filed for permanent residence status shortly after the marriages.\n",
    "Any divorces happened only after such filings were approved. It was unclear whether any of the men will be prosecuted.\n",
    "The case was referred to the Bronx District Attorney\\'s Office by Immigration and Customs Enforcement and the Department of Homeland Security\\'s\n",
    "Investigation Division. Seven of the men are from so-called \"red-flagged\" countries, including Egypt, Turkey, Georgia, Pakistan and Mali.\n",
    "Her eighth husband, Rashid Rajput, was deported in 2006 to his native Pakistan after an investigation by the Joint Terrorism Task Force.\n",
    "If convicted, Barrientos faces up to four years in prison.  Her next court appearance is scheduled for May 18.\n",
    "\"\"\"\n",
    "\n",
    "\n",
    "summarizer(ARTICLE, max_length=130, min_length=30, do_sample=False)"
   ]
  },
  {
   "cell_type": "markdown",
   "id": "fcbc61eb-f805-44d0-8265-14d1033ecc9a",
   "metadata": {},
   "source": [
    "## 翻译"
   ]
  },
  {
   "cell_type": "code",
   "execution_count": 10,
   "id": "f9938e48-88f7-4659-8207-ab4749bee0b0",
   "metadata": {
    "tags": []
   },
   "outputs": [
    {
     "name": "stderr",
     "output_type": "stream",
     "text": [
      "/home/mylady/.virtualenvs/dl-pytorch/lib/python3.8/site-packages/transformers/models/auto/modeling_auto.py:1295: FutureWarning: The class `AutoModelWithLMHead` is deprecated and will be removed in a future version. Please use `AutoModelForCausalLM` for causal language models, `AutoModelForMaskedLM` for masked language models and `AutoModelForSeq2SeqLM` for encoder-decoder models.\n",
      "  warnings.warn(\n"
     ]
    },
    {
     "data": {
      "application/vnd.jupyter.widget-view+json": {
       "model_id": "6bee818d014b4481882634f7162ed125",
       "version_major": 2,
       "version_minor": 0
      },
      "text/plain": [
       "Downloading (…)lve/main/config.json:   0%|          | 0.00/1.42k [00:00<?, ?B/s]"
      ]
     },
     "metadata": {},
     "output_type": "display_data"
    },
    {
     "data": {
      "application/vnd.jupyter.widget-view+json": {
       "model_id": "db6eb6b72dbc49ebaa4ec19670c30b81",
       "version_major": 2,
       "version_minor": 0
      },
      "text/plain": [
       "Downloading pytorch_model.bin:   0%|          | 0.00/310M [00:00<?, ?B/s]"
      ]
     },
     "metadata": {},
     "output_type": "display_data"
    },
    {
     "data": {
      "application/vnd.jupyter.widget-view+json": {
       "model_id": "6d5aface72d54bcf93941ad9dd0ceece",
       "version_major": 2,
       "version_minor": 0
      },
      "text/plain": [
       "Downloading (…)okenizer_config.json:   0%|          | 0.00/299 [00:00<?, ?B/s]"
      ]
     },
     "metadata": {},
     "output_type": "display_data"
    },
    {
     "data": {
      "application/vnd.jupyter.widget-view+json": {
       "model_id": "bd1c319e1dc3416f8e35476c31e266e6",
       "version_major": 2,
       "version_minor": 0
      },
      "text/plain": [
       "Downloading (…)olve/main/source.spm:   0%|          | 0.00/806k [00:00<?, ?B/s]"
      ]
     },
     "metadata": {},
     "output_type": "display_data"
    },
    {
     "data": {
      "application/vnd.jupyter.widget-view+json": {
       "model_id": "d9fd87d615de445bbac55bf2a41115ee",
       "version_major": 2,
       "version_minor": 0
      },
      "text/plain": [
       "Downloading (…)olve/main/target.spm:   0%|          | 0.00/805k [00:00<?, ?B/s]"
      ]
     },
     "metadata": {},
     "output_type": "display_data"
    },
    {
     "data": {
      "application/vnd.jupyter.widget-view+json": {
       "model_id": "f377b61febc446e2b5c399b67fbb8322",
       "version_major": 2,
       "version_minor": 0
      },
      "text/plain": [
       "Downloading (…)olve/main/vocab.json:   0%|          | 0.00/1.75M [00:00<?, ?B/s]"
      ]
     },
     "metadata": {},
     "output_type": "display_data"
    },
    {
     "data": {
      "application/vnd.jupyter.widget-view+json": {
       "model_id": "c63d4785fb164d25b7f7dd5c6a3635cd",
       "version_major": 2,
       "version_minor": 0
      },
      "text/plain": [
       "Downloading (…)cial_tokens_map.json:   0%|          | 0.00/65.0 [00:00<?, ?B/s]"
      ]
     },
     "metadata": {},
     "output_type": "display_data"
    },
    {
     "name": "stderr",
     "output_type": "stream",
     "text": [
      "/home/mylady/.virtualenvs/dl-pytorch/lib/python3.8/site-packages/transformers/models/marian/tokenization_marian.py:194: UserWarning: Recommended: pip install sacremoses.\n",
      "  warnings.warn(\"Recommended: pip install sacremoses.\")\n"
     ]
    }
   ],
   "source": [
    "from transformers import AutoModelWithLMHead, AutoTokenizer\n",
    "\n",
    "\"\"\"\n",
    "参考: https://huggingface.co/liam168/trans-opus-mt-en-zh/blob/main/README.md?code=true#L28\n",
    "\"\"\"\n",
    "\n",
    "mode_name = 'liam168/trans-opus-mt-en-zh'\n",
    "model = AutoModelWithLMHead.from_pretrained(mode_name)\n",
    "tokenizer = AutoTokenizer.from_pretrained(mode_name)"
   ]
  },
  {
   "cell_type": "code",
   "execution_count": 13,
   "id": "92bad3bc-a8cc-4b21-be09-51c43e1b80ed",
   "metadata": {
    "tags": []
   },
   "outputs": [],
   "source": [
    "\n",
    "translation = pipeline(\"translation_en_to_zh\", \n",
    "                       model=model, \n",
    "                       tokenizer=tokenizer)"
   ]
  },
  {
   "cell_type": "code",
   "execution_count": 14,
   "id": "019d58bf-7f8f-4298-a3ec-69575c3c6a73",
   "metadata": {},
   "outputs": [
    {
     "data": {
      "text/plain": [
       "[{'translation_text': '我喜欢学习数据科学和机器学习。'}]"
      ]
     },
     "execution_count": 14,
     "metadata": {},
     "output_type": "execute_result"
    }
   ],
   "source": [
    "\n",
    "# 翻译\n",
    "translation('I like to study Data Science and Machine Learning.', max_length=400)"
   ]
  },
  {
   "cell_type": "code",
   "execution_count": 16,
   "id": "ebe3dd7e-a0cc-4cc5-8533-fb56dcf40790",
   "metadata": {
    "tags": []
   },
   "outputs": [
    {
     "name": "stderr",
     "output_type": "stream",
     "text": [
      "Your input_length: 477 is bigger than 0.9 * max_length: 500. You might consider increasing your max_length manually, e.g. translator('...', max_length=400)\n"
     ]
    },
    {
     "data": {
      "text/plain": [
       "[{'translation_text': '在纽约(CNN),当Liana Barrientos 23岁时,她再次结了婚。一年后,她又在Westchester郡结了婚。一年后,她又在Westchester郡结了婚,在Westchester郡结了婚,但是她又嫁给了一个不同的男人。结婚只有18天后,她又结了婚。结婚只有18天。之后,Barrientos又宣布了五次“我做”,有时只在两周之内。2010年,她再次结婚一次,在布朗克斯。在申请结婚证时,她说这是她的“第一次和唯一的”婚姻。Barrientos,现在的39岁,面临两项刑事罪状,“在Westchester郡立了一个假的结婚工具,要提出头一级申请。”根据法院文件,2010年结婚许可证申请只有18天,检察官说婚姻是移民骗局的一部分。星期五,在布朗克斯州最高法院的男法官说,在离开法院之后,克里斯托弗·赖特(Christ Wright),她拒绝进一步发表意见。在离开法庭后,Barrientos被捕后,被偷窃服务和刑事。在据称进入纽约地铁的女律师共要进入了10年的婚姻。在离地铁共10年,在离婚期间,在离地铁共进行。'}]"
      ]
     },
     "execution_count": 16,
     "metadata": {},
     "output_type": "execute_result"
    }
   ],
   "source": [
    "# 翻译\n",
    "translation(ARTICLE, \n",
    "            max_length=500)"
   ]
  },
  {
   "cell_type": "markdown",
   "id": "20093f67-da0a-4a3c-9c2f-3eb51f975958",
   "metadata": {
    "tags": []
   },
   "source": [
    "## 中文翻译成英文\n",
    "\n",
    "链接: https://huggingface.co/liam168/trans-opus-mt-zh-en"
   ]
  },
  {
   "cell_type": "code",
   "execution_count": 21,
   "id": "75d6b45f-1dcf-4535-b04e-278c45277277",
   "metadata": {
    "tags": []
   },
   "outputs": [
    {
     "data": {
      "application/vnd.jupyter.widget-view+json": {
       "model_id": "fc1861474bd74c00a264bda2acba9274",
       "version_major": 2,
       "version_minor": 0
      },
      "text/plain": [
       "Downloading (…)lve/main/config.json:   0%|          | 0.00/1.34k [00:00<?, ?B/s]"
      ]
     },
     "metadata": {},
     "output_type": "display_data"
    },
    {
     "data": {
      "application/vnd.jupyter.widget-view+json": {
       "model_id": "ebea694dd40643768e0421c0a21d85c4",
       "version_major": 2,
       "version_minor": 0
      },
      "text/plain": [
       "Downloading pytorch_model.bin:   0%|          | 0.00/310M [00:00<?, ?B/s]"
      ]
     },
     "metadata": {},
     "output_type": "display_data"
    },
    {
     "data": {
      "application/vnd.jupyter.widget-view+json": {
       "model_id": "a0b0c4ae9c9244b4823c697415a749ca",
       "version_major": 2,
       "version_minor": 0
      },
      "text/plain": [
       "Downloading (…)okenizer_config.json:   0%|          | 0.00/299 [00:00<?, ?B/s]"
      ]
     },
     "metadata": {},
     "output_type": "display_data"
    },
    {
     "data": {
      "application/vnd.jupyter.widget-view+json": {
       "model_id": "8bb7b54122f146ac88b1177d16f510fa",
       "version_major": 2,
       "version_minor": 0
      },
      "text/plain": [
       "Downloading (…)olve/main/source.spm:   0%|          | 0.00/805k [00:00<?, ?B/s]"
      ]
     },
     "metadata": {},
     "output_type": "display_data"
    },
    {
     "data": {
      "application/vnd.jupyter.widget-view+json": {
       "model_id": "179e442624eb469c8987bda35fb231cb",
       "version_major": 2,
       "version_minor": 0
      },
      "text/plain": [
       "Downloading (…)olve/main/target.spm:   0%|          | 0.00/807k [00:00<?, ?B/s]"
      ]
     },
     "metadata": {},
     "output_type": "display_data"
    },
    {
     "data": {
      "application/vnd.jupyter.widget-view+json": {
       "model_id": "5b95c9890cb747b4827a82e967f703b9",
       "version_major": 2,
       "version_minor": 0
      },
      "text/plain": [
       "Downloading (…)olve/main/vocab.json:   0%|          | 0.00/1.75M [00:00<?, ?B/s]"
      ]
     },
     "metadata": {},
     "output_type": "display_data"
    },
    {
     "data": {
      "application/vnd.jupyter.widget-view+json": {
       "model_id": "30aee2e721834d0a9229f5dc9824b01c",
       "version_major": 2,
       "version_minor": 0
      },
      "text/plain": [
       "Downloading (…)cial_tokens_map.json:   0%|          | 0.00/65.0 [00:00<?, ?B/s]"
      ]
     },
     "metadata": {},
     "output_type": "display_data"
    }
   ],
   "source": [
    "mode_name = 'liam168/trans-opus-mt-zh-en'\n",
    "\n",
    "# 模型加载\n",
    "en_to_zh_model = AutoModelWithLMHead.from_pretrained(mode_name)\n",
    "en_to_zh_tokenizer = AutoTokenizer.from_pretrained(mode_name)"
   ]
  },
  {
   "cell_type": "code",
   "execution_count": 22,
   "id": "bae0848b-b0ae-4fab-8d9e-621fbd3fa604",
   "metadata": {
    "tags": []
   },
   "outputs": [],
   "source": [
    "translation_en = pipeline(\"translation_zh_to_en\", \n",
    "                          model=en_to_zh_model, \n",
    "                          tokenizer=en_to_zh_tokenizer)"
   ]
  },
  {
   "cell_type": "code",
   "execution_count": 23,
   "id": "f072c5b0-c134-4e92-80b5-22dfe4c9b74e",
   "metadata": {
    "tags": []
   },
   "outputs": [
    {
     "data": {
      "text/plain": [
       "[{'translation_text': 'I like to study data science and machine learning.'}]"
      ]
     },
     "execution_count": 23,
     "metadata": {},
     "output_type": "execute_result"
    }
   ],
   "source": [
    "translation_en('我喜欢学习数据科学和机器学习。', max_length=400)"
   ]
  },
  {
   "cell_type": "code",
   "execution_count": 24,
   "id": "3f74719d-d102-456c-a790-924d2f9eea82",
   "metadata": {
    "tags": []
   },
   "outputs": [
    {
     "data": {
      "text/plain": [
       "[{'translation_text': 'I heard you brushed the house.'}]"
      ]
     },
     "execution_count": 24,
     "metadata": {},
     "output_type": "execute_result"
    }
   ],
   "source": [
    "translation_en('听说你刷房子。', max_length=400)"
   ]
  },
  {
   "cell_type": "code",
   "execution_count": null,
   "id": "2bf9e252-e916-4b36-bca7-2c22db465139",
   "metadata": {},
   "outputs": [],
   "source": []
  }
 ],
 "metadata": {
  "kernelspec": {
   "display_name": "Python 3 (ipykernel)",
   "language": "python",
   "name": "python3"
  },
  "language_info": {
   "codemirror_mode": {
    "name": "ipython",
    "version": 3
   },
   "file_extension": ".py",
   "mimetype": "text/x-python",
   "name": "python",
   "nbconvert_exporter": "python",
   "pygments_lexer": "ipython3",
   "version": "3.8.10"
  }
 },
 "nbformat": 4,
 "nbformat_minor": 5
}
