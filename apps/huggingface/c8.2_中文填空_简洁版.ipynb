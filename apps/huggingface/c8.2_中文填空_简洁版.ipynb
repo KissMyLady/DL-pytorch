{
 "cells": [
  {
   "cell_type": "code",
   "execution_count": 1,
   "id": "70df8b90-d791-4738-8ec8-5b38e692cdc4",
   "metadata": {
    "tags": []
   },
   "outputs": [],
   "source": [
    "import torch\n",
    "from datasets import load_dataset\n",
    "from datasets import load_from_disk\n",
    "\n",
    "# from d2l import torch as d2l\n",
    "\n",
    "\n",
    "device = torch.device('cuda' if torch.cuda.is_available() else 'cpu')"
   ]
  },
  {
   "cell_type": "code",
   "execution_count": 2,
   "id": "0d9b4748-e618-49f4-814c-6fdc02512eb9",
   "metadata": {
    "tags": []
   },
   "outputs": [],
   "source": [
    "# 定义数据集\n",
    "class Dataset(torch.utils.data.Dataset):\n",
    "    \n",
    "    def __init__(self, split):\n",
    "        # dataset = load_dataset('lansinuote/ChnSentiCorp', keep_in_memory=True)\n",
    "        dataset = load_from_disk('./data/ChnSentiCorp')\n",
    "        \n",
    "        def f(data):\n",
    "            return len(data['text']) > 30\n",
    "        \n",
    "        self.dataset = dataset.filter(f)\n",
    "\n",
    "    def __len__(self):\n",
    "        return len(self.dataset)\n",
    "\n",
    "    def __getitem__(self, i):\n",
    "        text = self.dataset[i]['text']\n",
    "        return text"
   ]
  },
  {
   "cell_type": "code",
   "execution_count": 3,
   "id": "cd4f6103-b189-4e37-91e7-3ca9398d6228",
   "metadata": {
    "tags": []
   },
   "outputs": [
    {
     "name": "stderr",
     "output_type": "stream",
     "text": [
      "Loading cached processed dataset at /home/mylady/code/python/DL-pytorch/apps/huggingface/data/ChnSentiCorp/validation/cache-cf45964edee402a8.arrow\n",
      "Loading cached processed dataset at /home/mylady/code/python/DL-pytorch/apps/huggingface/data/ChnSentiCorp/test/cache-c6f7400aef16ddba.arrow\n",
      "Loading cached processed dataset at /home/mylady/code/python/DL-pytorch/apps/huggingface/data/ChnSentiCorp/train/cache-478819d08c52879a.arrow\n"
     ]
    },
    {
     "data": {
      "text/plain": [
       "3"
      ]
     },
     "execution_count": 3,
     "metadata": {},
     "output_type": "execute_result"
    }
   ],
   "source": [
    "dataset = Dataset('train')\n",
    "\n",
    "len(dataset) # , dataset[0]"
   ]
  },
  {
   "cell_type": "code",
   "execution_count": 8,
   "id": "2da91b69-baf4-4dbe-9c19-aceaa45b6c9c",
   "metadata": {},
   "outputs": [
    {
     "name": "stdout",
     "output_type": "stream",
     "text": [
      "BertTokenizer(name_or_path='bert-base-chinese', vocab_size=21128, model_max_length=512, is_fast=False, padding_side='right', truncation_side='right', special_tokens={'unk_token': '[UNK]', 'sep_token': '[SEP]', 'pad_token': '[PAD]', 'cls_token': '[CLS]', 'mask_token': '[MASK]'})\n"
     ]
    },
    {
     "name": "stderr",
     "output_type": "stream",
     "text": [
      "Some weights of the model checkpoint at bert-base-chinese were not used when initializing BertModel: ['cls.predictions.decoder.weight', 'cls.predictions.transform.LayerNorm.bias', 'cls.seq_relationship.bias', 'cls.predictions.transform.LayerNorm.weight', 'cls.predictions.transform.dense.weight', 'cls.predictions.transform.dense.bias', 'cls.predictions.bias', 'cls.seq_relationship.weight']\n",
      "- This IS expected if you are initializing BertModel from the checkpoint of a model trained on another task or with another architecture (e.g. initializing a BertForSequenceClassification model from a BertForPreTraining model).\n",
      "- This IS NOT expected if you are initializing BertModel from the checkpoint of a model that you expect to be exactly identical (initializing a BertForSequenceClassification model from a BertForSequenceClassification model).\n"
     ]
    }
   ],
   "source": [
    "from transformers import BertTokenizer\n",
    "from transformers import BertModel\n",
    "\n",
    "\n",
    "# 加载字典和分词工具\n",
    "token = BertTokenizer.from_pretrained('bert-base-chinese')\n",
    "\n",
    "print(token)\n",
    "\n",
    "\n",
    "# 加载预训练模型\n",
    "pretrained = BertModel.from_pretrained('bert-base-chinese').to(device)"
   ]
  },
  {
   "cell_type": "code",
   "execution_count": 9,
   "id": "a68a67a7-66c6-4a2f-81dc-a94e2a5fe56d",
   "metadata": {
    "tags": []
   },
   "outputs": [],
   "source": [
    "def collate_fn(data):\n",
    "    \n",
    "    # print(data)\n",
    "    # print('data长度: ', len(data))\n",
    "    # 编码\n",
    "    data = token.batch_encode_plus(batch_text_or_text_pairs=data,\n",
    "                                   truncation=True,\n",
    "                                   padding='max_length',\n",
    "                                   max_length=30,\n",
    "                                   return_tensors='pt',\n",
    "                                   return_length=True)\n",
    "\n",
    "    # print('编码后的data打印: ', data.keys())\n",
    "    \n",
    "    # input_ids:编码之后的数字\n",
    "    # attention_mask:是补零的位置是0,其他位置是1\n",
    "    input_ids = data['input_ids']\n",
    "    attention_mask = data['attention_mask']\n",
    "    token_type_ids = data['token_type_ids']\n",
    "\n",
    "    # 把第15个词固定替换为mask\n",
    "    # print('第15个词: %s' % input_ids[:, 15])\n",
    "    \n",
    "    # 这里直接使用了编码后的数据作为真实预测值\n",
    "    labels = input_ids[:, 15].reshape(-1).clone()\n",
    "    input_ids[:, 15] = token.get_vocab()[token.mask_token]\n",
    "\n",
    "    # print(data['length'], data['length'].max())\n",
    "\n",
    "    return input_ids, attention_mask, token_type_ids, labels"
   ]
  },
  {
   "cell_type": "markdown",
   "id": "a1050958-e408-47c1-bb00-f5c366b9f558",
   "metadata": {},
   "source": [
    "## 数据加载器"
   ]
  },
  {
   "cell_type": "code",
   "execution_count": 15,
   "id": "97f4f90b-3933-44b3-8114-5426d4af7160",
   "metadata": {
    "tags": []
   },
   "outputs": [
    {
     "name": "stdout",
     "output_type": "stream",
     "text": [
      "当前loader数据量:  574\n",
      "解码input_ids:  [CLS] 这 本 书 有 它 的 局 限 ， 因 为 国 情 不 [MASK] 背 景 各 异 ， 而 且 作 者 也 不 能 完 [SEP]\n",
      "labels:  同\n",
      "参数打印:  torch.Size([16, 30]) torch.Size([16, 30]) torch.Size([16, 30]) torch.Size([16])\n",
      "\n",
      "当前loader数据量:  574\n",
      "解码input_ids:  [CLS] 帮 朋 友 买 的 ， 和 我 的 [UNK] 放 一 起 ， [MASK] 别 不 大 ， 稍 微 厚 点 ， 远 看 几 乎 [SEP]\n",
      "labels:  区\n",
      "参数打印:  torch.Size([16, 30]) torch.Size([16, 30]) torch.Size([16, 30]) torch.Size([16])\n",
      "\n"
     ]
    }
   ],
   "source": [
    "# 数据加载器\n",
    "loader = torch.utils.data.DataLoader(dataset=dataset['train'],\n",
    "                                     batch_size=16,\n",
    "                                     collate_fn=collate_fn,\n",
    "                                     shuffle=True,\n",
    "                                     drop_last=True\n",
    "                                    )\n",
    "\n",
    "\n",
    "for i, (input_ids, attention_mask, token_type_ids, labels) in enumerate(loader):\n",
    "    print('当前loader数据量: ', len(loader))\n",
    "    print('解码input_ids: ', token.decode(input_ids[0]))\n",
    "    print('labels: ', token.decode(labels[0]))\n",
    "    print('参数打印: ', input_ids.shape, attention_mask.shape, token_type_ids.shape, labels.shape)\n",
    "    print(\"\")\n",
    "    if i >= 1:\n",
    "        break"
   ]
  },
  {
   "cell_type": "markdown",
   "id": "ff667c16-9b46-4c71-9917-c4710b807862",
   "metadata": {},
   "source": [
    "## 定义下游任务模型"
   ]
  },
  {
   "cell_type": "code",
   "execution_count": 20,
   "id": "1fba2358-342d-4216-987f-3dc874137baf",
   "metadata": {
    "tags": []
   },
   "outputs": [
    {
     "data": {
      "text/plain": [
       "device(type='cuda', index=0)"
      ]
     },
     "execution_count": 20,
     "metadata": {},
     "output_type": "execute_result"
    }
   ],
   "source": [
    "# 定义下游任务模型\n",
    "class Model(torch.nn.Module):\n",
    "    \n",
    "    def __init__(self):\n",
    "        super().__init__()\n",
    "        self.decoder = torch.nn.Linear(768, token.vocab_size, bias=False)\n",
    "        self.bias = torch.nn.Parameter(torch.zeros(token.vocab_size))\n",
    "        self.decoder.bias = self.bias\n",
    "\n",
    "    def forward(self, input_ids, attention_mask, token_type_ids):\n",
    "        \n",
    "        # pretrained = pretrained.to(device)\n",
    "\n",
    "        with torch.no_grad():\n",
    "            out = pretrained(input_ids=input_ids,\n",
    "                             attention_mask=attention_mask,\n",
    "                             token_type_ids=token_type_ids)\n",
    "            pass\n",
    "        \n",
    "        out = self.decoder(out.last_hidden_state[:, 15])\n",
    "        return out\n",
    "\n",
    "\n",
    "# 加载保存的模型\n",
    "model_save_path = 'chinese_full_vacant_mission_2023_4_10.pt'\n",
    "model = Model()\n",
    "model.load_state_dict(torch.load(model_save_path))\n",
    "\n",
    "# 模型转移到GPU上\n",
    "model.to(device)\n",
    "\n",
    "# list(model.parameters())[0].device  # device(type='cuda', index=0)"
   ]
  },
  {
   "cell_type": "markdown",
   "id": "0ea90d73-a897-44f4-86df-560692380a83",
   "metadata": {},
   "source": [
    "## 模型测试"
   ]
  },
  {
   "cell_type": "code",
   "execution_count": 18,
   "id": "471367ea-5612-46cf-96d6-6e36c5aadad3",
   "metadata": {},
   "outputs": [],
   "source": [
    "#测试\n",
    "def test_calculate():\n",
    "    \n",
    "    model.eval()\n",
    "    correct = 0\n",
    "    total = 0\n",
    "\n",
    "    loader_test = torch.utils.data.DataLoader(dataset=dataset['test'],\n",
    "                                              batch_size=32,\n",
    "                                              collate_fn=collate_fn,\n",
    "                                              shuffle=True,\n",
    "                                              drop_last=True)\n",
    "\n",
    "    for i, (input_ids, attention_mask, token_type_ids, labels) in enumerate(loader_test):\n",
    "        \n",
    "        if i == 15:\n",
    "            break\n",
    "\n",
    "        with torch.no_grad():\n",
    "            input_ids = input_ids.to(device)\n",
    "            attention_mask = attention_mask.to(device)\n",
    "            token_type_ids = token_type_ids.to(device)\n",
    "            labels = labels.to(device)\n",
    "            \n",
    "            out = model(input_ids=input_ids,\n",
    "                        attention_mask=attention_mask,\n",
    "                        token_type_ids=token_type_ids)\n",
    "            pass\n",
    "        \n",
    "        out = out.argmax(dim=1).cpu()\n",
    "        labels = labels.cpu()\n",
    "        \n",
    "        correct += (out == labels).sum().item()\n",
    "        total += len(labels)\n",
    "\n",
    "        print('序: %s 输入内容: %s' % (i, token.decode(input_ids[0])))\n",
    "        print('解码: ', token.decode(labels[0]))\n",
    "        \n",
    "    print('acc: %.2f' % (correct / total))\n",
    "    pass"
   ]
  },
  {
   "cell_type": "code",
   "execution_count": 19,
   "id": "87ab28fa-0f54-4897-908f-4aace314550c",
   "metadata": {
    "tags": []
   },
   "outputs": [
    {
     "name": "stdout",
     "output_type": "stream",
     "text": [
      "序: 0 输入内容: [CLS] 该 酒 店 实 际 是 兰 州 铁 路 局 的 内 部 [MASK] 待 所 ， 位 于 火 车 站 出 站 口 处 ， [SEP]\n",
      "解码:  招\n",
      "序: 1 输入内容: [CLS] 这 个 争 议 也 已 经 若 干 年 了 ， 到 底 [MASK] 朝 亡 于 哪 一 年 ， 就 和 清 朝 应 该 [SEP]\n",
      "解码:  明\n",
      "序: 2 输入内容: [CLS] 很 好 的 酒 店 ， 紧 靠 海 边 ， 除 了 入 [MASK] 当 晚 网 络 不 好 ， 其 他 都 很 满 意 [SEP]\n",
      "解码:  住\n",
      "序: 3 输入内容: [CLS] 酒 店 房 间 还 算 可 以 ， 对 得 起 五 星 [MASK] 的 称 号 。 早 餐 品 种 也 算 是 丰 富 [SEP]\n",
      "解码:  级\n",
      "序: 4 输入内容: [CLS] 无 预 装 系 统 ， 且 主 板 [UNK] 没 有 打 入 [MASK] 证 书 ， 因 此 不 能 激 活 [UNK] 版 [UNK] ， [SEP]\n",
      "解码:  [ U N K ]\n",
      "序: 5 输入内容: [CLS] 2007 年 9 月 11 日 256 元 住 普 通 标 间 ， [MASK] 街 （ 其 它 房 型 已 无 ） 。 我 是 喜 [SEP]\n",
      "解码:  临\n",
      "序: 6 输入内容: [CLS] 2007 年 10 月 19 日 入 住 ， 总 体 感 觉 不 [MASK] ， 位 置 闹 中 取 静 ， 走 出 酒 店 斜 [SEP]\n",
      "解码:  错\n",
      "序: 7 输入内容: [CLS] 酒 店 生 意 清 淡 ， 大 堂 里 都 没 几 个 [MASK] 人 。 房 间 倒 是 不 小 ， 但 觉 得 被 [SEP]\n",
      "解码:  客\n",
      "序: 8 输入内容: [CLS] 感 动. 还 有 锥 心 的 悲 哀. 读 过 就 [MASK] 也 无 法 忘 怀. 很 怕 被 拍 成 影 视 [SEP]\n",
      "解码:  再\n",
      "序: 9 输入内容: [CLS] 不 错 ， 作 者 的 观 点 很 颠 覆 目 前 中 [MASK] 父 母 的 教 育 方 式 ， 其 实 古 人 们 [SEP]\n",
      "解码:  国\n",
      "序: 10 输入内容: [CLS] 从 04 年 到 06 年 ， 常 带 同 事 和 家 人 [MASK] 在 主 楼 1 号 楼 。 此 次 [UNK] － [UNK] 时 [SEP]\n",
      "解码:  住\n",
      "序: 11 输入内容: [CLS] 书 应 该 是 因 人 而 义 吧 ， 所 以 我 觉 [MASK] 这 本 书 没 有 多 大 的 帮 助 ． 书 的 [SEP]\n",
      "解码:  得\n",
      "序: 12 输入内容: [CLS] 劝 大 家 不 要 入 住 这 个 酒 店 ， 号 称 [MASK] 星 的 标 准 ， 可 是 房 间 内 的 物 品 [SEP]\n",
      "解码:  四\n",
      "序: 13 输入内容: [CLS] 有 些 厚 重 吧 ， 这 跟 京 东 没 关 系 ， [MASK] 呵 ， 毕 竟 只 花 3999 元 银 子 嘛 ， [SEP]\n",
      "解码:  呵\n",
      "序: 14 输入内容: [CLS] 介 绍 说 是 很 好 ， 看 了 之 后 ， 名 不 [MASK] 实 ， 说 教 ， 空 洞 。 没 有 实 际 的 [SEP]\n",
      "解码:  副\n",
      "acc: 0.68\n"
     ]
    }
   ],
   "source": [
    "# 预测\n",
    "test_calculate()"
   ]
  },
  {
   "cell_type": "code",
   "execution_count": null,
   "id": "41571f99-fd1f-4a7c-8191-c14eadaf89ff",
   "metadata": {},
   "outputs": [],
   "source": []
  }
 ],
 "metadata": {
  "kernelspec": {
   "display_name": "Python 3 (ipykernel)",
   "language": "python",
   "name": "python3"
  },
  "language_info": {
   "codemirror_mode": {
    "name": "ipython",
    "version": 3
   },
   "file_extension": ".py",
   "mimetype": "text/x-python",
   "name": "python",
   "nbconvert_exporter": "python",
   "pygments_lexer": "ipython3",
   "version": "3.8.10"
  }
 },
 "nbformat": 4,
 "nbformat_minor": 5
}
