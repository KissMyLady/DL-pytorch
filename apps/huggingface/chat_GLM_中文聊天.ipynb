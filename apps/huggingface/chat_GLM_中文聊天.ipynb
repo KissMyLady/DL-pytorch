{
 "cells": [
  {
   "cell_type": "code",
   "execution_count": 1,
   "id": "9f39e611-dad8-4ab7-85f3-99e8e9661709",
   "metadata": {
    "tags": []
   },
   "outputs": [],
   "source": [
    "import torch\n",
    "from datasets import load_dataset\n",
    "from datasets import load_from_disk\n",
    "from transformers import AutoTokenizer, AutoModel\n",
    "# from d2l import torch as d2l\n",
    "\n",
    "\n",
    "device = torch.device('cuda' if torch.cuda.is_available() else 'cpu')\n",
    "\n",
    "import os\n",
    "os.environ[\"TRANSFORMERS_CACHE\"] = \"/mnt/aiguo/hf_home/huggingface\"\n",
    "\n",
    "\n",
    "proxies={\n",
    "    'http': 'http://127.0.0.1:7890', \n",
    "    'https': 'http://127.0.0.1:7890'\n",
    "}"
   ]
  },
  {
   "cell_type": "code",
   "execution_count": null,
   "id": "303a034e-0805-429d-ba56-0f88ff7ccd66",
   "metadata": {
    "tags": []
   },
   "outputs": [],
   "source": [
    "!$PATH\n"
   ]
  },
  {
   "cell_type": "code",
   "execution_count": 7,
   "id": "0e30dd53-0c80-408b-b0a1-0103810c5bd5",
   "metadata": {
    "tags": []
   },
   "outputs": [],
   "source": [
    "!unset http_proxy\n",
    "!unset https_proxy\n"
   ]
  },
  {
   "cell_type": "code",
   "execution_count": 3,
   "id": "4b1175e7-8456-4901-b92e-ab8af962210f",
   "metadata": {},
   "outputs": [],
   "source": [
    "\n",
    "!export https_proxy=127.0.0.1:7890\n",
    "!export http_proxy=127.0.0.1:7890"
   ]
  },
  {
   "cell_type": "code",
   "execution_count": 6,
   "id": "426e32c1-16ca-43e2-a3c0-b4e823584682",
   "metadata": {
    "tags": []
   },
   "outputs": [],
   "source": [
    "!source ~/.bashrc"
   ]
  },
  {
   "cell_type": "code",
   "execution_count": 8,
   "id": "31545353-fc84-4add-8576-749ea5856a6b",
   "metadata": {
    "tags": []
   },
   "outputs": [
    {
     "name": "stdout",
     "output_type": "stream",
     "text": [
      "/bin/bash: huggingface-cli：未找到命令\n"
     ]
    }
   ],
   "source": [
    "!huggingface-cli scan-cache"
   ]
  },
  {
   "cell_type": "code",
   "execution_count": 9,
   "id": "3c80b852-a4d5-439e-88b0-2db93fc9f235",
   "metadata": {
    "tags": []
   },
   "outputs": [],
   "source": [
    "\n",
    "\n",
    "cache_dir=\"/mnt/aiguo/hf_home/huggingface/hub\"\n",
    "\n"
   ]
  },
  {
   "cell_type": "code",
   "execution_count": null,
   "id": "b9655ea7-31f0-443d-a604-fbf76ac151ab",
   "metadata": {
    "tags": []
   },
   "outputs": [],
   "source": [
    "\n",
    "# 注意, 使用指定目录后, 还是需要联网\n",
    "\n",
    "# THUDM/chatglm-6b\n",
    "tokenizer = AutoTokenizer.from_pretrained(\"THUDM/chatglm-6b\",\n",
    "                                          trust_remote_code=True,\n",
    "                                          cache_dir=cache_dir\n",
    "                                         )\n",
    "\n",
    "\n",
    "# THUDM/chatglm-6b-int4\n",
    "chat_model = AutoModel.from_pretrained(\"THUDM/chatglm-6b-int4\", \n",
    "                                       trust_remote_code=True,\n",
    "                                       cache_dir=cache_dir\n",
    "                                      ).half().cuda()\n",
    "\n",
    "print('加载完毕..')"
   ]
  },
  {
   "cell_type": "code",
   "execution_count": null,
   "id": "5dda3bd7-bf21-498e-879c-22b9a66a2faa",
   "metadata": {
    "tags": []
   },
   "outputs": [],
   "source": [
    "\n",
    "# 注意, 使用指定目录后, 还是需要联网\n",
    "\n",
    "# THUDM/chatglm-6b\n",
    "tokenizer = AutoTokenizer.from_pretrained(\"THUDM/chatglm-6b\",\n",
    "                                          trust_remote_code=True,\n",
    "                                          cache_dir=\"/mnt/aiguo/hf_home/huggingface/hub\",\n",
    "                                          proxies=proxies\n",
    "                                         )\n",
    "\n",
    "\n",
    "# THUDM/chatglm-6b-int4\n",
    "chat_model = AutoModel.from_pretrained(\"THUDM/chatglm-6b-int4\", \n",
    "                                       trust_remote_code=True,\n",
    "                                       cache_dir=\"/mnt/aiguo/hf_home/huggingface/hub\",\n",
    "                                       proxies=proxies\n",
    "                                      ).half().cuda()\n",
    "\n",
    "print('加载完毕..')"
   ]
  },
  {
   "cell_type": "code",
   "execution_count": null,
   "id": "557ddb5b-a953-4a59-b96a-e85e87cfa16f",
   "metadata": {},
   "outputs": [],
   "source": [
    "model = chat_model.eval()"
   ]
  },
  {
   "cell_type": "code",
   "execution_count": null,
   "id": "e2975a3f-da8b-4ff8-885d-00d373b2853a",
   "metadata": {
    "tags": []
   },
   "outputs": [],
   "source": [
    "response, history = model.chat(tokenizer, \"你好\", history=[])"
   ]
  },
  {
   "cell_type": "code",
   "execution_count": null,
   "id": "0a7192bf-0e3d-4882-b8ed-5b307e73cdc3",
   "metadata": {
    "tags": []
   },
   "outputs": [],
   "source": [
    "response"
   ]
  },
  {
   "cell_type": "code",
   "execution_count": null,
   "id": "e30210dc-3e6f-4593-9cd1-3ba47076f088",
   "metadata": {
    "tags": []
   },
   "outputs": [],
   "source": [
    "response, history = model.chat(tokenizer, \"晚上睡不着应该怎么办\", history=history)"
   ]
  },
  {
   "cell_type": "code",
   "execution_count": null,
   "id": "4441f747-fda5-4fa6-b835-50380eb62ffd",
   "metadata": {
    "tags": []
   },
   "outputs": [],
   "source": [
    "response"
   ]
  },
  {
   "cell_type": "code",
   "execution_count": null,
   "id": "40d80ae5-87e0-4a86-9d74-7f06a89dcf34",
   "metadata": {},
   "outputs": [],
   "source": [
    "req = \"解释书籍`台北人`\"\n",
    "\n",
    "response, history = model.chat(tokenizer, req, history=history)\n",
    "response"
   ]
  },
  {
   "cell_type": "code",
   "execution_count": null,
   "id": "32d70bd2-5756-4315-b649-08c9e2338ca8",
   "metadata": {
    "tags": []
   },
   "outputs": [],
   "source": [
    "req = \"`台北人`作者是谁?\"\n",
    "\n",
    "response, history = model.chat(tokenizer, req, history=history)\n",
    "response"
   ]
  },
  {
   "cell_type": "code",
   "execution_count": null,
   "id": "c8d43beb-4cf6-497f-9242-1542f59cbb13",
   "metadata": {
    "tags": []
   },
   "outputs": [],
   "source": [
    "req = \"解释作者`白先勇`的书籍`台北人`\"\n",
    "\n",
    "response, history = model.chat(tokenizer, req, history=history)\n",
    "response"
   ]
  },
  {
   "cell_type": "code",
   "execution_count": null,
   "id": "04d8dc56-af5c-494f-973b-8127446e8bbd",
   "metadata": {
    "tags": []
   },
   "outputs": [],
   "source": [
    "req = \"解释书籍`1984`\"\n",
    "\n",
    "response, history = model.chat(tokenizer, req, history=history)\n",
    "response"
   ]
  },
  {
   "cell_type": "code",
   "execution_count": null,
   "id": "408ce53c-03b2-46d1-850b-c3fff69fd9b9",
   "metadata": {},
   "outputs": [],
   "source": []
  }
 ],
 "metadata": {
  "kernelspec": {
   "display_name": "Python 3 (ipykernel)",
   "language": "python",
   "name": "python3"
  },
  "language_info": {
   "codemirror_mode": {
    "name": "ipython",
    "version": 3
   },
   "file_extension": ".py",
   "mimetype": "text/x-python",
   "name": "python",
   "nbconvert_exporter": "python",
   "pygments_lexer": "ipython3",
   "version": "3.8.10"
  }
 },
 "nbformat": 4,
 "nbformat_minor": 5
}
